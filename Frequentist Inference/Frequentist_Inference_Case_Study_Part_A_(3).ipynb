{
  "cells": [
    {
      "cell_type": "markdown",
      "metadata": {
        "id": "X3nFVzKLhiOT"
      },
      "source": [
        "# Frequentist Inference Case Study - Part A"
      ]
    },
    {
      "cell_type": "markdown",
      "metadata": {
        "id": "Ra6EkgXMhiOZ"
      },
      "source": [
        "## 1. Learning objectives"
      ]
    },
    {
      "cell_type": "markdown",
      "metadata": {
        "id": "VTxeH3o9hiOa"
      },
      "source": [
        "Welcome to part A of the Frequentist inference case study! The purpose of this case study is to help you apply the concepts associated with Frequentist inference in Python. Frequentist inference is the process of deriving conclusions about an underlying distribution via the observation of data. In particular, you'll practice writing Python code to apply the following statistical concepts:\n",
        "* the _z_-statistic\n",
        "* the _t_-statistic\n",
        "* the difference and relationship between the two\n",
        "* the Central Limit Theorem, including its assumptions and consequences\n",
        "* how to estimate the population mean and standard deviation from a sample\n",
        "* the concept of a sampling distribution of a test statistic, particularly for the mean\n",
        "* how to combine these concepts to calculate a confidence interval"
      ]
    },
    {
      "cell_type": "markdown",
      "metadata": {
        "id": "mqwmweoUhiOa"
      },
      "source": [
        "## Prerequisites"
      ]
    },
    {
      "cell_type": "markdown",
      "metadata": {
        "id": "-ud2E6cRhiOa"
      },
      "source": [
        "To be able to complete this notebook, you are expected to have a basic understanding of:\n",
        "* what a random variable is (p.400 of Professor Spiegelhalter's *The Art of Statistics, hereinafter AoS*)\n",
        "* what a population, and a population distribution, are (p. 397 of *AoS*)\n",
        "* a high-level sense of what the normal distribution is (p. 394 of *AoS*)\n",
        "* what the t-statistic is (p. 275 of *AoS*)\n",
        "\n",
        "Happily, these should all be concepts with which you are reasonably familiar after having read ten chapters of Professor Spiegelhalter's book, *The Art of Statistics*.\n",
        "\n",
        "We'll try to relate the concepts in this case study back to page numbers in *The Art of Statistics* so that you can focus on the Python aspects of this case study. The second part (part B) of this case study will involve another, more real-world application of these tools."
      ]
    },
    {
      "cell_type": "markdown",
      "metadata": {
        "id": "vX-6Sc_ehiOb"
      },
      "source": [
        "For this notebook, we will use data sampled from a known normal distribution. This allows us to compare our results with theoretical expectations."
      ]
    },
    {
      "cell_type": "markdown",
      "metadata": {
        "id": "iv7hd_4EhiOb"
      },
      "source": [
        "## 2. An introduction to sampling from the normal distribution"
      ]
    },
    {
      "cell_type": "markdown",
      "metadata": {
        "id": "YumWkY21hiOb"
      },
      "source": [
        "First, let's explore the ways we can generate the normal distribution. While there's a fair amount of interest in [sklearn](https://scikit-learn.org/stable/) within the machine learning community, you're likely to have heard of [scipy](https://docs.scipy.org/doc/scipy-0.15.1/reference/index.html) if you're coming from the sciences. For this assignment, you'll use [scipy.stats](https://docs.scipy.org/doc/scipy-0.15.1/reference/tutorial/stats.html) to complete your work.\n",
        "\n",
        "This assignment will require some digging around and getting your hands dirty (your learning is maximized that way)! You should have the research skills and the tenacity to do these tasks independently, but if you struggle, reach out to your immediate community and your mentor for help."
      ]
    },
    {
      "cell_type": "code",
      "execution_count": 2,
      "metadata": {
        "id": "E-plTv2dhiOb"
      },
      "outputs": [],
      "source": [
        "from scipy.stats import norm\n",
        "from scipy.stats import t\n",
        "import numpy as np\n",
        "import pandas as pd\n",
        "from numpy.random import seed\n",
        "import matplotlib.pyplot as plt"
      ]
    },
    {
      "cell_type": "markdown",
      "metadata": {
        "id": "21CbkmpUhiOc"
      },
      "source": [
        "__Q1:__ Call up the documentation for the `norm` function imported above. (Hint: that documentation is [here](https://docs.scipy.org/doc/scipy/reference/generated/scipy.stats.norm.html)). What is the second listed method?"
      ]
    },
    {
      "cell_type": "code",
      "execution_count": null,
      "metadata": {
        "id": "5Exz-pTFhiOd"
      },
      "outputs": [],
      "source": [
        "help(norm)"
      ]
    },
    {
      "cell_type": "markdown",
      "metadata": {
        "id": "WXKTpj3ohiOd"
      },
      "source": [
        "__A:__\n",
        "\n",
        "pdf(x, loc=0, scale=1)\n",
        "\n",
        "\n",
        "Probability density function."
      ]
    },
    {
      "cell_type": "markdown",
      "metadata": {
        "id": "ZZrmIEashiOd"
      },
      "source": [
        "__Q2:__ Use the method that generates random variates to draw five samples from the standard normal distribution."
      ]
    },
    {
      "cell_type": "markdown",
      "metadata": {
        "id": "g0RW49W_hiOd"
      },
      "source": [
        "__A:__\n",
        "\n",
        "rvs(loc=0, scale=1, size=1, random_state=None)\n",
        "        Random variates."
      ]
    },
    {
      "cell_type": "code",
      "execution_count": null,
      "metadata": {
        "colab": {
          "base_uri": "https://localhost:8080/"
        },
        "id": "hDawo9hXhiOd",
        "outputId": "2684c4c0-dfee-45ab-aa1e-2902b7848925"
      },
      "outputs": [
        {
          "output_type": "stream",
          "name": "stdout",
          "text": [
            "[-0.84800948  1.30590636  0.92420797  0.6404118  -1.05473698]\n"
          ]
        }
      ],
      "source": [
        "seed(47)\n",
        "# draw five samples here\n",
        "five_samples = norm.rvs(loc=0, scale=1, size=5)\n",
        "print(five_samples)"
      ]
    },
    {
      "cell_type": "markdown",
      "metadata": {
        "id": "iVbthwtKhiOe"
      },
      "source": [
        "__Q3:__ What is the mean of this sample? Is it exactly equal to the value you expected? Hint: the sample was drawn from the standard normal distribution. If you want a reminder of the properties of this distribution, check out p. 85 of *AoS*."
      ]
    },
    {
      "cell_type": "markdown",
      "metadata": {
        "id": "BHEJqJKjhiOe"
      },
      "source": [
        "__A:__\n",
        "0.19"
      ]
    },
    {
      "cell_type": "code",
      "execution_count": null,
      "metadata": {
        "colab": {
          "base_uri": "https://localhost:8080/"
        },
        "id": "CugTDlobhiOe",
        "outputId": "5364585d-4d6d-48d3-a241-ba6f9b432b31"
      },
      "outputs": [
        {
          "output_type": "stream",
          "name": "stdout",
          "text": [
            "0.19355593334131074\n"
          ]
        }
      ],
      "source": [
        "# Calculate and print the mean here, hint: use np.mean()\n",
        "mean_sample = np.mean(five_samples)\n",
        "print(mean_sample)"
      ]
    },
    {
      "cell_type": "markdown",
      "metadata": {
        "id": "Fz2V1P0JhiOe"
      },
      "source": [
        "__Q4:__ What is the standard deviation of these numbers? Calculate this manually here as $\\sqrt{\\frac{\\sum_i(x_i - \\bar{x})^2}{n}}$ (This is just the definition of **standard deviation** given by Professor Spiegelhalter on p.403 of *AoS*). Hint: np.sqrt() and np.sum() will be useful here and remember that numPy supports [broadcasting](https://docs.scipy.org/doc/numpy/user/basics.broadcasting.html)."
      ]
    },
    {
      "cell_type": "markdown",
      "metadata": {
        "id": "smMb2BxmhiOe"
      },
      "source": [
        "__A:__\n",
        "0.9606195639478641"
      ]
    },
    {
      "cell_type": "code",
      "execution_count": null,
      "metadata": {
        "id": "lQIoBJiXhiOf",
        "colab": {
          "base_uri": "https://localhost:8080/"
        },
        "outputId": "9909aa93-f1ee-4b47-f2dc-333c0dffe81c"
      },
      "outputs": [
        {
          "output_type": "stream",
          "name": "stdout",
          "text": [
            "0.9606195639478641\n"
          ]
        }
      ],
      "source": [
        "\"\"\"\n",
        "xi represents each individual data point in the dataset.\n",
        "x̄ represents the mean (average) of the dataset.\n",
        "Σ (sigma) represents the sum of the terms inside the parentheses.\n",
        "n represents the number of data points in the dataset.\n",
        "sqrt() denotes the square root.\n",
        "\"\"\"\n",
        "\n",
        "std_sample=np.sqrt((np.sum((five_samples-mean_sample)**2)/len(five_samples)))\n",
        "print(std_sample)"
      ]
    },
    {
      "cell_type": "markdown",
      "metadata": {
        "id": "IogGj530hiOf"
      },
      "source": [
        "Here we have calculated the actual standard deviation of a small data set (of size 5). But in this case, this small data set is actually a sample from our larger (infinite) population. In this case, the population is infinite because we could keep drawing our normal random variates until our computers die!\n",
        "\n",
        "In general, the sample mean we calculate will not be equal to the population mean (as we saw above). A consequence of this is that the sum of squares of the deviations from the _population_ mean will be bigger than the sum of squares of the deviations from the _sample_ mean. In other words, the sum of squares of the deviations from the _sample_ mean is too small to give an unbiased estimate of the _population_ variance. An example of this effect is given [here](https://en.wikipedia.org/wiki/Bessel%27s_correction#Source_of_bias). Scaling our estimate of the variance by the factor $n/(n-1)$ gives an unbiased estimator of the population variance. This factor is known as [Bessel's correction](https://en.wikipedia.org/wiki/Bessel%27s_correction). The consequence of this is that the $n$ in the denominator is replaced by $n-1$.\n",
        "\n",
        "You can see Bessel's correction reflected in Professor Spiegelhalter's definition of **variance** on p. 405 of *AoS*.\n",
        "\n",
        "__Q5:__ If all we had to go on was our five samples, what would be our best estimate of the population standard deviation? Use Bessel's correction ($n-1$ in the denominator), thus $\\sqrt{\\frac{\\sum_i(x_i - \\bar{x})^2}{n-1}}$."
      ]
    },
    {
      "cell_type": "markdown",
      "metadata": {
        "id": "Q-z3CDpghiOf"
      },
      "source": [
        "__A:__\n",
        "\n",
        "1.0740053227518152"
      ]
    },
    {
      "cell_type": "code",
      "execution_count": null,
      "metadata": {
        "id": "DsAvw60BhiOf",
        "colab": {
          "base_uri": "https://localhost:8080/"
        },
        "outputId": "8cb29122-806c-4959-abf7-8ff1a42f2210"
      },
      "outputs": [
        {
          "output_type": "stream",
          "name": "stdout",
          "text": [
            "1.0740053227518152\n"
          ]
        }
      ],
      "source": [
        "std_sample=np.sqrt((np.sum((five_samples-mean_sample)**2)/(len(five_samples)-1)))\n",
        "print(std_sample)"
      ]
    },
    {
      "cell_type": "markdown",
      "metadata": {
        "id": "h9aY5TBPhiOf"
      },
      "source": [
        "__Q6:__ Now use numpy's std function to calculate the standard deviation of our random samples. Which of the above standard deviations did it return?"
      ]
    },
    {
      "cell_type": "markdown",
      "metadata": {
        "id": "ZxcldLAOhiOf"
      },
      "source": [
        "__A:__\n",
        "It returned the same result as the first formula we used, the one without (n-1)."
      ]
    },
    {
      "cell_type": "code",
      "execution_count": null,
      "metadata": {
        "id": "8OdYlTbShiOf",
        "colab": {
          "base_uri": "https://localhost:8080/"
        },
        "outputId": "b353c0c8-e72a-4c1b-bec5-4baa76d8daf0"
      },
      "outputs": [
        {
          "output_type": "execute_result",
          "data": {
            "text/plain": [
              "0.9606195639478641"
            ]
          },
          "metadata": {},
          "execution_count": 12
        }
      ],
      "source": [
        "np.std(five_samples)"
      ]
    },
    {
      "cell_type": "markdown",
      "metadata": {
        "id": "mPw0QniXhiOf"
      },
      "source": [
        "__Q7:__ Consult the documentation for np.std() to see how to apply the correction for estimating the population parameter and verify this produces the expected result."
      ]
    },
    {
      "cell_type": "markdown",
      "metadata": {
        "id": "sx5A1zkehiOg"
      },
      "source": [
        "__A:__\n",
        "\n",
        "By default the divisor is just n by itseld. However, when working with a sample, it is common for the ddof argument to be changes to 1 instead of the default 0."
      ]
    },
    {
      "cell_type": "code",
      "execution_count": null,
      "metadata": {
        "id": "WNyavCFMhiOg",
        "colab": {
          "base_uri": "https://localhost:8080/"
        },
        "outputId": "38836dde-78dc-4a0f-9f30-442c2b3b95de"
      },
      "outputs": [
        {
          "output_type": "execute_result",
          "data": {
            "text/plain": [
              "0.9606195639478641"
            ]
          },
          "metadata": {},
          "execution_count": 13
        }
      ],
      "source": [
        "np.std(five_samples)"
      ]
    },
    {
      "cell_type": "code",
      "execution_count": null,
      "metadata": {
        "id": "79qLHG9MhiOg",
        "colab": {
          "base_uri": "https://localhost:8080/"
        },
        "outputId": "333bc96b-0215-4f50-c734-fa2200a2a5db"
      },
      "outputs": [
        {
          "output_type": "execute_result",
          "data": {
            "text/plain": [
              "1.0740053227518152"
            ]
          },
          "metadata": {},
          "execution_count": 14
        }
      ],
      "source": [
        "np.std(five_samples, ddof=1)"
      ]
    },
    {
      "cell_type": "markdown",
      "metadata": {
        "id": "0LVoAAWwhiOg"
      },
      "source": [
        "### Summary of section"
      ]
    },
    {
      "cell_type": "markdown",
      "metadata": {
        "id": "O7vEGCDxhiOg"
      },
      "source": [
        "In this section, you've been introduced to the scipy.stats package and used it to draw a small sample from the standard normal distribution. You've calculated the average (the mean) of this sample and seen that this is not exactly equal to the expected population parameter (which we know because we're generating the random variates from a specific, known distribution). You've been introduced to two ways of calculating the standard deviation; one uses $n$ in the denominator and the other uses $n-1$ (Bessel's correction). You've also seen which of these calculations np.std() performs by default and how to get it to generate the other."
      ]
    },
    {
      "cell_type": "markdown",
      "metadata": {
        "id": "Arz79cyZhiOh"
      },
      "source": [
        "You use $n$ as the denominator if you want to calculate the standard deviation of a sequence of numbers. You use $n-1$ if you are using this sequence of numbers to estimate the population parameter. This brings us to some terminology that can be a little confusing.\n",
        "\n",
        "The population parameter is traditionally written as $\\sigma$ and the sample statistic as $s$. Rather unhelpfully, $s$ is also called the sample standard deviation (using $n-1$) whereas the standard deviation of the sample uses $n$. That's right, we have the sample standard deviation and the standard deviation of the sample and they're not the same thing!\n",
        "\n",
        "The sample standard deviation\n",
        "\\begin{equation}\n",
        "s = \\sqrt{\\frac{\\sum_i(x_i - \\bar{x})^2}{n-1}} \\approx \\sigma,\n",
        "\\end{equation}\n",
        "is our best (unbiased) estimate of the population parameter ($\\sigma$).\n",
        "\n",
        "If your dataset _is_ your entire population, you simply want to calculate the population parameter, $\\sigma$, via\n",
        "\\begin{equation}\n",
        "\\sigma = \\sqrt{\\frac{\\sum_i(x_i - \\bar{x})^2}{n}}\n",
        "\\end{equation}\n",
        "as you have complete, full knowledge of your population. In other words, your sample _is_ your population. It's worth noting that we're dealing with what Professor Spiegehalter describes on p. 92 of *AoS* as a **metaphorical population**: we have all the data, and we act as if the data-point is taken from a population at random. We can think of this population as an imaginary space of possibilities.\n",
        "\n",
        "If, however, you have sampled _from_ your population, you only have partial knowledge of the state of your population. In this case, the standard deviation of your sample is not an unbiased estimate of the standard deviation of the population, in which case you seek to estimate that population parameter via the sample standard deviation, which uses the $n-1$ denominator."
      ]
    },
    {
      "cell_type": "markdown",
      "metadata": {
        "id": "iGigqNvshiOh"
      },
      "source": [
        "Great work so far! Now let's dive deeper."
      ]
    },
    {
      "cell_type": "markdown",
      "metadata": {
        "id": "WLr7KdNChiOh"
      },
      "source": [
        "## 3. Sampling distributions"
      ]
    },
    {
      "cell_type": "markdown",
      "metadata": {
        "id": "d4uBHSdjhiOi"
      },
      "source": [
        "So far we've been dealing with the concept of taking a sample from a population to infer the population parameters. One statistic we calculated for a sample was the mean. As our samples will be expected to vary from one draw to another, so will our sample statistics. If we were to perform repeat draws of size $n$ and calculate the mean of each, we would expect to obtain a distribution of values. This is the sampling distribution of the mean. **The Central Limit Theorem (CLT)** tells us that such a distribution will approach a normal distribution as $n$ increases (the intuitions behind the CLT are covered in full on p. 236 of *AoS*). For the sampling distribution of the mean, the standard deviation of this distribution is given by\n",
        "\n",
        "\\begin{equation}\n",
        "\\sigma_{mean} = \\frac{\\sigma}{\\sqrt n}\n",
        "\\end{equation}\n",
        "\n",
        "where $\\sigma_{mean}$ is the standard deviation of the sampling distribution of the mean and $\\sigma$ is the standard deviation of the population (the population parameter)."
      ]
    },
    {
      "cell_type": "markdown",
      "metadata": {
        "id": "IKidxgophiOi"
      },
      "source": [
        "This is important because typically we are dealing with samples from populations and all we know about the population is what we see in the sample. From this sample, we want to make inferences about the population. We may do this, for example, by looking at the histogram of the values and by calculating the mean and standard deviation (as estimates of the population parameters), and so we are intrinsically interested in how these quantities vary across samples.\n",
        "\n",
        "In other words, now that we've taken one sample of size $n$ and made some claims about the general population, what if we were to take another sample of size $n$? Would we get the same result? Would we make the same claims about the general population? This brings us to a fundamental question: _when we make some inference about a population based on our sample, how confident can we be that we've got it 'right'?_\n",
        "\n",
        "We need to think about **estimates and confidence intervals**: those concepts covered in Chapter 7, p. 189, of *AoS*."
      ]
    },
    {
      "cell_type": "markdown",
      "metadata": {
        "id": "9e3SiDKyhiOi"
      },
      "source": [
        "Now, the standard normal distribution (with its variance equal to its standard deviation of one) would not be a great illustration of a key point. Instead, let's imagine we live in a town of 50,000 people and we know the height of everyone in this town. We will have 50,000 numbers that tell us everything about our population. We'll simulate these numbers now and put ourselves in one particular town, called 'town 47', where the population mean height is 172 cm and population standard deviation is 5 cm."
      ]
    },
    {
      "cell_type": "code",
      "execution_count": 3,
      "metadata": {
        "id": "LZsEkScwhiOj"
      },
      "outputs": [],
      "source": [
        "seed(47)\n",
        "pop_heights = norm.rvs(172, 5, size=50000)"
      ]
    },
    {
      "cell_type": "code",
      "execution_count": 4,
      "metadata": {
        "id": "yqWeBIZfhiOj",
        "outputId": "84f8fc3b-c9d3-4cfc-9c8f-846dbca7a0a0",
        "colab": {
          "base_uri": "https://localhost:8080/",
          "height": 472
        }
      },
      "outputs": [
        {
          "output_type": "display_data",
          "data": {
            "text/plain": [
              "<Figure size 640x480 with 1 Axes>"
            ],
            "image/png": "[encoded data removed]"
          },
          "metadata": {}
        }
      ],
      "source": [
        "_ = plt.hist(pop_heights, bins=30)\n",
        "_ = plt.xlabel('height (cm)')\n",
        "_ = plt.ylabel('number of people')\n",
        "_ = plt.title('Distribution of heights in entire town population')\n",
        "_ = plt.axvline(172, color='r')\n",
        "_ = plt.axvline(172+5, color='r', linestyle='--')\n",
        "_ = plt.axvline(172-5, color='r', linestyle='--')\n",
        "_ = plt.axvline(172+10, color='r', linestyle='-.')\n",
        "_ = plt.axvline(172-10, color='r', linestyle='-.')"
      ]
    },
    {
      "cell_type": "markdown",
      "metadata": {
        "id": "jvCPImL1hiOk"
      },
      "source": [
        "Now, 50,000 people is rather a lot to chase after with a tape measure. If all you want to know is the average height of the townsfolk, then can you just go out and measure a sample to get a pretty good estimate of the average height?"
      ]
    },
    {
      "cell_type": "code",
      "execution_count": 5,
      "metadata": {
        "id": "tYh2fggAhiOk"
      },
      "outputs": [],
      "source": [
        "def townsfolk_sampler(n):\n",
        "    return np.random.choice(pop_heights, n)"
      ]
    },
    {
      "cell_type": "markdown",
      "metadata": {
        "id": "raXRK31nhiOl"
      },
      "source": [
        "Let's say you go out one day and randomly sample 10 people to measure."
      ]
    },
    {
      "cell_type": "code",
      "execution_count": 6,
      "metadata": {
        "id": "34HguOBUhiOl"
      },
      "outputs": [],
      "source": [
        "seed(47)\n",
        "daily_sample1 = townsfolk_sampler(10)"
      ]
    },
    {
      "cell_type": "code",
      "execution_count": 7,
      "metadata": {
        "id": "vj-pf30rhiOm",
        "outputId": "4586aac9-f8ed-470c-8e25-982e9ad51e37",
        "colab": {
          "base_uri": "https://localhost:8080/",
          "height": 472
        }
      },
      "outputs": [
        {
          "output_type": "display_data",
          "data": {
            "text/plain": [
              "<Figure size 640x480 with 1 Axes>"
            ],
            "image/png": "[encoded data removed]"
          },
          "metadata": {}
        }
      ],
      "source": [
        "_ = plt.hist(daily_sample1, bins=10)\n",
        "_ = plt.xlabel('height (cm)')\n",
        "_ = plt.ylabel('number of people')\n",
        "_ = plt.title('Distribution of heights in sample size 10')"
      ]
    },
    {
      "cell_type": "markdown",
      "metadata": {
        "id": "ixBGuqK4hiOm"
      },
      "source": [
        "The sample distribution doesn't resemble what we take the population distribution to be. What do we get for the mean?"
      ]
    },
    {
      "cell_type": "code",
      "execution_count": 8,
      "metadata": {
        "id": "7FOJ8ddIhiOm",
        "outputId": "ac502e33-f537-48cd-d7e0-6c43d838e091",
        "colab": {
          "base_uri": "https://localhost:8080/"
        }
      },
      "outputs": [
        {
          "output_type": "execute_result",
          "data": {
            "text/plain": [
              "173.47911444163503"
            ]
          },
          "metadata": {},
          "execution_count": 8
        }
      ],
      "source": [
        "np.mean(daily_sample1)"
      ]
    },
    {
      "cell_type": "markdown",
      "metadata": {
        "id": "fFsdw4UyhiOm"
      },
      "source": [
        "And if we went out and repeated this experiment?"
      ]
    },
    {
      "cell_type": "code",
      "execution_count": 9,
      "metadata": {
        "id": "Z_ZXFNZvhiOm"
      },
      "outputs": [],
      "source": [
        "daily_sample2 = townsfolk_sampler(10)"
      ]
    },
    {
      "cell_type": "code",
      "execution_count": 10,
      "metadata": {
        "id": "x4i6B52nhiOn",
        "outputId": "f406501b-72ac-4468-cc61-fe31864557ae",
        "colab": {
          "base_uri": "https://localhost:8080/"
        }
      },
      "outputs": [
        {
          "output_type": "execute_result",
          "data": {
            "text/plain": [
              "173.7317666636263"
            ]
          },
          "metadata": {},
          "execution_count": 10
        }
      ],
      "source": [
        "np.mean(daily_sample2)"
      ]
    },
    {
      "cell_type": "markdown",
      "metadata": {
        "id": "c9pWVyiMhiOn"
      },
      "source": [
        "__Q8:__ Simulate performing this random trial every day for a year, calculating the mean of each daily sample of 10, and plot the resultant sampling distribution of the mean."
      ]
    },
    {
      "cell_type": "markdown",
      "metadata": {
        "id": "Ext6599QhiOn"
      },
      "source": [
        "__A:__"
      ]
    },
    {
      "cell_type": "code",
      "execution_count": 36,
      "metadata": {
        "id": "BtMLcqp3hiOn"
      },
      "outputs": [],
      "source": [
        "def year_sample(n):\n",
        "  sd_mean = []\n",
        "  for i in range(365):\n",
        "    sd_mean.append(np.mean(np.random.choice(pop_heights, n)))\n",
        "  return sd_mean"
      ]
    },
    {
      "cell_type": "code",
      "execution_count": 37,
      "metadata": {
        "id": "tIWCQoynhiOn"
      },
      "outputs": [],
      "source": [
        "seed(47)\n",
        "# take your samples here\n",
        "sampling_dis = year_sample(10)"
      ]
    },
    {
      "cell_type": "code",
      "execution_count": 38,
      "metadata": {
        "id": "D5CUPQuahiOn",
        "colab": {
          "base_uri": "https://localhost:8080/",
          "height": 472
        },
        "outputId": "860ff72b-b1e2-4bb6-e312-a1155d2c801c"
      },
      "outputs": [
        {
          "output_type": "display_data",
          "data": {
            "text/plain": [
              "<Figure size 640x480 with 1 Axes>"
            ],
            "image/png": "[encoded data removed]"
          },
          "metadata": {}
        }
      ],
      "source": [
        "plt.hist(sampling_dis, bins=30)\n",
        "plt.xlabel('Sample Mean')\n",
        "plt.ylabel('Frequency')\n",
        "plt.title('Sampling Distribution of the Mean')\n",
        "plt.show()"
      ]
    },
    {
      "cell_type": "markdown",
      "metadata": {
        "id": "7w01xjpHhiOo"
      },
      "source": [
        "The above is the distribution of the means of samples of size 10 taken from our population. The Central Limit Theorem tells us the expected mean of this distribution will be equal to the population mean, and standard deviation will be $\\sigma / \\sqrt n$, which, in this case, should be approximately 1.58."
      ]
    },
    {
      "cell_type": "markdown",
      "metadata": {
        "id": "X0BZx_uVhiOo"
      },
      "source": [
        "__Q9:__ Verify the above results from the CLT."
      ]
    },
    {
      "cell_type": "markdown",
      "metadata": {
        "id": "gxpJ1nhMhiOo"
      },
      "source": [
        "__A:__\n",
        "\n",
        "0.08258757010867179"
      ]
    },
    {
      "cell_type": "code",
      "execution_count": 41,
      "metadata": {
        "id": "gGqImGpvhiOo"
      },
      "outputs": [],
      "source": [
        "clt_sample = np.std(sampling_dis, ddof=1) / np.sqrt(len(sampling_dis))"
      ]
    },
    {
      "cell_type": "code",
      "execution_count": 42,
      "metadata": {
        "id": "bSFreujhhiOo",
        "colab": {
          "base_uri": "https://localhost:8080/"
        },
        "outputId": "e8e7977b-9913-473d-d0ae-59ece00b9fac"
      },
      "outputs": [
        {
          "output_type": "stream",
          "name": "stdout",
          "text": [
            "0.08258757010867179\n"
          ]
        }
      ],
      "source": [
        "print(clt_sample)"
      ]
    },
    {
      "cell_type": "markdown",
      "metadata": {
        "id": "Rdkz5ZhChiOo"
      },
      "source": [
        "Remember, in this instance, we knew our population parameters, that the average height really is 172 cm and the standard deviation is 5 cm, and we see some of our daily estimates of the population mean were as low as around 168 and some as high as 176."
      ]
    },
    {
      "cell_type": "markdown",
      "metadata": {
        "id": "oGifuW8ehiOo"
      },
      "source": [
        "__Q10:__ Repeat the above year's worth of samples but for a sample size of 50 (perhaps you had a bigger budget for conducting surveys that year)! Would you expect your distribution of sample means to be wider (more variable) or narrower (more consistent)? Compare your resultant summary statistics to those predicted by the CLT."
      ]
    },
    {
      "cell_type": "markdown",
      "metadata": {
        "id": "eMqC9KHjhiOo"
      },
      "source": [
        "__A:__\n",
        "\n",
        "0.03530679696235139"
      ]
    },
    {
      "cell_type": "code",
      "execution_count": 45,
      "metadata": {
        "id": "zO_YlvVZhiOo"
      },
      "outputs": [],
      "source": [
        "seed(47)\n",
        "# calculate daily means from the larger sample size here\n",
        "sample_50 = year_sample(50)"
      ]
    },
    {
      "cell_type": "code",
      "execution_count": 46,
      "metadata": {
        "id": "DAPSO_xYhiOo",
        "colab": {
          "base_uri": "https://localhost:8080/"
        },
        "outputId": "caf2b944-4d74-4d73-e50d-ea38702538a9"
      },
      "outputs": [
        {
          "output_type": "stream",
          "name": "stdout",
          "text": [
            "0.03530679696235139\n"
          ]
        }
      ],
      "source": [
        "clt_50_sample = np.std(sample_50, ddof=1) / np.sqrt(len(sample_50))\n",
        "print(clt_50_sample)"
      ]
    },
    {
      "cell_type": "markdown",
      "metadata": {
        "id": "8TO4LjNChiOp"
      },
      "source": [
        "What we've seen so far, then, is that we can estimate population parameters from a sample from the population, and that samples have their own distributions. Furthermore, the larger the sample size, the narrower are those sampling distributions."
      ]
    },
    {
      "cell_type": "markdown",
      "metadata": {
        "id": "y5yyjpJ0hiOp"
      },
      "source": [
        "### Normally testing time!"
      ]
    },
    {
      "cell_type": "markdown",
      "metadata": {
        "id": "qI3eKHfGhiOp"
      },
      "source": [
        "All of the above is well and good. We've been sampling from a population we know is normally distributed, we've come to understand when to use $n$ and when to use $n-1$ in the denominator to calculate the spread of a distribution, and we've  seen the Central Limit Theorem in action for a sampling distribution. All seems very well behaved in Frequentist land. But, well, why should we really care?"
      ]
    },
    {
      "cell_type": "markdown",
      "metadata": {
        "id": "QjoNO0IzhiOp"
      },
      "source": [
        "Remember, we rarely (if ever) actually know our population parameters but we still have to estimate them somehow. If we want to make inferences to conclusions like \"this observation is unusual\" or \"my population mean has changed\" then we need to have some idea of what the underlying distribution is so we can calculate relevant probabilities. In frequentist inference, we use the formulae above to deduce these population parameters. Take a moment in the next part of this assignment to refresh your understanding of how these probabilities work."
      ]
    },
    {
      "cell_type": "markdown",
      "metadata": {
        "id": "ixtMyYGuhiOp"
      },
      "source": [
        "Recall some basic properties of the standard normal distribution, such as that about 68% of observations are within plus or minus 1 standard deviation of the mean. Check out the precise definition of a normal distribution on p. 394 of *AoS*.\n",
        "\n",
        "__Q11:__ Using this fact, calculate the probability of observing the value 1 or less in a single observation from the standard normal distribution. Hint: you may find it helpful to sketch the standard normal distribution (the familiar bell shape) and mark the number of standard deviations from the mean on the x-axis and shade the regions of the curve that contain certain percentages of the population."
      ]
    },
    {
      "cell_type": "markdown",
      "metadata": {
        "id": "Ohy-5iNXhiOp"
      },
      "source": [
        "__A:__\n",
        "0.84"
      ]
    },
    {
      "cell_type": "markdown",
      "metadata": {
        "id": "qDNnTYgghiOp"
      },
      "source": [
        "Calculating this probability involved calculating the area under the curve from the value of 1 and below. To put it in mathematical terms, we need to *integrate* the probability density function. We could just add together the known areas of chunks (from -Inf to 0 and then 0 to $+\\sigma$ in the example above). One way to do this is to look up tables (literally). Fortunately, scipy has this functionality built in with the cdf() function."
      ]
    },
    {
      "cell_type": "markdown",
      "metadata": {
        "id": "N5ORErvGhiOp"
      },
      "source": [
        "__Q12:__ Use the cdf() function to answer the question above again and verify you get the same answer."
      ]
    },
    {
      "cell_type": "markdown",
      "metadata": {
        "id": "WpwZ-fskhiOp"
      },
      "source": [
        "__A:__\n",
        "\n",
        "0.8413447460685429"
      ]
    },
    {
      "cell_type": "code",
      "source": [
        "value = 1  # Value for which we want to calculate the probability\n",
        "\n",
        "probability = norm.cdf(value, loc=0, scale=1)\n",
        "\n",
        "print(\"Probability:\", probability)"
      ],
      "metadata": {
        "colab": {
          "base_uri": "https://localhost:8080/"
        },
        "id": "Xsmr1pdp1VY2",
        "outputId": "f0b9f679-d706-4811-c86e-cf640b3cc566"
      },
      "execution_count": 47,
      "outputs": [
        {
          "output_type": "stream",
          "name": "stdout",
          "text": [
            "Probability: 0.8413447460685429\n"
          ]
        }
      ]
    },
    {
      "cell_type": "markdown",
      "metadata": {
        "id": "N8vkLKCshiOq"
      },
      "source": [
        "__Q13:__ Using our knowledge of the population parameters for our townsfolks' heights, what is the probability of selecting one person at random and their height being 177 cm or less? Calculate this using both of the approaches given above."
      ]
    },
    {
      "cell_type": "markdown",
      "metadata": {
        "id": "CXnqrF89hiOq"
      },
      "source": [
        "__A:__\n",
        "\n",
        "0.8408521828425951"
      ]
    },
    {
      "cell_type": "code",
      "execution_count": 50,
      "metadata": {
        "id": "a7s3nwfDhiOq",
        "colab": {
          "base_uri": "https://localhost:8080/"
        },
        "outputId": "4581b2a6-0194-4283-d638-619f161038d5"
      },
      "outputs": [
        {
          "output_type": "stream",
          "name": "stdout",
          "text": [
            "Probability: 0.8408521828425951\n"
          ]
        }
      ],
      "source": [
        "x = np.sort(pop_heights)\n",
        "y = np.arange(1, len(x) + 1) / len(x)\n",
        "\n",
        "mean = np.mean(pop_heights)  # Population mean\n",
        "std_dev = np.std(pop_heights, ddof=1)  # Population standard deviation\n",
        "value = 177   # Value for which we want to calculate the probability\n",
        "\n",
        "probability_cdf = norm.cdf(value, loc=mean, scale=std_dev)\n",
        "\n",
        "print(\"Probability:\", probability_cdf)"
      ]
    },
    {
      "cell_type": "markdown",
      "metadata": {
        "id": "CQZ663k_hiOq"
      },
      "source": [
        "__Q14:__ Turning this question around — suppose we randomly pick one person and measure their height and find they are 2.00 m tall. How surprised should we be at this result, given what we know about the population distribution? In other words, how likely would it be to obtain a value at least as extreme as this? Express this as a probability."
      ]
    },
    {
      "cell_type": "markdown",
      "metadata": {
        "id": "Xuw8FGLahiOq"
      },
      "source": [
        "__A:__\n",
        "\n",
        "1.0"
      ]
    },
    {
      "cell_type": "code",
      "execution_count": 52,
      "metadata": {
        "id": "mhdTWa_zhiOq",
        "colab": {
          "base_uri": "https://localhost:8080/"
        },
        "outputId": "56dbc28c-7b2a-442e-df20-bdad221ee9d2"
      },
      "outputs": [
        {
          "output_type": "stream",
          "name": "stdout",
          "text": [
            "Probability: 1.0\n"
          ]
        }
      ],
      "source": [
        "small_val = 2.00\n",
        "probability_2m = 1 - norm.cdf(small_val, loc=mean, scale=std_dev)\n",
        "print(\"Probability:\", probability_2m)"
      ]
    },
    {
      "cell_type": "markdown",
      "metadata": {
        "id": "QjT6nySihiOq"
      },
      "source": [
        "What we've just done is calculate the ***p-value*** of the observation of someone 2.00m tall (review *p*-values if you need to on p. 399 of *AoS*). We could calculate this probability by virtue of knowing the population parameters. We were then able to use the known properties of the relevant normal distribution to calculate the probability of observing a value at least as extreme as our test value."
      ]
    },
    {
      "cell_type": "markdown",
      "metadata": {
        "id": "KONfIYD_hiOq"
      },
      "source": [
        "We're about to come to a pinch, though. We've said a couple of times that we rarely, if ever, know the true population parameters; we have to estimate them from our sample and we cannot even begin to estimate the standard deviation from a single observation.\n",
        "\n",
        "This is very true and usually we have sample sizes larger than one. This means we can calculate the mean of the sample as our best estimate of the population mean and the standard deviation as our best estimate of the population standard deviation.\n",
        "\n",
        "In other words, we are now coming to deal with the sampling distributions we mentioned above as we are generally concerned with the properties of the sample means we obtain.\n",
        "\n",
        "Above, we highlighted one result from the CLT, whereby the sampling distribution (of the mean) becomes narrower and narrower with the square root of the sample size. We remind ourselves that another result from the CLT is that _even if the underlying population distribution is not normal, the sampling distribution will tend to become normal with sufficiently large sample size_. (**Check out p. 199 of AoS if you need to revise this**). This is the key driver for us 'requiring' a certain sample size, for example you may frequently see a minimum sample size of 30 stated in many places. In reality this is simply a rule of thumb; if the underlying distribution is approximately normal then your sampling distribution will already be pretty normal, but if the underlying distribution is heavily skewed then you'd want to increase your sample size."
      ]
    },
    {
      "cell_type": "markdown",
      "metadata": {
        "id": "j7pSyHrBhiOr"
      },
      "source": [
        "__Q15:__ Let's now start from the position of knowing nothing about the heights of people in our town.\n",
        "* Use the random seed of 47, to randomly sample the heights of 50 townsfolk\n",
        "* Estimate the population mean using np.mean\n",
        "* Estimate the population standard deviation using np.std (remember which denominator to use!)\n",
        "* Calculate the (95%) [margin of error](https://www.statisticshowto.datasciencecentral.com/probability-and-statistics/hypothesis-testing/margin-of-error/#WhatMofE) (use the exact critial z value to 2 decimal places - [look this up](https://www.statisticshowto.datasciencecentral.com/probability-and-statistics/find-critical-values/) or use norm.ppf()) Recall that the ***margin of error*** is mentioned on p. 189 of the *AoS* and discussed in depth in that chapter).\n",
        "* Calculate the 95% Confidence Interval of the mean (***confidence intervals*** are defined on p. 385 of *AoS*)\n",
        "* Does this interval include the true population mean?"
      ]
    },
    {
      "cell_type": "markdown",
      "metadata": {
        "id": "FnOmwD7lhiOr"
      },
      "source": [
        "__A:__\n",
        "No"
      ]
    },
    {
      "cell_type": "code",
      "execution_count": 54,
      "metadata": {
        "id": "4Gjo7zfvhiOr"
      },
      "outputs": [],
      "source": [
        "seed(47)\n",
        "# take your sample now\n",
        "town_sample = townsfolk_sampler(50)"
      ]
    },
    {
      "cell_type": "code",
      "execution_count": 60,
      "metadata": {
        "id": "ABG2VShThiOr"
      },
      "outputs": [],
      "source": [
        "smp_mean = np.mean(town_sample)\n",
        "smp_std = np.std(town_sample, ddof=1)"
      ]
    },
    {
      "cell_type": "code",
      "execution_count": 61,
      "metadata": {
        "id": "mbX0GoVqhiOr",
        "colab": {
          "base_uri": "https://localhost:8080/"
        },
        "outputId": "5259f92b-cef6-4955-d029-9a068a7987c3"
      },
      "outputs": [
        {
          "output_type": "stream",
          "name": "stdout",
          "text": [
            "Confidence Interval of the Mean: (172.74473701745168, 172.8182846979059)\n",
            "Does the Interval Include the True Population Mean? False\n"
          ]
        }
      ],
      "source": [
        "# Sample size\n",
        "n = len(pop_heights)\n",
        "\n",
        "# Margin of error (z-value for 95% confidence level)\n",
        "z_value = norm.ppf(0.975)  # Two-tailed test\n",
        "margin_of_error = z_value * (smp_std / np.sqrt(n))\n",
        "\n",
        "# Confidence interval of the mean\n",
        "confidence_interval = (smp_mean - margin_of_error, smp_mean + margin_of_error)\n",
        "\n",
        "# Check if the interval includes the true population mean\n",
        "true_pop_mean = np.mean(pop_heights)  # True population mean\n",
        "is_included = confidence_interval[0] <= true_pop_mean <= confidence_interval[1]\n",
        "\n",
        "print(\"Confidence Interval of the Mean:\", confidence_interval)\n",
        "print(\"Does the Interval Include the True Population Mean?\", is_included)\n"
      ]
    },
    {
      "cell_type": "markdown",
      "metadata": {
        "id": "XXuLNGv-hiOr"
      },
      "source": [
        "__Q16:__ Above, we calculated the confidence interval using the critical z value. What is the problem with this? What requirement, or requirements, are we (strictly) failing?"
      ]
    },
    {
      "cell_type": "markdown",
      "metadata": {
        "id": "XtQQ5lpVhiOr"
      },
      "source": [
        "__A:__\n",
        "\n",
        " We assumed the sample size is large enough for the Central Limit Theorem (CLT) to apply. Since we randomly sampled the heights of only 50 townsfolk without any information about the underlying population distribution, we cannot strictly guarantee that the sample satisfies the requirements for using the critical z-value and assuming a normal distribution."
      ]
    },
    {
      "cell_type": "markdown",
      "metadata": {
        "id": "L3NoJcMQhiOs"
      },
      "source": [
        "__Q17:__ Calculate the 95% confidence interval for the mean using the _t_ distribution. Is this wider or narrower than that based on the normal distribution above? If you're unsure, you may find this [resource](https://www.statisticshowto.datasciencecentral.com/probability-and-statistics/confidence-interval/) useful. For calculating the critical value, remember how you could calculate this for the normal distribution using norm.ppf()."
      ]
    },
    {
      "cell_type": "markdown",
      "metadata": {
        "id": "e3WPj2HnhiOs"
      },
      "source": [
        "__A:__"
      ]
    },
    {
      "cell_type": "code",
      "execution_count": 62,
      "metadata": {
        "id": "JAC2mOwGhiOs",
        "colab": {
          "base_uri": "https://localhost:8080/"
        },
        "outputId": "158e2568-cdc4-4322-b2d8-c5f3a0877a85"
      },
      "outputs": [
        {
          "output_type": "stream",
          "name": "stdout",
          "text": [
            "Margin of Error: 0.036774730461255865\n",
            "Confidence Interval (t-distribution): (172.74473612721755, 172.81828558814004)\n"
          ]
        }
      ],
      "source": [
        "# Calculate critical t-value for 95% confidence level\n",
        "degrees_of_freedom = n - 1\n",
        "t_value = t.ppf(0.975, df=degrees_of_freedom)\n",
        "\n",
        "# Calculate margin of error\n",
        "margin_of_error = t_value * (smp_std  / np.sqrt(n))\n",
        "\n",
        "# Calculate confidence interval of the mean\n",
        "confidence_interval = (smp_mean - margin_of_error, smp_mean + margin_of_error)\n",
        "\n",
        "print(\"Margin of Error:\", margin_of_error)\n",
        "print(\"Confidence Interval (t-distribution):\", confidence_interval)"
      ]
    },
    {
      "cell_type": "markdown",
      "metadata": {
        "id": "knH4QPRPhiOs"
      },
      "source": [
        "This is slightly wider than the previous confidence interval. This reflects the greater uncertainty given that we are estimating population parameters from a sample."
      ]
    },
    {
      "cell_type": "markdown",
      "metadata": {
        "id": "NZbnDjcphiOs"
      },
      "source": [
        "## 4. Learning outcomes"
      ]
    },
    {
      "cell_type": "markdown",
      "metadata": {
        "id": "BR0ZksJChiOs"
      },
      "source": [
        "Having completed this project notebook, you now have hands-on experience:\n",
        "* sampling and calculating probabilities from a normal distribution\n",
        "* identifying the correct way to estimate the standard deviation of a population (the population parameter) from a sample\n",
        "* with sampling distribution and now know how the Central Limit Theorem applies\n",
        "* with how to calculate critical values and confidence intervals"
      ]
    },
    {
      "cell_type": "code",
      "execution_count": null,
      "metadata": {
        "id": "NdhR47sShiOs"
      },
      "outputs": [],
      "source": []
    }
  ],
  "metadata": {
    "kernelspec": {
      "display_name": "Python 3",
      "language": "python",
      "name": "python3"
    },
    "language_info": {
      "codemirror_mode": {
        "name": "ipython",
        "version": 3
      },
      "file_extension": ".py",
      "mimetype": "text/x-python",
      "name": "python",
      "nbconvert_exporter": "python",
      "pygments_lexer": "ipython3",
      "version": "3.7.3"
    },
    "colab": {
      "provenance": []
    }
  },
  "nbformat": 4,
  "nbformat_minor": 0
}