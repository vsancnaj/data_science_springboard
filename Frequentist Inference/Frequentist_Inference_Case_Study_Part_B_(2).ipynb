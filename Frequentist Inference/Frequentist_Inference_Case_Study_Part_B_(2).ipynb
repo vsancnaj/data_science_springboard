{
  "cells": [
    {
      "cell_type": "markdown",
      "metadata": {
        "id": "9BUYHr1QJf52"
      },
      "source": [
        "# Frequentist Inference Case Study - Part B"
      ]
    },
    {
      "cell_type": "markdown",
      "metadata": {
        "id": "EIkJMvBeJf59"
      },
      "source": [
        "## Learning objectives"
      ]
    },
    {
      "cell_type": "markdown",
      "metadata": {
        "id": "R8UjKaHsJf59"
      },
      "source": [
        "Welcome to Part B of the Frequentist inference case study! The purpose of this case study is to help you apply the concepts associated with Frequentist inference in Python. In particular, you'll practice writing Python code to apply the following statistical concepts:\n",
        "* the _z_-statistic\n",
        "* the _t_-statistic\n",
        "* the difference and relationship between the two\n",
        "* the Central Limit Theorem, including its assumptions and consequences\n",
        "* how to estimate the population mean and standard deviation from a sample\n",
        "* the concept of a sampling distribution of a test statistic, particularly for the mean\n",
        "* how to combine these concepts to calculate a confidence interval"
      ]
    },
    {
      "cell_type": "markdown",
      "metadata": {
        "id": "MC2uS_qLJf5-"
      },
      "source": [
        "In the previous notebook, we used only data from a known normal distribution. **You'll now tackle real data, rather than simulated data, and answer some relevant real-world business problems using the data.**"
      ]
    },
    {
      "cell_type": "markdown",
      "metadata": {
        "id": "MupxUB8cJf5-"
      },
      "source": [
        "## Hospital medical charges"
      ]
    },
    {
      "cell_type": "markdown",
      "metadata": {
        "id": "3l1DI5meJf5-"
      },
      "source": [
        "Imagine that a hospital has hired you as their data scientist. An administrator is working on the hospital's business operations plan and needs you to help them answer some business questions.\n",
        "\n",
        "In this assignment notebook, you're going to use frequentist statistical inference on a data sample to answer the questions:\n",
        "* has the hospital's revenue stream fallen below a key threshold?\n",
        "* are patients with insurance really charged different amounts than those without?\n",
        "\n",
        "Answering that last question with a frequentist approach makes some assumptions, and requires some knowledge, about the two groups."
      ]
    },
    {
      "cell_type": "markdown",
      "metadata": {
        "id": "yVBL96nPJf5-"
      },
      "source": [
        "We are going to use some data on medical charges obtained from [Kaggle](https://www.kaggle.com/easonlai/sample-insurance-claim-prediction-dataset).\n",
        "\n",
        "For the purposes of this exercise, assume the observations are the result of random sampling from our single hospital. Recall that in the previous assignment, we introduced the Central Limit Theorem (CLT), and its consequence that the distributions of sample statistics approach a normal distribution as $n$ increases. The amazing thing about this is that it applies to the sampling distributions of statistics that have been calculated from even highly non-normal distributions of data! Recall, also, that hypothesis testing is very much based on making inferences about such sample statistics. You're going to rely heavily on the CLT to apply frequentist (parametric) tests to answer the questions in this notebook."
      ]
    },
    {
      "cell_type": "code",
      "source": [
        "# Import Google Drive\n",
        "from google.colab import drive\n",
        "drive.mount('/content/drive')"
      ],
      "metadata": {
        "colab": {
          "base_uri": "https://localhost:8080/"
        },
        "id": "KRAnJcP6dXWl",
        "outputId": "ee43ebdc-648d-4b89-fc46-f85bf72954cb"
      },
      "execution_count": 20,
      "outputs": [
        {
          "output_type": "stream",
          "name": "stdout",
          "text": [
            "Drive already mounted at /content/drive; to attempt to forcibly remount, call drive.mount(\"/content/drive\", force_remount=True).\n"
          ]
        }
      ]
    },
    {
      "cell_type": "code",
      "source": [
        "# Connect Kaggle\n",
        "!mkdir ~/.kaggle\n",
        "!cp /content/drive/MyDrive/Springboard/kaggle.json ~/.kaggle/\n",
        "!chmod 600 ~/.kaggle/kaggle.json\n",
        "\n",
        "# 1 includes product ingredients\n",
        "#!kaggle datasets download -d ealaxi/paysim1\n",
        "!kaggle datasets download -d easonlai/sample-insurance-claim-prediction-dataset\n",
        "\n",
        "# Unzip file\n",
        "!unzip /content/sample-insurance-claim-prediction-dataset.zip"
      ],
      "metadata": {
        "colab": {
          "base_uri": "https://localhost:8080/"
        },
        "id": "Jf8CEIY8dTUE",
        "outputId": "287fdce4-faa7-4970-e145-a4abbeadc18e"
      },
      "execution_count": 21,
      "outputs": [
        {
          "output_type": "stream",
          "name": "stdout",
          "text": [
            "mkdir: cannot create directory ‘/root/.kaggle’: File exists\n",
            "sample-insurance-claim-prediction-dataset.zip: Skipping, found more recently modified local copy (use --force to force download)\n",
            "Archive:  /content/sample-insurance-claim-prediction-dataset.zip\n",
            "replace insurance2.csv? [y]es, [n]o, [A]ll, [N]one, [r]ename: y\n",
            "  inflating: insurance2.csv          \n",
            "replace insurance3r2.csv? [y]es, [n]o, [A]ll, [N]one, [r]ename: y\n",
            "  inflating: insurance3r2.csv        \n"
          ]
        }
      ]
    },
    {
      "cell_type": "code",
      "execution_count": 22,
      "metadata": {
        "id": "Ll3zyWr9Jf5_"
      },
      "outputs": [],
      "source": [
        "import pandas as pd\n",
        "import numpy as np\n",
        "import matplotlib.pyplot as plt\n",
        "from scipy.stats import t\n",
        "from numpy.random import seed\n",
        "#medical = pd.read_csv('data/insurance2.csv')"
      ]
    },
    {
      "cell_type": "code",
      "source": [
        "path = '/content/insurance2.csv'\n",
        "medical = pd.read_csv(path)"
      ],
      "metadata": {
        "id": "yk-kxzMkdwdr"
      },
      "execution_count": 23,
      "outputs": []
    },
    {
      "cell_type": "code",
      "execution_count": 24,
      "metadata": {
        "colab": {
          "base_uri": "https://localhost:8080/"
        },
        "id": "xfSVlHEeJf6A",
        "outputId": "f1bb011f-cbcc-44fc-842c-9030bcc5fb58"
      },
      "outputs": [
        {
          "output_type": "execute_result",
          "data": {
            "text/plain": [
              "(1338, 8)"
            ]
          },
          "metadata": {},
          "execution_count": 24
        }
      ],
      "source": [
        "medical.shape"
      ]
    },
    {
      "cell_type": "code",
      "execution_count": 25,
      "metadata": {
        "colab": {
          "base_uri": "https://localhost:8080/",
          "height": 204
        },
        "id": "e98y4JhWJf6A",
        "outputId": "a3d888ed-4631-47d5-b6f1-237e21e18fda"
      },
      "outputs": [
        {
          "output_type": "execute_result",
          "data": {
            "text/plain": [
              "   age  sex     bmi  children  smoker  region      charges  insuranceclaim\n",
              "0   19    0  27.900         0       1       3  16884.92400               1\n",
              "1   18    1  33.770         1       0       2   1725.55230               1\n",
              "2   28    1  33.000         3       0       2   4449.46200               0\n",
              "3   33    1  22.705         0       0       1  21984.47061               0\n",
              "4   32    1  28.880         0       0       1   3866.85520               1"
            ],
            "text/html": [
              "\n",
              "  <div id=\"df-e96b44f3-a707-4335-9955-0c4f8925ca09\">\n",
              "    <div class=\"colab-df-container\">\n",
              "      <div>\n",
              "<style scoped>\n",
              "    .dataframe tbody tr th:only-of-type {\n",
              "        vertical-align: middle;\n",
              "    }\n",
              "\n",
              "    .dataframe tbody tr th {\n",
              "        vertical-align: top;\n",
              "    }\n",
              "\n",
              "    .dataframe thead th {\n",
              "        text-align: right;\n",
              "    }\n",
              "</style>\n",
              "<table border=\"1\" class=\"dataframe\">\n",
              "  <thead>\n",
              "    <tr style=\"text-align: right;\">\n",
              "      <th></th>\n",
              "      <th>age</th>\n",
              "      <th>sex</th>\n",
              "      <th>bmi</th>\n",
              "      <th>children</th>\n",
              "      <th>smoker</th>\n",
              "      <th>region</th>\n",
              "      <th>charges</th>\n",
              "      <th>insuranceclaim</th>\n",
              "    </tr>\n",
              "  </thead>\n",
              "  <tbody>\n",
              "    <tr>\n",
              "      <th>0</th>\n",
              "      <td>19</td>\n",
              "      <td>0</td>\n",
              "      <td>27.900</td>\n",
              "      <td>0</td>\n",
              "      <td>1</td>\n",
              "      <td>3</td>\n",
              "      <td>16884.92400</td>\n",
              "      <td>1</td>\n",
              "    </tr>\n",
              "    <tr>\n",
              "      <th>1</th>\n",
              "      <td>18</td>\n",
              "      <td>1</td>\n",
              "      <td>33.770</td>\n",
              "      <td>1</td>\n",
              "      <td>0</td>\n",
              "      <td>2</td>\n",
              "      <td>1725.55230</td>\n",
              "      <td>1</td>\n",
              "    </tr>\n",
              "    <tr>\n",
              "      <th>2</th>\n",
              "      <td>28</td>\n",
              "      <td>1</td>\n",
              "      <td>33.000</td>\n",
              "      <td>3</td>\n",
              "      <td>0</td>\n",
              "      <td>2</td>\n",
              "      <td>4449.46200</td>\n",
              "      <td>0</td>\n",
              "    </tr>\n",
              "    <tr>\n",
              "      <th>3</th>\n",
              "      <td>33</td>\n",
              "      <td>1</td>\n",
              "      <td>22.705</td>\n",
              "      <td>0</td>\n",
              "      <td>0</td>\n",
              "      <td>1</td>\n",
              "      <td>21984.47061</td>\n",
              "      <td>0</td>\n",
              "    </tr>\n",
              "    <tr>\n",
              "      <th>4</th>\n",
              "      <td>32</td>\n",
              "      <td>1</td>\n",
              "      <td>28.880</td>\n",
              "      <td>0</td>\n",
              "      <td>0</td>\n",
              "      <td>1</td>\n",
              "      <td>3866.85520</td>\n",
              "      <td>1</td>\n",
              "    </tr>\n",
              "  </tbody>\n",
              "</table>\n",
              "</div>\n",
              "      <button class=\"colab-df-convert\" onclick=\"convertToInteractive('df-e96b44f3-a707-4335-9955-0c4f8925ca09')\"\n",
              "              title=\"Convert this dataframe to an interactive table.\"\n",
              "              style=\"display:none;\">\n",
              "        \n",
              "  <svg xmlns=\"http://www.w3.org/2000/svg\" height=\"24px\"viewBox=\"0 0 24 24\"\n",
              "       width=\"24px\">\n",
              "    <path d=\"M0 0h24v24H0V0z\" fill=\"none\"/>\n",
              "    <path d=\"M18.56 5.44l.94 2.06.94-2.06 2.06-.94-2.06-.94-.94-2.06-.94 2.06-2.06.94zm-11 1L8.5 8.5l.94-2.06 2.06-.94-2.06-.94L8.5 2.5l-.94 2.06-2.06.94zm10 10l.94 2.06.94-2.06 2.06-.94-2.06-.94-.94-2.06-.94 2.06-2.06.94z\"/><path d=\"M17.41 7.96l-1.37-1.37c-.4-.4-.92-.59-1.43-.59-.52 0-1.04.2-1.43.59L10.3 9.45l-7.72 7.72c-.78.78-.78 2.05 0 2.83L4 21.41c.39.39.9.59 1.41.59.51 0 1.02-.2 1.41-.59l7.78-7.78 2.81-2.81c.8-.78.8-2.07 0-2.86zM5.41 20L4 18.59l7.72-7.72 1.47 1.35L5.41 20z\"/>\n",
              "  </svg>\n",
              "      </button>\n",
              "      \n",
              "  <style>\n",
              "    .colab-df-container {\n",
              "      display:flex;\n",
              "      flex-wrap:wrap;\n",
              "      gap: 12px;\n",
              "    }\n",
              "\n",
              "    .colab-df-convert {\n",
              "      background-color: #E8F0FE;\n",
              "      border: none;\n",
              "      border-radius: 50%;\n",
              "      cursor: pointer;\n",
              "      display: none;\n",
              "      fill: #1967D2;\n",
              "      height: 32px;\n",
              "      padding: 0 0 0 0;\n",
              "      width: 32px;\n",
              "    }\n",
              "\n",
              "    .colab-df-convert:hover {\n",
              "      background-color: #E2EBFA;\n",
              "      box-shadow: 0px 1px 2px rgba(60, 64, 67, 0.3), 0px 1px 3px 1px rgba(60, 64, 67, 0.15);\n",
              "      fill: #174EA6;\n",
              "    }\n",
              "\n",
              "    [theme=dark] .colab-df-convert {\n",
              "      background-color: #3B4455;\n",
              "      fill: #D2E3FC;\n",
              "    }\n",
              "\n",
              "    [theme=dark] .colab-df-convert:hover {\n",
              "      background-color: #434B5C;\n",
              "      box-shadow: 0px 1px 3px 1px rgba(0, 0, 0, 0.15);\n",
              "      filter: drop-shadow(0px 1px 2px rgba(0, 0, 0, 0.3));\n",
              "      fill: #FFFFFF;\n",
              "    }\n",
              "  </style>\n",
              "\n",
              "      <script>\n",
              "        const buttonEl =\n",
              "          document.querySelector('#df-e96b44f3-a707-4335-9955-0c4f8925ca09 button.colab-df-convert');\n",
              "        buttonEl.style.display =\n",
              "          google.colab.kernel.accessAllowed ? 'block' : 'none';\n",
              "\n",
              "        async function convertToInteractive(key) {\n",
              "          const element = document.querySelector('#df-e96b44f3-a707-4335-9955-0c4f8925ca09');\n",
              "          const dataTable =\n",
              "            await google.colab.kernel.invokeFunction('convertToInteractive',\n",
              "                                                     [key], {});\n",
              "          if (!dataTable) return;\n",
              "\n",
              "          const docLinkHtml = 'Like what you see? Visit the ' +\n",
              "            '<a target=\"_blank\" href=https://colab.research.google.com/notebooks/data_table.ipynb>data table notebook</a>'\n",
              "            + ' to learn more about interactive tables.';\n",
              "          element.innerHTML = '';\n",
              "          dataTable['output_type'] = 'display_data';\n",
              "          await google.colab.output.renderOutput(dataTable, element);\n",
              "          const docLink = document.createElement('div');\n",
              "          docLink.innerHTML = docLinkHtml;\n",
              "          element.appendChild(docLink);\n",
              "        }\n",
              "      </script>\n",
              "    </div>\n",
              "  </div>\n",
              "  "
            ]
          },
          "metadata": {},
          "execution_count": 25
        }
      ],
      "source": [
        "medical.head()"
      ]
    },
    {
      "cell_type": "code",
      "source": [
        "medical.info()"
      ],
      "metadata": {
        "colab": {
          "base_uri": "https://localhost:8080/"
        },
        "id": "socTJdsfj0Xm",
        "outputId": "88b745e4-b673-4beb-a7bc-fb0a9bb71cf3"
      },
      "execution_count": 26,
      "outputs": [
        {
          "output_type": "stream",
          "name": "stdout",
          "text": [
            "<class 'pandas.core.frame.DataFrame'>\n",
            "RangeIndex: 1338 entries, 0 to 1337\n",
            "Data columns (total 8 columns):\n",
            " #   Column          Non-Null Count  Dtype  \n",
            "---  ------          --------------  -----  \n",
            " 0   age             1338 non-null   int64  \n",
            " 1   sex             1338 non-null   int64  \n",
            " 2   bmi             1338 non-null   float64\n",
            " 3   children        1338 non-null   int64  \n",
            " 4   smoker          1338 non-null   int64  \n",
            " 5   region          1338 non-null   int64  \n",
            " 6   charges         1338 non-null   float64\n",
            " 7   insuranceclaim  1338 non-null   int64  \n",
            "dtypes: float64(2), int64(6)\n",
            "memory usage: 83.8 KB\n"
          ]
        }
      ]
    },
    {
      "cell_type": "markdown",
      "metadata": {
        "id": "-ZeYrxLIJf6B"
      },
      "source": [
        "__Q1:__ Plot the histogram of charges and calculate the mean and standard deviation. Comment on the appropriateness of these statistics for the data."
      ]
    },
    {
      "cell_type": "markdown",
      "metadata": {
        "id": "DwHXgdDsJf6B"
      },
      "source": [
        "__A:__\n",
        "\n",
        "The medical charges data has a mean of $13,270.42\n",
        "\n",
        "and a standard deviation of $12,110.01. The data distribution is very right-skewed, indicating that there is a long tail of higher charges. This means that a majority of the charges are \"relatively\" low, while a small portion of the charges are significantly higher. The right-skewness suggests that there are few individuals or cases with exceptionally high medical charges, which can greatly influence the mean value. Therefore, when interpreting the mean and standard deviation in this context, it's important to consider the skewed nature of the data and the potential impact of outliers on these statistics."
      ]
    },
    {
      "cell_type": "code",
      "execution_count": 27,
      "metadata": {
        "colab": {
          "base_uri": "https://localhost:8080/"
        },
        "id": "WKy_FJFDJf6B",
        "outputId": "36526cf3-12c8-4687-8b05-c399512689fa"
      },
      "outputs": [
        {
          "output_type": "stream",
          "name": "stdout",
          "text": [
            "Mean: 13270.42\n",
            "Standard Deviation: 12110.01\n"
          ]
        }
      ],
      "source": [
        "medical_charges = medical.charges\n",
        "\n",
        "ch_mean = np.mean(medical_charges)\n",
        "ch_std = np.std(medical_charges, ddof=1)\n",
        "\n",
        "print(f'Mean: {round(ch_mean,2)}')\n",
        "print(f'Standard Deviation: {round(ch_std,2)}')"
      ]
    },
    {
      "cell_type": "code",
      "execution_count": 28,
      "metadata": {
        "colab": {
          "base_uri": "https://localhost:8080/",
          "height": 472
        },
        "id": "MiDRaLdZJf6B",
        "outputId": "7ec20c7d-3418-4554-cfbe-a5aee1edd4f2"
      },
      "outputs": [
        {
          "output_type": "display_data",
          "data": {
            "text/plain": [
              "<Figure size 640x480 with 1 Axes>"
            ],
            "image/png": "[encoded data removed]"
          },
          "metadata": {}
        }
      ],
      "source": [
        "_ = plt.hist(medical_charges,bins=10)\n",
        "_ = plt.xlabel('Charges ($USD)')\n",
        "_ = plt.ylabel('Frequency')\n",
        "_ = plt.axvline(ch_mean, color='r')\n",
        "_ = plt.title('Distribution of Medical Insurance Charges')\n",
        "plt.show()"
      ]
    },
    {
      "cell_type": "markdown",
      "metadata": {
        "id": "VrJe1o8xJf6B"
      },
      "source": [
        "__Q2:__ The administrator is concerned that the actual average charge has fallen below 12,000, threatening the hospital's operational model. On the assumption that these data represent a random sample of charges, how would you justify that these data allow you to answer that question? And what would be the most appropriate frequentist test, of the ones discussed so far, to apply?"
      ]
    },
    {
      "cell_type": "markdown",
      "metadata": {
        "id": "DUUiaQRAJf6C"
      },
      "source": [
        "__A:__\n",
        "\n",
        "\n",
        "In order to address the administrator's concern about the average charge falling below $12,000, we can rely on the assumption that the data we have represents a random sample. This assumption is crucial as random sampling helps ensure that the characteristics of the sample closely resemble those of the larger population. By analyzing this random sample, we can make meaningful inferences about the population.\n",
        "\n",
        "Furthermore, the sample size is an important consideration. With a larger sample size, the estimates of the population parameters tend to be more reliable. In this case, we have a specific sample size (you can mention the actual sample size) which increases our confidence in the estimates derived from the data.\n",
        "\n",
        "To address the administrator's concern using a frequentist test, we can perform a one-sample t-test. This test allows us to compare the sample mean (13270.42) with the specific value of $12,000\n",
        "\n",
        "and determine if the average charge in the population is significantly different from $12,000.\n",
        "\n",
        "The one-sample t-test takes into account the sample mean, sample size, and sample standard deviation to assess the statistical significance of the difference."
      ]
    },
    {
      "cell_type": "markdown",
      "metadata": {
        "id": "8-eeyvhCJf6C"
      },
      "source": [
        "__Q3:__ Given the nature of the administrator's concern, what is the appropriate confidence interval in this case? A ***one-sided*** or ***two-sided*** interval? (Refresh your understanding of this concept on p. 399 of the *AoS*). Calculate the critical value and the relevant 95% confidence interval for the mean, and comment on whether the administrator should be concerned."
      ]
    },
    {
      "cell_type": "markdown",
      "metadata": {
        "id": "ZYdx6GTWJf6C"
      },
      "source": [
        "__A:__\n",
        "\n",
        "Critical Value: 1.6459941145571317\n",
        "\n",
        "Confidence Interval (Lower Limit): 12725.48718381623\n",
        "\n",
        "The shoudl not be major concern, however it is critical to take the appropriate steps in the future to remedy this low number."
      ]
    },
    {
      "cell_type": "code",
      "execution_count": 29,
      "metadata": {
        "colab": {
          "base_uri": "https://localhost:8080/"
        },
        "id": "9W43HYJQJf6C",
        "outputId": "eec63abf-7446-4d58-9b26-6a16aac2e563"
      },
      "outputs": [
        {
          "output_type": "stream",
          "name": "stdout",
          "text": [
            "Critical Value: 1.6459941145571317\n",
            "Confidence Interval (Lower Limit): 12725.48718381623\n"
          ]
        }
      ],
      "source": [
        "# Sample statistics\n",
        "n = len(medical_charges)\n",
        "sample_mean = np.mean(medical_charges)\n",
        "sample_std_dev = np.std(medical_charges, ddof=1)  # ddof=1 for sample standard deviation\n",
        "\n",
        "# Degrees of freedom for t-distribution\n",
        "degrees_of_freedom = n - 1\n",
        "\n",
        "# Calculate critical value for one-sided 95% confidence interval\n",
        "alpha = 0.05  # Significance level for one-sided interval\n",
        "t_critical = t.ppf(1 - alpha, df=degrees_of_freedom)\n",
        "\n",
        "# Calculate standard error of the mean\n",
        "standard_error = sample_std_dev / np.sqrt(n)\n",
        "\n",
        "# Calculate lower limit of the confidence interval\n",
        "confidence_interval_lower = sample_mean - t_critical * standard_error\n",
        "\n",
        "# Print the results\n",
        "print(\"Critical Value:\", t_critical)\n",
        "print(\"Confidence Interval (Lower Limit):\", confidence_interval_lower)"
      ]
    },
    {
      "cell_type": "markdown",
      "metadata": {
        "id": "MvZN2fZRJf6D"
      },
      "source": [
        "The administrator then wants to know whether people with insurance really are charged a different amount to those without.\n",
        "\n",
        "__Q4:__ State the null and alternative hypothesis here. Use the _t_-test for the difference between means, where the pooled standard deviation of the two groups is given by:\n",
        "\\begin{equation}\n",
        "s_p = \\sqrt{\\frac{(n_0 - 1)s^2_0 + (n_1 - 1)s^2_1}{n_0 + n_1 - 2}}\n",
        "\\end{equation}\n",
        "\n",
        "and the *t*-test statistic is then given by:\n",
        "\n",
        "\\begin{equation}\n",
        "t = \\frac{\\bar{x}_0 - \\bar{x}_1}{s_p \\sqrt{1/n_0 + 1/n_1}}.\n",
        "\\end{equation}\n",
        "\n",
        "(If you need some reminding of the general definition of ***t-statistic***, check out the definition on p. 404 of *AoS*).\n",
        "\n",
        "What assumption about the variances of the two groups are we making here?"
      ]
    },
    {
      "cell_type": "markdown",
      "metadata": {
        "id": "yGs5-LV8Jf6D"
      },
      "source": [
        "__A:__\n",
        "\n",
        "Null Hypothesis (H0): There is no difference in charges between people with insurance and those without insurance. The population mean charge for people with insurance is equal to the population mean charge for people without insurance.\n",
        "\n",
        "Alternative Hypothesis (H1): There is a difference in charges between people with insurance and those without insurance. The population mean charge for people with insurance is not equal to the population mean charge for people without insurance.\n",
        "\n",
        "\n",
        "Therefore, the assumption we are making in this t-test for the difference between means is that the variances of charges for people with insurance and those without insurance are equal in the population."
      ]
    },
    {
      "cell_type": "markdown",
      "metadata": {
        "id": "eATLsDfuJf6D"
      },
      "source": [
        "__Q5:__ Perform this hypothesis test both manually, using the above formulae, and then using the appropriate function from [scipy.stats](https://docs.scipy.org/doc/scipy/reference/stats.html#statistical-tests) (hint, you're looking for a function to perform a _t_-test on two independent samples). For the manual approach, calculate the value of the test statistic and then its probability (the p-value). Verify you get the same results from both."
      ]
    },
    {
      "cell_type": "markdown",
      "metadata": {
        "id": "ei983h6jJf6D"
      },
      "source": [
        "__A:__"
      ]
    },
    {
      "cell_type": "code",
      "source": [
        "def gen_sampler(n):\n",
        "    return np.random.choice(medical_charges, n)"
      ],
      "metadata": {
        "id": "oDdVd4TXDKiI"
      },
      "execution_count": 31,
      "outputs": []
    },
    {
      "cell_type": "code",
      "source": [
        "seed(47)\n",
        "ch_sample1 = gen_sampler(50)\n",
        "print(ch_sample1)\n",
        "ch_sample2 = gen_sampler(50)\n",
        "print(ch_sample2)"
      ],
      "metadata": {
        "id": "qwV66xWBDLPD"
      },
      "execution_count": null,
      "outputs": []
    },
    {
      "cell_type": "code",
      "execution_count": 39,
      "metadata": {
        "colab": {
          "base_uri": "https://localhost:8080/"
        },
        "id": "9hXCd3-zJf6D",
        "outputId": "3158c7ca-d850-41f5-e438-be9cc9eb315c"
      },
      "outputs": [
        {
          "output_type": "stream",
          "name": "stdout",
          "text": [
            "T-statistic: -0.045064020246607314\n",
            "P-value: 0.9641479783881182\n"
          ]
        }
      ],
      "source": [
        "from scipy.stats import t\n",
        "\n",
        "# Calculate the necessary statistics\n",
        "sample1_mean = np.mean(ch_sample1)\n",
        "sample2_mean = np.mean(ch_sample2)\n",
        "\n",
        "sample1_std = np.std(ch_sample1, ddof=1)\n",
        "sample2_std = np.std(ch_sample2, ddof=1)\n",
        "\n",
        "n = len(ch_sample1)\n",
        "\n",
        "\n",
        "# Calculate the pooled standard deviation using the formula:\n",
        "sp = np.sqrt(((n - 1) * sample1_std**2 + (n - 1) * sample2_std**2) / (n + n - 2))\n",
        "\n",
        "# Calculate the t-test statistic using the formula:\n",
        "t_stat = (sample1_mean - sample2_mean) / (sp * np.sqrt((1/n) + (1/n)))\n",
        "# Calculate the degrees of freedom:\n",
        "df = n + n - 2\n",
        "# Calculate the p-value associated with the t-test statistic using the cumulative\n",
        "#distribution function (CDF) of the t-distribution. For a two-sided test, the p-value is calculated as:\n",
        "p = 2 * (1 - t.cdf(abs(t_stat), df=df))\n",
        "\n",
        "print(f'T-statistic: {t_stat}\\nP-value: {p}')"
      ]
    },
    {
      "cell_type": "code",
      "execution_count": 40,
      "metadata": {
        "colab": {
          "base_uri": "https://localhost:8080/"
        },
        "id": "EBq4qGOpJf6E",
        "outputId": "29801835-9c94-4d7e-e423-317a8e275318"
      },
      "outputs": [
        {
          "output_type": "stream",
          "name": "stdout",
          "text": [
            "T-statistic: -0.045064020246607314\n",
            "P-value: 0.9641479783881182\n"
          ]
        }
      ],
      "source": [
        "from scipy.stats import ttest_ind\n",
        "t_statistic, p_value = ttest_ind(ch_sample1, ch_sample2)\n",
        "\n",
        "print(f'T-statistic: {t_statistic}\\nP-value: {p_value}')"
      ]
    },
    {
      "cell_type": "markdown",
      "metadata": {
        "id": "71Y38c2AJf6E"
      },
      "source": [
        "Congratulations! Hopefully you got the exact same numerical results. This shows that you correctly calculated the numbers by hand. Secondly, you used the correct function and saw that it's much easier to use. All you need to do is pass your data to it."
      ]
    },
    {
      "cell_type": "markdown",
      "metadata": {
        "id": "8MIU-yIaJf6E"
      },
      "source": [
        "__Q6:__ Conceptual question: look through the documentation for statistical test functions in scipy.stats. You'll see the above _t_-test for a sample, but can you see an equivalent one for performing a *z*-test from a sample? Comment on your answer."
      ]
    },
    {
      "cell_type": "markdown",
      "metadata": {
        "id": "Z-1Oien3Jf6E"
      },
      "source": [
        "__A:__\n",
        "\n",
        "\n",
        "In the scipy.stats module, there is no specific function for performing a z-test directly from a sample. This is because the z-test is typically used when the population parameters (mean and standard deviation) are known, or when the sample size is very large, making the t-distribution approach equivalent to the standard normal distribution (z-test)."
      ]
    },
    {
      "cell_type": "markdown",
      "metadata": {
        "id": "rbGVlueBJf6F"
      },
      "source": [
        "## Learning outcomes"
      ]
    },
    {
      "cell_type": "markdown",
      "metadata": {
        "id": "zVVqbKh7Jf6F"
      },
      "source": [
        "Having completed this project notebook, you now have good hands-on experience:\n",
        "* using the central limit theorem to help you apply frequentist techniques to answer questions that pertain to very non-normally distributed data from the real world\n",
        "* performing inference using such data to answer business questions\n",
        "* forming a hypothesis and framing the null and alternative hypotheses\n",
        "* testing this using a _t_-test"
      ]
    }
  ],
  "metadata": {
    "kernelspec": {
      "display_name": "Python 3",
      "language": "python",
      "name": "python3"
    },
    "language_info": {
      "codemirror_mode": {
        "name": "ipython",
        "version": 3
      },
      "file_extension": ".py",
      "mimetype": "text/x-python",
      "name": "python",
      "nbconvert_exporter": "python",
      "pygments_lexer": "ipython3",
      "version": "3.7.3"
    },
    "colab": {
      "provenance": []
    }
  },
  "nbformat": 4,
  "nbformat_minor": 0
}