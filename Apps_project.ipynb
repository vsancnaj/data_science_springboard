{
  "nbformat": 4,
  "nbformat_minor": 0,
  "metadata": {
    "kernelspec": {
      "display_name": "Python 3",
      "name": "python3"
    },
    "language_info": {
      "codemirror_mode": {
        "name": "ipython",
        "version": 3
      },
      "file_extension": ".py",
      "mimetype": "text/x-python",
      "name": "python",
      "nbconvert_exporter": "python",
      "pygments_lexer": "ipython3",
      "version": "3.7.3"
    },
    "colab": {
      "provenance": [],
      "collapsed_sections": [
        "5fbRq2MZFcvq",
        "4RTofY9wFcwI",
        "Cu_eh7fTFcwJ"
      ],
      "gpuType": "T4"
    },
    "accelerator": "GPU"
  },
  "cells": [
    {
      "cell_type": "markdown",
      "metadata": {
        "id": "i2RUFW7TFcuh"
      },
      "source": [
        "# Springboard Apps project - Tier 3 - Complete\n",
        "\n",
        "Welcome to the Apps project! To give you a taste of your future career, we're going to walk through exactly the kind of notebook that you'd write as a data scientist. In the process, we'll be sure to signpost the general framework for our investigation - the Data Science Pipeline - as well as give reasons for why we're doing what we're doing. We're also going to apply some of the skills and knowledge you've built up in the previous unit when reading Professor Spiegelhalter's *The Art of Statistics* (hereinafter *AoS*).\n",
        "\n",
        "So let's get cracking!\n",
        "\n",
        "**Brief**\n",
        "\n",
        "Did Apple Store apps receive better reviews than Google Play apps?\n",
        "\n",
        "## Stages of the project\n",
        "\n",
        "1. Sourcing and loading\n",
        "    * Load the two datasets\n",
        "    * Pick the columns that we are going to work with\n",
        "    * Subsetting the data on this basis\n",
        "\n",
        "\n",
        "2. Cleaning, transforming and visualizing\n",
        "    * Check the data types and fix them\n",
        "    * Add a `platform` column to both the `Apple` and the `Google` dataframes\n",
        "    * Changing the column names to prepare for a join\n",
        "    * Join the two data sets\n",
        "    * Eliminate the `NaN` values\n",
        "    * Filter only those apps that have been reviewed at least once\n",
        "    * Summarize the data visually and analytically (by the column `platform`)  \n",
        "  \n",
        "  \n",
        "3. Modelling\n",
        "    * Hypothesis formulation\n",
        "    * Getting the distribution of the data\n",
        "    * Permutation test\n",
        "\n",
        "\n",
        "4. Evaluating and concluding\n",
        "    * What is our conclusion?\n",
        "    * What is our decision?\n",
        "    * Other models we could have used.\n",
        "    "
      ]
    },
    {
      "cell_type": "markdown",
      "metadata": {
        "id": "QLUAXtl1Fcuk"
      },
      "source": [
        "## Importing the libraries\n",
        "\n",
        "In this case we are going to import pandas, numpy, scipy, random and matplotlib.pyplot"
      ]
    },
    {
      "cell_type": "code",
      "metadata": {
        "id": "XeXJOlGiFcum"
      },
      "source": [
        "import pandas as pd\n",
        "import numpy as np\n",
        "import matplotlib.pyplot as plt\n",
        "# scipi is a library for statistical tests and visualizations\n",
        "from scipy import stats\n",
        "# random enables us to generate random numbers\n",
        "import random"
      ],
      "execution_count": 2,
      "outputs": []
    },
    {
      "cell_type": "markdown",
      "metadata": {
        "id": "zVD7NlPAFcup"
      },
      "source": [
        "## Stage 1 -  Sourcing and loading data"
      ]
    },
    {
      "cell_type": "markdown",
      "metadata": {
        "id": "KU8bdbImFcuq"
      },
      "source": [
        "### 1a. Source and load the data\n",
        "Let's download the data from Kaggle. Kaggle is a fantastic resource: a kind of social medium for data scientists, it boasts projects, datasets and news on the freshest libraries and technologies all in one place. The data from the Apple Store can be found [here](https://www.kaggle.com/ramamet4/app-store-apple-data-set-10k-apps) and the data from Google Store can be found [here](https://www.kaggle.com/lava18/google-play-store-apps).\n",
        "Download the datasets and save them in your working directory."
      ]
    },
    {
      "cell_type": "code",
      "source": [
        "from google.colab import drive\n",
        "drive.mount('/content/drive')"
      ],
      "metadata": {
        "id": "tF1nxqdqKxOx",
        "colab": {
          "base_uri": "https://localhost:8080/"
        },
        "outputId": "ab394479-6932-45ba-b286-ca81580365e4"
      },
      "execution_count": 3,
      "outputs": [
        {
          "output_type": "stream",
          "name": "stdout",
          "text": [
            "Mounted at /content/drive\n"
          ]
        }
      ]
    },
    {
      "cell_type": "code",
      "metadata": {
        "id": "laM1PB76Fcur",
        "colab": {
          "base_uri": "https://localhost:8080/"
        },
        "outputId": "688b470e-0926-4d7d-88c6-cb5245c203cd"
      },
      "source": [
        "# Now that the files are saved, we want to load them into Python using read_csv and pandas.\n",
        "\n",
        "# Create a variable called google, and store in it the path of the csv file that contains your google dataset.\n",
        "# If your dataset is in the same folder as this notebook, the path will simply be the name of the file.\n",
        "google_path = '/content/drive/MyDrive/Springboard/Case Study - Integrating Apps/googleplaystore.csv'\n",
        "\n",
        "# Read the csv file into a data frame called Google using the read_csv() pandas method.\n",
        "google = pd.read_csv(google_path)\n",
        "\n",
        "# Using the head() pandas method, observe the first three entries.\n",
        "print(f'Google:\\n{google.head(3)}\\n')"
      ],
      "execution_count": 4,
      "outputs": [
        {
          "output_type": "stream",
          "name": "stdout",
          "text": [
            "Google:\n",
            "                                                 App        Category  Rating  \\\n",
            "0     Photo Editor & Candy Camera & Grid & ScrapBook  ART_AND_DESIGN     4.1   \n",
            "1                                Coloring book moana  ART_AND_DESIGN     3.9   \n",
            "2  U Launcher Lite – FREE Live Cool Themes, Hide ...  ART_AND_DESIGN     4.7   \n",
            "\n",
            "  Reviews  Size    Installs  Type Price Content Rating  \\\n",
            "0     159   19M     10,000+  Free     0       Everyone   \n",
            "1     967   14M    500,000+  Free     0       Everyone   \n",
            "2   87510  8.7M  5,000,000+  Free     0       Everyone   \n",
            "\n",
            "                      Genres      Last Updated Current Ver   Android Ver  \n",
            "0               Art & Design   January 7, 2018       1.0.0  4.0.3 and up  \n",
            "1  Art & Design;Pretend Play  January 15, 2018       2.0.0  4.0.3 and up  \n",
            "2               Art & Design    August 1, 2018       1.2.4  4.0.3 and up  \n",
            "\n"
          ]
        }
      ]
    },
    {
      "cell_type": "code",
      "metadata": {
        "id": "3AW8EA1wFcuu",
        "colab": {
          "base_uri": "https://localhost:8080/"
        },
        "outputId": "79ce2c50-286a-4867-d569-3b219385f98a"
      },
      "source": [
        "# Create a variable called apple, and store in it the path of the csv file that contains your apple dataset.\n",
        "apple_path = '/content/drive/MyDrive/Springboard/Case Study - Integrating Apps/AppleStore.csv'\n",
        "\n",
        "# Read the csv file into a pandas DataFrame object called Apple.\n",
        "apple = pd.read_csv(apple_path)\n",
        "\n",
        "# Observe the first three entries like you did with your other data.\n",
        "print(f'Apple:\\n{apple.head(3)}\\n')"
      ],
      "execution_count": 5,
      "outputs": [
        {
          "output_type": "stream",
          "name": "stdout",
          "text": [
            "Apple:\n",
            "   Unnamed: 0         id                                       track_name  \\\n",
            "0           1  281656475                                  PAC-MAN Premium   \n",
            "1           2  281796108                        Evernote - stay organized   \n",
            "2           3  281940292  WeatherBug - Local Weather, Radar, Maps, Alerts   \n",
            "\n",
            "   size_bytes currency  price  rating_count_tot  rating_count_ver  \\\n",
            "0   100788224      USD   3.99             21292                26   \n",
            "1   158578688      USD   0.00            161065                26   \n",
            "2   100524032      USD   0.00            188583              2822   \n",
            "\n",
            "   user_rating  user_rating_ver    ver cont_rating   prime_genre  \\\n",
            "0          4.0              4.5  6.3.5          4+         Games   \n",
            "1          4.0              3.5  8.2.2          4+  Productivity   \n",
            "2          3.5              4.5  5.0.0          4+       Weather   \n",
            "\n",
            "   sup_devices.num  ipadSc_urls.num  lang.num  vpp_lic  \n",
            "0               38                5        10        1  \n",
            "1               37                5        23        1  \n",
            "2               37                5         3        1  \n",
            "\n"
          ]
        }
      ]
    },
    {
      "cell_type": "markdown",
      "metadata": {
        "id": "vljOHKNTFcuw"
      },
      "source": [
        "### 1b. Pick the columns we'll work with\n",
        "\n",
        "From the documentation of these datasets, we can infer that the most appropriate columns to answer the brief are:\n",
        "\n",
        "1. Google:\n",
        "    * `Category` # Do we need this?\n",
        "    * `Rating`\n",
        "    * `Reviews`\n",
        "    * `Price` (maybe)\n",
        "2. Apple:    \n",
        "    * `prime_genre` # Do we need this?\n",
        "    * `user_rating`\n",
        "    * `rating_count_tot`\n",
        "    * `price` (maybe)"
      ]
    },
    {
      "cell_type": "markdown",
      "metadata": {
        "id": "uf69AeTvFcux"
      },
      "source": [
        "### 1c. Subsetting accordingly\n",
        "\n",
        "Let's select only those columns that we want to work with from both datasets. We'll overwrite the subsets in the original variables."
      ]
    },
    {
      "cell_type": "code",
      "metadata": {
        "id": "LNSDXyjdFcuy",
        "colab": {
          "base_uri": "https://localhost:8080/",
          "height": 142
        },
        "outputId": "3409c7e9-8ff3-4206-8ee0-272f202eddc3"
      },
      "source": [
        "# Subset our DataFrame object Google by selecting just the variables ['Category', 'Rating', 'Reviews', 'Price']\n",
        "google = google[['Category', 'Rating', 'Reviews', 'Price']]\n",
        "\n",
        "# Check the first three entries\n",
        "google.head(3)"
      ],
      "execution_count": 6,
      "outputs": [
        {
          "output_type": "execute_result",
          "data": {
            "text/plain": [
              "         Category  Rating Reviews Price\n",
              "0  ART_AND_DESIGN     4.1     159     0\n",
              "1  ART_AND_DESIGN     3.9     967     0\n",
              "2  ART_AND_DESIGN     4.7   87510     0"
            ],
            "text/html": [
              "\n",
              "  <div id=\"df-0fce40cb-f9c0-4c0c-b5ee-b862354c04b0\">\n",
              "    <div class=\"colab-df-container\">\n",
              "      <div>\n",
              "<style scoped>\n",
              "    .dataframe tbody tr th:only-of-type {\n",
              "        vertical-align: middle;\n",
              "    }\n",
              "\n",
              "    .dataframe tbody tr th {\n",
              "        vertical-align: top;\n",
              "    }\n",
              "\n",
              "    .dataframe thead th {\n",
              "        text-align: right;\n",
              "    }\n",
              "</style>\n",
              "<table border=\"1\" class=\"dataframe\">\n",
              "  <thead>\n",
              "    <tr style=\"text-align: right;\">\n",
              "      <th></th>\n",
              "      <th>Category</th>\n",
              "      <th>Rating</th>\n",
              "      <th>Reviews</th>\n",
              "      <th>Price</th>\n",
              "    </tr>\n",
              "  </thead>\n",
              "  <tbody>\n",
              "    <tr>\n",
              "      <th>0</th>\n",
              "      <td>ART_AND_DESIGN</td>\n",
              "      <td>4.1</td>\n",
              "      <td>159</td>\n",
              "      <td>0</td>\n",
              "    </tr>\n",
              "    <tr>\n",
              "      <th>1</th>\n",
              "      <td>ART_AND_DESIGN</td>\n",
              "      <td>3.9</td>\n",
              "      <td>967</td>\n",
              "      <td>0</td>\n",
              "    </tr>\n",
              "    <tr>\n",
              "      <th>2</th>\n",
              "      <td>ART_AND_DESIGN</td>\n",
              "      <td>4.7</td>\n",
              "      <td>87510</td>\n",
              "      <td>0</td>\n",
              "    </tr>\n",
              "  </tbody>\n",
              "</table>\n",
              "</div>\n",
              "      <button class=\"colab-df-convert\" onclick=\"convertToInteractive('df-0fce40cb-f9c0-4c0c-b5ee-b862354c04b0')\"\n",
              "              title=\"Convert this dataframe to an interactive table.\"\n",
              "              style=\"display:none;\">\n",
              "        \n",
              "  <svg xmlns=\"http://www.w3.org/2000/svg\" height=\"24px\"viewBox=\"0 0 24 24\"\n",
              "       width=\"24px\">\n",
              "    <path d=\"M0 0h24v24H0V0z\" fill=\"none\"/>\n",
              "    <path d=\"M18.56 5.44l.94 2.06.94-2.06 2.06-.94-2.06-.94-.94-2.06-.94 2.06-2.06.94zm-11 1L8.5 8.5l.94-2.06 2.06-.94-2.06-.94L8.5 2.5l-.94 2.06-2.06.94zm10 10l.94 2.06.94-2.06 2.06-.94-2.06-.94-.94-2.06-.94 2.06-2.06.94z\"/><path d=\"M17.41 7.96l-1.37-1.37c-.4-.4-.92-.59-1.43-.59-.52 0-1.04.2-1.43.59L10.3 9.45l-7.72 7.72c-.78.78-.78 2.05 0 2.83L4 21.41c.39.39.9.59 1.41.59.51 0 1.02-.2 1.41-.59l7.78-7.78 2.81-2.81c.8-.78.8-2.07 0-2.86zM5.41 20L4 18.59l7.72-7.72 1.47 1.35L5.41 20z\"/>\n",
              "  </svg>\n",
              "      </button>\n",
              "      \n",
              "  <style>\n",
              "    .colab-df-container {\n",
              "      display:flex;\n",
              "      flex-wrap:wrap;\n",
              "      gap: 12px;\n",
              "    }\n",
              "\n",
              "    .colab-df-convert {\n",
              "      background-color: #E8F0FE;\n",
              "      border: none;\n",
              "      border-radius: 50%;\n",
              "      cursor: pointer;\n",
              "      display: none;\n",
              "      fill: #1967D2;\n",
              "      height: 32px;\n",
              "      padding: 0 0 0 0;\n",
              "      width: 32px;\n",
              "    }\n",
              "\n",
              "    .colab-df-convert:hover {\n",
              "      background-color: #E2EBFA;\n",
              "      box-shadow: 0px 1px 2px rgba(60, 64, 67, 0.3), 0px 1px 3px 1px rgba(60, 64, 67, 0.15);\n",
              "      fill: #174EA6;\n",
              "    }\n",
              "\n",
              "    [theme=dark] .colab-df-convert {\n",
              "      background-color: #3B4455;\n",
              "      fill: #D2E3FC;\n",
              "    }\n",
              "\n",
              "    [theme=dark] .colab-df-convert:hover {\n",
              "      background-color: #434B5C;\n",
              "      box-shadow: 0px 1px 3px 1px rgba(0, 0, 0, 0.15);\n",
              "      filter: drop-shadow(0px 1px 2px rgba(0, 0, 0, 0.3));\n",
              "      fill: #FFFFFF;\n",
              "    }\n",
              "  </style>\n",
              "\n",
              "      <script>\n",
              "        const buttonEl =\n",
              "          document.querySelector('#df-0fce40cb-f9c0-4c0c-b5ee-b862354c04b0 button.colab-df-convert');\n",
              "        buttonEl.style.display =\n",
              "          google.colab.kernel.accessAllowed ? 'block' : 'none';\n",
              "\n",
              "        async function convertToInteractive(key) {\n",
              "          const element = document.querySelector('#df-0fce40cb-f9c0-4c0c-b5ee-b862354c04b0');\n",
              "          const dataTable =\n",
              "            await google.colab.kernel.invokeFunction('convertToInteractive',\n",
              "                                                     [key], {});\n",
              "          if (!dataTable) return;\n",
              "\n",
              "          const docLinkHtml = 'Like what you see? Visit the ' +\n",
              "            '<a target=\"_blank\" href=https://colab.research.google.com/notebooks/data_table.ipynb>data table notebook</a>'\n",
              "            + ' to learn more about interactive tables.';\n",
              "          element.innerHTML = '';\n",
              "          dataTable['output_type'] = 'display_data';\n",
              "          await google.colab.output.renderOutput(dataTable, element);\n",
              "          const docLink = document.createElement('div');\n",
              "          docLink.innerHTML = docLinkHtml;\n",
              "          element.appendChild(docLink);\n",
              "        }\n",
              "      </script>\n",
              "    </div>\n",
              "  </div>\n",
              "  "
            ]
          },
          "metadata": {},
          "execution_count": 6
        }
      ]
    },
    {
      "cell_type": "code",
      "metadata": {
        "id": "AVCtENPtFcu0",
        "colab": {
          "base_uri": "https://localhost:8080/",
          "height": 142
        },
        "outputId": "f38d517e-31cb-4ba0-9bae-c5805c72f732"
      },
      "source": [
        "# Do the same with our Apple object, selecting just the variables ['prime_genre', 'user_rating', 'rating_count_tot', 'price']\n",
        "apple = apple[['prime_genre', 'user_rating', 'rating_count_tot', 'price']]\n",
        "\n",
        "# Let's check the first three entries\n",
        "apple.head(3)"
      ],
      "execution_count": 7,
      "outputs": [
        {
          "output_type": "execute_result",
          "data": {
            "text/plain": [
              "    prime_genre  user_rating  rating_count_tot  price\n",
              "0         Games          4.0             21292   3.99\n",
              "1  Productivity          4.0            161065   0.00\n",
              "2       Weather          3.5            188583   0.00"
            ],
            "text/html": [
              "\n",
              "  <div id=\"df-71f22de3-b241-4937-bd6e-23a9cd1d5cda\">\n",
              "    <div class=\"colab-df-container\">\n",
              "      <div>\n",
              "<style scoped>\n",
              "    .dataframe tbody tr th:only-of-type {\n",
              "        vertical-align: middle;\n",
              "    }\n",
              "\n",
              "    .dataframe tbody tr th {\n",
              "        vertical-align: top;\n",
              "    }\n",
              "\n",
              "    .dataframe thead th {\n",
              "        text-align: right;\n",
              "    }\n",
              "</style>\n",
              "<table border=\"1\" class=\"dataframe\">\n",
              "  <thead>\n",
              "    <tr style=\"text-align: right;\">\n",
              "      <th></th>\n",
              "      <th>prime_genre</th>\n",
              "      <th>user_rating</th>\n",
              "      <th>rating_count_tot</th>\n",
              "      <th>price</th>\n",
              "    </tr>\n",
              "  </thead>\n",
              "  <tbody>\n",
              "    <tr>\n",
              "      <th>0</th>\n",
              "      <td>Games</td>\n",
              "      <td>4.0</td>\n",
              "      <td>21292</td>\n",
              "      <td>3.99</td>\n",
              "    </tr>\n",
              "    <tr>\n",
              "      <th>1</th>\n",
              "      <td>Productivity</td>\n",
              "      <td>4.0</td>\n",
              "      <td>161065</td>\n",
              "      <td>0.00</td>\n",
              "    </tr>\n",
              "    <tr>\n",
              "      <th>2</th>\n",
              "      <td>Weather</td>\n",
              "      <td>3.5</td>\n",
              "      <td>188583</td>\n",
              "      <td>0.00</td>\n",
              "    </tr>\n",
              "  </tbody>\n",
              "</table>\n",
              "</div>\n",
              "      <button class=\"colab-df-convert\" onclick=\"convertToInteractive('df-71f22de3-b241-4937-bd6e-23a9cd1d5cda')\"\n",
              "              title=\"Convert this dataframe to an interactive table.\"\n",
              "              style=\"display:none;\">\n",
              "        \n",
              "  <svg xmlns=\"http://www.w3.org/2000/svg\" height=\"24px\"viewBox=\"0 0 24 24\"\n",
              "       width=\"24px\">\n",
              "    <path d=\"M0 0h24v24H0V0z\" fill=\"none\"/>\n",
              "    <path d=\"M18.56 5.44l.94 2.06.94-2.06 2.06-.94-2.06-.94-.94-2.06-.94 2.06-2.06.94zm-11 1L8.5 8.5l.94-2.06 2.06-.94-2.06-.94L8.5 2.5l-.94 2.06-2.06.94zm10 10l.94 2.06.94-2.06 2.06-.94-2.06-.94-.94-2.06-.94 2.06-2.06.94z\"/><path d=\"M17.41 7.96l-1.37-1.37c-.4-.4-.92-.59-1.43-.59-.52 0-1.04.2-1.43.59L10.3 9.45l-7.72 7.72c-.78.78-.78 2.05 0 2.83L4 21.41c.39.39.9.59 1.41.59.51 0 1.02-.2 1.41-.59l7.78-7.78 2.81-2.81c.8-.78.8-2.07 0-2.86zM5.41 20L4 18.59l7.72-7.72 1.47 1.35L5.41 20z\"/>\n",
              "  </svg>\n",
              "      </button>\n",
              "      \n",
              "  <style>\n",
              "    .colab-df-container {\n",
              "      display:flex;\n",
              "      flex-wrap:wrap;\n",
              "      gap: 12px;\n",
              "    }\n",
              "\n",
              "    .colab-df-convert {\n",
              "      background-color: #E8F0FE;\n",
              "      border: none;\n",
              "      border-radius: 50%;\n",
              "      cursor: pointer;\n",
              "      display: none;\n",
              "      fill: #1967D2;\n",
              "      height: 32px;\n",
              "      padding: 0 0 0 0;\n",
              "      width: 32px;\n",
              "    }\n",
              "\n",
              "    .colab-df-convert:hover {\n",
              "      background-color: #E2EBFA;\n",
              "      box-shadow: 0px 1px 2px rgba(60, 64, 67, 0.3), 0px 1px 3px 1px rgba(60, 64, 67, 0.15);\n",
              "      fill: #174EA6;\n",
              "    }\n",
              "\n",
              "    [theme=dark] .colab-df-convert {\n",
              "      background-color: #3B4455;\n",
              "      fill: #D2E3FC;\n",
              "    }\n",
              "\n",
              "    [theme=dark] .colab-df-convert:hover {\n",
              "      background-color: #434B5C;\n",
              "      box-shadow: 0px 1px 3px 1px rgba(0, 0, 0, 0.15);\n",
              "      filter: drop-shadow(0px 1px 2px rgba(0, 0, 0, 0.3));\n",
              "      fill: #FFFFFF;\n",
              "    }\n",
              "  </style>\n",
              "\n",
              "      <script>\n",
              "        const buttonEl =\n",
              "          document.querySelector('#df-71f22de3-b241-4937-bd6e-23a9cd1d5cda button.colab-df-convert');\n",
              "        buttonEl.style.display =\n",
              "          google.colab.kernel.accessAllowed ? 'block' : 'none';\n",
              "\n",
              "        async function convertToInteractive(key) {\n",
              "          const element = document.querySelector('#df-71f22de3-b241-4937-bd6e-23a9cd1d5cda');\n",
              "          const dataTable =\n",
              "            await google.colab.kernel.invokeFunction('convertToInteractive',\n",
              "                                                     [key], {});\n",
              "          if (!dataTable) return;\n",
              "\n",
              "          const docLinkHtml = 'Like what you see? Visit the ' +\n",
              "            '<a target=\"_blank\" href=https://colab.research.google.com/notebooks/data_table.ipynb>data table notebook</a>'\n",
              "            + ' to learn more about interactive tables.';\n",
              "          element.innerHTML = '';\n",
              "          dataTable['output_type'] = 'display_data';\n",
              "          await google.colab.output.renderOutput(dataTable, element);\n",
              "          const docLink = document.createElement('div');\n",
              "          docLink.innerHTML = docLinkHtml;\n",
              "          element.appendChild(docLink);\n",
              "        }\n",
              "      </script>\n",
              "    </div>\n",
              "  </div>\n",
              "  "
            ]
          },
          "metadata": {},
          "execution_count": 7
        }
      ]
    },
    {
      "cell_type": "markdown",
      "metadata": {
        "id": "wwK2wH-rFcu2"
      },
      "source": [
        "## Stage 2 -  Cleaning, transforming and visualizing"
      ]
    },
    {
      "cell_type": "markdown",
      "metadata": {
        "id": "NsoE5x0JFcu3"
      },
      "source": [
        "### 2a. Check the data types for both Apple and Google, and fix them\n",
        "\n",
        "Types are crucial for data science in Python. Let's determine whether the variables we selected in the previous section belong to the types they should do, or whether there are any errors here."
      ]
    },
    {
      "cell_type": "code",
      "metadata": {
        "id": "ymw10SaWFcu4",
        "colab": {
          "base_uri": "https://localhost:8080/"
        },
        "outputId": "456672f9-107f-478e-e114-9c13887ae6c1"
      },
      "source": [
        "# Using the dtypes feature of pandas DataFrame objects, check out the data types within our Apple dataframe.\n",
        "# Are they what you expect?\n",
        "apple.dtypes"
      ],
      "execution_count": 8,
      "outputs": [
        {
          "output_type": "execute_result",
          "data": {
            "text/plain": [
              "prime_genre          object\n",
              "user_rating         float64\n",
              "rating_count_tot      int64\n",
              "price               float64\n",
              "dtype: object"
            ]
          },
          "metadata": {},
          "execution_count": 8
        }
      ]
    },
    {
      "cell_type": "markdown",
      "metadata": {
        "id": "VAiM6jIxFcu6"
      },
      "source": [
        "This is looking healthy. But what about our Google data frame?"
      ]
    },
    {
      "cell_type": "code",
      "metadata": {
        "id": "kmP8MhqyFcu7",
        "colab": {
          "base_uri": "https://localhost:8080/"
        },
        "outputId": "f8031624-7473-4399-cfe0-5c4258348783"
      },
      "source": [
        "# Using the same dtypes feature, check out the data types of our Google dataframe.\n",
        "google.dtypes"
      ],
      "execution_count": 9,
      "outputs": [
        {
          "output_type": "execute_result",
          "data": {
            "text/plain": [
              "Category     object\n",
              "Rating      float64\n",
              "Reviews      object\n",
              "Price        object\n",
              "dtype: object"
            ]
          },
          "metadata": {},
          "execution_count": 9
        }
      ]
    },
    {
      "cell_type": "markdown",
      "metadata": {
        "id": "O-dxAy0WFcu9"
      },
      "source": [
        "Weird. The data type for the column 'Price' is 'object', not a numeric data type like a float or an integer. Let's investigate the unique values of this column."
      ]
    },
    {
      "cell_type": "code",
      "metadata": {
        "id": "Hu08K9y7Fcu9",
        "colab": {
          "base_uri": "https://localhost:8080/"
        },
        "outputId": "5dbc07b4-e655-403c-ed29-754d3992332b"
      },
      "source": [
        "# Use the unique() pandas method on the Price column to check its unique values.\n",
        "google['Price'].unique()"
      ],
      "execution_count": 10,
      "outputs": [
        {
          "output_type": "execute_result",
          "data": {
            "text/plain": [
              "array(['0', '$4.99', '$3.99', '$6.99', '$1.49', '$2.99', '$7.99', '$5.99',\n",
              "       '$3.49', '$1.99', '$9.99', '$7.49', '$0.99', '$9.00', '$5.49',\n",
              "       '$10.00', '$24.99', '$11.99', '$79.99', '$16.99', '$14.99',\n",
              "       '$1.00', '$29.99', '$12.99', '$2.49', '$10.99', '$1.50', '$19.99',\n",
              "       '$15.99', '$33.99', '$74.99', '$39.99', '$3.95', '$4.49', '$1.70',\n",
              "       '$8.99', '$2.00', '$3.88', '$25.99', '$399.99', '$17.99',\n",
              "       '$400.00', '$3.02', '$1.76', '$4.84', '$4.77', '$1.61', '$2.50',\n",
              "       '$1.59', '$6.49', '$1.29', '$5.00', '$13.99', '$299.99', '$379.99',\n",
              "       '$37.99', '$18.99', '$389.99', '$19.90', '$8.49', '$1.75',\n",
              "       '$14.00', '$4.85', '$46.99', '$109.99', '$154.99', '$3.08',\n",
              "       '$2.59', '$4.80', '$1.96', '$19.40', '$3.90', '$4.59', '$15.46',\n",
              "       '$3.04', '$4.29', '$2.60', '$3.28', '$4.60', '$28.99', '$2.95',\n",
              "       '$2.90', '$1.97', '$200.00', '$89.99', '$2.56', '$30.99', '$3.61',\n",
              "       '$394.99', '$1.26', 'Everyone', '$1.20', '$1.04'], dtype=object)"
            ]
          },
          "metadata": {},
          "execution_count": 10
        }
      ]
    },
    {
      "cell_type": "markdown",
      "metadata": {
        "id": "w_7nkogFFcu_"
      },
      "source": [
        "Aha! Fascinating. There are actually two issues here.\n",
        "\n",
        "- Firstly, there's a price called `Everyone`. That is a massive mistake!\n",
        "- Secondly, there are dollar symbols everywhere!\n",
        "\n",
        "\n",
        "Let's address the first issue first. Let's check the datapoints that have the price value `Everyone`"
      ]
    },
    {
      "cell_type": "code",
      "metadata": {
        "id": "E75WWmhdFcvA",
        "colab": {
          "base_uri": "https://localhost:8080/"
        },
        "outputId": "f13561e1-75a9-4a8c-ef78-6b3fe6874d92"
      },
      "source": [
        "# Let's check which data points have the value 'Everyone' for the 'Price' column by subsetting our Google dataframe.\n",
        "\n",
        "# Subset the Google dataframe on the price column.\n",
        "# To be sure: you want to pick out just those rows whose value for the 'Price' column is just 'Everyone'.\n",
        "everyone_price = google[google['Price']=='Everyone']\n",
        "print(everyone_price)"
      ],
      "execution_count": 11,
      "outputs": [
        {
          "output_type": "stream",
          "name": "stdout",
          "text": [
            "      Category  Rating Reviews     Price\n",
            "10472      1.9    19.0    3.0M  Everyone\n"
          ]
        }
      ]
    },
    {
      "cell_type": "markdown",
      "metadata": {
        "id": "ezfLshdRFcvC"
      },
      "source": [
        "Thankfully, it's just one row. We've gotta get rid of it."
      ]
    },
    {
      "cell_type": "code",
      "metadata": {
        "id": "DBmjUQUkFcvD",
        "colab": {
          "base_uri": "https://localhost:8080/"
        },
        "outputId": "2e182b7b-fe6a-429b-8aa3-810f21bd3f12"
      },
      "source": [
        "# Let's eliminate that row.\n",
        "\n",
        "# Subset our Google dataframe to pick out just those rows whose value for the 'Price' column is NOT 'Everyone'.\n",
        "# Reassign that subset to the Google variable.\n",
        "# You can do this in two lines or one. Your choice!\n",
        "google = google[google['Price'] != 'Everyone']\n",
        "\n",
        "\n",
        "# Check again the unique values of Google\n",
        "google['Price'].unique()"
      ],
      "execution_count": 12,
      "outputs": [
        {
          "output_type": "execute_result",
          "data": {
            "text/plain": [
              "array(['0', '$4.99', '$3.99', '$6.99', '$1.49', '$2.99', '$7.99', '$5.99',\n",
              "       '$3.49', '$1.99', '$9.99', '$7.49', '$0.99', '$9.00', '$5.49',\n",
              "       '$10.00', '$24.99', '$11.99', '$79.99', '$16.99', '$14.99',\n",
              "       '$1.00', '$29.99', '$12.99', '$2.49', '$10.99', '$1.50', '$19.99',\n",
              "       '$15.99', '$33.99', '$74.99', '$39.99', '$3.95', '$4.49', '$1.70',\n",
              "       '$8.99', '$2.00', '$3.88', '$25.99', '$399.99', '$17.99',\n",
              "       '$400.00', '$3.02', '$1.76', '$4.84', '$4.77', '$1.61', '$2.50',\n",
              "       '$1.59', '$6.49', '$1.29', '$5.00', '$13.99', '$299.99', '$379.99',\n",
              "       '$37.99', '$18.99', '$389.99', '$19.90', '$8.49', '$1.75',\n",
              "       '$14.00', '$4.85', '$46.99', '$109.99', '$154.99', '$3.08',\n",
              "       '$2.59', '$4.80', '$1.96', '$19.40', '$3.90', '$4.59', '$15.46',\n",
              "       '$3.04', '$4.29', '$2.60', '$3.28', '$4.60', '$28.99', '$2.95',\n",
              "       '$2.90', '$1.97', '$200.00', '$89.99', '$2.56', '$30.99', '$3.61',\n",
              "       '$394.99', '$1.26', '$1.20', '$1.04'], dtype=object)"
            ]
          },
          "metadata": {},
          "execution_count": 12
        }
      ]
    },
    {
      "cell_type": "markdown",
      "metadata": {
        "id": "T43TB4qFFcvF"
      },
      "source": [
        "Our second problem remains: I'm seeing dollar symbols when I close my eyes! (And not in a good way).\n",
        "\n",
        "This is a problem because Python actually considers these values strings. So we can't do mathematical and statistical operations on them until we've made them into numbers."
      ]
    },
    {
      "cell_type": "code",
      "metadata": {
        "id": "W87gVS9BFcvG"
      },
      "source": [
        "# Let's create a variable called nosymb.\n",
        "# This variable will take the Price column of Google and apply the str.replace() method.\n",
        "google['Price'] = google['Price'].str.replace('$', '', regex=False)\n",
        "\n",
        "# Now we need to do two things:\n",
        "# i. Make the values in the nosymb variable numeric using the to_numeric() pandas method.\n",
        "# ii. Assign this new set of numeric, dollar-sign-less values to Google['Price'].\n",
        "# You can do this in one line if you wish.\n",
        "google['Price'] = pd.to_numeric(google['Price'])"
      ],
      "execution_count": 13,
      "outputs": []
    },
    {
      "cell_type": "markdown",
      "metadata": {
        "id": "LxpJQ9yyFcvI"
      },
      "source": [
        "Now let's check the data types for our Google dataframe again, to verify that the 'Price' column really is numeric now."
      ]
    },
    {
      "cell_type": "code",
      "metadata": {
        "id": "Fn5Gt-QbFcvI",
        "colab": {
          "base_uri": "https://localhost:8080/"
        },
        "outputId": "2415897b-015a-409c-c52d-1c4487651037"
      },
      "source": [
        "# Use the function dtypes.\n",
        "google['Price'].dtypes"
      ],
      "execution_count": 14,
      "outputs": [
        {
          "output_type": "execute_result",
          "data": {
            "text/plain": [
              "dtype('float64')"
            ]
          },
          "metadata": {},
          "execution_count": 14
        }
      ]
    },
    {
      "cell_type": "markdown",
      "metadata": {
        "id": "FgfuiVo0FcvK"
      },
      "source": [
        "Notice that the column `Reviews` is still an object column. We actually need this column to be a numeric column, too."
      ]
    },
    {
      "cell_type": "code",
      "metadata": {
        "id": "MiVEWsWBFcvL"
      },
      "source": [
        "# Convert the 'Reviews' column to a numeric data type.\n",
        "google['Reviews'] = pd.to_numeric(google['Reviews'])"
      ],
      "execution_count": 15,
      "outputs": []
    },
    {
      "cell_type": "code",
      "metadata": {
        "id": "wWJdXXTTFcvN",
        "colab": {
          "base_uri": "https://localhost:8080/"
        },
        "outputId": "125714e1-729c-4cf1-d339-7639608a888e"
      },
      "source": [
        "# Let's check the data types of Google again\n",
        "google['Reviews'].dtypes"
      ],
      "execution_count": 16,
      "outputs": [
        {
          "output_type": "execute_result",
          "data": {
            "text/plain": [
              "dtype('int64')"
            ]
          },
          "metadata": {},
          "execution_count": 16
        }
      ]
    },
    {
      "cell_type": "markdown",
      "metadata": {
        "id": "OiLm2GEKFcvP"
      },
      "source": [
        "### 2b. Add a `platform` column to both the `Apple` and the `Google` dataframes\n",
        "Let's add a new column to both dataframe objects called `platform`: all of its values in the Google dataframe will be just 'google', and all of its values for the Apple dataframe will be just 'apple'.\n",
        "\n",
        "The reason we're making this column is so that we can ultimately join our Apple and Google data together, and actually test out some hypotheses to solve the problem in our brief."
      ]
    },
    {
      "cell_type": "code",
      "metadata": {
        "id": "mF-sOcx2FcvQ"
      },
      "source": [
        "# Create a column called 'platform' in both the Apple and Google dataframes.\n",
        "# Add the value 'apple' and the value 'google' as appropriate.\n",
        "google['platform'] = 'google'\n",
        "apple['platform'] = 'apple'"
      ],
      "execution_count": 17,
      "outputs": []
    },
    {
      "cell_type": "markdown",
      "metadata": {
        "id": "EJcry17IFcvS"
      },
      "source": [
        "### 2c. Changing the column names to prepare for our join of the two datasets\n",
        "Since the easiest way to join two datasets is if they have both:\n",
        "- the same number of columns\n",
        "- the same column names\n",
        "we need to rename the columns of `Apple` so that they're the same as the ones of `Google`, or vice versa.\n",
        "\n",
        "In this case, we're going to change the `Apple` columns names to the names of the `Google` columns.\n",
        "\n",
        "This is an important step to unify the two datasets!"
      ]
    },
    {
      "cell_type": "code",
      "source": [
        "apple.columns"
      ],
      "metadata": {
        "id": "jP0sxS1kDr2C",
        "colab": {
          "base_uri": "https://localhost:8080/"
        },
        "outputId": "9e968bc9-a7cb-4d1a-e1b2-92c547f7316e"
      },
      "execution_count": 18,
      "outputs": [
        {
          "output_type": "execute_result",
          "data": {
            "text/plain": [
              "Index(['prime_genre', 'user_rating', 'rating_count_tot', 'price', 'platform'], dtype='object')"
            ]
          },
          "metadata": {},
          "execution_count": 18
        }
      ]
    },
    {
      "cell_type": "code",
      "source": [
        "google.columns"
      ],
      "metadata": {
        "id": "AwLt24H3DuZg",
        "colab": {
          "base_uri": "https://localhost:8080/"
        },
        "outputId": "bfbd39f8-c0de-4035-fce4-c9233a61fd52"
      },
      "execution_count": 19,
      "outputs": [
        {
          "output_type": "execute_result",
          "data": {
            "text/plain": [
              "Index(['Category', 'Rating', 'Reviews', 'Price', 'platform'], dtype='object')"
            ]
          },
          "metadata": {},
          "execution_count": 19
        }
      ]
    },
    {
      "cell_type": "code",
      "metadata": {
        "id": "bdt9XH2KFcvT"
      },
      "source": [
        "# Create a variable called old_names where you'll store the column names of the Apple dataframe.\n",
        "# Use the feature .columns.\n",
        "old_names_apple = apple.columns\n",
        "\n",
        "# Create a variable called new_names where you'll store the column names of the Google dataframe.\n",
        "# Create a dictionary to map the old column names to new column names\n",
        "new_names_apple = {'prime_genre': 'Category', 'user_rating': 'Rating', 'rating_count_tot':'Reviews', 'price':'Price'}\n",
        "\n",
        "# Use the rename() DataFrame method to change the columns names.\n",
        "apple = apple.rename(columns = new_names_apple)"
      ],
      "execution_count": 20,
      "outputs": []
    },
    {
      "cell_type": "code",
      "source": [
        "apple.columns"
      ],
      "metadata": {
        "id": "TlUW9LlmEQWU",
        "colab": {
          "base_uri": "https://localhost:8080/"
        },
        "outputId": "ed3ce0f4-6e27-4379-f1ee-492b1ac541cd"
      },
      "execution_count": 21,
      "outputs": [
        {
          "output_type": "execute_result",
          "data": {
            "text/plain": [
              "Index(['Category', 'Rating', 'Reviews', 'Price', 'platform'], dtype='object')"
            ]
          },
          "metadata": {},
          "execution_count": 21
        }
      ]
    },
    {
      "cell_type": "markdown",
      "metadata": {
        "id": "qewPiLrRFcvX"
      },
      "source": [
        "### 2d. Join the two datasets\n",
        "Let's combine the two datasets into a single data frame called `df`."
      ]
    },
    {
      "cell_type": "code",
      "metadata": {
        "id": "jq6fGfvyFcvY",
        "colab": {
          "base_uri": "https://localhost:8080/",
          "height": 475
        },
        "outputId": "ca87c45c-4673-47db-c774-39a5864845bd"
      },
      "source": [
        "# Let's use the append() method to append Apple to Google.\n",
        "df = google.append(apple)\n",
        "\n",
        "# Using the sample() method with the number 12 passed to it, check 12 random points of your dataset.\n",
        "df.sample(12)"
      ],
      "execution_count": 22,
      "outputs": [
        {
          "output_type": "stream",
          "name": "stderr",
          "text": [
            "<ipython-input-22-e8ca02ef89ee>:2: FutureWarning: The frame.append method is deprecated and will be removed from pandas in a future version. Use pandas.concat instead.\n",
            "  df = google.append(apple)\n"
          ]
        },
        {
          "output_type": "execute_result",
          "data": {
            "text/plain": [
              "                  Category  Rating  Reviews  Price platform\n",
              "5933          Productivity     3.5       54   4.99    apple\n",
              "10545               SPORTS     NaN        1   0.00   google\n",
              "3802    NEWS_AND_MAGAZINES     4.5   249919   0.00   google\n",
              "6399         COMMUNICATION     NaN        0   0.00   google\n",
              "6893                 Games     2.5      166   4.99    apple\n",
              "2558                SOCIAL     4.6    70616   0.00   google\n",
              "9957   MAPS_AND_NAVIGATION     4.5        8   0.00   google\n",
              "1943          Productivity     4.5    11505   0.00    apple\n",
              "10102         PRODUCTIVITY     NaN        1   0.00   google\n",
              "2409                 Games     4.0       40   0.00    apple\n",
              "298              Lifestyle     4.0        5   0.99    apple\n",
              "3522          PRODUCTIVITY     4.5  2084125   0.00   google"
            ],
            "text/html": [
              "\n",
              "  <div id=\"df-1a52d78f-b157-4299-87be-2ac973705f27\">\n",
              "    <div class=\"colab-df-container\">\n",
              "      <div>\n",
              "<style scoped>\n",
              "    .dataframe tbody tr th:only-of-type {\n",
              "        vertical-align: middle;\n",
              "    }\n",
              "\n",
              "    .dataframe tbody tr th {\n",
              "        vertical-align: top;\n",
              "    }\n",
              "\n",
              "    .dataframe thead th {\n",
              "        text-align: right;\n",
              "    }\n",
              "</style>\n",
              "<table border=\"1\" class=\"dataframe\">\n",
              "  <thead>\n",
              "    <tr style=\"text-align: right;\">\n",
              "      <th></th>\n",
              "      <th>Category</th>\n",
              "      <th>Rating</th>\n",
              "      <th>Reviews</th>\n",
              "      <th>Price</th>\n",
              "      <th>platform</th>\n",
              "    </tr>\n",
              "  </thead>\n",
              "  <tbody>\n",
              "    <tr>\n",
              "      <th>5933</th>\n",
              "      <td>Productivity</td>\n",
              "      <td>3.5</td>\n",
              "      <td>54</td>\n",
              "      <td>4.99</td>\n",
              "      <td>apple</td>\n",
              "    </tr>\n",
              "    <tr>\n",
              "      <th>10545</th>\n",
              "      <td>SPORTS</td>\n",
              "      <td>NaN</td>\n",
              "      <td>1</td>\n",
              "      <td>0.00</td>\n",
              "      <td>google</td>\n",
              "    </tr>\n",
              "    <tr>\n",
              "      <th>3802</th>\n",
              "      <td>NEWS_AND_MAGAZINES</td>\n",
              "      <td>4.5</td>\n",
              "      <td>249919</td>\n",
              "      <td>0.00</td>\n",
              "      <td>google</td>\n",
              "    </tr>\n",
              "    <tr>\n",
              "      <th>6399</th>\n",
              "      <td>COMMUNICATION</td>\n",
              "      <td>NaN</td>\n",
              "      <td>0</td>\n",
              "      <td>0.00</td>\n",
              "      <td>google</td>\n",
              "    </tr>\n",
              "    <tr>\n",
              "      <th>6893</th>\n",
              "      <td>Games</td>\n",
              "      <td>2.5</td>\n",
              "      <td>166</td>\n",
              "      <td>4.99</td>\n",
              "      <td>apple</td>\n",
              "    </tr>\n",
              "    <tr>\n",
              "      <th>2558</th>\n",
              "      <td>SOCIAL</td>\n",
              "      <td>4.6</td>\n",
              "      <td>70616</td>\n",
              "      <td>0.00</td>\n",
              "      <td>google</td>\n",
              "    </tr>\n",
              "    <tr>\n",
              "      <th>9957</th>\n",
              "      <td>MAPS_AND_NAVIGATION</td>\n",
              "      <td>4.5</td>\n",
              "      <td>8</td>\n",
              "      <td>0.00</td>\n",
              "      <td>google</td>\n",
              "    </tr>\n",
              "    <tr>\n",
              "      <th>1943</th>\n",
              "      <td>Productivity</td>\n",
              "      <td>4.5</td>\n",
              "      <td>11505</td>\n",
              "      <td>0.00</td>\n",
              "      <td>apple</td>\n",
              "    </tr>\n",
              "    <tr>\n",
              "      <th>10102</th>\n",
              "      <td>PRODUCTIVITY</td>\n",
              "      <td>NaN</td>\n",
              "      <td>1</td>\n",
              "      <td>0.00</td>\n",
              "      <td>google</td>\n",
              "    </tr>\n",
              "    <tr>\n",
              "      <th>2409</th>\n",
              "      <td>Games</td>\n",
              "      <td>4.0</td>\n",
              "      <td>40</td>\n",
              "      <td>0.00</td>\n",
              "      <td>apple</td>\n",
              "    </tr>\n",
              "    <tr>\n",
              "      <th>298</th>\n",
              "      <td>Lifestyle</td>\n",
              "      <td>4.0</td>\n",
              "      <td>5</td>\n",
              "      <td>0.99</td>\n",
              "      <td>apple</td>\n",
              "    </tr>\n",
              "    <tr>\n",
              "      <th>3522</th>\n",
              "      <td>PRODUCTIVITY</td>\n",
              "      <td>4.5</td>\n",
              "      <td>2084125</td>\n",
              "      <td>0.00</td>\n",
              "      <td>google</td>\n",
              "    </tr>\n",
              "  </tbody>\n",
              "</table>\n",
              "</div>\n",
              "      <button class=\"colab-df-convert\" onclick=\"convertToInteractive('df-1a52d78f-b157-4299-87be-2ac973705f27')\"\n",
              "              title=\"Convert this dataframe to an interactive table.\"\n",
              "              style=\"display:none;\">\n",
              "        \n",
              "  <svg xmlns=\"http://www.w3.org/2000/svg\" height=\"24px\"viewBox=\"0 0 24 24\"\n",
              "       width=\"24px\">\n",
              "    <path d=\"M0 0h24v24H0V0z\" fill=\"none\"/>\n",
              "    <path d=\"M18.56 5.44l.94 2.06.94-2.06 2.06-.94-2.06-.94-.94-2.06-.94 2.06-2.06.94zm-11 1L8.5 8.5l.94-2.06 2.06-.94-2.06-.94L8.5 2.5l-.94 2.06-2.06.94zm10 10l.94 2.06.94-2.06 2.06-.94-2.06-.94-.94-2.06-.94 2.06-2.06.94z\"/><path d=\"M17.41 7.96l-1.37-1.37c-.4-.4-.92-.59-1.43-.59-.52 0-1.04.2-1.43.59L10.3 9.45l-7.72 7.72c-.78.78-.78 2.05 0 2.83L4 21.41c.39.39.9.59 1.41.59.51 0 1.02-.2 1.41-.59l7.78-7.78 2.81-2.81c.8-.78.8-2.07 0-2.86zM5.41 20L4 18.59l7.72-7.72 1.47 1.35L5.41 20z\"/>\n",
              "  </svg>\n",
              "      </button>\n",
              "      \n",
              "  <style>\n",
              "    .colab-df-container {\n",
              "      display:flex;\n",
              "      flex-wrap:wrap;\n",
              "      gap: 12px;\n",
              "    }\n",
              "\n",
              "    .colab-df-convert {\n",
              "      background-color: #E8F0FE;\n",
              "      border: none;\n",
              "      border-radius: 50%;\n",
              "      cursor: pointer;\n",
              "      display: none;\n",
              "      fill: #1967D2;\n",
              "      height: 32px;\n",
              "      padding: 0 0 0 0;\n",
              "      width: 32px;\n",
              "    }\n",
              "\n",
              "    .colab-df-convert:hover {\n",
              "      background-color: #E2EBFA;\n",
              "      box-shadow: 0px 1px 2px rgba(60, 64, 67, 0.3), 0px 1px 3px 1px rgba(60, 64, 67, 0.15);\n",
              "      fill: #174EA6;\n",
              "    }\n",
              "\n",
              "    [theme=dark] .colab-df-convert {\n",
              "      background-color: #3B4455;\n",
              "      fill: #D2E3FC;\n",
              "    }\n",
              "\n",
              "    [theme=dark] .colab-df-convert:hover {\n",
              "      background-color: #434B5C;\n",
              "      box-shadow: 0px 1px 3px 1px rgba(0, 0, 0, 0.15);\n",
              "      filter: drop-shadow(0px 1px 2px rgba(0, 0, 0, 0.3));\n",
              "      fill: #FFFFFF;\n",
              "    }\n",
              "  </style>\n",
              "\n",
              "      <script>\n",
              "        const buttonEl =\n",
              "          document.querySelector('#df-1a52d78f-b157-4299-87be-2ac973705f27 button.colab-df-convert');\n",
              "        buttonEl.style.display =\n",
              "          google.colab.kernel.accessAllowed ? 'block' : 'none';\n",
              "\n",
              "        async function convertToInteractive(key) {\n",
              "          const element = document.querySelector('#df-1a52d78f-b157-4299-87be-2ac973705f27');\n",
              "          const dataTable =\n",
              "            await google.colab.kernel.invokeFunction('convertToInteractive',\n",
              "                                                     [key], {});\n",
              "          if (!dataTable) return;\n",
              "\n",
              "          const docLinkHtml = 'Like what you see? Visit the ' +\n",
              "            '<a target=\"_blank\" href=https://colab.research.google.com/notebooks/data_table.ipynb>data table notebook</a>'\n",
              "            + ' to learn more about interactive tables.';\n",
              "          element.innerHTML = '';\n",
              "          dataTable['output_type'] = 'display_data';\n",
              "          await google.colab.output.renderOutput(dataTable, element);\n",
              "          const docLink = document.createElement('div');\n",
              "          docLink.innerHTML = docLinkHtml;\n",
              "          element.appendChild(docLink);\n",
              "        }\n",
              "      </script>\n",
              "    </div>\n",
              "  </div>\n",
              "  "
            ]
          },
          "metadata": {},
          "execution_count": 22
        }
      ]
    },
    {
      "cell_type": "markdown",
      "metadata": {
        "id": "FjqsHugWFcvb"
      },
      "source": [
        "### 2e. Eliminate the NaN values\n",
        "\n",
        "As you can see there are some `NaN` values. We want to eliminate all these `NaN` values from the table."
      ]
    },
    {
      "cell_type": "code",
      "metadata": {
        "id": "Gp2q6GLyFcvb",
        "colab": {
          "base_uri": "https://localhost:8080/"
        },
        "outputId": "378e30cf-7a9d-4eb2-f98a-f96061e2662c"
      },
      "source": [
        "# Lets check first the dimesions of df before droping `NaN` values. Use the .shape feature.\n",
        "print(df.shape)\n",
        "\n",
        "# Use the dropna() method to eliminate all the NaN values, and overwrite the same dataframe with the result.\n",
        "df = df.dropna()\n",
        "\n",
        "# Check the new dimesions of our dataframe.\n",
        "print(df.shape)"
      ],
      "execution_count": 23,
      "outputs": [
        {
          "output_type": "stream",
          "name": "stdout",
          "text": [
            "(18037, 5)\n",
            "(16563, 5)\n"
          ]
        }
      ]
    },
    {
      "cell_type": "markdown",
      "metadata": {
        "id": "qtfeQKtAFcvd"
      },
      "source": [
        "### 2f. Filter the data so that we only see whose apps that have been reviewed at least once\n",
        "\n",
        "Apps that haven't been reviewed yet can't help us solve our brief.\n",
        "\n",
        "So let's check to see if any apps have no reviews at all."
      ]
    },
    {
      "cell_type": "code",
      "metadata": {
        "id": "Ge9OKXLNFcvd",
        "colab": {
          "base_uri": "https://localhost:8080/"
        },
        "outputId": "eaae554a-c341-46bb-8f50-6c0da4fc1fbd"
      },
      "source": [
        "# Subset your df to pick out just those rows whose value for 'Reviews' is equal to 0.\n",
        "# Do a count() on the result.\n",
        "df[df['Reviews']==0].count()"
      ],
      "execution_count": 24,
      "outputs": [
        {
          "output_type": "execute_result",
          "data": {
            "text/plain": [
              "Category    929\n",
              "Rating      929\n",
              "Reviews     929\n",
              "Price       929\n",
              "platform    929\n",
              "dtype: int64"
            ]
          },
          "metadata": {},
          "execution_count": 24
        }
      ]
    },
    {
      "cell_type": "markdown",
      "metadata": {
        "id": "05f7H0kAFcvg"
      },
      "source": [
        "929 apps do not have reviews, we need to eliminate these points!"
      ]
    },
    {
      "cell_type": "code",
      "metadata": {
        "id": "pD8vmPjkFcvg"
      },
      "source": [
        "# Eliminate the points that have 0 reviews.\n",
        "df = df[df['Reviews'] != 0]"
      ],
      "execution_count": 25,
      "outputs": []
    },
    {
      "cell_type": "markdown",
      "metadata": {
        "id": "ApnKES_bFcvi"
      },
      "source": [
        "### 2g. Summarize the data visually and analytically (by the column `platform`)"
      ]
    },
    {
      "cell_type": "markdown",
      "metadata": {
        "id": "2smt9UocFcvj"
      },
      "source": [
        "What we need to solve our brief is a summary of the `Rating` column, but separated by the different platforms."
      ]
    },
    {
      "cell_type": "code",
      "metadata": {
        "id": "Vqckt347Fcvj",
        "colab": {
          "base_uri": "https://localhost:8080/"
        },
        "outputId": "3d10967a-3f04-47f6-9382-17da1048a64a"
      },
      "source": [
        "# To summarize analytically, let's use the groupby() method on our df.\n",
        "rating_group = df.groupby('platform')['Rating'].describe()\n",
        "print(rating_group)"
      ],
      "execution_count": 26,
      "outputs": [
        {
          "output_type": "stream",
          "name": "stdout",
          "text": [
            "           count      mean       std  min  25%  50%  75%  max\n",
            "platform                                                     \n",
            "apple     6268.0  4.049697  0.726943  1.0  4.0  4.5  4.5  5.0\n",
            "google    9366.0  4.191757  0.515219  1.0  4.0  4.3  4.5  5.0\n"
          ]
        }
      ]
    },
    {
      "cell_type": "markdown",
      "metadata": {
        "id": "8f9TqMtKFcvl"
      },
      "source": [
        "Interesting! Our means of 4.049697 and 4.191757 don't **seem** all that different! Perhaps we've solved our brief already: there's no significant difference between Google Play app reviews and Apple Store app reviews. We have an ***observed difference*** here: which is simply (4.191757 - 4.049697) = 0.14206. This is just the actual difference that we observed between the mean rating for apps from Google Play, and the mean rating for apps from the Apple Store. Let's look at how we're going to use this observed difference to solve our problem using a statistical test.\n",
        "\n",
        "**Outline of our method:**\n",
        "1. We'll assume that platform (i.e, whether the app was Google or Apple) really doesn’t impact on ratings.\n",
        "\n",
        "\n",
        "2. Given this assumption, we should actually be able to get a difference in mean rating for Apple apps and mean rating for Google apps that's pretty similar to the one we actually got (0.14206) just by:\n",
        "a. shuffling the ratings column,\n",
        "b. keeping the platform column the same,\n",
        "c. calculating the difference between the mean rating for Apple and the mean rating for Google.\n",
        "\n",
        "\n",
        "3. We can make the shuffle more useful by doing it many times, each time calculating the mean rating for Apple apps and the mean rating for Google apps, and the difference between these means.\n",
        "\n",
        "\n",
        "4. We can then take the mean of all these differences, and this will be called our permutation difference. This permutation difference will be great indicator of what the difference would be if our initial assumption were true and platform really doesn’t impact on ratings.\n",
        "\n",
        "\n",
        "5. Now we do a comparison. If the observed difference looks just like the permutation difference, then we stick with the claim that actually, platform doesn’t impact on ratings. If instead, however, the permutation difference differs significantly from the observed difference, we'll conclude: something's going on; the platform does in fact impact on ratings.\n",
        "\n",
        "\n",
        "6. As for what the definition of *significantly* is, we'll get to that. But there’s a brief summary of what we're going to do. Exciting!\n",
        "\n",
        "If you want to look more deeply at the statistics behind this project, check out [this resource](https://www.springboard.com/archeio/download/4ea4d453b0b84014bcef287c50f47f00/)."
      ]
    },
    {
      "cell_type": "markdown",
      "metadata": {
        "id": "d6EhTxArFcvm"
      },
      "source": [
        "Let's also get a **visual summary** of the `Rating` column, separated by the different platforms.\n",
        "\n",
        "A good tool to use here is the boxplot!"
      ]
    },
    {
      "cell_type": "code",
      "metadata": {
        "id": "hFKjrlWgFcvm",
        "colab": {
          "base_uri": "https://localhost:8080/",
          "height": 566
        },
        "outputId": "a46dc38c-c35f-4c87-80bd-aee7bb0a51a6"
      },
      "source": [
        "# Call the boxplot() method on our df.\n",
        "plt.boxplot(df['Rating'])"
      ],
      "execution_count": 27,
      "outputs": [
        {
          "output_type": "execute_result",
          "data": {
            "text/plain": [
              "{'whiskers': [<matplotlib.lines.Line2D at 0x7f3ed3b3d2d0>,\n",
              "  <matplotlib.lines.Line2D at 0x7f3ed3b3d570>],\n",
              " 'caps': [<matplotlib.lines.Line2D at 0x7f3ed3b3d810>,\n",
              "  <matplotlib.lines.Line2D at 0x7f3ed3b3dab0>],\n",
              " 'boxes': [<matplotlib.lines.Line2D at 0x7f3ed3b3d030>],\n",
              " 'medians': [<matplotlib.lines.Line2D at 0x7f3ed3b3dd50>],\n",
              " 'fliers': [<matplotlib.lines.Line2D at 0x7f3ed3b3dff0>],\n",
              " 'means': []}"
            ]
          },
          "metadata": {},
          "execution_count": 27
        },
        {
          "output_type": "display_data",
          "data": {
            "text/plain": [
              "<Figure size 640x480 with 1 Axes>"
            ],
            "image/png": "[encoded data removed]"
          },
          "metadata": {}
        }
      ]
    },
    {
      "cell_type": "markdown",
      "metadata": {
        "id": "FqTlAjnmFcvo"
      },
      "source": [
        "Here we see the same information as in the analytical summary, but with a boxplot. Can you see how the boxplot is working here? If you need to revise your boxplots, check out this this [link](https://www.kaggle.com/ramamet4/app-store-apple-data-set-10k-apps)."
      ]
    },
    {
      "cell_type": "markdown",
      "metadata": {
        "id": "O8L-s1fgFcvp"
      },
      "source": [
        "## Stage 3 - Modelling"
      ]
    },
    {
      "cell_type": "markdown",
      "metadata": {
        "id": "5fbRq2MZFcvq"
      },
      "source": [
        "### 3a. Hypothesis formulation\n",
        "\n",
        "Our **Null hypothesis** is just:\n",
        "\n",
        "**H<sub>null</sub>**: the observed difference in the mean rating of Apple Store and Google Play apps is due to chance (and thus not due to the platform).\n",
        "\n",
        "The more interesting hypothesis is called the **Alternate hypothesis**:\n",
        "\n",
        "**H<sub>alternative</sub>**: the observed difference in the average ratings of apple and google users is not due to chance (and is actually due to platform)\n",
        "\n",
        "We're also going to pick a **significance level** of 0.05."
      ]
    },
    {
      "cell_type": "markdown",
      "metadata": {
        "id": "TjBqkabaFcvq"
      },
      "source": [
        "### 3b. Getting the distribution of the data\n",
        "Now that the hypotheses and significance level are defined, we can select a statistical test to determine which hypothesis to accept.\n",
        "\n",
        "There are many different statistical tests, all with different assumptions. You'll generate an excellent judgement about when to use which statistical tests over the Data Science Career Track course. But in general, one of the most important things to determine is the **distribution of the data**.   "
      ]
    },
    {
      "cell_type": "code",
      "metadata": {
        "id": "bFwVhkeWFcvr"
      },
      "source": [
        "# Create a subset of the column 'Rating' by the different platforms.\n",
        "# Call the subsets 'apple' and 'google'\n",
        "apple_rating = df[df['platform']=='apple']\n",
        "google_rating = df[df['platform']=='google']"
      ],
      "execution_count": 28,
      "outputs": []
    },
    {
      "cell_type": "code",
      "metadata": {
        "id": "oPPFpwPvFcvu",
        "colab": {
          "base_uri": "https://localhost:8080/"
        },
        "outputId": "113d76b3-877f-43e4-8f4c-b514752fd321"
      },
      "source": [
        "# Using the stats.normaltest() method, get an indication of whether the apple data are normally distributed\n",
        "# Save the result in a variable called apple_normal, and print it out\n",
        "apple_normal = stats.normaltest(apple_rating['Rating'])\n",
        "print(apple_normal)"
      ],
      "execution_count": 29,
      "outputs": [
        {
          "output_type": "stream",
          "name": "stdout",
          "text": [
            "NormaltestResult(statistic=1778.9974234584017, pvalue=0.0)\n"
          ]
        }
      ]
    },
    {
      "cell_type": "code",
      "metadata": {
        "id": "rCdh8a8KFcvw",
        "colab": {
          "base_uri": "https://localhost:8080/"
        },
        "outputId": "1bae8d56-f0c9-4f4b-ee96-b563ad1ce0c8"
      },
      "source": [
        "# Do the same with the google data.\n",
        "google_normal = stats.normaltest(google_rating['Rating'])\n",
        "print(google_normal)"
      ],
      "execution_count": 30,
      "outputs": [
        {
          "output_type": "stream",
          "name": "stdout",
          "text": [
            "NormaltestResult(statistic=3678.6157187516856, pvalue=0.0)\n"
          ]
        }
      ]
    },
    {
      "cell_type": "markdown",
      "metadata": {
        "id": "9gDqu21yFcv0"
      },
      "source": [
        "Since the null hypothesis of the normaltest() is that the data are normally distributed, the lower the p-value in the result of this test, the more likely the data are to be non-normal.\n",
        "\n",
        "Since the p-values is 0 for both tests, regardless of what we pick for the significance level, our conclusion is that the data are not normally distributed.\n",
        "\n",
        "We can actually also check out the distribution of the data visually with a histogram. A normal distribution has the following visual characteristics:\n",
        "    - symmetric\n",
        "    - unimodal (one hump)\n",
        "As well as a roughly identical mean, median and mode."
      ]
    },
    {
      "cell_type": "code",
      "metadata": {
        "id": "P9tT9RjNFcv1",
        "colab": {
          "base_uri": "https://localhost:8080/",
          "height": 472
        },
        "outputId": "4c741b0e-8df8-4fe0-cbaa-7ea302b0a70f"
      },
      "source": [
        "# Create a histogram of the apple reviews distribution\n",
        "plt.hist(apple_rating['Rating'], bins=20)\n",
        "plt.xlabel('Rating')\n",
        "plt.ylabel('Count')\n",
        "plt.title('Distribution of Ratings for Apple Products')\n",
        "plt.show()"
      ],
      "execution_count": 31,
      "outputs": [
        {
          "output_type": "display_data",
          "data": {
            "text/plain": [
              "<Figure size 640x480 with 1 Axes>"
            ],
            "image/png": "[encoded data removed]"
          },
          "metadata": {}
        }
      ]
    },
    {
      "cell_type": "code",
      "metadata": {
        "id": "8dE1uC5iFcv2",
        "colab": {
          "base_uri": "https://localhost:8080/",
          "height": 472
        },
        "outputId": "07b35b7a-561d-41b1-fd4e-1acf68cd6614"
      },
      "source": [
        "# Create a histogram of the apple reviews distribution\n",
        "plt.hist(google_rating['Rating'], bins=20)\n",
        "plt.xlabel('Rating')\n",
        "plt.ylabel('Count')\n",
        "plt.title('Distribution of Ratings for Google Products')\n",
        "plt.show()"
      ],
      "execution_count": 32,
      "outputs": [
        {
          "output_type": "display_data",
          "data": {
            "text/plain": [
              "<Figure size 640x480 with 1 Axes>"
            ],
            "image/png": "[encoded data removed]"
          },
          "metadata": {}
        }
      ]
    },
    {
      "cell_type": "markdown",
      "metadata": {
        "id": "QhZV89FzFcv5"
      },
      "source": [
        "### 3c. Permutation test\n",
        "Since the data aren't normally distributed, we're using a *non-parametric* test here. This is simply a label for statistical tests used when the data aren't normally distributed. These tests are extraordinarily powerful due to how few assumptions we need to make.  \n",
        "\n",
        "Check out more about permutations [here.](http://rasbt.github.io/mlxtend/user_guide/evaluate/permutation_test/)"
      ]
    },
    {
      "cell_type": "code",
      "metadata": {
        "id": "bxNhQgpqFcv6",
        "colab": {
          "base_uri": "https://localhost:8080/"
        },
        "outputId": "2114040a-a637-4079-ea90-80f9fc3b7dcc"
      },
      "source": [
        "# Create a column called `Permutation1`, and assign to it the result of permuting (shuffling) the Rating column\n",
        "# This assignment will use our numpy object's random.permutation() method\n",
        "df['Permutation1'] = np.random.permutation(df['Rating'].values)\n",
        "\n",
        "# Call the describe() method on our permutation grouped by 'platform'.\n",
        "perm1 = df.groupby('platform')['Permutation1'].describe()\n",
        "print(perm1)"
      ],
      "execution_count": 33,
      "outputs": [
        {
          "output_type": "stream",
          "name": "stdout",
          "text": [
            "           count      mean       std  min  25%  50%  75%  max\n",
            "platform                                                     \n",
            "apple     6268.0  4.133472  0.619802  1.0  4.0  4.3  4.5  5.0\n",
            "google    9366.0  4.135693  0.608358  1.0  4.0  4.3  4.5  5.0\n"
          ]
        }
      ]
    },
    {
      "cell_type": "code",
      "metadata": {
        "id": "AaGNfPGTFcv7",
        "colab": {
          "base_uri": "https://localhost:8080/",
          "height": 142
        },
        "outputId": "c3f53a94-f56e-4842-e703-81c058ec6a41"
      },
      "source": [
        "# Lets compare with the previous analytical summary:\n",
        "rating_group"
      ],
      "execution_count": 34,
      "outputs": [
        {
          "output_type": "execute_result",
          "data": {
            "text/plain": [
              "           count      mean       std  min  25%  50%  75%  max\n",
              "platform                                                     \n",
              "apple     6268.0  4.049697  0.726943  1.0  4.0  4.5  4.5  5.0\n",
              "google    9366.0  4.191757  0.515219  1.0  4.0  4.3  4.5  5.0"
            ],
            "text/html": [
              "\n",
              "  <div id=\"df-f0348780-9d06-4973-8a49-2f9ef821608a\">\n",
              "    <div class=\"colab-df-container\">\n",
              "      <div>\n",
              "<style scoped>\n",
              "    .dataframe tbody tr th:only-of-type {\n",
              "        vertical-align: middle;\n",
              "    }\n",
              "\n",
              "    .dataframe tbody tr th {\n",
              "        vertical-align: top;\n",
              "    }\n",
              "\n",
              "    .dataframe thead th {\n",
              "        text-align: right;\n",
              "    }\n",
              "</style>\n",
              "<table border=\"1\" class=\"dataframe\">\n",
              "  <thead>\n",
              "    <tr style=\"text-align: right;\">\n",
              "      <th></th>\n",
              "      <th>count</th>\n",
              "      <th>mean</th>\n",
              "      <th>std</th>\n",
              "      <th>min</th>\n",
              "      <th>25%</th>\n",
              "      <th>50%</th>\n",
              "      <th>75%</th>\n",
              "      <th>max</th>\n",
              "    </tr>\n",
              "    <tr>\n",
              "      <th>platform</th>\n",
              "      <th></th>\n",
              "      <th></th>\n",
              "      <th></th>\n",
              "      <th></th>\n",
              "      <th></th>\n",
              "      <th></th>\n",
              "      <th></th>\n",
              "      <th></th>\n",
              "    </tr>\n",
              "  </thead>\n",
              "  <tbody>\n",
              "    <tr>\n",
              "      <th>apple</th>\n",
              "      <td>6268.0</td>\n",
              "      <td>4.049697</td>\n",
              "      <td>0.726943</td>\n",
              "      <td>1.0</td>\n",
              "      <td>4.0</td>\n",
              "      <td>4.5</td>\n",
              "      <td>4.5</td>\n",
              "      <td>5.0</td>\n",
              "    </tr>\n",
              "    <tr>\n",
              "      <th>google</th>\n",
              "      <td>9366.0</td>\n",
              "      <td>4.191757</td>\n",
              "      <td>0.515219</td>\n",
              "      <td>1.0</td>\n",
              "      <td>4.0</td>\n",
              "      <td>4.3</td>\n",
              "      <td>4.5</td>\n",
              "      <td>5.0</td>\n",
              "    </tr>\n",
              "  </tbody>\n",
              "</table>\n",
              "</div>\n",
              "      <button class=\"colab-df-convert\" onclick=\"convertToInteractive('df-f0348780-9d06-4973-8a49-2f9ef821608a')\"\n",
              "              title=\"Convert this dataframe to an interactive table.\"\n",
              "              style=\"display:none;\">\n",
              "        \n",
              "  <svg xmlns=\"http://www.w3.org/2000/svg\" height=\"24px\"viewBox=\"0 0 24 24\"\n",
              "       width=\"24px\">\n",
              "    <path d=\"M0 0h24v24H0V0z\" fill=\"none\"/>\n",
              "    <path d=\"M18.56 5.44l.94 2.06.94-2.06 2.06-.94-2.06-.94-.94-2.06-.94 2.06-2.06.94zm-11 1L8.5 8.5l.94-2.06 2.06-.94-2.06-.94L8.5 2.5l-.94 2.06-2.06.94zm10 10l.94 2.06.94-2.06 2.06-.94-2.06-.94-.94-2.06-.94 2.06-2.06.94z\"/><path d=\"M17.41 7.96l-1.37-1.37c-.4-.4-.92-.59-1.43-.59-.52 0-1.04.2-1.43.59L10.3 9.45l-7.72 7.72c-.78.78-.78 2.05 0 2.83L4 21.41c.39.39.9.59 1.41.59.51 0 1.02-.2 1.41-.59l7.78-7.78 2.81-2.81c.8-.78.8-2.07 0-2.86zM5.41 20L4 18.59l7.72-7.72 1.47 1.35L5.41 20z\"/>\n",
              "  </svg>\n",
              "      </button>\n",
              "      \n",
              "  <style>\n",
              "    .colab-df-container {\n",
              "      display:flex;\n",
              "      flex-wrap:wrap;\n",
              "      gap: 12px;\n",
              "    }\n",
              "\n",
              "    .colab-df-convert {\n",
              "      background-color: #E8F0FE;\n",
              "      border: none;\n",
              "      border-radius: 50%;\n",
              "      cursor: pointer;\n",
              "      display: none;\n",
              "      fill: #1967D2;\n",
              "      height: 32px;\n",
              "      padding: 0 0 0 0;\n",
              "      width: 32px;\n",
              "    }\n",
              "\n",
              "    .colab-df-convert:hover {\n",
              "      background-color: #E2EBFA;\n",
              "      box-shadow: 0px 1px 2px rgba(60, 64, 67, 0.3), 0px 1px 3px 1px rgba(60, 64, 67, 0.15);\n",
              "      fill: #174EA6;\n",
              "    }\n",
              "\n",
              "    [theme=dark] .colab-df-convert {\n",
              "      background-color: #3B4455;\n",
              "      fill: #D2E3FC;\n",
              "    }\n",
              "\n",
              "    [theme=dark] .colab-df-convert:hover {\n",
              "      background-color: #434B5C;\n",
              "      box-shadow: 0px 1px 3px 1px rgba(0, 0, 0, 0.15);\n",
              "      filter: drop-shadow(0px 1px 2px rgba(0, 0, 0, 0.3));\n",
              "      fill: #FFFFFF;\n",
              "    }\n",
              "  </style>\n",
              "\n",
              "      <script>\n",
              "        const buttonEl =\n",
              "          document.querySelector('#df-f0348780-9d06-4973-8a49-2f9ef821608a button.colab-df-convert');\n",
              "        buttonEl.style.display =\n",
              "          google.colab.kernel.accessAllowed ? 'block' : 'none';\n",
              "\n",
              "        async function convertToInteractive(key) {\n",
              "          const element = document.querySelector('#df-f0348780-9d06-4973-8a49-2f9ef821608a');\n",
              "          const dataTable =\n",
              "            await google.colab.kernel.invokeFunction('convertToInteractive',\n",
              "                                                     [key], {});\n",
              "          if (!dataTable) return;\n",
              "\n",
              "          const docLinkHtml = 'Like what you see? Visit the ' +\n",
              "            '<a target=\"_blank\" href=https://colab.research.google.com/notebooks/data_table.ipynb>data table notebook</a>'\n",
              "            + ' to learn more about interactive tables.';\n",
              "          element.innerHTML = '';\n",
              "          dataTable['output_type'] = 'display_data';\n",
              "          await google.colab.output.renderOutput(dataTable, element);\n",
              "          const docLink = document.createElement('div');\n",
              "          docLink.innerHTML = docLinkHtml;\n",
              "          element.appendChild(docLink);\n",
              "        }\n",
              "      </script>\n",
              "    </div>\n",
              "  </div>\n",
              "  "
            ]
          },
          "metadata": {},
          "execution_count": 34
        }
      ]
    },
    {
      "cell_type": "code",
      "metadata": {
        "id": "aJPNpX0JFcv-",
        "colab": {
          "base_uri": "https://localhost:8080/"
        },
        "outputId": "a2904b7b-7be1-43e8-f95d-dc3d3b7c76fb"
      },
      "source": [
        "from numpy.ma.core import diff\n",
        "# The difference in the means for Permutation1 (0.001103) now looks hugely different to our observed difference of 0.14206.\n",
        "# It's sure starting to look like our observed difference is significant, and that the Null is false; platform does impact on ratings\n",
        "# But to be sure, let's create 10,000 permutations, calculate the mean ratings for Google and Apple apps\n",
        "# and the difference between these for each one, and then take the average of all of these differences.\n",
        "# Let's create a vector with the differences - that will be the distibution of the Null.\n",
        "\n",
        "# First, make a list called difference.\n",
        "difference = []\n",
        "\n",
        "# Now make a for loop that does the following 10,000 times:\n",
        "# 1. makes a permutation of the 'Rating' as you did above\n",
        "# 2. calculates the difference in the mean rating for apple and the mean rating for google.\n",
        "\n",
        "for _ in range(10000):\n",
        "  permutation = np.random.permutation(df['Rating'])\n",
        "  difference.append(np.mean(permutation[df['platform']=='apple']) - np.mean(permutation[df['platform']=='google']))\n",
        "\n",
        "print(difference)"
      ],
      "execution_count": 35,
      "outputs": [
        {
          "output_type": "stream",
          "name": "stdout",
          "text": [
            "[0.010241963320739345, 0.007605497405993589, 0.011120785292318303, -0.013060134410590507, -0.0001973764628981911, -0.0007832577772859395, 0.0028119230155487784, 0.01258548857828945, 0.009869129757036355, 0.00030861194498310596, -0.0070415354536992325, 0.00922998650497675, -0.00256753268928378, 0.006060901213516878, 0.0028119230155487784, -0.017773815894528866, 0.005288603117278079, 0.0019597320128017515, 0.014263239614944467, -0.00046368615125569335, 0.0021727797634891743, -0.015883017107186426, -0.00898559617871264, 0.010614796884438782, -0.013779170569158339, 0.005341865054949935, -0.0005435790577630328, -0.008000250331788195, 0.026566747217086295, -0.0028604733464785426, 0.007232663842292375, 0.0016401603867732817, 0.008431057439902467, -0.014258528008202376, -0.005443677323550666, -0.011915002750651382, 0.002359196545339337, 0.007685390312499152, 0.004835876647068638, 0.008218009689215933, -0.013938956382173018, 0.00022871903847576647, -0.002434377845104585, -0.020143972120914455, 0.0022793036388319976, 0.01024196332073668, -0.005843141856088252, 0.005022293428920577, -0.0129269795664122, -0.011089442716741615, 0.001080910041221017, -0.013140027317098735, -0.002274592032089906, 0.005315234086113563, -0.010263882682832737, 0.0006281835710124639, 0.010428380102587731, -0.00839971486432578, 0.0017999461997870725, 0.005261972148441707, -0.016655315203424337, -0.00879917939686159, 0.017139384249211354, -0.011195966592084439, -0.006615439952327051, 0.007925069032022058, -0.0004370551824193214, 0.0026787681713695832, 0.008990307785454732, 0.007552235468321733, -0.0043518076012842855, -0.009438322648922082, -0.01598954098252925, -0.006375761232804145, -0.01593627904485828, 0.006939723185097613, 0.0040635785508307265, 0.00020208806963939452, -0.019851031463722357, 0.00382389983130782, 0.009389772317992318, -0.006002927669102931, -0.00017074549406181916, -0.019957555339064292, -0.004671379227312755, 0.007925069032022947, 0.004995662460084205, 0.007978330969693914, 0.001560267480265054, 0.008537581315246179, -0.00871928649035425, 0.0018532081374589282, 0.006833199309753901, 0.00025535000731125024, -0.003579509505044598, -0.006402392201640517, 0.004676090834054847, -0.009358429742413854, 0.003184756579249104, 0.0025722442960249836, -0.003952343068745812, -0.017614030081514187, -0.017614030081514187, 0.01026859428957394, -0.0014224010293446554, 0.007312556748798826, -0.006482285108147856, -0.0032066759413433843, 0.002998339797398941, 0.007658759343664556, -0.012873717628740344, 0.02659337818592089, 0.018604087535180724, -0.013779170569158339, -0.007494261923907786, 0.007498973530648989, 0.007179401904620519, 0.005288603117278079, 1.567128778923177e-05, 0.014076822833093416, -0.020996163123661482, 0.006220687026532445, -0.015803124200679974, 0.00020208806963850634, 0.008937045847781988, 0.006407103808382608, -0.0007299958396140838, 0.005688067649815665, -0.02283369997333118, 0.00038850485148955727, 0.01263875051595953, 0.012052869201572669, 0.0015868984491005378, 0.0017733152309507005, 0.006726675434411078, 0.013757251207064058, -0.0022479610632544222, -0.005550201198894378, 0.001080910041221017, -0.006562178014654307, -0.0025675326892855566, -0.015590076449991663, -0.006295868326296805, 0.0050755553665924324, -0.005443677323550666, 0.0027586610778769227, 0.006913092216262129, 0.018444301722166045, -0.007148059329042944, -0.007760571612265288, -0.007680678705759725, -0.0026740565646266035, 0.011999607263900813, 0.004303257270352745, -0.0017419726553749015, 0.019722588226283477, -0.0022213300944198267, -0.012021526625994206, -0.022034770908257784, 0.014742597053987616, -0.009358429742413854, -0.009837787181459667, -0.0121546814701734, 0.006913092216263017, 0.013277893768020022, -0.019904293401394213, 0.0031048636727417644, -0.000836519714956907, 0.007419080624142538, 0.0019863629816381234, -0.020090710183244376, -0.007307845142057623, -0.008825810365697961, 0.0019331010439662677, 0.014742597053987616, -0.00163544878003119, 0.013224631830348166, -0.0010761984344789255, -0.0077073096745952085, 0.005501650867964614, 0.0016135294179369097, 0.018630718504016208, 0.01556815708789916, -0.008239929051311101, -0.0046181172896408995, 0.014316501552616323, 0.011653404669035083, 0.019110075943061133, 0.01154688079369226, 0.013464310549870184, 0.012612119547124045, 0.010694689790945233, 0.002066255888145463, -0.007680678705760613, -0.007068166422534716, 0.003770637893635964, 0.008058223876200366, -0.002594163658120152, 0.00989576072587095, 0.0028918159220552297, -0.006988273516028265, 0.004463043083367424, 0.014662704147480277, 0.015435002243719964, 0.0065136276837254314, -0.0012093532786581207, -0.0096780013684441, 0.016739919716673768, 0.006433734777217204, 0.017245908124554177, 0.001453743604923119, -0.017321089424320313, 0.017219277155717805, -0.013113396348262363, -0.016149326795544816, -0.013140027317099623, 0.002705399140205067, -0.004990950853343001, 0.002359196545339337, -0.0037659262868947607, 0.002012993950473607, 0.0024657204206830485, 0.0156480499944065, -0.0007832577772859395, -0.021315734749691728, -0.018173280427064675, -0.027707167270284216, -0.0022479610632544222, 0.004276626301518149, -0.008186667113638357, -0.0013158771540018321, 0.004622828896382991, -0.002141437187910711, -0.006375761232804145, -0.014471575758888022, -0.004058866944089523, 0.014929013835839555, -0.012367729220859935, 0.0019331010439671559, 0.0031314946415781364, -0.009358429742413854, -0.006562178014655196, -0.007893726456445371, -0.002594163658120152, 0.0010276481035491614, -0.009092120054056352, -0.01266066987805381, -0.0036860333803883094, -0.005337153448206955, 0.013091476986169859, 0.0024390894518466766, -0.01566996935650078, 0.003344542392264671, -0.00230122300092539, -0.0024876397827764407, -0.003579509505044598, 0.004143471457338066, -0.011622062093457508, -0.006056189606775675, 0.013038215048498003, 0.00451630502103928, 0.00046839775799778494, 0.007578866437158993, 0.004409781145696456, -0.005603463136565345, 0.014476287365631002, 0.014769228022824876, -0.0019283894372250643, -0.0017153416865394178, 0.0017733152309515887, 0.015568157087897383, 0.011174047229991046, 0.01309147698616897, 0.0008412313216981104, -0.0008098887461223114, -0.008160036144801985, 0.005794591525158488, -0.008559500677339571, 0.0016934223244442492, -0.021076056030167933, 0.012052869201571781, 0.002252672669996514, -0.005630094105401717, -0.009278536835906515, 0.011387094980676693, 0.0007347074463561754, -0.004591486320805416, 0.011387094980676693, -0.004964319884507518, 0.011307202074170242, 0.007126139966947775, 0.0006548145398479477, 0.008324533564560532, -0.01053019237118935, 0.01391703702007785, 0.003504328205278462, -0.008932334241041673, -0.008373083895489408, 0.0045961979275483955, -0.0019283894372250643, 0.03181304807773877, -0.009704632337279584, 0.004090209519667987, 0.0005216596956696407, 0.007099508998112292, 0.007818545156679235, -0.007361107079729479, 0.006220687026530669, 0.004542935989875652, -0.02088963924831777, 0.006886461247426645, 0.00417010242617355, 0.003850530800144192, 0.010455011071424103, -0.0009164126214633583, -0.013486229911963576, -0.00488442697799929, -0.012261205345517112, 0.0009211242282072263, -0.005949665731431963, -0.002461008813940957, -0.006482285108147856, 0.0066201515590673665, -0.010503561402353867, 0.008351164533395128, 0.015008906742346895, -0.022940223848674002, 9.556419429657126e-05, -0.0015289249046883668, -0.006961642547191005, 0.009336510380320462, 0.001453743604923119, -0.0129269795664122, -0.00038379324474835386, 0.0024657204206839367, -0.001182722309822637, 0.0014271126360858588, 0.01966932628861251, -0.005816510887252768, -0.0039523430687467, -0.0038191882245675046, -0.031222455156610707, -0.00357950950504371, -3.759064988351213e-05, 0.000441766789161413, 0.010295225258409424, -0.014178635101695036, -0.0023811159074336175, 0.006779937372082934, -0.001342508122838204, 0.006380472839546236, -0.0024077468762691012, -0.009118751022893612, 0.018683980441687176, -0.006961642547191893, 0.0016401603867732817, 0.0050222934289196886, 0.01008217750772289, -0.008213298082475617, -0.009464953617759342, 0.012026238232737185, 0.008244640658051416, 0.009096831660798443, 0.019056814005389278, 0.009123462629633039, -0.022753807066824727, 0.010614796884438782, -0.01532376676163505, 0.012798536328974208, 0.016819812623181107, 0.01804483718962846, -0.004378438570119769, -0.001156091340986265, 0.009735974912858048, -0.008692655521518766, -0.004405069538953477, -0.012953610535248572, -0.018519483021931293, -0.0015821868423593344, -0.011675324031129364, 0.01274527439130324, -0.013486229911963576, 0.007126139966948664, -0.008825810365697961, 0.0016135294179369097, 0.008777260034769085, 0.004995662460084205, -0.0029936281906568496, 0.0015070055425940865, 0.0006548145398488359, -0.0031534140036715286, 0.004170102426174438, 0.015807835807422066, 0.009363141349155946, -0.006349130263968661, -0.015270504823962305, -0.003100152066000561, -0.018679268834945972, -0.009891049119130635, 0.0011341719788919846, 0.015674680963241983, -0.00933179877357837, 0.00350432820527935, 0.004249995332681777, -0.0006234719642703723, -0.02363262903840546, -0.015110719010949403, -0.007680678705759725, -0.01164869306229388, 0.009842498788199983, -0.004937688915669369, 0.007099508998112292, -0.00030390033824190255, -0.017507506206171364, 0.006833199309755678, 0.004143471457338066, 0.015701311932078355, -0.013699277662651, 0.010401749133752247, 0.010375118164915875, -0.016042802920201105, 0.0008678622905353706, -0.011329121436264522, 0.014050191864257044, 0.03183967904657514, 0.0024390894518466766, 0.02156012507595495, 0.004409781145697345, 0.018151361064971283, -0.0016620797488666739, -0.007148059329042944, -0.009731263306115068, -0.005523570230058006, 0.0026787681713695832, 0.022891673517746014, 0.0025189823583549042, 0.01436976349028729, 0.007232663842291487, 0.0029184468908916017, 0.006273948964202525, -0.01729445845548394, -0.00712142836020746, 0.002012993950473607, 0.0016934223244442492, -0.02935828733810375, -0.008239929051311101, -0.0026740565646266035, -0.005017581822178485, -0.016202588733215784, -0.007281214173221251, -0.006002927669102043, 0.003371173361101043, 0.006433734777217204, -0.002461008813940957, -0.010157358807489025, 0.001453743604923119, -0.0021680681567470828, 0.0028119230155487784, 0.0001488261319675388, -0.0016354487800320783, 0.008404426471066095, 0.01546163321255456, 0.021560125075954062, -0.019797769526049613, -0.008692655521519654, 0.003690744987130401, 0.003051601735071685, -0.006961642547191893, -0.0006234719642712605, -0.0220081399394223, -0.009757894274950552, -0.013885694444500274, 0.010987630448139996, -0.011701954999964848, -0.020223865027422683, -0.002940366252985882, 0.0038771617689805637, 0.009709343944022564, -0.003579509505044598, -0.019318412087004688, -0.001502293935852883, -0.03183496743983394, -0.005097474728685825, 0.00012219516313116685, 0.0039037927378160475, -0.00650891607698334, 0.004622828896383879, 0.022039482514999875, -0.0025409017204491846, 0.004063578550831615, 0.004782614709398558, -0.005310522479372359, 0.009123462629633927, 0.011626773700198711, 0.0018265771686234444, -0.01644226745273869, 0.0026521372025332113, 0.0019597320128026396, -0.006721963827668986, -0.01300687247291954, -0.0017686036242094971, 0.006380472839546236, 0.012532226640616706, -0.00291373528414951, 0.0026787681713695832, 0.016420348090645298, 0.003930423706651531, 0.0026787681713695832, -0.003126783034836045, -0.001955020406060548, 0.007392449655306166, -0.002807211408806687, -0.003978974037582184, 0.0016135294179360216, 0.018497563659837013, -0.008373083895489408, 0.010694689790945233, 0.017245908124554177, -0.0022213300944198267, -0.007174690297878428, -0.003286568847850724, -0.0009430435903006185, 0.007232663842292375, -0.00925190586707103, -0.0004370551824202096, 0.01719264618688321, -0.002487639782778217, 0.008830521972440053, 0.011946345326228958, -0.009891049119129747, 0.007552235468321733, -9.085258755536785e-05, 0.007392449655306166, -0.008080143238295534, 0.01615403840228513, -0.010210620745160881, 0.003211387548085476, -0.0003571622759119819, -0.0032066759413442725, 0.011253940136497498, -0.007733940643429804, 0.010534903977931442, -0.008080143238295534, 0.015568157087898271, -0.005976296700266559, -0.0006767339019413399, -0.015616707418828923, 0.008510950346410695, 0.0024657204206830485, -0.003978974037582184, 0.009869129757037243, -0.0038191882245675046, 0.0025988752648613556, 0.003344542392264671, 0.008244640658051416, -0.009118751022892724, -0.0012093532786572325, -0.010210620745160881, 0.0074723425618143935, 0.0008412313216989986, 0.002252672669996514, 0.018577456566344352, 0.00861747422175263, 0.01402356089542156, -0.012341098252024452, -0.006349130263968661, -0.0004370551824193214, -0.003552878536209114, -0.0018751274995523204, -0.0007566268084504557, 0.0032646494857555552, 0.006220687026531557, -0.002780580439971203, -0.007733940643429804, -0.015137349979784887, -0.006109451544446642, -0.00019737646289730293, -0.003899081131074844, -0.02219455672127335, 0.008031592907364882, -0.0036594024115528256, 0.015807835807421178, -0.0059230347625955915, -0.017134672642469262, -0.007840464518773516, -0.007733940643429804, -0.01854611399076589, -0.007227952235549395, -0.004511593414298076, -0.0011560913409871532, 0.004436412114532828, -0.007867095487609888, 0.0040635785508307265, -0.012980241504083168, 0.0018532081374598164, 0.009176724567305783, -0.009464953617757565, 0.011174047229991046, -0.0073611070797285905, -0.005869772824925512, -0.0032066759413433843, -0.0005968409954348886, 0.0024124584830103046, 0.007365818686470682, 0.001080910041221017, -0.0041653908194332345, 4.230225662471554e-05, -0.012687300846890182, 0.0063005799330380086, -0.0010761984344789255, -0.0023811159074327293, -0.012128050501338805, 0.0077919141878437514, -0.001821865561882241, 0.005794591525158488, -0.002461008813941845, 0.014742597053989392, -0.0018218655618813528, -0.01489767126026198, 0.003371173361100155, -0.007733940643429804, 0.0051288173042634, -0.004671379227311867, 0.0009477551970418219, -0.0016088178111957063, 0.013517572487541152, 0.008351164533396016, 0.0024657204206830485, -0.01891894755446799, -0.003978974037582184, -0.00813340517596739, 0.002838553984384262, 0.0007613384151907709, -0.00650891607698334, -0.004671379227313643, -0.010423668495847416, 0.004915769553576865, 0.004755983740561298, -0.012926979566413088, -0.015190611917454078, -0.0012892461851663484, 0.007712021281335524, 0.001080910041221017, 0.010215332351902084, 0.01642034809064441, -0.008586131646175055, 0.0016135294179369097, 0.01263875051595953, 0.0012140648854011005, -0.0070415354536992325, -0.022460866409630853, 0.013384417643361957, 0.01309147698616897, 0.0038771617689796756, -0.0015821868423593344, -0.01124922852975807, -0.007760571612265288, -0.002114806219074339, 0.018204623002644027, -0.007361107079729479, -0.009891049119129747, 0.00797833096969569, 0.013677358300556719, 0.01026859428957394, 0.012239285983422832, -0.02901208474323802, 0.003770637893635964, -0.006642070921161647, 0.010934368510469028, 0.0076321283748290725, -0.00022400743173367488, 0.0017733152309515887, -0.003792557255732021, 0.0014803745737577145, 0.0052087102107707395, 0.0061674250888597015, 0.018790504317031775, -0.012367729220860824, 0.018311146877985074, 0.004995662460084205, -0.0096780013684441, 0.010401749133753135, -0.010743240121876774, 0.005554912805635581, -0.004698010196149127, -0.0002772693694046424, 0.002092886856981835, -0.00616271348211761, 0.0028385539843851504, -0.010077465900980798, 0.010694689790945233, 0.012345809858765655, -0.007254583204385767, -0.00025063840056915865, -0.0077073096745952085, -0.009731263306115956, 0.0057945915251576, 0.003930423706651531, 0.003770637893635964, 0.003451066267606606, -0.005337153448207843, 0.003291280454591927, 0.0040369475819943546, 0.01634045518413707, -0.0032066759413433843, -0.011888371781815898, 0.0039304237066524195, 0.006194056057695185, -0.01772055395685701, 0.0007613384151907709, 0.004969031491248721, -0.010876394966054193, -0.002141437187910711, 0.0010542790723855333, -0.004831165040327434, 0.0009743861658773056, 0.012665381484795901, 0.005688067649816553, -0.009944311056801602, -0.022141294783600607, 0.01136046401184121, 0.007738652250171896, -0.021954878001749556, -0.005310522479372359, 0.014343132521451807, -0.015297135792799565, 0.00041513582032504104, -0.002940366252985882, -0.0014224010293437672, 0.00736581868647157, -0.00746763095507319, -0.012980241504083168, 0.006779937372082934, -0.011089442716741615, -0.004857796009163806, -0.010982918841398792, 0.011253940136498386, -0.013060134410591395, 0.013490941518705668, 0.008937045847782876, 0.00012219516313116685, -0.005390415385879699, 0.0037173759559658848, 0.007365818686470682, -0.0020615442814033713, 0.00957618909984248, -0.011835109844144043, -0.023659260007241834, -0.00019737646289730293, 0.020068790821149207, 0.012345809858765655, 0.022172637359177294, 0.009762605881693531, -0.0032333069101797562, 0.002332565576502965, 0.003957054675487903, -0.019478197900019367, -0.0007033648707777118, -0.004831165040326546, 0.00880389100360457, -0.0020082823437324038, 0.004329888239188229, 0.008564212284081663, 0.00025535000731125024, -0.0033930927231944352, -0.015643338387664407, -0.006375761232804145, -0.0020349133125687757, 0.017006229405033046, 0.004835876647068638, 0.01479585899166036, 0.005741329587486632, -0.024937546511360154, 0.010055546538887405, -0.006242606388625838, 0.0008146003528626267, 0.008404426471066984, -0.010689978184205806, 0.0052087102107707395, -0.013246551192441558, -0.0009164126214642465, 0.008670736159425374, 0.0071527709357850355, -0.00017074549406093098, -0.0033131998166862076, -0.003100152066001449, -0.004058866944088635, -0.008586131646176831, -0.00685511867184907, -0.023046747724017713, 0.01924323078723944, 0.005874484431665827, -0.0007566268084495675, -0.005789879918415508, 0.00486250761590501, 0.004303257270352745, 0.005075555366591544, 0.006859830278590273, -0.0013957700605082834, -0.008426345833161264, 0.0010276481035500495, -0.0067485947965062465, 0.008457688408739727, 0.002732030109041439, -0.0057898799184172844, 0.007232663842292375, 0.013331155705690989, -0.0008098887461214233, 0.005981008307009539, 0.020414993416015825, -0.005843141856088252, -0.014471575758888022, 0.0060076392758450226, 0.02036173147834397, 0.028617331817442526, 0.008111485813873998, -0.0008098887461223114, -0.0072013212667139115, -0.016415636483903207, -0.011622062093458396, -0.009358429742413854, 0.012851798266646064, 0.0027852920467124065, 0.010588165915603298, 0.01676655068551014, 0.0010010171347127894, -0.021368996687361808, -0.003579509505044598, -9.085258755536785e-05, 0.01128057110533387, -0.011062811747906132, -0.0013691390916727997, -0.006215975419789466, 0.009016938754291104, -0.007840464518774404, 0.0011874339165638403, 0.015914359682764, 0.0009477551970418219, 0.0017200532932806212, 0.0018265771686234444, 0.0008678622905353706, -0.02310000966168957, -0.009731263306115956, -0.007014904484864637, -0.007227952235550283, -0.011648693062292992, -0.0009430435902997303, -0.009411691680086598, 0.016553502934822717, 0.009416403286827801, -0.007574154830415125, -0.008399714864326668, -0.0049376889156702575, 0.0033978043299356386, 0.007259294811128747, 0.004303257270352745, 0.012026238232737185, -0.0004636861512565815, 0.0042233643638454055, -0.006056189606775675, 0.005581543774471953, -0.003792557255732021, 0.001533636511428682, 0.021480232169445834, -0.01353949184963632, 0.008590843252917146, -0.005683356043073573, 0.014822489960496732, -0.008346452926653036, -0.014418313821217055, 0.011253940136497498, 0.00811148581387311, -0.015163980948619482, 0.007525604499485361, 0.004143471457338066, -0.006215975419789466, -0.012154681470175177, -0.003872450162238472, 0.0011874339165647285, 0.003770637893635964, 0.003184756579249992, -0.0013158771540018321, -0.03335293266347428, -0.006562178014655196, -0.0034996165985381467, 0.0023325655765038533, -0.00933179877357837, -0.005789879918416396, 0.0008146003528635148, -0.0025409017204491846, 0.006726675434412854, -0.013166658285935107, -0.0073611070797285905, 0.011813190482049762, -0.005390415385879699, 0.01194634532622807, -0.00025063840056915865, 0.022225899296850926, 0.010321856227244908, 0.017512217812912567, 0.006540258652560915, 0.006513627683724543, 0.001773315230952477, 0.0039037927378160475, 0.004036947581995243, 0.0035842211117866896, 0.01093436851046814, 0.013038215048497115, -0.023872307757926592, -0.004964319884505741, -0.008266560020145697, -0.005443677323550666, -0.013992218319845762, 0.016127407433450536, -0.012021526625994206, -0.00549693926122341, 0.00899030778545562, 0.0013738506984157794, -0.013060134410591395, -0.00017074549406270734, 0.014662704147480277, 0.005075555366590656, 0.0009211242282072263, 0.0039037927378160475, -0.0067485947965062465, -0.0004104242135847258, -3.759064988173577e-05, 0.0038771617689805637, 0.004249995332683554, -0.00685511867184907, 0.0040635785508307265, 0.009443034255662397, -0.005976296700266559, -0.019984186307900664, -0.005044212791013969, 0.007925069032022058, 0.0034510662676074944, 0.01061479688443967, -0.0004903171200911771, 0.0014803745737586027, 0.007365818686470682, 0.005501650867964614, 0.008164747751546741, 0.0006814455086852078, 0.010321856227244908, 0.004436412114532828, -0.0028871043153140263, -0.030769728686400377, 0.008484319377575211, 0.0045695669587120236, -0.011435645311607345, -0.008586131646175943, -0.0008631506837923908, 0.027392307250996062, -0.007946988394116339, 0.0029717088285625692, -0.002940366252984994, -0.014444944790052539, -0.006402392201639628, -0.007946988394117227, -0.002727318502298459, -0.01463136157190359, -0.00030390033824101437, -0.0029936281906559614, 0.007259294811127859, -0.012900348597575828, 0.02334439998795368, 0.003371173361101043, 0.0014271126360858588, 0.011333833043006614, 0.004383150176860973, 0.009256617473812234, -0.0022479610632544222, 0.016180669371121503, 0.004809245678234042, -0.002487639782778217, -0.004751272133820095, 0.007578866437158105, 0.016739919716673768, -0.003978974037582184, -0.02054343665345293, -0.0036860333803883094, -0.00949158458659305, -0.002940366252985882, 0.015754573869748434, 0.01026859428957394, -0.007440999986236818, 0.013783882175899542, -0.023579367100734494, -0.020090710183244376, 0.0039304237066524195, 0.007632128374829961, -0.006002927669102043, -0.02403209357094216, -0.012926979566411312, -0.020303757933930022, -0.004431700507790737, -0.02533701104389685, 0.003051601735071685, 0.012345809858766543, 0.0040635785508307265, -0.009385060711250226, -0.008479607770834008, 0.006939723185098501, -0.014152004132859552, 0.007525604499485361, -0.003579509505044598, -0.02038365084043825, 0.001586898449101426, 0.004409781145696456, 0.0012673268230711798, 0.005927746369336795, -0.010689978184204918, -0.01172858596880122, -0.00011748355639085162, -0.004831165040328322, 0.00417010242617355, 0.0007347074463552872, -0.0016620797488666739, 0.0006814455086843196, 0.006966354153933985, 0.02102750569923817, 0.01831114687798685, 0.010215332351902084, 0.0033978043299356386, -9.085258755447967e-05, 0.00409020951966621, 0.01178655951321339, 0.0010276481035500495, 0.008777260034768197, 0.003530959174114834, 0.014423025427959146, 0.003557590142951206, 0.017751896532434586, -0.005337153448208731, -0.0038191882245675046, -0.006615439952327051, -0.012447622127369051, -0.009065489085220868, -0.005949665731431075, -0.0057898799184172844, -0.004884426978000178, -0.015057457073274882, -0.0024610088139400688, 0.005208710210769851, 0.013917037020078737, -0.013086765379426879, 0.013650727331721235, -0.014258528008202376, 0.00385053080014508, -0.0027006875334629754, 0.010960999479303624, 0.007791914187842863, -0.0060828205756102705, -0.02302011675518223, -0.0155101835434861, -0.011142704654413471, -0.005496939261222522, -0.014311789945873343, -0.007227952235549395, 0.01359746539404938, -0.0004636861512565815, 0.016633395841330945, 0.012771905360138724, -0.00975789427495144, 0.005075555366591544, -0.0020349133125687757, -0.01721456554897749, -0.0062692373574622096, -0.013912325413336646, 0.018311146877985962, 0.006220687026532445, -0.005869772824924624, 0.011919714357393474, 0.00017545710080302257, 0.007152770935783259, 0.014343132521451807, -0.0009696745591361022, -0.00677522576534173, 0.004516305021040168, -0.011249228529757183, -0.011622062093457508, -0.005789879918416396, -0.0072013212667139115, -0.0015022939358519949, 0.0033179114234291873, -0.004058866944089523, -0.009864418150294263, 0.012399071796438399, 0.0026787681713695832, -0.0036327714427164537, -0.005630094105400829, -0.005310522479372359, 0.0005216596956696407, -0.011382383373936378, 0.018444301722166045, -0.0017419726553740134, -0.008239929051310213, 0.007898438063187463, -0.012128050501338805, 0.0039304237066524195, -0.006429023170475112, -0.01170195499996396, 0.0005216596956696407, -0.003233306910178868, -0.002274592032089906, -0.007760571612265288, -0.007148059329042056, -0.004804534071490174, -0.00022400743173367488, 0.003690744987130401, 0.013544203456378412, -0.006189344450953982, -0.0005968409954357767, 0.008244640658052305, -0.002780580439970315, 0.005261972148442595, 0.004249995332682666, -0.0054436773235515545, -0.0007299958396140838, 0.005528281836800986, -0.00453822438313356, 0.0030782327039062807, -0.009970942025637974, -0.0004903171200911771, 0.007818545156679235, -0.007840464518773516, -0.002194699125584343, 0.009709343944022564, 0.0025456133271895, -0.004671379227312755, -0.003366461754357175, -0.00419202178826783, -0.015084088042112143, 0.008084854845037626, -0.006429023170475112, 0.0011075410100565009, -0.026668559485687027, -0.009172012960563691, 0.002838553984384262, -0.014311789945874231, 0.009443034255664173, -0.009278536835907403, 0.003184756579249104, -0.015190611917454078, -0.011595431124622024, -0.028479465366522128, 0.016793181654345624, 0.010215332351902084, -0.007414369017400446, -0.007281214173222139, 0.012052869201571781, -0.004112128881760491, -0.0034729856297008865, -0.007600785799249721, 0.003850530800145968, 0.00949629619333514, 0.008670736159425374, 0.011014261416976368, -0.005656725074237201, -0.0019550204060623244, -0.015403659668142389, 0.0006814455086852078, 0.0042233643638454055, -0.003978974037582184, 0.010987630448140884, -0.007254583204385767, 0.018444301722165157, 0.007712021281336412, -0.02267391416031561, -0.0005968409954340004, 0.007712021281336412, -0.012740562784562037, -0.010636716246532174, -0.0015821868423593344, 0.0025189823583549042, -0.017960232676379917, -0.0003571622759119819, -0.026801714329866222, -0.005177367635193164, -0.0023811159074336175, 0.019136706911897505, -0.018439590115423066, 0.004383150176860973, 0.0006548145398488359, -0.0028871043153140263, -0.0068817496406845535, -0.013140027317098735, -0.008479607770831343, 0.00222604170116103, -0.01918525724282638, -0.0027273185022993474, -0.0048045340714919504, 0.014343132521450919, 0.0020662558881445747, 0.0037440069248013685, 0.001746684262116105, 0.0027586610778769227, -0.0013957700605091716, -0.002274592032090794, 0.009016938754290216, -0.01724119651781386, 0.010721320759781605, 0.0009477551970418219, -0.005683356043074461, 0.018577456566344352, 0.00030861194498310596, 0.004596197927547507, 0.005208710210769851, 0.021373708294104787, -0.004857796009162918, -0.002434377845104585, -0.02219455672127335, -0.005470308292387038, 0.01615403840228513, 0.017166015218046837, 0.002252672669996514, -0.0017153416865394178, 0.0005749216333406082, 0.003184756579249104, 0.0005216596956687525, 0.007339187717635198, 0.0028119230155487784, -0.0001973764628981911, 0.024356376803714497, 0.0013472197295794075, -0.009917680087966119, -0.005656725074238089, 0.005421757961456386, -0.011382383373936378, -0.0027539494711357193, 0.004356519208025489, -0.017081410704797406, -0.00581651088725188, 0.0028918159220552297, -0.000836519714956907, 0.006540258652560915, -0.00906548908521998, 0.003477697236442978, -0.00592303476259648, -0.009172012960563691, 0.0007347074463552872, -0.0012359842474927163, -0.005843141856087364, -0.011622062093458396, -0.008506238739668603, -0.0015555558735238506, 0.015807835807421178, -0.006642070921162535, 0.023397661925624647, -0.01191500275065227, -0.0048045340714919504, 0.019562802413269686, 0.0012939577919075518, -0.00914538199172732, -0.018812423679125168, 0.008244640658052305, 0.016660026810167317, -0.002168068156747971, -0.002487639782777329, 0.019855743070461784, 0.005235341179606223, -0.021768461219898505, 0.000601552602176092, -0.003100152066001449, 0.017485586844077083, 0.017059491342703126, -0.014098742195186809, 0.02206611348383536, 0.01255885760945219, -0.0097845252437887, -0.004964319884507518, -0.006801856734178102, 0.006913092216263017, -0.011462276280441941, -0.0012093532786572325, 0.007312556748798826, 0.003983685644323387, 0.009522927162170625, -0.01071660915304129, -0.001182722309822637, 0.0045429359898747634, 0.00012219516313205503, -0.0012892461851654602, 0.0015070055425931983, -0.016894993922947243, 0.004995662460084205, 0.006753306403248338, 0.002838553984384262, -0.0034729856297017747, -0.004591486320805416, 0.018364408815658706, -0.01042366849584564, 0.009922391694709098, -0.00163544878003119, -0.005869772824924624, 0.017831789438942813, 0.0016934223244451374, -0.0019550204060614362, 0.014715966085151244, 0.005315234086113563, 0.015435002243719964, -0.007148059329042056, 0.001959732012803528, 0.004010316613158871, 0.0020662558881445747, 0.003530959174114834, -0.007973619362953599, 0.008910414878946504, 0.007498973530648989, 0.005182079241935256, -0.01353949184963632, -0.0009696745591361022, -0.005843141856088252, -0.001369139091674576, -0.014365051883546087, -0.017693922988021527, -0.006215975419790354, -0.012953610535248572, 0.008777260034769085, -0.015377028699306017, 0.0030249707662362013, 0.011493618856021293, -0.011195966592085327, -0.0024077468762691012, -0.03026374027851997, 0.010561534946766926, -0.007680678705759725, -0.0043251766324479135, 0.019695957257447994, -0.0065888089834915675, 0.006087532182352362, 0.0032646494857555552, 0.007845176125515607, 0.0013472197295776311, -0.0013691390916736879, 0.001427112636086747, 0.001560267480265054, -0.00325993787901524, -0.0067485947965062465, -0.02062332955996027, 0.00888378391011102, -0.009518215555428533, -0.014338420914711492, -0.0033131998166862076, -0.0029936281906550732, -0.00994431105680249, 0.01026859428957394, -0.006642070921162535, -0.0003039003382401262, 0.0037706378936368523, -0.005496939261221634, 0.012798536328975096, -0.01718793458014023, 0.0031314946415772482, 0.00907020069196296, -0.0007832577772859395, 0.005954377338173167, -0.01319328925477059, -0.01106281174790702, 0.0012406958542365842, 0.0006281835710124639, -0.006988273516028265, -0.00232785396976265, -0.0038191882245666164, 0.00547501989912913, 0.0012673268230711798, 0.008670736159425374, 0.01325126279918365, -0.0011028294033152974, -0.0032599378790170164, -0.009518215555429421, -0.027094654987060984, 0.003371173361100155, 0.01026859428957394, -0.0005702100265985166, -0.012900348597576716, -0.0043518076012842855, 0.0063538418707107525, 0.010375118164916763, -0.0005702100265994048, -0.013566122818471804, -0.009864418150295151, -0.0013691390916727997, -0.00874591745919151, -0.01029051365166822, 0.013464310549870184, 0.00707287802927592, 0.012532226640616706, -0.0031800449725079005, 0.015168692555360686, -0.020143972120914455, -0.01891894755446799, -0.006295868326297693, -0.007467630955072302, 0.008510950346409807, 0.0013472197295785193, 0.00025535000731125024, -0.006109451544446642, -0.01788033976987169, 0.011866452419723394, 0.007126139966948664, 0.0034510662676083825, -0.007946988394118115, -0.004698010196150015, -0.015163980948619482, 0.003797268862472336, -0.0014756629670165111, 0.0052087102107707395, -0.0018484965307177248, 0.018337777846823222, 0.01016207041422934, -0.013299813130113414, 0.0034244352987720106, 0.00675330640324745, 0.008670736159424486, 0.0022526726699956257, 0.011466987887185809, 0.0029717088285625692, -0.001795234593045869, -0.0034729856297017747, 0.0022793036388319976, -0.0015555558735238506, 0.002332565576502965, -0.0008631506837915026, -0.010743240121875886, 0.0134376795810347, -0.008639393583847799, -0.009118751022891836, -0.008692655521519654, -0.004192021788268718, -0.0072013212667139115, -0.0033398307855225795, -0.01915862627399001, -0.015856386138350942, -0.011622062093458396, 0.0045961979275483955, -0.005550201198895266, 0.0026255062336977275, 0.005448388930293646, -0.0004903171200911771, -0.007946988394116339, 0.024755841336251194, -0.007840464518773516, -0.00557683216773075, -0.016921624891782727, -0.00581651088725188, 0.005102186335427028, 0.023211245143774484, -0.002141437187911599, 0.018071468158464832, -0.0029936281906568496, 0.025022151024609585, 0.012345809858766543, 0.0037440069248013685, -0.009624739430773133, -0.01061008527769669, 0.01745895587524071, 0.015621419025569239, 0.007552235468321733, 0.003637483049457657, 0.0016667913556078773, -0.003739295318059277, -0.012074788563666061, -0.006668701889998907, -0.005337153448207843, -0.0011294603721516694, 0.008191378720380449, 0.012292547921094688, -0.0026740565646266035, 0.00630057993303712, -0.008426345833161264, 0.015355109337212625, -0.004271914694776058, 0.000281980976146734, -0.011355752405099118, 0.005581543774471953, 0.014236608646108984, -0.005283891510535987, 0.020228576634164774, -0.006215975419789466, -0.006109451544446642, -0.00975789427495144, 0.00845768840873884, -0.0072013212667139115, -0.004671379227312755, 0.007206032873456003, -0.003952343068745812, -0.0033131998166862076, 0.008857152941275537, -0.0012626152163299764, -0.024884284573688298, -0.008479607770832231, 0.010215332351901196, 0.005874484431664939, -0.0004104242135838376, 0.00033524291381858973, -0.008985596178711752, 9.556419429657126e-05, 0.007765283219006491, -0.006082820575611159, 0.001906470075130784, -0.007867095487609888, -0.012207943407846145, 0.005874484431665827, -0.013432967974292609, 0.003797268862472336, 0.012718643422468645, 0.004782614709398558, -0.009704632337279584, 0.008058223876201254, 0.014582811240972937, -0.0040056050064185555, -0.005203998604029536, 0.0003086119449822178, -0.01899884046097533, -0.007680678705757948, 0.014396394459122774, 0.004755983740562186, 0.014316501552616323, 0.01881713528586637, -0.012580776971547358, 0.027232521437981383, 0.026114020746877742, -0.004032235975253151, 0.009363141349155946, 0.01658013390365909, -0.005044212791014857, -0.0033664617543589515, -0.011781847906473963, 0.0063538418707107525, 0.017219277155717805, -0.000836519714956907, 0.0031314946415772482, -0.009624739430773133, -0.012234574376682517, -0.017134672642468374, -0.011595431124622912, 0.001613529417937798, 0.004170102426174438, 0.016127407433450536, -0.004484962445461704, -0.0004903171200911771, -0.00033053130707560996, 0.0005749216333406082, -0.006615439952326163, 0.0029717088285625692, 0.0050755553665924324, -0.0052838915105368756, 0.0031048636727417644, 0.0032646494857564434, -0.003765926286895649, 0.005075555366591544, 0.003158125610412732, -0.004405069538955253, -0.014391682852381571, -0.008000250331788195, 0.013198000861511794, -0.005843141856088252, -0.005656725074237201, -0.009172012960563691, -0.016894993922947243, -0.0034463546608654028, -0.006668701889998019, -0.009438322648922082, 0.008697367128260858, -0.00011748355639085162, 0.014582811240972937, -0.010583454308862095, -0.0006234719642703723, 0.002066255888145463, 0.010295225258409424, -0.003925712099911216, 0.002066255888145463, 0.006593520590232771, -0.004058866944089523, -0.005124105697522197, -0.017214565548975713, 0.0039304237066524195, 0.011493618856021293, -0.005763248949581801, -0.0017153416865394178, -0.009917680087966119, 0.0188970281923746, 0.0011874339165647285, 0.01719264618688321, 0.008058223876201254, -1.095968104714018e-05, 0.003051601735071685, 0.0006814455086852078, 0.008271271626887788, 0.00888378391011102, 0.00845768840873884, 0.008031592907364882, -0.008426345833161264, -0.014524837696559878, 0.0008678622905344824, 0.00012219516313116685, -0.026162571077806618, -0.00453822438313356, -0.00256753268928378, 0.0015070055425940865, -0.011382383373936378, 0.008191378720381337, 0.0004950287268332687, 0.010215332351902084, -0.0049376889156702575, 0.002865184953219746, 0.00845768840873884, -0.009544846524264017, -0.003899081131073956, 0.010534903977931442, -0.013379706036620753, -0.003552878536208226, -0.004911057946834774, -0.00038379324474835386, 0.01375725120706317, -0.006136082513282126, 0.00614079412002333, 0.006593520590232771, 0.0008944932593717425, -0.0050974747286849365, 0.0007080764775198034, -0.0154036596681415, 0.019136706911896617, -0.016921624891782727, 0.006247317995367041, -0.019371674024676544, 0.012532226640616706, 0.0032646494857564434, 0.0008412313216981104, 0.003983685644323387, -0.014764516416082785, 0.00547501989912913, -0.012793824722233893, 0.006486996714889948, -0.023153271599361425, 0.0055282818368000974, -0.00011748355639085162, 0.016074145495779568, -0.006082820575611159, -0.00453822438313356, 0.011227309167662902, 0.00779191418784464, -0.003899081131073956, -0.0059230347625955915, 0.005288603117277191, 0.008777260034769085, 0.003024970766235313, 0.002092886856981835, 0.009256617473812234, 0.012665381484795901, 0.002705399140205067, 0.01594099065160126, -0.002940366252985882, 0.009309879411484978, 0.00896367681661836, -0.004884426978000178, -0.001289246185164572, -0.01010409686981717, -0.015936279044857393, -0.015297135792799565, -0.0026474255957911197, -0.009544846524265793, 0.007126139966948664, 0.005981008307009539, 0.015088799648854234, -0.0020881752502397433, -0.0004636861512565815, -0.006295868326297693, 0.006247317995367041, 0.001959732012803528, -0.005896403793760108, 0.01506216868001875, -0.00357950950504371, 0.00382389983130782, -0.004857796009164694, -0.002780580439970315, 0.015701311932078355, 0.019296492724912184, 0.005182079241935256, 0.002012993950473607, -0.011781847906472187, -0.0009696745591361022, -0.010290513651666444, 0.004649459865218475, -0.01223457437668074, -0.012900348597575828, 0.01154688079369226, -0.01806675655172363, 0.001746684262116105, -0.006988273516029153, -0.00030390033824101437, -0.010317144620503704, 0.0008412313216981104, -0.005443677323550666, 0.002865184953219746, 0.007126139966948664, -0.009544846524264905, 0.00017545710080302257, -0.009864418150294263, 0.015408371274882704, -0.017321089424319425, 0.004596197927546619, 0.002518982358354016, -0.0058964037937592195, 0.008803891003605457, 0.007525604499485361, -0.0063491302639668845, 0.003344542392263783, -0.0027273185023002355, 0.022971566424253353, 0.007658759343664556, 0.008990307785453844, -0.006082820575611159, -3.759064988262395e-05, 0.015701311932077466, 0.00315812561041362, -0.013619384756142772, -0.012500884065040019, 0.0007879693840262547, 0.0050489243977560605, -0.012074788563666061, -0.009251905867071919, 0.00044176678915963663, -0.007813833549938032, 0.0022526726699956257, 0.004436412114531052, 0.020654672135537844, 0.0032646494857564434, 0.005954377338174055, -0.0027006875334629754, -0.004831165040326546, -0.003765926286896537, -0.01668194617226071, -0.012793824722234781, 0.0007879693840262547, -0.01308676537942599, -0.003925712099910328, -0.017693922988021527, -0.016815101016439016, -0.0027006875334638636, -0.019478197900021144, 0.010481642040259587, -0.015776493231843602, 0.0015602674802659422, 0.011999607263900813, -0.01327318216127793, -0.012234574376681628, -0.01010409686981717, 0.00957618909984248, 0.004969031491248721, 0.0030782327039062807, -0.004138759850596863, 0.01615403840228513, 0.021320446356432043, -0.0062692373574622096, 0.010934368510469028, 0.018204623002644027, 0.0006281835710124639, 0.01136046401184121, 0.010321856227244908, -0.021608675406883826, -0.007627416768086981, -0.009251905867071919, 0.0013205887607430356, 0.003211387548085476, -0.003126783034836933, 0.0005482906645051244, -0.009038858116384496, 0.002119517825818207, -0.013779170569158339, -0.010210620745159993, -0.017986863645214513, 0.0034510662676074944, 0.008084854845037626, -0.009225274898235547, 0.015328478368376253, -0.0012892461851654602, 0.009150093598469411, -0.010210620745159993, -0.004511593414298076, 0.003024970766235313, 0.025554770401325477, -0.0027539494711357193, 0.006327210901873492, 0.005554912805636469, -0.010183989776325397, -0.002114806219075227, 0.007578866437158105, -0.018226542364738307, 0.0026521372025332113, 0.009229986504977639, 0.007925069032022947, 0.004356519208024601, -0.0007832577772859395, 0.008084854845038514, -0.0036860333803874212, -0.008506238739668603, 0.008777260034769974, -0.005816510887252768, -0.008080143238295534, -0.004378438570118881, -0.004724641164984611, 0.0068065683409184174, 0.003477697236442978, -0.0003305313070773863, 0.0006281835710115757, -0.010743240121875886, -0.007920357425280855, -0.017933601707544433, -0.006748594796507135, -0.005789879918416396, -0.005070843759850341, 0.0052087102107707395, -0.005470308292387038, -0.008239929051311101, -0.0041653908194332345, -0.004724641164984611, -0.0008897816526296509, -0.003419723692029919, 0.008617474221753518, 0.008351164533396016, -0.008852441334534333, -0.006455654139311484, -0.004245283725938798, -0.020570067622288413, -0.015456921605813356, -0.007307845142057623, 0.010428380102587731, 0.011573511762526856, 0.0018798391062953002, -0.0022479610632544222, -0.006562178014655196, 0.008004961938530286, -0.0024077468762691012, 0.008510950346410695, -0.0194249359623484, -0.0018751274995532086, -0.0005968409954348886, 0.01564804999440561, 0.013464310549870184, 0.0035842211117866896, -0.007654047736922465, 0.005448388930292758, -0.01327318216127793, -0.013699277662651, 0.01836440881565693, 0.0026255062336977275, 0.013038215048497115, -0.0023811159074327293, -0.001795234593044981, -0.005763248949580024, -0.004218652757103314, 0.003930423706651531, -0.0030468901283295935, 0.014263239614944467, 0.001240695854235696, 0.0011874339165647285, -0.0012626152163308646, 0.0025456133271895, 0.002865184953219746, 0.018710611410523548, -0.005523570230058894, -0.017347720393155797, -0.011249228529756294, 0.009762605881692643, -0.005896403793760108, 0.012878429235483324, -0.004857796009162918, 0.004889138584740493, 0.0021727797634891743, 0.012798536328975096, 0.010321856227245796, 0.0068065683409184174, 0.009416403286827801, -0.0015821868423593344, -0.0023811159074336175, 0.026912949811952025, 0.012319178889930171, 0.005261972148442595, -0.008293190988982957, 0.011253940136497498, 0.014875751898168588, 0.002039624919309091, 0.006194056057695185, -0.006455654139312372, -0.009891049119130635, 0.0010809100412219053, 0.003184756579249104, -0.0027006875334638636, 0.016526871965987233, -0.01377917056915745, 0.008431057439903356, 0.0013738506984148913, -0.003233306910178868, 0.017352431999897, 0.002199410732324658, -0.005896403793760108, 0.009016938754290216, 0.004143471457338066, 0.01066805882210975, 0.007871807094351091, 0.003344542392264671, 0.015381740306048108, 0.008138116782708593, -0.0015289249046883668, 0.01357083442521212, -0.0031534140036715286, 0.0052087102107707395, -0.02070322246646672, 0.004596197927546619, 0.006939723185098501, -0.0004903171200911771, -0.0194249359623484, -0.0006234719642694841, -0.006455654139312372, -0.020357019871601878, -0.0037392953180583888, 0.008164747751544965, 0.007498973530649877, -0.0012093532786581207, -0.00025063840056915865, 0.01556815708789916, -0.005550201198894378, -0.002274592032089906, -0.008452976801996748, 0.003664114018294029, -0.01266066987805381, -0.013992218319843985, 0.008564212284081663, -0.0017419726553740134, -0.0097845252437887, 0.008138116782708593, -0.013965587351008502, -0.022727176097989243, -0.0031800449725079005, 0.015328478368375364, -0.0001441145252254472, 0.010561534946767814, -0.00030390033824101437, -0.005363784417044215, 0.003184756579249104, -0.0034729856297008865, -0.03646875601726318, -0.007254583204385767, 0.007845176125515607, 0.0007879693840271429, -0.015616707418828923, 0.011333833043005725, 0.006114163151186958, -0.0097845252437887, -0.002114806219075227, 0.01887039722353734, 0.00582122249399486, 0.01101426141697548, -0.004698010196150015, -0.003100152066001449, 0.008324533564559644, -0.0027539494711357193, 0.012585488578287674, -0.013646015724980032, 0.01066805882210975, -0.002594163658120152, 0.018444301722166045, -0.00821329808247473, 0.011094154323483707, 0.008484319377575211, -0.012181312439008884, -0.005789879918416396, -0.0017686036242103853, -0.002088175250238855, -0.003446354660866291, 0.014263239614944467, 0.004010316613159759, -0.021022794092496966, 0.01032185622724402, 0.006833199309753013, 0.015701311932077466, -0.011195966592085327, 0.0003086119449822178, -0.009651370399608616, 0.0016401603867732817, -0.016655315203424337, -0.002168068156747971, 0.005901115400500423, -0.007414369017400446, 0.0037440069248013685, 0.01120067819882653, -0.0016887107177030458, -0.004058866944088635, 0.012186024045750976, 0.0003618738826549617, -0.0002772693694055306, -0.011542169186951057, 0.0009743861658781938, 0.010455011071424103, -0.013566122818470916, 4.230225662471554e-05, 0.009150093598468523, -0.004058866944089523, 0.011600142731363228, -0.005097474728685825, -0.013406337005458013, 0.004249995332680889, 0.0031314946415781364, 0.005315234086114451, -0.0023278539697617617, -0.0013158771540018321, -0.0014224010293446554, -0.0036860333803874212, 0.011147416261155563, -3.759064988262395e-05, -0.001022936496807958, 0.007552235468320845, -0.002141437187911599, 0.010561534946766926, -0.017480875237334104, 0.001906470075130784, -0.01130249046742815, -0.016389005515066835, 0.00539512699262179, -0.0038458191934021, 0.00486250761590501, -0.005736617980745429, -0.005257260541700504, -0.0004903171200911771, -0.008426345833161264, 0.00033524291381770155, 0.02121392248108922, 0.004409781145697345, -0.0046447482584772715, -0.0007033648707786, -0.018892316585632507, -0.009438322648922082, -0.00685511867184907, 0.009815867819364499, -1.095968104714018e-05, 0.013357786674526473, -0.004431700507789849, 0.0008412313216989986, -0.008080143238295534, 0.0064869967148890595, 0.011147416261155563, 0.005075555366591544, -0.018439590115423066, 0.018843766254701855, -0.012873717628740344, 0.01008217750772289, -0.0018218655618804647, 0.007925069032022947, -0.027360964675418487, -0.005177367635192276, 0.00736581868647157, 0.023903650333505944, 0.00872399809709723, -0.004937688915671146, -0.00847960777083312, -0.007281214173221251, -0.004804534071491062, -0.004431700507789849, -0.004245283725939686, -0.0008897816526287627, 0.007419080624142538, 0.001427112636086747, -0.0024876397827764407, -0.008559500677341347, 0.020308469540672114, -0.0029137352841503983, 0.004196733395009922, 0.007339187717635198, 0.02233242317219375, -0.014604730603068994, -0.009944311056801602, 0.007712021281336412, 0.008297902595723272, -0.0011294603721516694, -0.006482285108147856, -0.004378438570118881, 0.010162070414228452, 0.003823899831308708, 0.0038771617689805637, -0.016042802920201105, 0.008138116782708593, -0.0027006875334629754, -0.008772548428026994, -0.008239929051311101, 0.007179401904619631, 0.0018265771686234444, 0.002066255888146351, 0.008244640658052305, -0.0033930927231944352, -0.00650891607698334, 0.008723998097095453, -0.0030202591594923334, -0.012474253096204535, 0.004489674052202908, 0.017139384249211354, 0.0012939577919075518, 0.0034510662676074944, 0.0016135294179369097, 0.0010542790723855333, -0.012687300846889293, -0.010476930433518383, 0.004489674052203796, -0.021022794092497854, -0.0038458191934021, -0.006189344450953982, -0.00959810846193676, -0.00789372645644626, 0.0014803745737577145, -0.005417046354716071, -0.003952343068745812, 0.0052087102107707395, -0.0014224010293446554, -0.013486229911963576, -0.004112128881761379, -0.00325993787901524, -0.006828487703013586, 0.002172779763488286, 0.013650727331722123, -0.015190611917454966, -0.006375761232804145, -0.007893726456444483, -0.0029137352841503983, 0.00094775519704271, -0.0023278539697617617, 0.009096831660798443, -0.009544846524264905, 0.01658013390365909, 0.018311146877985074, -0.008932334241041673, 0.0035842211117866896, -0.010317144620502816, -0.005177367635192276, -0.0017153416865385296, 0.004702721802888554, -0.005630094105400829, 0.005927746369337683, -0.009305167804742887, 0.003024970766235313, -0.008346452926653036, 0.008750629065932714, 0.0025988752648613556, 0.013357786674527361, -0.009278536835906515, -0.0016620797488666739, -0.015243873855126822, -0.01729445845548483, -0.002940366252985882, -0.006002927669102931, -0.01037040655817556, -0.014950933197933836, 0.011866452419722506, 0.0006814455086852078, 0.0006281835710124639, -0.012234574376681628, -0.0018751274995540967, 0.015088799648854234, -0.004405069538955253, -0.010183989776325397, 0.009682712975186192, -0.001022936496807958, -0.0003571622759128701, 0.007206032873456003, -0.0005435790577630328, -0.010130727838652653, -0.01010409686981717, -0.0070149044848628606, -0.004005605006417667, 0.0006814455086852078, 0.00880389100360457, 0.005288603117278079, -0.0029669972218204776, -0.012687300846888405, 0.010508273009096847, 0.013890406051242365, 0.008031592907364882, 0.0043831501768600845, 0.003823899831308708, -0.003712664349223793, -0.010423668495847416, 0.01924323078723944, 0.006726675434411078, -0.0013158771540018321, -0.007414369017400446, 0.0033978043299356386, 0.010641427853274266, 0.0031048636727408763, -0.015456921605813356, 0.004276626301517261, 0.010774582697454349, -0.02403209357094216, -0.009571477493100389, -0.012793824722233005, -0.0016088178111948181, 0.0052087102107707395, 0.005847853462829455, 0.005421757961458162, -0.0047512721338192065, -0.006562178014654307, 0.00017545710080302257, -0.005976296700266559, 0.017139384249211354, -0.004804534071491062, 0.009016938754291104, 0.0023325655765038533, 0.0063538418707107525, 0.005688067649815665, -0.013113396348263251, -0.005257260541700504, -0.004245283725939686, 0.008351164533395128, 0.008777260034768197, -0.001156091340986265, -0.005630094105400829, 0.006966354153933985, -0.007627416768086981, 0.006380472839547124, 0.007738652250171896, 0.015861097745092145, -0.0009164126214642465, -0.01343296797429172, -0.01772055395685701, 0.005927746369336795, -0.01814664945823008, 0.01263875051595953, 0.01426323961494358, -0.01609606485787296, -0.0007832577772859395, 0.010881106572797172, -0.0021680681567461946, 0.010188701383065712, -0.009118751022892724, 0.013544203456377524, 0.0011341719788919846, 0.006407103808382608, 0.0005216596956696407, -0.0021946991255825665, -0.014444944790053427, 0.0017733152309515887, 0.01599425258927134, -0.0007033648707777118, -0.005843141856087364, -0.009917680087966119, 0.009629451037513448, 0.004276626301518149, -0.0034996165985381467, 0.010215332351902084, 0.013144738923839938, 0.002385827514174821, -0.015403659668140612, 0.00222604170116103, 0.017725265563599102, -0.004165390819432346, -0.004618117289641788, -0.0015821868423593344, -0.006455654139311484, 0.007126139966947775, 0.0034244352987711224, 0.009602820068677964, -0.008612762615012315, -0.0012626152163299764, 0.0076321283748290725, 0.008324533564560532, 0.006380472839547124, -0.016042802920201993, -0.006295868326297693, 0.00675330640324745, 0.001373850698414003, -0.018466221084260326, 0.006700044465576482, -0.009837787181459667, -0.016282481639723123, -0.007547523861579641, -0.003446354660867179, -0.01772055395685701, 0.0083777955022315, 0.0024923513895185323, 0.012798536328974208, -0.00975789427495144, -0.003765926286895649, 0.0015336365114295702, 0.004942400522412349, -0.010397037527010156, -0.005976296700266559, 0.007046247060440436, 0.00486250761590501, -0.018040125582886368, 0.0034510662676074944, -0.017161303611303858, 0.018976921098881938, 0.0006814455086843196, -0.0026474255957911197, -0.0057898799184172844, -0.0011294603721507812, -0.0025675326892846684, 0.012452333734108478, 0.008004961938529398, -0.0043251766324479135, -0.004405069538955253, 0.013171369892675422, -0.004990950853342113, 0.00582122249399486, 0.014769228022825764, 0.011680035637870567, 0.01567468096324287, 0.008191378720381337, 0.0006814455086843196, -0.006801856734177214, -0.009225274898235547, 0.009496296193334253, -0.00011748355639085162, 0.00222604170116103, -0.004165390819432346, -0.007148059329042944, 0.009709343944021676, 0.00385053080014508, 0.0027320301090405508, -0.02379241485142014, 0.017405693937568856, 0.0134376795810347, 0.006273948964202525, -0.005763248949580024, -0.0044849624454625925, 0.0083777955022315, -0.01724119651781386, 0.0039037927378160475, 0.011759928544377019, 0.006380472839547124, -0.0018751274995532086, 0.019829112101628077, -0.017427613299663136, -0.0003039003382401262, -0.020330388902765506, -0.007334476110893107, -0.015643338387664407, -0.003952343068747588, 0.018577456566344352, 0.009256617473812234, -0.008452976801997636, 0.006087532182351474, -0.0016620797488666739, -0.002940366252985882, 0.001267326823072068, 0.013730620238228575, -0.015803124200679974, -0.0007832577772850513, -0.02003744824557252, -0.013113396348263251, -0.008000250331788195, 0.015940990651600373, -0.006002927669102043, 0.012345809858766543, -0.01026388268283096, -0.0004370551824202096, 0.0048891385847413815, -0.005363784417044215, 0.008937045847782876, -0.009811156212623295, -0.006828487703013586, -0.001848496530718613, 0.012771905360139613, -0.022753807066824727, 0.005581543774471953, 0.00012219516313116685, 0.007578866437158105, -0.013672646693814627, 0.001586898449101426, 0.013011584079661631, 0.0011341719788919846, 0.020255207603000258, -0.0006234719642712605, -0.0029936281906568496, 0.01247896470294485, -0.0005968409954348886, -0.009811156212624184, -0.008559500677341347, 0.00949629619333514, 0.006407103808382608, -0.00650891607698334, -0.01156880015578654, 0.013437679581033812, 0.017245908124554177, -0.004085497912925007, 0.01575457386975021, -0.01574986226300723, -0.005203998604029536, 0.005261972148441707, -0.0007832577772859395, 0.009469665224498769, -0.011488907249279201, -0.01934504305584106, 0.008590843252917146, 0.02435637680371361, -0.014791147384918268, 0.005981008307008651, 0.0008146003528626267, 0.0010276481035491614, 0.0027586610778769227, 0.014156715739601644, -0.010183989776324509, 0.005421757961457274, 0.005075555366591544, 0.014316501552616323, 0.00922998650497675, 0.014130084770765272, 0.007046247060440436, 0.012026238232736297, 0.0034244352987711224, 0.0005749216333414964, -0.013273182161277042, 0.005315234086113563, -0.021928247032914072, 0.010108808476559261, -0.0027006875334638636, -0.015350397730469645, -0.007361107079729479, 4.230225662471554e-05, -0.003286568847851612, -0.01095628787256242, 0.005901115400501311, -0.00547030829238615, 0.0026521372025340995, -0.005683356043072685, -0.009811156212624184, 0.009762605881693531, -0.004378438570118881, -0.0007832577772850513, -0.007014904484864637, -0.005150736666356792, 0.004329888239188229, -0.012740562784562037, 0.002039624919309091, 0.009096831660798443, -0.0017153416865394178, 0.002385827514175709, 0.004649459865218475, 0.004942400522413237, 0.015142061586525202, 0.021426970231776643, 0.01514206158652609, 0.004489674052203796, 0.017166015218047725, -0.0036061404738800817, -0.0014756629670165111, -0.0015821868423602226, -0.0028871043153140263, -0.02610930914013565, 0.008830521972440053, -0.008000250331788195, -0.005656725074238089, 0.0008944932593717425, -0.0017686036242094971, -0.002461008813940957, 0.002332565576502965, -0.006242606388625838, -0.004032235975252263, 0.006939723185098501, 0.005182079241935256, 0.014050191864257044, -0.0015289249046883668, 0.003477697236442978, -0.00685511867184907, 0.007232663842291487, -0.0018484965307177248, 0.006992985122769468, 0.0014803745737577145, -0.01601617195136562, 0.0015602674802659422, 0.006700044465575594, -0.0031800449725079005, 0.007552235468320845, 0.004170102426172662, 0.005261972148441707, 0.009150093598469411, 0.00864410519058989, 0.0033445423922655593, -0.010290513651667332, 0.009469665224499657, -0.0013957700605091716, 0.006220687026532445, -0.008186667113640134, 0.014023560895422449, -0.008373083895489408, -0.0007832577772850513, 0.01016207041422934, -0.0013691390916736879, -0.011755216937636703, -0.005177367635193164, -0.0014224010293446554, -0.0006234719642703723, 0.011999607263900813, 0.003530959174115722, 0.026140651715713226, 0.006913092216263017, -0.017108041673633778, -0.0042985456636115416, 0.006433734777217204, -0.001821865561882241, -0.014072111226351325, 0.00744571159297891, 0.015142061586525202, 0.011333833043005725, 0.02198622057732713, 0.004516305021040168, 0.011520249824857665, 0.010827844635125317, 0.004489674052203796, 0.014396394459122774, 0.003344542392264671, -0.005550201198895266, 0.010694689790946121, 0.011972976295064441, -0.0009164126214633583, -0.008133405175966502, 0.007658759343664556, 0.0141034538019289, -0.009118751022892724, 0.01066805882210975, 0.006114163151187846, 0.0008146003528635148, -0.008293190988982069, -0.009651370399608616, 0.01282516729781058, 0.008351164533396016, 0.024063436146519734, -0.00025063840056915865, 0.005661436680979293, -0.0005968409954348886, -0.0058964037937592195, 0.006593520590231883, -0.027414226613089454, -0.014285158977038748, 0.009629451037514336, -0.019424935962349288, 0.007925069032022058, -0.0036061404738800817, -0.004112128881760491, 0.010588165915603298, 0.014236608646108095, 0.00385053080014508, 0.0029184468908907135, -0.010450299464682011, 0.008963676816617472, -0.008000250331788195, 0.0006814455086843196, 0.00020208806963939452, -0.010450299464682011, 0.020281838571834854, 0.0037173759559658848, -0.004351807601283397, 0.00022871903847576647, -0.00488442697799929, -0.000969674559135214, -0.019078733367483558, -0.020996163123661482, 0.006833199309753901, 0.015781204838584806, 0.0002553500073121384, 0.007392449655306166, 0.009096831660798443, 0.004249995332683554, 0.002385827514175709, 0.003850530800144192, -0.008053512269460938, 6.893322545931113e-05, -0.0034996165985372585, -0.016815101016439016, 0.014156715739600756, 0.009283248442648606, -0.00033053130707649814, -0.008532869708504087, 0.015541526119063676, -0.012314467283187192, 0.003477697236442978, -0.012021526625995094, -0.007467630955072302, -0.013113396348263251, -0.016522160359246918, 0.0033978043299356386, -0.003579509505044598, -0.006695332858833503, 0.001906470075130784, -0.006615439952326163, 0.007206032873456003, 0.0055282818368000974, 0.013703989269392203, -0.0025675326892846684, 0.01050827300909507, 0.0014803745737577145, 0.016446979059480782, 0.012212655014587348, 0.0014803745737577145, -0.01061008527769669, 0.021533494107119466, 0.0002819809761476222, -0.007334476110893107, -0.0006501029331067443, 0.00012219516313205503, -0.007334476110893107, 0.006966354153933985, -0.0020082823437324038, -0.005789879918416396, -0.0007033648707786, 0.0032380185169209597, -0.003899081131073956, -0.006295868326297693, 0.0024923513895185323, -0.0004903171200911771, -0.011462276280441941, 0.004143471457338066, 0.009043569723126588, 0.00709950899811318, 0.00012219516313205503, 0.0021727797634891743, -0.0016887107177021576, -0.003100152065999673, -0.003792557255732021, 0.010321856227244908, 0.0008944932593708543, -0.00017074549406093098, -0.008666024552683282, 0.015541526119063676, 0.00451630502103928, 0.0029450778597270855, -0.017693922988021527, -0.010956287872563308, -0.008080143238295534, 0.001400481667250375, -0.02826641761583648, -0.00419202178826783, -0.002780580439971203, -0.006615439952327051, 0.002359196545339337, 0.0047293527717267025, -0.014604730603068994, 0.005341865054949935, -0.0014490319981801392, -0.011036180779070648, 0.004649459865218475, 0.011067523354647335, -0.0049376889156702575, -0.003765926286895649, 0.021347077325268415, 0.009895760725872726, 0.0074723425618143935, -0.006588808983490679, 0.006486996714889948, -0.0034996165985372585, 0.004329888239189117, 0.019136706911897505, 0.02001552888347824, 0.02329113805028271, 0.0031314946415772482, 0.004329888239188229, -0.00909212005405724, 1.567128778923177e-05, 0.009123462629634815, 0.003850530800144192, 0.0029450778597270855, 0.00315812561041362, 0.007072878029276808, -0.011622062093457508, -0.005656725074238089, -0.008080143238296422, 0.003504328205278462, 0.010534903977931442, 0.006034270244679618, 0.0030782327039062807, 0.0007347074463552872, -0.016122695826708444, -0.007281214173221251, 0.01711275328037498, -0.004245283725939686, -0.0015555558735247388, 0.0003618738826549617, -0.006109451544445754, -0.012367729220859935, -0.01037040655817556, 0.0008944932593708543, 0.007605497405993589, -0.014657992540739073, 0.01215939307691638, 0.011653404669035083, 0.01146698788718492, -0.014418313821217055, -0.006642070921162535, -0.01950482886885574, -0.004458331476627109, -0.02224781865894343, -0.007867095487609888, 0.017352431999897888, 0.004676090834054847, -0.0019017584683886923, 0.008004961938530286, -0.008905703272206189, 0.009363141349156834, 0.001427112636086747, 0.008084854845038514, -0.011488907249279201, -0.01606943388903659, 0.017592110719420795, 0.02052151729135865, -0.003126783034836045, 0.002305934607666593, 0.008590843252917146, 0.006886461247426645, 0.00041513582032504104, 0.005688067649815665, -0.01660205326575337, 0.001400481667250375, 0.003957054675487903, -0.0044583314766262205, 0.009815867819364499, -0.00033053130707649814, -0.0005702100265985166, 0.007419080624142538, -0.015297135792799565, 0.030747809324306985, -0.0048045340714919504, -0.010929656903726936, -0.004458331476627109, 0.003371173361101043, 0.01804483718962846, -0.010050834932145314, -0.01345959894312898, -0.0032066759413442725, 0.0011874339165638403, 0.02076119601087978, 0.0027586610778769227, -0.004351807601283397, 0.0018532081374589282, 0.007845176125514719, -0.0009430435902988421, 0.008830521972440053, 0.0016401603867732817, 0.010774582697454349, 0.0033978043299356386, 0.011946345326228958, -0.015456921605812468, -0.006136082513282126, 0.0008146003528626267, -0.008719286490355138, -0.000676733901942228, -0.021315734749691728, 0.0074723425618143935, 0.002226041701160142, 0.006114163151188734, -0.0027273185022993474, 0.009682712975186192, -0.008239929051311101, 0.002332565576502965, -0.009731263306115956, 0.01540837127488448, 0.010668058822110638, -0.004937688915671146, 0.011387094980677581, -0.0022479610632544222, 0.012692012453632273, -0.007307845142057623, -0.007307845142057623, 0.010508273009095959, -0.010982918841398792, -0.010130727838651765, -0.0012093532786572325, 0.001613529417937798, 0.0018798391062953002, 0.004729352771724926, 0.0072859257799633426, -0.0012892461851663484, 0.00222604170116103, -0.004751272133820095, 0.00606090121351599, -0.013672646693815516, 0.00347769723644209, -0.0033930927231944352, 0.004329888239188229, 0.01136046401184121, 0.011786559513214279, -0.002540901720450073, 0.004276626301517261, 0.010774582697454349, 0.001906470075130784, 0.0050489243977560605, -0.009305167804742887, -0.012607407940381954, 0.001879839106294412, -0.005177367635192276, -0.0104502994646829, 0.003317911423428299, 0.011786559513214279, -0.008053512269460938, -0.004671379227313643, 0.002998339797398941, -0.0002772693694046424, 0.015461633212555448, 0.009256617473813122, -0.009544846524264017, 0.009496296193336029, -0.009251905867070143, -0.006189344450953982, 0.013677358300556719, 0.003957054675487903, 0.0076054974059927005, 0.0022793036388328858, -0.0025409017204491846, 0.008084854845038514, -0.013060134410590507, 0.008857152941275537, -0.019238519180498237, -0.0002772693694046424, 0.002865184953220634, 0.014476287365631002, 0.0024657204206821604, -0.012234574376682517, -0.001795234593044981, 0.0013738506984148913, 0.007738652250171896, -0.017534137175006848, 0.012319178889930171, 0.00811148581387311, -0.01577649323184449, 0.010561534946766038, -0.0212358418431835, 0.00033524291381858973, -0.001342508122837316, -0.00163544878003119, -0.006988273516028265, -0.015643338387664407, 0.00616742508886059, 0.010215332351902973, -0.0017686036242103853, -9.085258755536785e-05, -0.009571477493100389, -0.005097474728685825, 0.001560267480265054, -0.006881749640683665, 0.0024657204206839367, 0.003211387548085476, -0.01076987109071137, 0.005874484431664939, 0.003211387548085476, 0.0077386522501710076, 0.005315234086114451, -0.0023811159074336175, 0.006700044465576482, 0.014316501552615435, -0.012314467283188968, -0.004671379227314532, -0.018466221084259438, -0.005683356043072685, -0.004804534071491062, -0.007307845142057623, -0.0031534140036715286, -0.014871040291426496, -0.002088175250238855, -0.019744507588378646, 0.01514206158652609, 0.007046247060441324, -0.02352610516306264, 0.005954377338172279, 0.004889138584740493, -0.003739295318060165, 0.013144738923840826, 0.005102186335427916, -0.01412537316402318, 0.012878429235482436, -0.003925712099910328, -0.00291373528414951, 0.0069929851227703566, -0.004112128881761379, -0.005976296700266559, 0.006726675434411966, 0.004596197927547507, 0.014929013835838667, -0.0025142707516128127, 0.013091476986169859, -0.01780044686336435, 0.0005749216333406082, -0.01934504305584106, 0.01753884878174805, -0.005017581822178485, 0.0026521372025332113, 0.005927746369337683, 0.010960999479304512, 0.00038850485149044545, -0.0034729856297017747, 0.008484319377575211, 0.006593520590232771, 0.0002819809761476222, 0.0023059346076683696, 0.015435002243720852, 0.0026255062336977275, 0.010162070414230229, -0.011222597560919922, -0.005417046354715183, 0.0015602674802659422, 0.013331155705691877, 0.01857745656634524, 0.008777260034769085, -0.005869772824923736, 0.005794591525158488, -0.0034463546608654028, 0.00797833096969569, 0.007738652250171896, 0.005954377338173167, 0.0018532081374589282, 0.01101426141697548, 0.018790504317031775, 0.0006015526021752038, -0.012687300846889293, -0.006988273516027377, 0.0006548145398488359, 0.009895760725871838, 0.006886461247426645, 0.0032912804545928154, 0.00041513582032504104, 0.003344542392264671, -0.013406337005457125, -0.007494261923907786, 0.004383150176860973, 0.0006548145398479477, 0.005288603117278967, -0.01122259756092081, -0.003446354660866291, -0.01697488682945547, 0.011626773700198711, -0.012367729220859935, 0.01650024099715175, 0.004542935989875652, -0.00030390033824101437, -0.012740562784561149, -0.01993092437022881, 0.013490941518706556, -0.008639393583847799, -0.009997572994474346, 0.007259294811127859, 0.008644105190589002, 0.0037706378936368523, -0.002114806219075227, -0.023952200664435708, 0.0018532081374598164, 0.008404426471066984, -0.0036327714427164537, -0.002194699125584343, -0.021262472812019872, 0.0016401603867732817, 0.0017200532932806212, 0.01247896470294485, -0.0001441145252254472, 0.007605497405993589, -0.006402392201639628, -0.012900348597575828, 0.012931691173154292, 0.010827844635125317, -0.005177367635192276, 0.009309879411484978, 0.0008944932593708543, -0.0031800449725079005, 0.015914359682764, 0.007259294811127859, -0.009544846524264905, 0.0011075410100565009, 0.00219941073232377, -0.013885694444501162, -0.005390415385879699, 0.01540837127488448, 0.0024390894518466766, 0.0002287190384748783, 0.011333833043005725, 0.009443034255662397, 0.009016938754291104, 0.006620151559068255, -0.003925712099910328, 0.012345809858765655, 0.011253940136498386, -0.008186667113638357, -0.010183989776325397, -0.0024077468762691012, -0.009544846524265793, -0.01566996935650078, 0.009203355536141267, 0.004143471457338066, 0.0007613384151916591, 0.004489674052203796, -0.0039523430687467, -0.01566996935649989, 0.003317911423428299, 0.014582811240972937, -0.0026207946269547477, -0.006109451544446642, -0.008479607770832231, -0.005816510887250992, 0.006913092216262129, -0.004165390819432346, -0.012820455691069377, 0.01495564480467415, -0.008479607770832231, 0.00856421228408255, 0.008537581315247067, 0.009762605881693531, -0.000996305527971586, 0.008111485813874886, 0.026620009154757263, -0.012926979566413088, -0.005257260541700504, -0.006429023170476, 0.03133369063869473, -0.018333066240080242, 0.012798536328974208, -0.0028604733464776544, -0.009518215555428533, -0.0033930927231944352, 0.0003618738826540735, 0.008963676816619248, 0.013118107955005343, 0.007578866437158105, -0.0012359842474927163, -0.005070843759850341, 0.00443641211453194, -0.017427613299663136, -0.010210620745159993, 0.030561392542456822, 0.007445711592977133, 0.007472342561813505, 0.0038771617689805637, 0.009629451037513448, -0.011222597560919922, -0.002727318502298459, -0.019211888211661865, 0.01021533235190386, 0.01522195449303343, -0.0035528785362100024, 0.009363141349155946, 0.008670736159424486, -0.005337153448208731, -0.01172858596880122, -0.001182722309822637, -0.0012892461851654602, -0.007600785799250609, -0.003579509505044598, -0.002114806219075227, 0.00779191418784464, -0.000996305527971586, 0.014050191864257044, -0.016815101016439016, 0.012718643422467757, -0.004671379227314532, -0.010956287872561532, 0.0013205887607430356, -0.010663347215369434, 0.009762605881693531, -0.002514270751613701, -0.00975789427495144, -0.0173210894243212, 0.0074723425618143935, -1.0959681045363823e-05, 0.0018265771686234444, 0.0063538418707107525, 0.00041513582032504104, -0.012580776971547358, 0.005261972148440819, -0.002274592032090794, -0.01156880015578654, -0.004698010196150015, 0.0024923513895185323, -0.013965587351008502, -0.004138759850596863, -0.009891049119129747, -0.001475662967015623, -0.004591486320805416, 0.0011341719788919846, -0.010317144620502816, 4.230225662471554e-05, 0.004063578550831615, -0.012820455691070265, 0.006913092216263017, 0.006992985122769468, 0.0083777955022315, -0.001022936496807958, 0.010055546538887405, -0.0024077468762691012, 0.005554912805634693, -0.0021414371879098226, 0.02693958078078751, 0.006114163151186958, -0.009198643929398287, -0.0033664617543580633, 0.015301847399540769, -0.0031800449725079005, -0.020916270217154143, -0.002833842377643059, 0.010455011071423215, 0.006380472839546236, -0.009891049119130635, -0.011808478875308559, 0.005874484431665827, -0.029811013808311415, -0.009118751022893612, -0.013379706036620753, 0.001959732012803528, -0.0030468901283295935, -0.0011028294033144093, 0.0052087102107707395, 0.0064603657460526875, 0.0008146003528626267, 0.00017545710080391075, 0.0025456133271895, -0.0025142707516128127, -0.008293190988982069, -0.02962459702646214, 0.0057146986186520365, -0.005709987011908169, -0.015190611917454966, -0.002594163658120152, -0.003419723692030807, 0.013357786674526473, 0.004249995332681777, -0.0028338423776421706, -0.007334476110893107, 0.01016207041422934, -0.004618117289641788, -0.011435645311606457, 0.003823899831308708, 0.004409781145696456, -0.006748594796507135, 0.00888378391011102, 0.009922391694707322, 0.006779937372083822, -0.0036860333803883094, 0.005102186335427028, 0.012718643422467757, 0.0012939577919075518, -0.015137349979784887, 0.0074723425618143935, 0.0006814455086843196, 0.0014271126360858588, -0.0002240074317327867, 0.009309879411484978, 0.011653404669035083, -0.0008098887461214233, -0.006642070921162535, -0.0034729856297017747, 0.018311146877985962, -0.009172012960563691, 0.00811148581387311, 0.009096831660797555, 0.0053684960237854185, 0.0008146003528617385, -0.008905703272206189, 0.0011075410100565009, -0.006295868326296805, -0.01002420396330983, -0.002088175250238855, -0.006801856734177214, -0.021262472812019872, -0.007813833549938032, 0.011333833043005725, 0.009150093598469411, 0.013783882175898654, 0.01189308338855799, 0.008404426471066984, 0.013677358300556719, 0.0012939577919075518, 0.015594788056734643, -0.020916270217153254, -0.0047779031026555785, 0.0035842211117866896, -0.007148059329042944, 0.00864410519058989, -0.01412537316402318, -0.0038191882245675046, -0.006482285108148744, 0.003690744987130401, 0.0022793036388319976, -0.009997572994473458, 0.005128817304262512, -0.007148059329042944, 0.02803145050305389, 0.00219941073232377, 0.011094154323482819, 0.011014261416976368, 0.0009477551970418219, -0.011968264688324126, -0.007867095487609888, 0.028510807942099703, -0.003899081131074844, 0.0053152340861126746, 0.020255207603000258, -0.002966997221822254, 0.003957054675487903, -0.012580776971547358, 0.02113402957458188, -0.004990950853343001, 0.01974921919511985, 0.0032646494857564434, -0.009118751022892724, -0.007733940643429804, -0.016735208109932564, 0.013064846017333487, 0.005341865054949935, -0.008452976801996748, -0.008666024552682394, -0.009891049119129747, -0.0058964037937592195, -0.00821329808247473, 0.013118107955004454, -0.009624739430772244, 0.002092886856981835, -0.00038379324474835386, 0.014076822833094305, -0.010929656903726048, -0.01385906347566479, 0.004809245678234042, -0.008026881300625455, 0.010162070414230229, 0.0028385539843851504, 0.01908344497422476, 0.0025988752648613556, -0.005523570230058006, 0.0012939577919075518, 0.008590843252917146, 0.001373850698413115, 0.005341865054949935, -0.02166193734455657, -0.007520892892744158, -0.03191486034634128, -0.02158204443804923, -0.00025063840056915865, 0.01359746539404938, -0.004937688915671146, 0.0018265771686234444, -0.016655315203424337, 0.0019863629816381234, -0.0015289249046874787, 0.002092886856981835, -0.014764516416082785, 0.00667341349674011, -0.014764516416082785, -0.007654047736924241, -0.0002240074317327867, 0.005954377338174055, -0.01593627904485828, -0.0022479610632544222, -0.010317144620503704, 0.008351164533396016, -0.018865685616797023, 0.01309147698616897, -0.010237251713996365, 0.008990307785453844, 0.001400481667250375, 0.0039037927378169357, -0.010982918841398792, -0.015616707418828923, 0.002012993950473607, -0.0019017584683895805, 0.004702721802889442, -0.009251905867071919, -0.002620794626955636, 0.014502918334466486, 0.003051601735071685, 0.00667341349674011, -0.008479607770832231, 0.009203355536141267, -0.0018484965307177248, -0.006215975419789466, -0.01319328925477059, 0.0010010171347136776, 0.00443641211453194, 0.0009211242282072263, 0.010907737541633544, -0.004431700507789849, -0.0010761984344798137, 0.0005216596956687525, -0.0028338423776412824, -0.005417046354716071, -0.013060134410591395, 0.00736581868647157, -0.01830643527124387, 0.0012140648853993241, 0.0021461487946536906, 0.0005749216333406082, 0.0032646494857555552, -0.011515538218114685, 0.017059491342703126, 0.011280571105334758, 0.00046839775799689676, -0.0009430435903006185, -0.0008897816526287627, -0.0025675326892846684, -0.011009549810235164, 0.0033179114234291873, 0.010108808476559261, -0.004112128881762267, -0.01140901434277275, -0.022301080596614398, -0.013246551192441558, -0.003419723692029919, -0.022647283191480128, -0.019558090806527595, -0.010636716246533062, -0.0025142707516128127, -0.006269237357460433, -0.010050834932145314, -0.013486229911963576, 0.0009477551970418219, -0.012580776971547358, 0.003184756579249992, -0.012953610535248572, -0.00898559617871264, 0.0063005799330380086, 0.012106131139242748, -0.0022213300944198267, 0.002865184953219746, -0.003978974037582184, 0.0009743861658773056, -0.005017581822177597, -0.006056189606774787, 0.009949022663543694, 0.004995662460084205, 0.012212655014587348, 0.009922391694709098, 0.01642034809064441, -0.004857796009163806, 0.021613387013625918, -0.0036061404738800817, -0.01404548025751673, 0.01325126279918365, 0.0009477551970418219, -0.01907873336748267, 0.005688067649816553, -0.004245283725939686, 0.011573511762526856, 0.003477697236442978, -0.007946988394117227, -0.005523570230058894, 0.013411048612199217, -0.00011748355639085162, 0.001720053293279733, -0.02080974634181043, 0.0011341719788928728, 0.0065136276837254314, 0.010135439445393857, -0.0029137352841503983, -0.0029137352841503983, -0.00022400743173367488, 0.001107541010057389, -0.0020082823437324038, 0.013304524736856393, 0.010055546538886517, 0.0030249707662362013, 0.008777260034769085, -0.010476930433519271, 0.016446979059479894, 0.012532226640617594, -0.01559007644999344, 0.0012673268230711798, -0.006189344450953982, 0.004276626301518149, 0.007126139966947775, 0.013837144113572286, 0.013810513144735914, -0.00797361936295271, 0.01034848719608128, -0.006375761232804145, -0.00325993787901524, -0.010237251713996365, 0.01034848719608128, 0.0026255062336986157, 0.01317136989267631, 0.002012993950473607, 0.009309879411484978, 0.003690744987130401, 0.001373850698413115, -6.422161871988408e-05, 0.019456278537925975, 0.009096831660797555, -0.0002772693694046424, -0.014205266070531408, 0.0032380185169209597, 0.008750629065933602, -0.005763248949581801, -0.010317144620504592, 0.003983685644323387, -0.0035262475673736304, 0.013863775082406882, -0.00999757299447257, 0.0061674250888597015, 0.007365818686470682, 0.015248585461868913, -0.013060134410590507, -0.006056189606775675, -0.007946988394116339, -0.004218652757103314, 0.005714698618651148, 0.021080767636910913, 0.006034270244680506, 0.012159393076914604, 0.00938977231799143, 0.01170666660670694, -0.015829755169515458, -0.0067752257653426184, -0.01327318216127793, 0.009522927162171513, 0.013384417643361957, 0.01588772871392763, -0.002114806219075227, 0.0040902095196670984, -0.007227952235550283, 0.016739919716674656, -0.0070415354536992325, -0.01724119651781386, -0.004271914694776058, -0.003552878536209114, -0.007174690297878428, 0.0014271126360876352, -0.01428515897703786, -0.0019017584683886923, 0.0018798391062953002, 0.006859830278589385, -0.010024203963308942, 0.00891041487894828, -0.006375761232804145, -0.012021526625994206, 0.002412458483011193, -0.031275717094281674, 0.014423025427959146, 0.01197297629506533, 0.014209977677271723, -0.005656725074237201, -0.01068997818420403, -0.022407604471958997, -0.010130727838653542, -0.013326444098948897, 0.009096831660796667, -0.007414369017399558, -0.021102686999003417, -0.016389005515066835, 0.0007613384151916591, 0.003983685644323387, -0.00453822438313356, 0.02105413666807454, -0.0020349133125678875, -0.00821329808247473, 0.01897692109888105, 0.002412458483011193, 0.0011608029477274684, -0.005709987011909057, 0.005315234086113563, 0.006859830278589385, 0.002359196545338449, -0.005763248949581801, -0.008932334241041673, -0.0030735210971650773, -0.003712664349223793, -0.015643338387664407, 0.0016135294179369097, 0.0024390894518475648, -0.0015555558735238506, -0.01521724288629045, -0.012420991158531791, 0.018843766254701855, -0.0071746902978775395, -0.01772055395685701, 0.0007080764775206916, 0.0008146003528626267, -0.0007832577772859395, 0.01215939307691638, -0.0004636861512565815, 0.012292547921094688, -0.009305167804742887, 0.007818545156680123, 0.00025535000731125024, 0.012958322141989775, 0.010561534946766926, -0.009385060711251114, 0.014849120929332216, 0.023397661925625535, 0.0006281835710115757, 0.007232663842292375, -0.0011294603721516694, 0.0033179114234291873, 0.013890406051242365, -0.012181312439009773, -0.002940366252984994, 1.567128778834359e-05, -0.005843141856088252, -0.010263882682831849, 0.016074145495779568, -0.0012093532786572325, -0.0096780013684441, -0.006429023170476, -0.016149326795544816, -0.018279804302409275, 0.005554912805635581, 0.007818545156680123, -0.019744507588378646, -0.02576310654526992, -0.003899081131073956, -0.011701954999964848, 0.007259294811128747, 0.0011341719788919846, -0.0095714774930995, 0.004383150176860973, -0.019211888211661865, 0.005954377338173167, -0.0025409017204482964, 0.017086122311539498, 0.0188970281923746, -0.001662079748867562, 0.008910414878946504, 0.00041513582032504104, 0.0005216596956696407, 0.005927746369336795, -0.0023278539697617617, 0.010801213666289833, 0.01061479688443967, -0.0001441145252254472, 0.003983685644323387, 0.0034244352987720106, 0.008351164533396016, 0.000281980976146734, -0.002434377845104585, -0.005656725074238089, -0.006322499295133177, 0.015568157087898271, -0.005976296700266559, -0.006029558637938415, -0.0004636861512565815, -0.0029137352841503983, -0.004484962445461704, 6.893322546019931e-05, -0.004032235975254039, 0.003983685644322499, -0.005070843759850341, -0.008905703272206189, 0.004835876647068638, -0.00022400743173367488, 0.011227309167662014, -0.00933179877357837, 0.004942400522412349, 0.0011874339165629522, -0.0009696745591361022, 0.00582122249399486, -0.003925712099910328, -0.013193289254769702, -0.003552878536209114, 0.0009743861658781938, 0.0023059346076674814, -0.016042802920201105, -0.001928389437224176, 0.002865184953219746, -0.003579509505044598, 0.004809245678234042, -0.008239929051310213, 0.0011075410100565009, -0.010210620745159993, 0.001080910041220129, -0.017747184925693382, -0.005363784417044215, -0.006109451544446642, -0.009225274898235547, -0.0009696745591361022, -0.0023811159074336175, 0.0018532081374607046, -0.00030390033824101437, 0.01351757248754204, 0.0029184468908916017, 0.004969031491247833, -0.007148059329042944, 0.0068065683409184174, 0.020281838571834854, -0.013832432506829306, -0.008426345833161264, 0.0027586610778769227, 0.003850530800144192, -0.00959810846193676, 0.005288603117278079, -0.005017581822178485, 0.00291844689089249, -0.000836519714956907, 0.0026787681713695832, -0.006695332858834391, -0.01284708665990486, 0.010481642040260475, 0.017831789438942813, 0.0039037927378169357, -0.013273182161277042, -0.019877662432556953, -0.01489767126026198, 0.014849120929331328, -0.017267827486649345, -0.009837787181459667, 0.01745895587524071, -0.004511593414298076, -0.013326444098949786, -0.006988273516027377, -0.00453822438313356, 0.01146698788718492, 0.0032912804545928154, -0.00778720258110166, 0.013091476986169859, -0.0032333069101797562, 0.010561534946766926, 0.002545613327190388, -0.03612255342239745, -0.00746763095507319, 0.01317136989267631, 0.0016667913556087655, 0.02267862576705859, 0.00315812561041362, -0.001022936496807958, 0.0027852920467115183, -0.0008098887461214233, 0.014822489960495844, -0.007600785799250609, 0.01660676487249635, -0.012367729220859935, 0.004356519208024601, -0.005044212791013969, 0.023477554832131986, 0.015408371274885369, -0.0029936281906568496, 0.0076054974059927005, 0.008404426471066984, 0.010348487196080391, -0.009305167804742887, -0.004831165040327434, -0.008426345833161264, -0.0058964037937592195, -0.015243873855125933, 0.0016934223244442492, 0.004702721802890331, 0.007658759343664556, 0.010747951728617977, -0.011835109844144043, -0.0004903171200911771, 0.01026859428957394, 0.0034244352987720106, -0.01497756416676932, -0.009012227147549012, -0.01590964807602191, -0.008319821957817553, -0.015723231294171747, 0.007898438063186575, 0.008697367128260858, -0.0035262475673736304, 0.002039624919309979, -0.003712664349223793, 0.0022526726699956257, 0.006700044465576482, 0.007791914187842863, 0.029149951194159307, 0.010827844635125317, -0.0033398307855225795, 0.002066255888145463, 0.008990307785454732, 0.005395126992620014, -0.006402392201640517, -0.0030468901283287053, -0.004431700507789849, -0.005017581822178485, -0.010476930433517495, -0.008452976801997636, -0.01327318216127793, -0.0025409017204474083, 0.007232663842291487, 0.011946345326229846, -0.011968264688323238, -0.0003571622759128701, 0.012612119547124934, 0.00451630502103928, 0.007392449655307054, 0.01769863459476273, 0.004915769553576865, 0.006726675434411078, -0.008373083895489408, -0.0072013212667139115, 0.001080910041220129, 0.016154038402286908, -0.017267827486648457, -0.008799179396862478, -0.002887104315313138, -0.0005702100265994048, 0.01146698788718492, 0.016739919716673768, -0.010903025934891453, -0.0033398307855216913, 0.005554912805635581, 0.008324533564560532, 0.011839821450886134, 0.0012140648854002123, -0.02576310654526992, 0.017245908124555065, 0.008937045847782876, -0.0019283894372259525, -0.009970942025637974, -0.013646015724980032, -0.003872450162237584, -0.003126783034836045, 0.012345809858766543, 0.012745274391304129, -0.010077465900980798, -0.012527515033874614, 0.0011874339165638403, -0.014924302229097464, 6.893322546019931e-05, -0.01284708665990486, -0.022460866409630853, -0.007387738048563186, -0.018093387520559112, 0.0134376795810347, -0.002114806219076115, 0.014289870583779951, -0.0003571622759128701, 0.0042233643638454055, -0.0035262475673736304, 0.0009743861658773056, -0.0008098887461214233, 0.0032912804545928154, -0.0069083806095209255, 0.00667341349674011, -0.012367729220859935, 0.005288603117278079, -0.015190611917455854, -0.01590964807602191, 0.003690744987130401, -0.006988273516027377, -0.01505745707327577, 0.0005216596956687525, -0.0002240074317327867, 0.010028915570051034, -0.006482285108148744, 0.003957054675487903, -0.007627416768086981, -0.006562178014655196, 0.00701961609160584, 0.0011341719788928728, 0.011174047229991935, -0.021635306375721086, -0.019158626273990897, 0.00813811678271037, -0.012234574376681628, -0.0095714774930995, -0.012713931815723889, -0.012740562784561149, 0.015594788056734643, 0.005767960556322116, 0.019189968849568473, 0.0006814455086843196, -0.0010495674656434417, -0.008080143238295534, 0.00736581868647157, 0.008723998097096342, -0.005816510887252768, -0.012554146002711875, 0.02608738977804137, 0.0007347074463552872, -0.002780580439970315, 0.012292547921094688, -0.006801856734178102, -0.00874591745919151, -0.0060295586379375266, -0.0017952345930467573, -0.0005968409954348886, -0.01071660915304129, -0.011142704654413471, 0.005714698618651148, -0.014258528008202376, 0.018177992033807655, -0.012207943407845256, -0.015243873855126822, 0.018550825597509757, -0.009571477493100389, -0.007574154830415125, 0.0073125567487997145, 0.008218009689215933, 0.009975653632380066, 0.001906470075130784, 0.00779191418784464, -0.008612762615012315, -0.009464953617758454, -0.011142704654413471, 0.009309879411485866, 0.0005482906645051244, -0.008293190988982957, -0.010982918841398792, -0.007281214173221251, -0.015084088042113919, 0.00020208806963939452, 0.0077652832190073795, -0.00821329808247473, 0.007632128374829961, 0.005288603117278079, -0.017933601707544433, 0.0051288173042634, 0.007765283219008268, 0.005634805712143809, 0.0034244352987720106, 0.00930987941148409, 0.005475019899130018, -0.007787202581100772, -0.0067219638276698745, 0.010561534946767814, -0.0050974747286849365, -0.0005702100265985166, 0.001080910041221017, 0.005634805712143809, 0.002865184953219746, 0.01154688079369226, -0.0025142707516119245, 0.006087532182352362, 0.005288603117278967, -0.011222597560921699, -0.011142704654412583, -0.0013691390916736879, 0.003957054675487903, -0.006988273516028265, -0.007760571612266176, -0.021289103780855356, 0.00888378391011102, -0.0036327714427155655, 0.003797268862472336, -0.0025675326892846684, -0.016389005515066835, -0.008958965209877157, -0.01266066987805381, 0.021000874730402685, 0.0074723425618143935, -0.017853708801035317, -0.009917680087966119, -0.005337153448208731, 0.0027320301090405508, -0.002940366252985882, -1.0959681048028358e-05, 0.004596197927547507, -0.019078733367483558, 0.009602820068677964, -0.005709987011909057, 0.009762605881693531, -0.006908380609519149, -0.006375761232804145, 0.004223364363846294, -0.0012093532786572325, 0.012026238232736297, 0.013730620238227687, -0.0015022939358511067, -0.005843141856088252, 0.02488899618043039, 0.004755983740562186, 0.008537581315247067, -0.010689978184205806, 0.02052151729135865, 0.003371173361101043, 0.018630718504016208, -0.006482285108148744, 0.0064869967148890595, 0.018923659161210082, -0.0046447482584772715, -0.007334476110894883, -0.006482285108147856, -0.0008098887461223114, 0.006753306403248338, 0.00041513582032504104, -0.013219920223606074, -0.012500884065040019, -0.010929656903726048, -0.0048045340714919504, 0.0019597320128017515, -0.010636716246533062, -0.0023811159074336175, 0.010348487196080391, -0.01106281174790702, 0.00020208806963939452, -0.004831165040328322, -0.0020615442814033713, -0.002141437187910711, 0.01828451590915048, -0.00033053130707649814, -0.014311789945873343, 0.010162070414230229, -0.0013158771540018321, 0.007072878029276808, -0.026988131111717273, -0.01814664945822919, -0.0020349133125687757, -0.002594163658120152, 0.003024970766235313, -0.013459598943128093, -0.0042985456636115416, 0.0082712716268869, -0.026508773672672348, -0.0021946991255816783, -0.008825810365697073, -0.0065888089834915675, 0.004303257270352745, -0.005310522479372359, -0.0038191882245675046, 0.016127407433450536, -0.00879917939686159, -0.0017686036242103853, 4.230225662471554e-05, -0.007361107079729479, 0.006620151559068255, -0.008026881300623678, -0.003233306910178868, -0.0065355470458179354, 0.003957054675487015, -0.005124105697521308, -0.015776493231843602, -0.00232785396976265, 0.002039624919309091, -0.00025063840056915865, 0.007605497405993589, -0.006109451544445754, -0.009464953617758454, 0.0015336365114295702, -0.0014224010293446554, -0.01319328925477059, 0.0008944932593717425, 0.019056814005389278, -0.0026474255957911197, -0.015510183543485212, 0.0009477551970418219, 0.006806568340917529, -0.0005702100265994048, -0.0034729856297017747, -0.013566122818470916, -0.011781847906473963, -0.008905703272206189, 0.012532226640616706, 0.007179401904620519, 0.0038771617689796756, -0.0013691390916727997, 0.010108808476559261, -0.005496939261222522, -0.003100152066001449, 0.005794591525158488, -0.01977113855721324, 0.0012406958542365842, 0.008164747751545853, 0.004729352771725814, 0.0027320301090396626, 0.00222604170116103, -0.015856386138350942, 0.003797268862472336, -0.0013957700605091716, 0.006220687026531557, 0.006859830278589385, -0.013592753787307288, 0.011866452419722506, -0.0006501029331067443, 0.009815867819364499, -0.0009164126214642465, 0.007419080624142538, -0.006029558637938415, -0.003126783034836045, -0.00030390033824101437, 0.0035842211117858014, 0.014529549303302858, -0.009518215555429421, -0.011488907249277425, 0.0018532081374598164, -0.012580776971547358, -0.004990950853342113, 0.012452333734108478, 0.001906470075130784, 0.0024390894518466766, -0.007946988394117227, -0.011781847906473963, 0.007818545156680123, -0.0027006875334638636, -0.007733940643430692, -0.0043518076012842855, -0.0011560913409871532, -0.010290513651667332, 0.016047514526943196, -6.42216187189959e-05, -0.004884426978000178, 0.007978330969694802, 0.008723998097096342, -0.00677522576534173, -0.002008282343733292, -0.006642070921162535, 0.004383150176860973, 0.01026859428957394, 0.012372440827602027, -0.014072111226352213, 0.005341865054949935, -0.008825810365697961, -0.011142704654411695, 0.011759928544378795, -0.0036327714427164537, 0.0077919141878437514, -0.004671379227312755, 0.01676655068550925, 0.007578866437158105, 0.002412458483011193, 0.010721320759781605, 0.005581543774471953, 0.006060901213516878, 0.016686657779001912, 0.0027320301090405508, -0.005949665731431963, 0.0030782327039062807, -0.02568321363876258, 0.012052869201571781, -0.017108041673633778, 0.027552093064009853, 0.004862507615904121, 0.017991575251956604, 0.015381740306048108, -0.007654047736923353, 0.010002284601214662, 0.001560267480265054, -0.0007832577772859395, -0.006615439952327051, 0.0053684960237854185, -0.004112128881761379, 0.014609442209810197, -0.007946988394116339, 0.0034244352987711224, 0.0002287190384748783, -0.006455654139311484, 0.005395126992620902, -0.004831165040328322, -0.007148059329042944, 0.00843105743990158, 0.0023591965453402253, -0.010210620745159993, -0.010343775589340076, -0.003073521097164189, 0.019030183036553794, 0.00222604170116103, -0.009944311056800714, -0.0219016160640777, 0.010987630448140884, -0.009970942025637974, -0.009438322648922082, -0.013566122818470916, 0.0077919141878437514, -0.011142704654413471, -0.003952343068745812, 0.0043831501768600845, 0.004622828896382991, 0.00030861194498399414, -0.013086765379426879, -0.0031800449725079005, 0.015781204838584806, 0.007392449655306166, -0.0043518076012842855, 0.00667341349674011, 0.0019597320128026396, -0.005869772824923736, -0.014844409322589236, -0.014471575758888022, -0.004751272133820095, 0.0006548145398488359, 0.005395126992620902, -0.019957555339064292, 0.014076822833094305, -0.007440999986236818, 0.012825167297809692, 0.016473610028315377, 0.000441766789161413, 0.001533636511428682, -0.0024876397827755525, 0.006220687026531557, -0.010769871090712257, 0.003770637893635964, 0.02041499341601316, 0.0018532081374598164, -0.004351807601283397, -0.012767193753397521, -0.005283891510535987, -0.00022400743173367488, 0.0034244352987711224, -0.019398304993512916, -0.005709987011909057, 0.008937045847782876, -0.016149326795543928, -0.003419723692029919, 0.01905681400538839, -0.01412537316402318, -0.0013691390916727997, 0.0035842211117866896, 0.004303257270353633, -0.0032066759413433843, -0.004724641164984611, 0.012452333734108478, -0.003952343068745812, -0.007627416768086093, -0.003552878536208226, 0.012638750515960417, -0.009385060711250226, 0.012798536328974208, 0.013064846017334375, -0.005203998604029536, 0.0008146003528626267, 0.009469665224498769, 0.003690744987130401, 0.0101887013830666, -0.016042802920201105, 0.007578866437157217, 0.0023059346076683696, 0.005688067649814776, -0.012447622127368163, -0.00938506071124845, 0.006087532182352362, 0.02291830448658061, -0.0004903171200911771, 0.009629451037513448, 0.003504328205278462, -0.005443677323550666, 0.0011075410100565009, 0.0068065683409184174, 0.004649459865218475, 0.0007879693840262547, 0.00744571159297891, -0.018546113990766777, 0.0009743861658773056, 0.010801213666289833, -0.0026740565646257153, 0.012132762108080009, 0.0013205887607421474, 0.007818545156679235, 0.014982275773510523, -0.004271914694776058, 0.0008678622905353706, 0.0022793036388328858, 0.010561534946767814, 0.016047514526943196, 0.018257884940314106, 0.0019331010439671559, -0.001528924904689255, -0.00198165137489692, 0.015408371274885369, 0.01796494428312201, -0.002594163658120152, -0.0005435790577621447, -0.02568321363876258, 0.0026521372025332113, -0.0013158771540018321, -0.010556823340025723, 0.0011341719788919846, -0.00959810846193676, -0.01122259756092081, -0.013566122818470916, -0.02078311537297406, 0.0011341719788919846, 0.0008678622905335942, -0.004698010196148239, 0.00385053080014508, 0.008484319377575211, -0.006828487703013586, -0.009278536835906515, -0.004378438570119769, 0.0008944932593717425, 0.011307202074170242, -0.011275859498592666, -6.42216187189959e-05, 0.004010316613159759, -0.0033398307855225795, -0.009092120054055464, 0.008058223876201254, 0.008058223876201254, 0.01745895587524071, -0.007148059329043832, -0.0030468901283287053, 0.006779937372083822, 0.0068065683409184174, 0.013544203456377524, -0.01122259756092081, 0.0015336365114295702, 0.021000874730401797, -0.013086765379426879, 0.009096831660797555, 0.008617474221753518, 0.013304524736855505, -0.007547523861579641, 0.012265916952258316, -0.010583454308862095, 0.005022293428920577, -0.00325993787901524, -0.002887104315313138, -0.02688160723637356, -0.011622062093458396, 0.0077652832190073795, 0.013384417643362845, 0.019456278537926863, 0.008777260034769085, 0.011253940136497498, -0.017081410704797406, -0.002461008813940957, 0.005448388930293646, 0.003690744987130401, -0.008745917459190622, -0.0038458191934021, -0.014258528008202376, -0.0015555558735238506, -0.0009430435902997303, 0.0031048636727417644, 0.005182079241935256, 0.011307202074170242, -0.004271914694776058, 0.01317136989267631, -0.006002927669102931, -0.004618117289641788, 0.0016135294179369097, -0.009145381991728208, 0.010987630448139996, 0.008830521972440941, -0.012953610535248572, -0.00874591745919151, 0.011493618856021293, 0.015195323524197057, -0.009385060711250226, -0.0036860333803874212, -0.006189344450953094, -0.004378438570118881, -0.008479607770832231, -0.012234574376681628, 0.019695957257447105, 0.0021195178258173186, 0.009336510380320462, 0.005395126992620902, 0.0063272109018743805, 0.0028119230155487784, 0.005714698618651148, 0.012052869201573557, 0.009576189099843369, -0.0009430435902997303, 0.01223928598342372, 0.009256617473813122, 0.006114163151187846, 0.001453743604923119, 0.0007879693840271429, 0.0007080764775206916, -0.0038458191934021, 0.005554912805635581, 0.004915769553575977, -0.00685511867184907, 0.009043569723126588, 0.004862507615904121, -0.016628684234588853, 0.016047514526943196, -0.0023544849385972455, -0.008985596178711752, -0.01756076814384322, 0.003823899831309596, -0.0038458191934029884, -0.0017419726553740134, 0.004223364363846294, -9.085258755536785e-05, 0.0024390894518466766, -0.005709987011909057, 0.026806425936608314, 0.005714698618651148, 0.008857152941275537, 0.012292547921092911, -0.0004903171200911771, -0.0001441145252254472, 0.01282516729781058, 0.0033711733610992667, 0.0018532081374598164, -0.014657992540739961, 0.0008944932593708543, -0.006961642547191893, -0.009385060711250226, 0.0028119230155487784, -0.009598108461937649, 0.010295225258409424, -0.01063671624653395, 0.001427112636086747, 0.014130084770765272, -0.008319821957817553, 0.013996929926586077, -0.0051507366663585685, -0.003073521097163301, 0.01215939307691638, -0.007174690297878428, 0.005767960556322116, 0.004942400522411461, -0.0005968409954357767, -0.0036860333803874212, -0.0042985456636115416, 0.006593520590231883, -0.006828487703013586, 0.025874342027354835, -0.008532869708504975, -0.006695332858832614, 0.0041967333950090335, -0.003393092723193547, 0.0035043282052775737, 0.00030861194498310596, 0.015514895150226415, -0.0025142707516128127, -0.015190611917454966, -0.0009430435903006185, 0.0028119230155487784, -0.008026881300625455, -0.005816510887252768, 0.015674680963241983, 0.007126139966947775, 0.004223364363847182, -0.014950933197932947, -0.0008897816526296509, -0.006562178014655196, 0.01154688079369226, -0.0008098887461223114, 0.01780515847010644, -0.020143972120914455, -0.00959810846193676, -0.01353949184963632, -0.007121428360206572, -0.01566996935650078, -0.012713931815726554, -0.0013691390916736879, 0.018950290130045566, 0.004969031491247833, -0.0022213300944189385, 0.018364408815657818, -0.011941633719487754, -0.018812423679125168, 0.017379062968733372, 0.006433734777217204, -0.0025675326892846684, 0.004995662460084205, -0.000863150683793279, 0.0040369475819943546, 0.003557590142951206, -0.040037305841262416, -0.022061401877093267, 0.0037706378936368523, 0.006247317995367041, 0.0011874339165638403, 0.007845176125516495, 0.0037173759559649966, 0.012425702765273883, 0.028963534412309144, 0.010082177507723777, -0.015403659668143277, -0.014471575758888022, 0.005341865054949935, -0.007254583204383991, -0.005177367635194052, -0.009837787181459667, 0.00025535000731125024, -0.010130727838652653, 0.0039304237066524195, 0.006833199309754789, 0.020042159852312835, 0.0025988752648604674, -0.010183989776325397, 0.006114163151186958, -0.0062159754197885775, -0.005150736666356792, 0.0031314946415772482, 0.006593520590231883, 0.01444965639679463, -0.006136082513282126, 0.001080910041221017, -0.005363784417044215, 0.0014271126360876352, -0.010183989776325397, -0.006189344450953982, 0.02430311486604264, 0.005128817304262512, -0.001156091340986265, -0.003552878536208226, 0.004649459865218475, -0.008932334241040785, -0.010503561402353867, -0.0036327714427164537, -0.0077073096745952085, -0.0007033648707786, -0.007760571612266176, -0.01548355257464884, -0.025709844607597176, -0.012554146002710098, -0.003100152066001449, -0.006668701889998019, 0.00033524291381858973, -0.016894993922947243, -0.005949665731431963, 0.003690744987130401, -0.0038191882245666164, 0.0012673268230711798, 0.006966354153933096, -0.008825810365697073, 0.001720053293279733, 0.000601552602176092, 0.009656082006348932, -0.0029936281906568496, -0.011275859498592666, 0.0032113875480845877, -0.0011560913409871532, 0.005421757961456386, 0.0014537436049222308, 0.014343132521451807, 0.02952278475786052, -0.005443677323550666, 0.0019331010439671559, 0.008510950346411583, -0.0004903171200911771, -0.011648693062292992, -0.016655315203425225, -0.01068997818420403, -0.008080143238295534, 0.006460365746053576, 0.01178655951321339, 0.012798536328974208, 0.014263239614944467, -0.009464953617757565, 0.00701961609160584, -0.00198165137489692, 0.021187291512253736, 0.013863775082406882, 0.0008146003528626267, -0.001955020406060548, 0.015754573869748434, -0.01002420396330983, -0.015803124200679086, 0.0010276481035500495, -0.0045914863208045276, 0.005901115400501311, -0.0007832577772859395, -0.014338420914710603, 0.004516305021040168, -0.013246551192441558, 0.007206032873456003, -0.0027006875334638636, 0.011733297575542423, 0.014103453801929788, 0.009283248442647718, -0.010583454308861207, -0.017827077832199834, -0.0005435790577630328, 0.019216599818404845, -0.01505745707327577, -0.01524387385512771, 0.01325126279918365, -0.0031534140036724168, -0.01037040655817556, -0.01079650205954863, -0.011435645311607345, 0.0017733152309515887, -0.014498206727723506, 0.003184756579249992, 0.012771905360139613, 0.0012939577919075518, -0.005709987011909057, -0.0024077468762691012, -0.013619384756142772, 0.004729352771725814, -0.002940366252985882, 0.008004961938530286, 0.010082177507722001, 0.015488264181390932, -0.007627416768086981, 0.0010809100412219053, 0.004383150176860973, -0.004218652757104202, 0.02041499341601405, -0.023419581287719815, -0.008612762615013203, -0.014152004132858664, -0.0038458191934021, -0.0023544849385981337, 0.011174047229990158, -0.008293190988982957, 0.013144738923839938, -0.01899884046097622, -0.0057632489495809125, -0.0060828205756102705, -0.010663347215369434, -0.001528924904689255, -0.0038191882245666164, -0.009598108461937649, -0.000836519714956907, -0.010769871090712257, -0.007494261923907786, -0.010050834932145314, -0.0018751274995540967, -0.012767193753397521, -0.0031534140036715286, -0.007600785799250609, -0.015270504823962305, 4.230225662471554e-05, 0.018204623002644027, -0.02200813993942141, -0.011169335623248955, -0.009731263306115956, -0.009118751022893612, -0.001182722309822637, -0.00778720258110166, -0.0038191882245666164, 0.0033978043299356386, -0.016122695826708444, 0.007525604499484473, -0.0019283894372259525, 0.0074723425618143935, 0.009602820068677964, -0.002966997221821366, -0.0018218655618813528, -0.004165390819432346, 0.0116267737001996, 0.007605497405993589, 0.008857152941275537, 0.010295225258408536, 0.0006548145398479477, -0.00033053130707649814, -0.0009164126214642465, -0.006349130263968661, 0.020681303104374216, -0.02136899668736092, 0.0006015526021752038, -0.0023544849385972455, -0.011888371781815898, 0.0060076392758450226, -0.00195502040605966, -0.010849763997218709, 0.01282516729781058, 0.025288460712967975, 0.01263875051595953, 0.005421757961458162, -0.0017419726553740134, 0.005847853462829455, -0.015909648076022798, 0.01687307456085385, -0.0013957700605091716, 0.005501650867964614, -0.01923851918049735, 0.0039037927378160475, 0.0184975636598379, 0.014423025427959146, -9.085258755359149e-05, 0.0061940560576960735, 0.008004961938530286, 0.005927746369336795, 0.01745895587524071, -0.006588808983490679, 0.00012219516313205503, -0.00046368615125569335, 0.0023325655765038533, 0.00443641211453194, 0.00017545710080302257, 0.018604087535180724, -0.009065489085220868, 0.01788505137661378, -0.007680678705759725, -0.005709987011908169, -0.00453822438313356, 0.0009477551970418219, -0.004831165040327434, 0.03072117835547239, 0.0018798391062953002, 0.005128817304264288, 0.007871807094351979, -0.012234574376681628, 0.014769228022824876, -0.014737885447246413, -0.011089442716742504, 0.0074457115929780215, -0.007068166422534716, 0.005661436680979293, -0.00821329808247473, 0.006753306403248338, -0.016948255860617323, 0.009869129757035466, -0.0005435790577630328, -0.004378438570118881, -0.0013158771540018321, -0.0009164126214642465, 0.009709343944022564, 0.020148683727657435, -0.0033930927231953234, 0.003797268862472336, -0.007440999986237706, -0.006615439952327051, 0.015408371274885369, 0.017405693937568856, -0.004724641164984611, -0.0004370551824202096, -0.0012892461851663484, 0.0007613384151916591, 0.0015070055425931983, 0.004036947581995243, -0.006748594796507135, 0.0035043282052802383, -0.004484962445461704, 0.008617474221753518, 0.003557590142952094, 0.004409781145696456, -0.006801856734177214, -0.012793824722233005, 0.0040635785508307265, 0.006700044465575594, 0.0006814455086843196, -0.013219920223605186, -0.001182722309822637, 0.010108808476559261, -0.0011560913409871532, 0.001906470075131672, 0.007791914187842863, 0.0026521372025340995, 0.011253940136497498, -0.014258528008202376, -0.005443677323550666, 0.01213276210807912, 0.001693422324443361, -0.001981651374896032, -0.011542169186951057, -0.010077465900981686, -0.00427191469477517, -0.009038858116384496, 0.002705399140205067, -0.010183989776324509, 0.004356519208025489, 0.012399071796438399, 0.007712021281336412, 0.002385827514175709, 0.017698634594764506, -0.0017686036242094971, 0.0031048636727417644, -0.011835109844144043, -0.007440999986237706, 0.004649459865218475, -0.026801714329866222, 0.004116840488501694, 0.005714698618651148, 0.013703989269392203, 0.004702721802890331, -0.008586131646175943, -0.005177367635193164, 0.006407103808382608, 0.005927746369336795, -0.004351807601282509, -0.014231897039366892, -0.005177367635192276, 0.008404426471066984, 0.026646640123593635, -0.0033664617543580633, -0.0007033648707777118, 0.009176724567304895, -0.017400982330827652, -0.0072013212667139115, 0.00030861194498310596, 0.0008412313216989986, -0.006615439952327051, 0.0019597320128026396, 0.0016401603867732817, -0.008559500677339571, -0.011728585968800331, 0.0001488261319675388, -0.011781847906473075, -0.006269237357461321, -0.014072111226351325, -0.002114806219075227, -0.0028072114088057987, 0.002705399140205067, -0.0032333069101797562, -0.009891049119129747, -0.0044849624454625925, 0.003690744987129513, -0.001795234593044981, 0.0005749216333406082, -0.00616271348211761, -0.011595431124622912, 0.0007080764775189152, 0.028031450503054778, -0.004751272133820095, -0.008958965209877157, -0.008213298082475617, -0.005869772824923736, 0.0007347074463561754, -0.005390415385879699, 0.0016401603867732817, -0.0021680681567470828, 0.009203355536141267, -0.002487639782777329, -9.085258755447967e-05, 0.0022526726699956257, -0.00925190586707103, -0.00477790310265469, 0.004622828896383879, 0.002732030109042327, 0.0037440069248013685, -0.027893584052135267, -0.001821865561882241, 0.012718643422467757, 0.010774582697454349, -0.0012892461851663484, -0.008532869708504087, -0.00813340517596739, -0.009065489085220868, -0.014498206727724394, -0.009198643929399175, 0.00219941073232377, -0.012953610535247684, -0.004218652757104202, -0.01764066105034967, 0.0011608029477274684, -0.002594163658119264, 0.006380472839546236, -0.007307845142057623, 0.0010010171347127894, 0.006779937372082934, -0.007414369017400446, 0.006593520590231883, 0.0156480499944065, -0.009571477493100389, -9.085258755447967e-05, -0.008026881300623678, 0.01948290950676146, -0.009438322648922082, -0.009251905867071919, -0.020863008279482287, 0.006566889621396399, -0.00581651088725188, -0.0033930927231944352, -0.013779170569158339, -0.020410281809274622, 0.014902382867003183, 0.009096831660797555, 0.00616742508886059, 4.230225662471554e-05, -0.01308676537942599, 0.018364408815659594, 0.007498973530649877, -0.012980241504083168, -0.0015555558735238506, -0.014391682852381571, -0.0208630082794814, -0.001449031998179251, -0.005843141856088252, -0.009331798773577482, 0.01000228460121555, 0.005741329587486632, 0.0192698617560767, 0.01642034809064441, -0.0011028294033152974, 0.012292547921094688, -0.009012227147549012, -0.003925712099910328, 0.008644105190589002, 0.01444965639679463, 0.008484319377574323, -0.0028871043153149145, 0.004010316613159759, -0.010343775589339188, 4.230225662471554e-05, 0.003317911423428299, -0.0005968409954340004, -0.009571477493100389, 0.001267326823072068, -0.005630094105400829, 0.007605497405993589, -0.0030202591594941097, 0.008937045847782876, -0.0008897816526278746, 0.000601552602176092, -0.012607407940382842, -0.00839971486432578, -0.008266560020145697, -0.003419723692030807, 0.003664114018294029, 0.009150093598470299, 0.0025456133271895, -0.003073521097164189, 0.013437679581033812, 0.01881713528586637, 0.011227309167662014, -0.010263882682831849, 0.007738652250171896, 0.013490941518706556, -0.01266066987805381, 0.013064846017333487, -0.004405069538955253, -0.0028072114088057987, 0.011227309167662902, -0.013113396348262363, -0.019904293401393325, 0.016473610028315377, -0.0064290231704768885, -0.01926515014933461, 0.00033524291381770155, 0.002039624919309979, 0.00025535000731036206, -0.015776493231841826, 0.016020883558107712, 0.0014803745737577145, 0.00025535000731125024, -0.016495529390410546, 0.015701311932078355, 0.00811148581387311, -0.008586131646176831, -0.00392571209990944, -0.014205266070531408, 0.008857152941275537, -0.011968264688324126, 0.004516305021040168, -0.00427191469477517, 0.01120067819882653, -0.0004104242135838376, -0.008000250331789083, -0.004218652757104202, 0.008031592907364882, 0.007392449655307054, -0.0013691390916736879, 0.007339187717635198, -0.001449031998179251, 0.019749219195120737, -0.002594163658120152, 0.002092886856981835, -0.002434377845104585, 0.0031314946415772482, -9.085258755447967e-05, 0.0002287190384748783, 0.0063538418707107525, -0.011089442716741615, -0.0001441145252263354, 0.001560267480265054, -0.02126247281202076, -0.0038191882245675046, -0.012314467283188968, 0.011040892385811851, -0.007520892892744158, -0.0017419726553740134, -0.0015821868423593344, 0.0026787681713704714, 0.012186024045750976, -0.0011560913409871532, 0.003371173361100155, -0.006908380609519149, -0.00616271348211761, -1.0959681046252001e-05, -0.0031800449725070123, 0.0026255062336977275, -0.0010495674656434417, -0.010104096869818058, -0.00898559617871264, 0.025874342027353947, -0.0062692373574622096, 0.012052869201571781, -0.005550201198895266, 0.010108808476559261, -0.0029936281906577378, 0.015088799648853346, -0.0111160736855771, -0.0036860333803883094, 0.007978330969694802, 0.011680035637871455, 0.017592110719419907, 0.002012993950473607, 0.011600142731363228, -0.005789879918416396, -0.013885694444501162, 0.00041513582032504104, -0.0020349133125687757, -0.014205266070532296, 0.0027852920467124065, -0.005789879918416396, 0.003930423706651531, 0.004969031491249609, -0.0023811159074336175, 0.016793181654345624, -0.003978974037581295, 0.006353841870709864, 0.004862507615904121, 0.01109415432348193, -0.015350397730469645, 0.010694689790945233, 0.009815867819364499, -0.01170195499996396, 0.008457688408739727, 0.0008146003528635148, -0.002753949471134831, 0.001080910041221017, -0.01718793458014023, 0.0050222934289196886, 0.0022793036388319976, -0.012101419532502433, 0.0013738506984148913, -0.004085497912925895, -0.001342508122838204, 0.007072878029277696, -0.025470165888076046, 0.017432324906406116, -0.009917680087966119, -0.00616271348211761, 0.017458955875239823, -0.0070947973913702, 0.012106131139243637, 0.01101426141697548, -0.0022479610632544222, -0.008346452926653924, 0.004063578550831615, 0.01436976349028729, -0.005736617980745429, -0.003765926286895649, 0.008084854845038514, -0.01266066987805381, 0.016873074560852963, 0.024516162616729176, -0.01172858596880122, 0.0028119230155478903, 0.013757251207064058, -0.0012093532786581207, 0.016393717121808926, 0.012585488578287674, 0.007925069032022058, 0.0061940560576960735, -0.006056189606775675, -0.005150736666356792, 0.023850388395834088, -0.01037040655817556, -0.004911057946834774, 0.0028918159220552297, 0.009602820068677964, -0.00863939358384691, -0.007068166422533828, 0.004702721802890331, -0.017001517798290955, -0.0007566268084486794, -0.0013158771540018321, -0.01572323129417086, 0.013171369892674534, 0.01120067819882653, -0.014338420914709715, 0.008164747751545853, 0.015435002243719964, 0.021027505699239057, -0.016229219702051267, 0.004596197927547507, -0.01601617195136562, -0.018412959146587582, 0.0024657204206830485, -0.0056034631365662335, -0.01319328925477059, -0.0037925572557311327, 0.0017999461997888488, 0.003664114018293141, -9.085258755447967e-05, -0.005736617980743652, -0.0072013212667139115, -0.00033053130707560996, 0.019056814005389278, -0.017480875237334104, -0.015563445481157068, -0.019211888211661865, 0.00606090121351599, -0.0041653908194332345, 0.001267326823072068, -0.010796502059547741, 0.0023325655765047415, 0.0010542790723855333, -0.01076987109071137, 0.010188701383064824, 0.005421757961457274, -0.010689978184204918, -0.007520892892745046, -0.013725908631485595, -0.002461008813940957, -0.004804534071490174, -0.0017153416865394178, 0.011440356918349437, 0.00536849602378453, 0.014529549303302858, -0.00019737646289730293, 0.012638750515960417, -0.0010229364968088461, -0.004005605006417667, -0.006375761232804145, 0.013038215048496227, 0.001240695854235696, -0.008559500677339571, -0.012074788563666061, -0.0001441145252254472, 0.01924323078723944, -0.021289103780856244, -0.002966997221821366, 0.019616064350940654, 0.00803159290736577, 0.012745274391304129, 0.008723998097096342, -0.016175957764381188, -0.004138759850596863, -0.0012093532786572325, 0.0195628024132688, 0.0040902095196670984, -0.00677522576534173, -0.008026881300624567, -0.0073611070797285905, 0.0077919141878437514, 0.009469665224498769, 0.0034244352987711224, 0.007818545156681012, 0.010028915570051034, -0.008612762615012315, -0.008266560020147473, -0.015350397730469645, -0.00419202178826783, 0.003317911423428299, -0.009624739430772244, 0.005874484431665827, 0.013650727331721235, -0.0026740565646266035, 0.001373850698414003, -0.005203998604028648, -0.005976296700266559, 0.012052869201572669, 0.002412458483012081, 0.008564212284081663, -0.0017153416865394178, 0.006726675434411078, 0.005075555366591544, 0.0021727797634891743, 0.003983685644323387, 0.00922998650497675, 0.004596197927546619, 0.0001488261319675388, -6.42216187189959e-05, 0.0023059346076674814, 0.009336510380320462, -0.003126783034836933, -0.01702814876712644, -0.0115954311246238, 0.005794591525158488, -0.008053512269460938, -0.0038191882245675046, -0.0038724501622393603, 0.0052087102107707395, -0.006695332858833503, 4.230225662471554e-05, -0.011329121436263634, 0.01154688079369226, 0.0025988752648613556, 0.004063578550831615, -0.0043518076012842855, -0.0021946991255834547, 0.010241963320737568, -0.021981508970585928, -0.006136082513283014, -0.008026881300624567, -0.0028604733464785426, -0.00011748355638996344, 0.016952967467360303, -0.0161759577643803, 0.0003086119449822178, -0.002940366252985882, 0.013970298957750593, -0.007387738048564962, 0.006913092216262129, -0.0036860333803883094, -0.0017419726553749015, 0.0077652832190073795, -0.015856386138350942, 0.002891815922056118, -0.009784525243787812, 0.021613387013626806, -0.003899081131074844, -0.0070415354536992325, -0.00650891607698334, -0.011009549810234276, 0.022412316078699313, -0.002141437187910711, 0.0038771617689805637, 0.016100776464615052, 0.00821800968921682, 0.005448388930293646, -0.0010761984344789255, 0.011786559513214279, -0.01063671624653395, 0.0019863629816381234, -3.759064988351213e-05, -0.017747184925692494, 0.0191633378807321, 0.0009743861658773056, 0.015168692555360686, 0.017485586844076195, 0.03167989323356046, -0.009385060711250226, 0.023903650333505944, -0.018386328177752098, 0.004223364363847182, 0.01588772871392763, -0.03260726553607185, -0.008053512269460938, 0.0029717088285625692, -0.0016887107177021576, 0.00640710380838172, -0.015936279044857393, 0.007179401904620519, 0.015834466776255773, 0.008111485813873998, -0.0032066759413442725, -0.004431700507790737, -0.0042985456636115416, -0.006988273516028265, -0.005736617980743652, 0.0037440069248013685, -0.0047779031026555785, 0.012505595671780334, -0.024111986477450387, 1.567128778923177e-05, 0.0011874339165647285, -0.003792557255732021, 0.01556815708789916, 0.012745274391304129, -0.007227952235549395, -0.005124105697521308, -0.0035262475673727423, 0.027152628531474043, 0.010907737541633544, -0.0008098887461223114, 0.004489674052204684, -0.009438322648922082, 0.009043569723126588, 0.004835876647069526, -0.0007566268084495675, -0.007654047736923353, -0.0067485947965062465, 0.009576189099843369, -0.0052838915105368756, -0.007600785799251497, -0.0004104242135838376, -0.0004636861512565815, 0.0076054974059927005, 0.012026238232736297, 0.0016135294179369097, -0.005070843759850341, 0.011120785292320079, 0.0009743861658781938, -0.0005169480889266609, -0.0029936281906568496, 0.011946345326228958, 0.0076054974059927005, -0.007068166422534716, 0.009602820068677964, 0.010188701383064824, -0.00419202178826783, 0.012079500170408153, -0.005177367635193164, 0.0034244352987720106, -0.0003039003382401262, 0.014636073178644793, -0.010237251713995477, -0.01308676537942599, -0.0021680681567470828, -0.003446354660866291, 0.012052869201572669, -0.0096780013684441, 0.012798536328974208, -0.008346452926654813, 0.008510950346410695, -0.005523570230059782, -0.008879072303370705, -0.019211888211661865, 6.893322546019931e-05, -0.002594163658120152, 0.0006814455086843196, 0.0037972688624732243, -0.006455654139312372, 0.007072878029276808, -0.0031800449725087887, 0.002359196545339337, -0.0023544849385981337, -0.013912325413336646, -0.001342508122837316, -0.003579509505044598, 0.001773315230953365, -0.0023544849385981337, 0.0015070055425940865, 0.004090209519667987, -0.009518215555428533, -0.007148059329043832, -0.01106281174790702, 0.0134376795810347, 0.0065136276837254314, -0.0017153416865394178, -0.005257260541700504, -0.0047779031026555785, 0.012505595671780334, -0.008213298082475617, -0.006695332858833503, 0.0020662558881445747, 0.011253940136498386, -0.0019283894372259525, -0.0048045340714919504, -0.0014224010293446554, -0.0002772693694046424, -0.006295868326296805, 0.0031314946415772482, 0.0006281835710115757, -0.010130727838652653, 0.020681303104373328, -0.006136082513283014, 0.01197297629506533, -0.010743240121875886, 0.022172637359178182, 0.0023325655765038533, 0.00797833096969569, 0.0018798391062961883, -0.0010761984344789255, 0.004329888239188229, 0.0063538418707107525, 0.013198000861511794, 0.004436412114532828, -0.01172858596880122, -0.0019017584683886923, -0.000836519714956907, 0.028191236316070345, -0.018865685616797023, 0.026833056905443797, -0.002274592032089906, -0.010796502059547741, -0.012634038909218326, -0.016628684234588853, -0.011249228529757183, 0.008484319377575211, -0.005337153448207843, -0.0033131998166862076, -0.013699277662651, 0.00044176678915963663, -0.007574154830415125, 0.0038771617689805637, -0.014152004132858664, -0.00022400743173367488, 0.007871807094351091, -0.012527515033875503, 0.010241963320738456, 0.003477697236442978, 0.0061940560576960735, 0.009869129757037243, -0.0023811159074336175, 0.0006548145398488359, -0.0008897816526278746, -0.009837787181459667, 0.0050222934289196886, -0.009651370399608616, 0.00880389100360457, -0.003792557255732021, -0.0023278539697617617, 0.0005216596956696407, 0.010375118164916763, -0.011994895657158722, -0.0027006875334629754, 0.00385053080014508, 0.01684644359201659, -0.004511593414298076, -0.015563445481157068, 0.012079500170409041, -0.011888371781815898, 0.006540258652560915, 0.00017545710080302257, -0.012287836314352596, -0.004964319884505741, 0.022998197393088837, 0.0017733152309515887, -0.0036327714427155655, -0.003899081131074844, -0.0015821868423593344, -0.010583454308861207, 0.012265916952259204, 0.001427112636086747, 0.012851798266646064, -0.005949665731431075, -0.005949665731431963, -0.009784525243787812, 0.0037173759559649966, 0.018364408815658706, -0.005949665731431963, 0.00536849602378453, -0.006322499295132289, -0.012447622127369051, 0.005927746369337683, 0.003690744987129513, 0.0004151358203259292, -0.0005435790577630328, -0.02080974634181043, 0.001267326823072068, 0.009762605881693531, -0.0035262475673736304, 0.016367086152972554, 0.020335100509508486, -0.0017153416865394178, 0.005501650867964614, -0.005523570230058894, 0.006833199309754789, 0.0038505308001433036, 0.0027586610778769227, 0.0023059346076674814, -0.006429023170476, 0.0009211242282072263, 0.027498831126338885, -0.013619384756142772, -0.0008098887461223114, -0.010397037527011044, 0.02081445794855341, 0.009815867819365387, 0.011440356918348549, 0.007791914187842863, 0.00020208806963850634, -0.0033398307855225795, 0.0006015526021752038, 0.006034270244680506, -0.017400982330827652, 0.0019597320128026396, -0.001528924904689255, -0.01204815759482969, -0.005177367635193164, 0.011866452419722506, -0.018173280427064675, -0.0046181172896408995, 0.005448388930293646, -0.008106774207131906, -0.00022400743173367488, 0.00025535000731036206, 0.01522195449303343, 0.003557590142951206, -0.010450299464682011, -0.007121428360206572, -0.002727318502298459, 0.01066805882210975, -0.0004636861512565815, 0.0029184468908916017, 0.010747951728617977, 0.010827844635125317, 0.0083777955022315, 0.004116840488502582, -0.004724641164984611, 0.019456278537925975, -0.006349130263968661, 0.011759928544378795, 0.0028119230155487784, 0.0008678622905344824, -0.010583454308861207, 0.0032646494857573316, -0.018652637866111377, 0.0012673268230711798, 0.008404426471066095, 0.004329888239190005, 0.0029450778597270855, 0.009469665224499657, 0.00701961609160584, 0.017166015218047725, 0.011147416261155563, 0.0025456133271895, -0.0071746902978775395, 0.000281980976146734, -0.008825810365697961, -0.004085497912925007, -0.008692655521519654, 0.005767960556323892, 0.0053684960237854185, 0.02805808147189026, -0.010343775589340076, -0.005017581822178485, 0.001080910041221017, -0.0033131998166862076, -0.009491584586593937, -0.011835109844144043, 0.0025456133271895, -0.002141437187910711, -0.018626006897275005, -0.0006234719642694841, 0.013490941518705668, -0.004724641164984611, -0.006295868326296805, 0.010801213666289833, -0.000996305527971586, 0.003983685644323387, -0.007654047736923353, 0.007392449655306166, -0.011675324031128476, 0.01042838010258862, -0.002434377845104585, 0.0002287190384748783, 0.0071794019046214075, -0.018120018489394596, -0.020836377310646803, -0.007760571612265288, 0.006114163151187846, -0.01266066987805381, -0.011169335623248955, -0.0026474255957911197, -0.004032235975254039, -0.01010409686981717, 0.004622828896383879, -0.0027006875334629754, -0.00581651088725188, -0.003259937879016128, 0.00701961609160584, 0.00030861194498310596, -0.0030468901283287053, -0.016815101016439016, 0.001107541010057389, 0.007658759343664556, -0.003126783034836933, 0.0032380185169209597, -0.005417046354715183, 0.019935635976970012, -0.004085497912925895, 0.010934368510469028, 0.008963676816619248, 0.006593520590232771, 0.013011584079660743, -0.0007299958396131956, -0.0023811159074336175, -0.0033131998166862076, 0.000281980976146734, -0.0023811159074336175, 0.009283248442649494, 0.006833199309753901, -0.00685511867184907, 0.0039304237066524195, 0.009096831660797555, 0.008084854845038514, 0.011972976295063553, 0.002865184953219746, 0.007419080624142538, 0.02531509168180346, 0.006114163151187846, 0.0035309591741139457, 0.0037440069248013685, 0.008084854845037626, -0.008506238739668603, -0.011542169186951057, 0.021160660543417364, -0.012900348597575828, -0.012713931815725665, -0.00011748355639085162, 0.007365818686469794, -0.02171519928222665, -0.01601617195136562, 0.0053152340861126746, 0.0012939577919075518, -0.0013158771540018321, -0.010450299464681123, 0.004010316613159759, 0.0063005799330380086, -0.004431700507790737, 0.0033179114234291873, 0.0027586610778769227, -0.0001973764628981911, -0.01319328925477059, 0.011174047229991935, 0.012771905360139613, -0.004698010196149127, -0.01042366849584564, -0.015563445481157956, -0.0044849624454625925, 0.011094154323483707, 0.004569566958711135, -0.02150215153154189, 0.006593520590231883, -0.005843141856088252, 0.020335100509508486, -0.005097474728685825, -0.008373083895490296, 0.009389772317993206, 0.004755983740562186, -0.01788033976987169, 0.009150093598470299, 0.0027852920467115183, 0.004516305021040168, 0.00864410519058989, -0.018412959146586694, 0.005581543774471065, 0.0040902095196670984, 0.009416403286827801, 0.0083777955022315, -0.003712664349223793, 0.007845176125514719, 0.015008906742347783, -0.008026881300625455, -0.004538224383132672, 1.567128778923177e-05, 0.011227309167662902, -0.014152004132858664, -0.01172858596880122, 0.019269861756075812, 0.01298495311082526, -0.013965587351008502, -0.00839971486432578, 0.0037173759559649966, 0.009363141349155946, 0.013677358300556719, -0.0002772693694046424, 0.001240695854235696, -9.085258755536785e-05, 0.012798536328975096, -0.011781847906473075, 0.003530959174114834, 0.010455011071424103, -0.007760571612266176, 0.0012939577919075518, 0.01708612231153861, 0.019030183036552906, -0.012367729220859935, -0.006562178014655196, 0.002092886856981835, -0.006322499295132289, -0.0016088178111948181, -0.001022936496807958, 0.0037440069248013685, 0.00041513582032504104, 0.00614079412002333, -0.016761839078768048, 0.008644105190589002, 0.012958322141989775, -0.0004903171200920653, -0.018199911395901047, -6.42216187189959e-05, -0.011488907249278313, 0.013304524736856393, 0.006433734777217204, -0.00557683216773075, -0.011941633719488642, -0.014844409322590124, 0.01024196332073668, 0.0047293527717267025, 0.007206032873456003, -0.0012359842474936045, 0.0028385539843851504, -0.0014756629670165111, -0.0044583314766262205, -0.01670857714109708, -0.006215975419790354, 0.00222604170116103, 0.01804483718962757, -0.007068166422534716, 0.0003352429138194779, -0.002594163658120152, 0.0047293527717267025, 0.01101426141697548, -0.004271914694776058, 0.016180669371121503, 0.013624096362884863, -0.01705477973596281, -0.01156880015578654, 0.010987630448140884, -0.003233306910178868, 0.004196733395009922, -0.00043705518242109775, 0.01016207041422934, 0.0037173759559658848, 0.007339187717635198, -0.003952343068745812, -0.010024203963308942, 0.009123462629633039, 0.022705256735894075, 0.013650727331722123, 0.0015336365114295702, 0.0012939577919075518, -0.0002506384005700468, 0.00222604170116103, 0.007312556748798826, -0.008000250331788195, -0.015776493231843602, 0.008777260034769085, 0.004356519208025489, 0.010162070414230229, 0.010508273009095959, -0.005203998604029536, 0.013304524736856393, 0.0023591965453402253, 0.016100776464615052, 0.013224631830347278, 0.004409781145696456, 0.00315812561041362, -0.0036860333803874212, -0.0022213300944198267, -0.022940223848674002, -0.011329121436263634, 0.0023591965453402253, -0.004458331476627109, -0.004671379227313643, 0.015940990651599485, -0.002141437187910711, -0.009571477493100389, -0.0028338423776421706, -0.010636716246533062, 0.0038771617689805637, -0.016575422296916997, -0.0038191882245666164, -0.011462276280441941, -0.0027273185022993474, -0.0015289249046874787, 0.005581543774471953, 0.007232663842292375, 0.005155448273097996, -0.010743240121875886, -0.0042985456636115416, 0.0061940560576960735, 0.001427112636086747, 0.010428380102587731, 0.0051820792419343675, -0.009704632337279584, 0.0024390894518466766, -0.0033664617543580633, 0.00957618909984248, -0.0005169480889266609, -0.007760571612266176, 0.00614079412002333, 0.012692012453631385, 0.011972976295064441, -0.005097474728686713, -0.01489767126026198, -0.006295868326296805, -0.0026207946269547477, -0.0017686036242103853, 0.009336510380320462, 0.012585488578288562, -0.004724641164984611, 0.0035043282052775737, 0.006460365746053576, 0.00022871903847576647, -0.006349130263967773, 0.0028918159220552297, 0.005341865054949935, 0.011387094980675805, -0.007094797391371088, -0.010796502059547741, 0.005847853462830344, 0.010854475603959912, -0.01207478856366695, -0.021582044438048342, 0.001906470075130784, 0.012425702765273883, 0.014076822833092528, -0.009358429742412966, 0.001267326823072068, -0.0011028294033152974, 0.0018798391062953002, -0.004405069538954365, 0.0039037927378160475, -6.422161871988408e-05, 0.0029717088285625692, 0.005448388930293646, -0.005044212791013969, -0.006056189606774787, 0.002732030109041439, 0.0006015526021769801, 0.008590843252917146, 0.0006281835710115757, 0.001720053293279733, -0.006109451544446642, 0.0029450778597270855, -0.0012093532786572325, -0.0044583314766262205, -0.004964319884506629, 0.006407103808382608, 0.0073125567487997145, 0.001400481667250375, 0.008084854845038514, -0.0020349133125687757, 0.001906470075130784, 0.0032646494857564434, -0.011968264688323238, 0.004463043083368312, -0.006269237357461321, 0.000281980976146734, -0.0028604733464785426, 0.008058223876202142, 0.012399071796438399, 0.007951700000859319, 0.003983685644322499, 0.007658759343664556, -0.00512410569752042, 0.010028915570051034, -0.008958965209877157, -0.006429023170476, 0.01215939307691638, -0.0025409017204482964, 0.003344542392264671, -0.005044212791013081, 0.0011075410100565009, 0.006966354153933096, -0.0012093532786572325, 0.01069468979094701, -0.02541690395040419, 0.0025456133271895, -0.02696150014288179, -0.001182722309822637, -0.020143972120914455, -0.0026474255957911197, 0.0021461487946528024, -0.0177205539568579, -0.0043518076012842855, -0.0059230347625955915, 0.007818545156681012, 0.008324533564559644, -0.007600785799251497, 0.017565479750584423, 0.009096831660798443, 0.0003086119449822178, 0.025980865902698547, -0.009917680087966119, 0.0024657204206830485, -0.0067485947965062465, 0.0010542790723864215, -0.007414369017400446, -0.0047779031026555785, -0.0025409017204482964, 0.003530959174114834, 0.002385827514174821, 0.0003352429138194779, 0.008750629065931825, 0.017831789438942813, 0.011174047229991046, 0.001427112636086747, -0.0022479610632544222, 0.012851798266646064, -0.012234574376681628, 0.008723998097095453, -3.759064988351213e-05, -0.020676591497631236, -0.017747184925692494, 0.004649459865219363, -0.013006872472920428, 0.006433734777217204, -0.028799036992551486, 0.0063272109018743805, 0.01479585899166036, -0.001342508122837316, 0.001746684262116105, 0.020042159852312835, 0.027418938219833322, 0.0018532081374598164, 0.005421757961456386, 0.004676090834054847, 0.005155448273099772, -0.005949665731431075, 0.00017545710080302257, -0.011542169186951057, 0.005448388930293646, 0.0071527709357850355, -0.006562178014655196, -0.011275859498592666, -0.002487639782778217, -0.0030468901283287053, 0.0030782327039062807, 0.003690744987129513, -0.0025142707516119245, -0.011302490467427262, 0.013490941518705668, 0.00992239169470821, 0.0069929851227703566, 0.012878429235482436, -0.0204635437469447, -0.019478197900021144, 0.015275216430704397, 0.007232663842292375, 0.0015602674802659422, 0.005421757961457274, -0.000969674559135214, 0.012478964702945738, -0.010183989776325397, 0.020308469540672114, 0.016873074560852963, 0.01596762162043497, -0.007227952235550283, 0.010854475603961689, -0.01404548025751673, 0.004303257270352745, -0.02150215153154278, 0.0006814455086843196, -0.0004636861512565815, -0.011515538218113797, -0.009678001368443212, -0.015962910013693765, -0.008266560020146585, 0.0007879693840271429, 0.01583446677625666, -0.00906548908521998, -0.006322499295132289, 0.006353841870709864, -0.005390415385880587, -0.0025675326892855566, 0.01548826418139182, 0.01650024099715175, 0.006833199309753901, 0.0055016508679637255, -0.017161303611305634, -0.011169335623248955, 0.011253940136498386, 0.007498973530649877, 0.014183346708437128, 0.008191378720381337, -0.007121428360206572, -0.007627416768087869, 0.008777260034768197, -0.004724641164984611, 0.011946345326228958, -0.0019017584683886923, -0.005230629572864132, -0.020383650840437362, 0.011626773700198711, -0.028080000833984542, -0.012074788563667838, 0.010455011071423215, -0.0018484965307177248, -0.021262472812019872, 0.005954377338173167, -0.005736617980745429, -0.0044849624454625925, 0.012425702765273883, -0.00488442697799929, 0.009975653632380066, 0.0066467825279037385, 0.011946345326229846, -0.008239929051310213, 0.012345809858764767, -0.013166658285935107, 0.007925069032022058, 0.01676655068550925, 0.0012140648854002123, -0.005203998604028648, 0.024596055523235627, 0.01495564480467415, 0.0007879693840262547, -0.012740562784562037, -0.002274592032089906, -0.0007832577772859395, -0.0019550204060623244, 0.005847853462830344, 0.0006548145398479477, -0.0016088178111948181, 0.00041513582032504104, -0.009811156212624184, 0.006593520590231883, 0.009203355536141267, 0.009735974912858048, -0.008452976801997636, -0.027014762080552757, 0.01247896470294485, 0.01050827300909507, -0.00027726936940375424, 0.00741908062414165, -0.00360614047388097, -0.007920357425280855, -0.008346452926653924, -0.009118751022893612, -0.00022400743173367488, -0.010556823340025723, -0.004564855351969044, 0.017991575251956604, 6.893322546019931e-05, -0.008293190988982069, 0.0007613384151907709, 0.012665381484795901, 0.01905681400538839, -0.0070681664225356045, 0.006753306403248338, -0.008825810365697961, -0.007600785799250609, 0.012425702765273883, 0.01692633649852482, -0.026482142703835976, -0.006375761232804145, -0.0015555558735238506, -0.007334476110893995, 0.010641427853275154, -0.011542169186950169, 0.017352431999897888, -0.011968264688324126, 0.01873724237935992, 0.0008678622905335942, 0.0010010171347136776, 0.009549558131006997, 0.0047559837405630745, 0.010375118164916763, -0.010849763997219597, -0.012261205345517112, -0.0034729856297017747, 0.007339187717635198, -0.0025675326892846684, 0.0025722442960249836, 0.00020208806963850634, 0.010455011071424991, 0.0071794019046214075, -0.002487639782777329, -0.0129269795664122, 0.0036108520806221733, -0.009518215555429421, 0.0037173759559649966, -0.017081410704799183, -0.0029669972218204776, -0.014578099634232622, 0.0012140648853993241, 0.0063005799330380086, 0.00022871903847576647, 0.007818545156679235, -0.00232785396976265, 0.015754573869749322, 0.006380472839547124, -0.004671379227312755, -0.006562178014654307, -0.0010761984344789255, -0.004032235975254039, -0.006402392201639628, -0.009172012960563691, 0.007818545156681012, 0.0014537436049222308, 0.00829790259572416, -0.010210620745159993, 0.009949022663544582, 0.0022793036388319976, -0.009891049119130635, 0.010188701383065712, 0.007152770935784147, -0.014737885447246413, 0.008670736159426262, -0.006189344450953094, -0.02051680568461567, 0.014449656396795518, -0.0021946991255834547, 0.00736581868647157, -0.01625585067088764, 0.0013472197295785193, 0.008404426471066984, 0.0026521372025332113, -0.010689978184204918, -0.00616271348211761, 0.0001488261319675388, -0.008266560020145697, -0.00874591745919151, -0.013299813130113414, -0.009491584586593937, 0.003184756579249992, -0.0005435790577630328, -0.0004903171200911771, -0.0021946991255834547, 0.0040902095196670984, -0.012607407940381954, -0.005816510887253656, -0.00581651088725188, 0.002012993950473607, 0.0002553500073121384, -0.01335307506778527, -0.006056189606775675, -0.007334476110893107, -0.007654047736923353, 0.001240695854235696, -0.013193289254769702, -0.006429023170476, 0.013570834425213008, -0.006002927669103819, 0.011493618856021293, 0.016473610028315377, -0.005097474728685825, 0.010002284601214662, -0.013832432506829306, 0.013464310549870184, -0.015163980948619482, -0.0020881752502406314, 0.006087532182352362, -0.006535547045818824, -0.013299813130113414, 0.0051820792419343675, 0.009762605881693531, -0.028266417615835593, 0.002385827514175709, -0.008666024552683282, 0.004835876647069526, -0.010130727838651765, -0.00392571209990944, 0.007978330969694802, -0.0020615442814042595, -0.005763248949580024, 0.0013205887607430356, 0.0005749216333414964, 0.0074723425618143935, -0.002487639782777329, 0.01154688079369226, -0.0029936281906568496, 0.019056814005389278, -0.014524837696559878, -0.01702814876712644, 0.0037440069248004804, 0.008777260034768197, -0.0036860333803891976, 0.002385827514174821, 0.01724590812455329, 0.011839821450887023, -0.0016088178111948181, 0.0009211242282063381, 0.017672003625928134, 0.002359196545339337, 0.016313824215301587, -0.01977113855721324, 0.003477697236442978, 0.017059491342703126, -0.003925712099911216, 0.011387094980676693, -0.008852441334535222, 0.008910414878947392, 0.00012219516313205503, 0.004862507615904121, 0.008138116782709481, -0.005949665731431075, -0.013699277662651, 0.009576189099843369, -0.004751272133820095, 0.0019331010439662677, 0.015301847399540769, -0.0015821868423593344, 0.0026255062336977275, 0.007339187717635198, 0.0033978043299356386, 0.005608174743307437, 0.01564804999440561, -0.003446354660866291, 0.013757251207064947, 0.004303257270352745, 0.007898438063186575, -0.013965587351008502, 0.007419080624142538, -0.004032235975253151, 0.012958322141989775, -0.0012359842474927163, 0.007578866437156329, 0.0017999461997870725, -0.0034729856297017747, 0.004516305021040168, -0.003552878536209114, 0.005235341179606223, -0.0097845252437887, 0.008351164533396904, 0.007179401904620519, -0.008293190988982957, -0.015776493231843602, 0.005182079241936144, -0.0033664617543589515, 1.567128778923177e-05, -0.01010409686981717, -0.0005435790577630328, 0.01061479688443967, 0.0056614366809784045, -0.0002772693694055306, -0.007307845142057623, -0.006056189606774787, -0.014791147384918268, 0.009656082006350708, -0.011142704654412583, -0.004218652757103314, -0.0009963055279724742, 0.013171369892675422, 0.015248585461868913, -0.0017686036242094971, 0.002252672669997402, -0.011275859498592666, -0.00925190586707103, -0.011488907249278313, 0.018044837189629348, 0.0064603657460526875, 0.012106131139244525, 0.010108808476559261, -0.0005968409954340004, 0.007179401904620519, 0.006700044465575594, 0.008857152941275537, -0.011089442716741615, 0.0044364121145337165, -0.01087639496605508, -0.01087639496605508, -0.005417046354716071, -0.00871928649035425, -0.0028604733464776544, -0.00453822438313356, 0.010215332351902973, 0.01154688079369226, -0.004058866944088635, 0.005981008307008651, 0.01069468979094701, -0.0001441145252254472, -0.020916270217153254, -0.00933179877357837, -0.0036327714427164537, -0.005816510887252768, 0.0029450778597270855, 0.0024390894518457884, -0.008026881300624567, -0.0023544849385981337, -0.004165390819432346, -0.002434377845104585, 0.003184756579249992, 0.012825167297808804, -0.010024203963308942, 0.009096831660797555, -0.0033398307855225795, -0.005976296700266559, 0.003664114018293141, -0.01788033976987169, -0.0031800449725070123, -0.014737885447246413, -0.007680678705758837, 0.002865184953220634, 0.022039482514999875, -0.005470308292387038, -0.015856386138350942, 0.001373850698414003, 0.0010542790723846451, 0.024596055523236515, 0.014156715739601644, -0.0018751274995540967, 0.004116840488502582, 0.0019064700751298957, -0.00025063840056915865, 0.00510218633542614, -0.012980241504084056, -0.009731263306116844, -0.019318412087005576, 0.010907737541632656, 0.005554912805635581, 0.003557590142952094, 0.01317136989267631, -0.0013158771540018321, 0.0010276481035500495, -0.001475662967015623, 0.016660026810167317, 0.002119517825819095, 0.006886461247427533, 0.0017999461997888488, 0.000441766789161413, -0.005976296700266559, -0.007547523861579641, 0.004463043083368312, -0.004777903102656467, -0.018599375928438633, 0.008431057439902467, 0.015754573869749322, 0.00907020069196296, -0.0036594024115519375, -0.007574154830415125, 0.00667341349674011, -0.009305167804742887, 0.0068065683409184174, -0.012154681470174289, 0.012186024045751864, -0.015510183543485212, 0.010534903977931442, 0.001586898449101426, 0.01660676487249635, -0.006002927669102043, -0.018546113990766777, 0.016526871965987233, -0.0007299958396140838, -0.010476930433518383, 0.0063538418707107525, -0.0027273185022993474, 0.018604087535179836, -0.00232785396976265, 0.012692012453632273, -0.002461008813940957, -0.0012093532786572325, -0.003393092723193547, 0.004942400522412349, 0.01711275328037498, -0.008106774207131018, -0.0013957700605091716, 0.001959732012803528, 0.007072878029276808, 0.006566889621396399, -0.015030826104440287, -0.004271914694776058, 0.016526871965987233, -0.009065489085220868, 0.00030861194498310596, 0.005155448273099772, 0.014130084770765272, -0.015110719010948515, 0.00922998650497675, -0.012420991158531791, -0.01207478856366695, 0.005182079241935256, 4.230225662471554e-05, -0.003286568847850724, 0.008324533564559644, -0.01428515897703786, -0.0014224010293437672, -0.0070415354536992325, -0.0026474255957911197, 0.0032646494857555552, 0.006034270244682283, -0.01873253077261694, -0.009784525243787812, 0.014822489960496732, 0.01088110657279806, -0.012793824722233893, -0.003978974037581295, 0.012878429235482436, 0.010960999479304512, 0.001533636511428682, -0.011888371781816787, -0.014018849288680357, 0.01881713528586637, -0.03684158958096617, -0.00549693926122341, -0.004831165040327434, 0.0061940560576960735, 0.012505595671781222, 0.004329888239188229, 0.00030861194498310596, 0.007498973530649877, 0.0010542790723864215, 0.0031314946415772482, -0.005789879918416396, 0.01088110657279806, 0.014556180272138342, -0.006508916076984228, -0.00592303476259648, -0.019158626273990897, 0.015754573869748434, -0.0019017584683895805, 0.029043427318816484, -0.0012626152163290882, 0.0007347074463561754, 0.012186024045750976, 0.0023059346076683696, -0.006242606388625838, 0.010561534946766926, 0.011546880793691372, 0.008004961938530286, -0.01652216035924603, -0.0016088178111948181, -0.013992218319843097, -0.00038379324474835386, 0.021666648951297773, 0.005714698618651148, 0.009123462629633927, 0.0011608029477283566, 0.005874484431665827, 0.008510950346409807, 0.010774582697455237, 0.00315812561041362, 0.01154688079369226, -0.0007832577772859395, 0.005128817304264288, -0.0018484965307177248, -0.001795234593045869, 0.0206014101978651, -0.002354484938599022, -0.0015022939358511067, -0.0012359842474944926, 0.000601552602176092, -0.012420991158531791, 0.02145360120061124, -0.006961642547191893, -0.011755216937636703, 0.0037440069248013685, -0.007174690297878428, 0.004036947581995243, 0.0015602674802659422, -0.005283891510535987, -0.008506238739669492, -0.011355752405100006, -0.015137349979783998, -0.006295868326296805, 0.01215939307691638, 0.0034244352987720106, -0.015962910013693765, 0.006273948964202525, -0.0004104242135838376, -0.025283749106225883, 0.007605497405993589, 0.0057945915251576, -0.00847960777083312, -0.01764066105034967, -0.022301080596614398, 0.01599425258927134, -0.003233306910178868, 0.013783882175898654, -0.00256753268928378, -0.004831165040326546, -0.0046181172896408995, -0.014098742195186809, -0.0038191882245666164, -0.011329121436263634, -0.015430290636977873, -0.011622062093458396, -0.0012093532786581207, 0.012399071796438399, -0.0090122271475499, -0.005070843759850341, 0.007925069032022058, 0.0008412313216989986, -0.00014411452522722357, -0.016389005515066835, -0.007467630955072302, 0.004542935989875652, -0.00874591745919151, 0.0083777955022315, 0.006513627683723655, -0.00230122300092539, -0.006056189606774787, -0.007600785799251497, -0.02171519928222665, -0.0038458191934021, 0.0061674250888597015, 0.009869129757036355, -0.013646015724979144, 0.015248585461868913, 0.004303257270352745, 0.015861097745092145, -0.012207943407845256, -0.0011294603721507812, 0.019189968849567585, -0.015962910013693765, 0.004809245678233154, -0.0012626152163290882, -0.01319328925477059, -0.014737885447247301, -0.013432967974292609, -0.006642070921161647, 0.010588165915603298, 0.008484319377575211, 0.0013472197295785193, -0.001928389437224176, 0.0024657204206821604, 0.008084854845036737, -0.016788470047603532, 0.008164747751546741, 0.0021727797634891743, -0.016149326795544816, 0.014795858991661248, -0.01985103146372147, -0.0012892461851654602, 0.0018798391062953002, 0.007259294811126971, -0.019398304993512916, -0.017427613299663136, -0.017347720393155797, 0.005501650867965502, -0.004831165040326546, -0.004937688915671146, 0.007365818686470682, -0.010157358807489025, -0.001795234593045869, -0.007174690297878428, 0.0027586610778769227, 0.009602820068677964, -0.0007299958396131956, 0.010747951728618865, -0.00022400743173367488, 0.008164747751544965, -0.009385060711250226, -0.02115594893667616, 1.567128778923177e-05, 0.011440356918349437, -0.0003571622759128701, -0.011648693062292992, 0.022385685109864717, 0.004196733395009922, 0.015701311932078355, -0.012900348597575828, 0.013304524736856393, 0.00792506903202117, -0.004405069538954365, -0.0008365197149560188, 0.002066255888146351, -0.01343296797429172, -0.017054779735961922, -0.0002772693694055306, -0.013273182161277042, 0.031120642888009087, 0.0023059346076683696, -0.010876394966055969, 9.556419429657126e-05, 0.012532226640616706, 0.009336510380320462, -0.0018484965307177248, 0.006140794120024218, 0.00017545710080302257, -0.0004636861512565815, -0.002141437187910711, 0.0033179114234291873, 0.008297902595723272, 0.015142061586524314, 0.006593520590231883, 0.004463043083368312, 0.02076119601087978, -0.00011748355639085162, 0.005235341179607111, -0.008426345833161264, 0.005634805712142921, 0.0028918159220552297, -0.0006767339019413399, -0.014125373164022292, -0.0046447482584772715, -0.021768461219899393, 0.00880389100360457, -0.018865685616797023, 0.021586756044790434, 0.021506863138283983, -0.005789879918416396, -0.0043518076012842855, -0.01156880015578654, -0.004218652757104202, -0.0007566268084486794, 0.003317911423428299, 0.0004417667891605248, -0.01489767126026198, 0.010428380102587731, 0.00315812561041362, -0.0068817496406845535, -0.0012626152163290882, 0.012079500170408153, 0.016367086152971666, 0.001773315230952477, 0.009256617473811346, 0.0014803745737577145, 0.004702721802888554, -0.0023012230009245016, -0.000836519714956907, 0.0043565192080237125, -0.0031800449725079005, -0.0070947973913702, 0.006380472839547124, 0.0008412313216981104, 0.010162070414228452, 0.006433734777217204, 0.001693422324443361, -0.0038191882245675046, -0.0023811159074336175, -0.018013494614049996, -0.012820455691070265, 0.005288603117278967, 0.00880389100360457, 0.008377795502230612, 0.011040892385811851, -0.00198165137489692, 0.020042159852312835, 0.015355109337210848, -0.0070415354536992325, -0.0017419726553749015, 0.004383150176860973, -0.005124105697521308, -0.0036594024115519375, -0.0018484965307177248, -0.00778720258110166, -0.009678001368444988, 0.0036374830494585453, 0.0029184468908916017, -0.0015289249046874787, 0.021560125075954062, -0.005683356043073573, 0.018843766254701855, -0.010263882682831849, 0.006859830278591161, -0.006935011578354633, 0.0022793036388319976, -0.006189344450953094, -0.0057632489495809125, -0.006269237357460433, 0.02110739860574462, -0.0027539494711357193, 0.009043569723127476, 0.011174047229991046, 0.011413725949513065, 0.004356519208024601, -0.008772548428026994, 0.008510950346410695, -0.002434377845104585, 0.014076822833094305, -0.01854611399076589, -0.003925712099910328, 0.0027852920467124065, 0.002012993950473607, -0.01923851918049735, 0.00667341349674011, 0.0015070055425940865, -0.005283891510535987, 0.003823899831308708, 0.006913092216263017, -0.017480875237334992, -0.007946988394116339, 0.013464310549871072, 0.006380472839547124, -0.006961642547191893, -0.020490174715780185, -0.00712142836020746, -0.008825810365697961, 0.018444301722165157, -0.002780580439971203, -0.0044583314766262205, 0.0001488261319675388, -0.0073611070797285905, 0.014875751898168588, 0.005634805712142921, 0.007206032873455115, -0.00025063840056915865, 0.004383150176860973, -0.0012626152163299764, -0.015563445481157068, 0.014263239614945356, 0.00020208806963939452, -0.015936279044857393, 0.005981008307008651, 0.0003618738826549617, 0.005048924397755172, 0.002412458483011193, 0.00930987941148409, -0.0022213300944198267, -0.007680678705759725, 0.012851798266646952, 0.01743232490640434, -0.002274592032089906, 0.01255885760945219, 0.011733297575542423, -0.009092120054055464, 0.011333833043006614, 0.0007080764775198034, 0.002385827514174821, 0.01189308338855799, -0.008825810365697961, -0.009145381991728208, 0.003930423706651531, 0.0030782327039062807, 0.015754573869749322, -0.00925190586707103, 0.00222604170116103, -0.010210620745159993, 0.006566889621397287, -0.011009549810235164, 0.003238018516921848, -0.008852441334534333, -6.422161871988408e-05, 0.004702721802890331, 0.012825167297809692, -0.0194249359623484, 0.017964944283120232, 0.0024657204206830485, -0.00017074549406093098, 0.01769863459476273, 0.011413725949513953, -0.008133405175966502, 0.01924323078724033, -0.01319328925477059, -0.019558090806527595, -0.013273182161278818, -0.011755216937637591, -0.006535547045819712, -0.014418313821217943, -0.0025675326892846684, 0.0016401603867732817, 0.004116840488502582, -0.00616271348211761, 0.014423025427960035, -0.0020082823437324038, -0.004192021788268718, 0.0017200532932788448, 0.006273948964202525, -0.005896403793760996, -0.005869772824923736, 0.013650727331721235, 0.01223928598342372, -0.003739295318059277, -0.005949665731431963, 0.0010010171347127894, -0.004138759850597751, 0.00675330640324745, -0.004990950853343001, 0.007605497405993589, 0.0011874339165647285, 0.0074723425618143935, 0.003690744987129513, 0.009070200691962071, -0.003259937879014352, -0.007254583204384879, 0.0015336365114304584, -0.00975789427495144, -0.00419202178826783, -0.01103618077906976, 0.006194056057695185, -0.026934869174045417, 0.015435002243720852, 0.009096831660797555, -0.0015555558735238506, 0.003051601735070797, -0.0019017584683886923, 0.0034244352987711224, -0.008080143238295534, 0.013411048612198329, 0.0012939577919066636, 0.0055282818368000974, -0.0002240074317327867, 0.0026521372025340995, -0.005656725074237201, 0.007232663842291487, 0.007712021281336412, 0.002305934607666593, 0.0009477551970418219, 0.016047514526942308, -0.015510183543485212, -0.008692655521519654, -0.01497756416676932, -0.01377917056915745, 0.02616728268454871, 0.009309879411484978, -0.005177367635193164, -0.02405872453977853, 0.004303257270352745, 0.011253940136497498, -0.002727318502298459, 0.009789236850528127, -0.004777903102656467, -0.01079650205954863, 0.0033978043299356386, 0.0037440069248004804, 0.013224631830348166, 0.012292547921094688, -0.011089442716741615, 0.0042233643638454055, 0.0018798391062953002, -0.006189344450953094, -0.014657992540739073, 0.0016401603867732817, 0.009815867819364499, -0.007733940643430692, 0.014183346708437128, 0.02387701936466957, -0.003792557255732021, 0.005102186335427028, -0.006056189606775675, 0.011040892385810963, 0.005581543774471953, -0.008639393583847799, 0.0031048636727426526, -0.010423668495846528, 0.009602820068677964, 0.011946345326228958, -0.017214565548975713, 0.008004961938530286, 0.0013205887607421474, 0.003637483049457657, 0.0019597320128017515, 0.010162070414228452, -0.0004104242135847258, -0.0020615442814033713, -0.025443534919239674, 0.015648049994407387, -0.0036860333803874212, 0.008431057439902467, -0.005337153448207843, 0.0023059346076683696, -0.007574154830415125, -0.011755216937636703, 0.0026521372025332113, -0.0017419726553740134, -0.0015555558735238506, -0.016788470047603532, -0.008346452926653924, -0.005390415385878811, 0.003477697236442978, 0.0061674250888597015, 0.0061674250888597015, -0.008000250331789083, 0.010028915570051922, 0.0014803745737577145, 0.002172779763488286, 0.021853065733147936, -0.01961135274419945, 0.023397661925624647, -0.0004370551824202096, -0.016495529390410546, 0.008351164533395128, 0.010588165915603298, -0.0016088178111957063, 0.0012140648853993241, 0.02616728268454871, 0.006300579933038897, -0.013646015724979144, -0.002194699125584343, -0.0004104242135838376, 0.009469665224498769, -0.009970942025637974, 0.009629451037513448, -0.00557683216773075, 0.008590843252918035, -0.004911057946834774, -0.003899081131074844, 0.0012406958542365842, 0.0028385539843851504, -0.006535547045818824, -0.01260740794038373, -0.020596698591124785, 0.015861097745092145, 0.0027852920467124065, 0.0035309591741139457, -0.028905560867896085, -0.004990950853343001, 0.011999607263900813, -0.0028072114088049105, 0.03205272679726168, -0.0034996165985372585, 0.012931691173154292, -6.42216187189959e-05, 0.009709343944022564, -0.00933179877357837, -0.016149326795544816, 0.018071468158464832, 0.014849120929331328, 0.0027320301090405508, 0.016553502934823605, -0.010050834932145314, 0.004702721802890331, -0.018412959146586694, -0.0019283894372250643, 0.0008944932593717425, 0.009150093598470299, 0.004010316613159759, 0.02539498458830991, -0.0013158771540018321, -0.003952343068745812, 0.007232663842291487, -0.008106774207131018, 0.00701961609160584, -0.003872450162238472, 0.010960999479304512, 0.012532226640616706, -0.00163544878003119, -0.009385060711250226, -0.0032066759413433843, 0.0006814455086843196, -0.008186667113640134, 0.018790504317030887, 0.01452954930330197, -0.007387738048564962, -0.01345959894312898, -0.003552878536209114, 0.017485586844076195, -0.004245283725939686, -0.025177225230882172, 1.567128778923177e-05, -0.0029669972218204776, -0.008719286490356026, -0.0007299958396140838, 0.0032646494857564434, 0.01506216868001875, -0.001102829403313521, -0.011435645311607345, 0.0066201515590673665, -0.003552878536208226, -0.0006234719642712605, 0.004090209519667987, 0.0071794019046214075, -0.00488442697799929, -0.0012892461851654602, -0.004724641164984611, -0.0007832577772859395, 0.01120067819882653, -0.00523062957286502, 0.009656082006348932, 0.0019331010439671559, 0.00038850485148955727, -0.008239929051311101, 0.00907020069196296, -0.0008897816526269864, -0.014711254478411817, -0.008958965209877157, -0.011355752405100006, -0.00019737646289730293, -0.009997572994473458, -0.015163980948619482, 0.008617474221754406, 0.004569566958711135, -0.005070843759850341, 0.003983685644324275, 0.0014803745737577145, -1.095968104714018e-05, -0.0007566268084504557, 0.001400481667250375, 0.011067523354647335, -0.011435645311607345, -0.003899081131073956, 0.005581543774471953, -0.002088175250238855, 0.005155448273098884, -0.0032066759413433843, 0.006513627683724543, -0.0036594024115519375, -0.011648693062292992, 0.003664114018293141, -0.00744099998623593, -0.008266560020146585, 0.008138116782709481, 0.012478964702945738, -0.005124105697521308, 0.006913092216263905, 0.015408371274883592, 0.005714698618651148, -0.013805801537993823, -0.008692655521518766, 0.017858420407778297, 0.021666648951297773, -0.007094797391371976, -0.004032235975253151, 0.01828451590914959, 0.007152770935784147, -0.008080143238295534, 0.0021461487946536906, 0.006620151559068255, 0.012052869201572669, 0.011759928544377907, 0.012212655014587348, 0.0012140648854002123, 0.004995662460084205, -0.017454244268499508, 0.0024390894518475648, 0.0001221951631329432, -0.001342508122837316, 0.006939723185098501, 0.0017200532932806212, 0.00922998650497675, -0.02030375793393091, 0.012692012453632273, -0.007014904484864637, -0.008985596178713529, 0.008138116782709481, -0.014125373164024069, 0.0031048636727417644, 0.009602820068678852, 0.006540258652560915, -0.0014756629670165111, 0.001906470075131672, -0.010130727838651765, -0.005070843759850341, 0.0007613384151907709, 0.008004961938530286, -0.017400982330826764, 0.004303257270352745, -0.002141437187910711, -0.02078311537297406, 0.018683980441688064, 0.010028915570051922, -0.005257260541700504, -0.00291373528414951, -0.008186667113639245, 0.015701311932077466, 0.007179401904618743, -0.00512410569752042, -0.0062692373574622096, 0.008777260034769085, -0.0003039003382401262, -0.0017153416865394178, -0.0023811159074336175, 0.007765283219008268, -0.005683356043073573, 0.019296492724912184, -0.015536814512321584, 0.005288603117278079, 0.01711275328037498, -0.009145381991728208, 0.002865184953220634, 0.005608174743307437, -0.01071660915304129, 0.0017200532932806212, -0.0048045340714919504, 0.007072878029276808, -0.011089442716741615, -0.0032333069101797562, 0.002066255888145463, -0.001342508122837316, 0.01777852750127007, 0.007339187717635198, 0.0051288173042634, 0.002066255888145463, -0.010050834932145314, 0.014582811240973825, 0.00973597491285716, 0.007578866437158105, 0.0008146003528626267, -0.002114806219075227, 0.0034510662676074944, -0.01156880015578654, 0.0063272109018743805, 0.009176724567306671, 0.007871807094351091, -0.0004104242135838376, -0.006721963827668986, 0.00030861194498310596, 0.0005216596956687525, 0.0073391877176360865, -0.0006501029331067443, -0.0043518076012842855, -0.0179868636452154, -0.013832432506829306, -0.010583454308861207, 0.0025722442960249836, 0.02627380655989331, -0.00677522576534173, -0.005949665731431963, -0.003978974037582184, -0.007387738048564962, -0.00754752386158053, -0.010237251713996365, 0.0011341719788928728, 0.011040892385810963, 0.00046839775799689676, -0.007254583204385767, -0.00030390033824190255, -0.007680678705757948, 0.006087532182352362, -0.0009164126214651347, -1.0959681048028358e-05, -0.010716609153040402, -0.00685511867184907, 0.0005216596956705288, 0.0020662558881445747, 0.005954377338172279, 0.004942400522412349, -0.01777381589452709, -0.013912325413336646, 0.013650727331722123, 0.015754573869749322, 0.015355109337213513, 0.004622828896383879, 0.007126139966947775, -0.005230629572865908, 0.009629451037514336, -0.00685511867184907, -0.017747184925692494, 0.017858420407778297, 0.0025988752648613556, 0.00219941073232377, -0.0056034631365662335, 0.006220687026532445, -0.023499474194226266, -0.0011560913409871532, -0.0022479610632544222, 0.0017200532932806212, -0.010237251713995477, -0.006002927669102043, 0.0002287190384748783, 0.00486250761590501, -0.0008631506837923908, -0.02088963924831777, 0.020201945665328402, 0.018257884940314995, 0.006140794120022441, -0.006029558637938415, -0.012474253096205423, -0.006295868326297693, -0.023100009661690457, -0.006908380609520037, 0.007392449655307942, 0.004915769553576865, -0.012980241504084056, -0.019371674024676544, 0.002412458483011193, -0.007174690297879316, -0.0015022939358519949, -0.021102686999003417, 0.002838553984384262, -0.015190611917454966, 0.0016667913556087655, -0.0031534140036724168, -0.0022213300944189385, -0.02072985343530309, 0.0045695669587120236, -0.0013957700605091716, 0.0064603657460526875, -0.012314467283189856, -0.0057898799184172844, 0.015408371274883592, -0.013699277662651888, -0.00650891607698334, 0.004995662460084205, 0.004649459865218475, 0.010641427853275154, -0.006801856734177214, -0.011462276280441941, 0.0031314946415772482, -0.0016088178111948181, -0.007281214173222139, 0.004143471457338954, -0.0012359842474936045, -0.012021526625995094, -0.014764516416081896, 0.0024923513895185323, 0.004622828896383879, 0.006087532182351474, -0.005150736666356792, -0.007414369017400446, -0.014418313821217055, 0.007845176125515607, 0.0016934223244442492, -0.008239929051311101, 0.010295225258409424, -0.008239929051311101, -6.42216187189959e-05, -0.011329121436263634, 0.007392449655307054, 0.01282516729781058, 0.0012140648853993241, 0.0011075410100565009, -0.01918525724282638, -6.42216187189959e-05, -0.017187934580141118, 0.013304524736856393, 0.009123462629633039, 0.004196733395009922, -0.0016620797488666739, 0.006673413496740999, 0.003690744987130401, 4.230225662471554e-05, -0.002461008813940957, 0.00616742508886059, 0.0061674250888597015, 0.011413725949513953, -0.00046368615125569335, 0.007978330969694802, -0.007281214173223027, -0.004351807601283397, -0.006349130263968661, 0.0029450778597270855, 0.0011874339165647285, 0.008191378720381337, 0.0002287190384748783, -0.0016354487800320783, 0.004835876647068638, -0.005257260541700504, -0.0018484965307168366, -0.0019017584683895805, 0.010747951728617977, 0.00219941073232377, 0.015514895150226415, -0.008852441334534333, 0.002119517825818207, -0.015163980948619482, -0.020676591497631236, 0.020281838571835742, -0.010397037527010156, -0.009864418150295151, -0.008639393583847799, 0.0007613384151907709, 0.01695296746736119, -0.005230629572864132, -0.003792557255732021, 0.010641427853275154, 0.005874484431665827, 0.019536171444432426, 0.02105413666807454, -0.007627416768087869, 0.00925661747381401, -0.00797361936295271, -0.0031800449725079005, 0.0076321283748290725, 0.013624096362884863, 0.01727253909338966, -0.006588808983490679, -0.007920357425279967, 0.01402356089542156, 0.002412458483011193, -0.004085497912925895, 0.007365818686470682, -0.002274592032090794, 0.005448388930292758, -0.008319821957817553, -0.004165390819432346, -0.02360599806956909, 0.015088799648853346, 0.010028915570051034, -0.003952343068745812, 0.016207300339957875, -0.0013158771540018321, 0.006939723185098501, 0.004596197927546619, -0.0007299958396131956, -0.006295868326296805, -0.006242606388625838, 0.016340455184136182, -0.005550201198895266, -0.00813340517596739, 0.020388362447178565, -0.0017686036242103853, -0.007148059329042944, 0.00046839775799689676, 0.008431057439902467, -0.006349130263967773, 0.015488264181390932, -0.01130249046742815, 0.0004417667891605248, 0.0008146003528626267, 0.0007347074463561754, 0.009123462629633927, 0.00451630502103928, 0.009309879411484978, 0.0029184468908907135, 0.0034510662676074944, -0.013432967974292609, 0.00033524291381858973, -0.009624739430772244, 0.019296492724912184, 0.004569566958711135, -0.010743240121875886, 0.018710611410524436, 0.01428987058378084, 0.009123462629633039, -0.00778720258110166, -0.01793360170754532, -0.01601617195136562, -0.014737885447247301, -0.009864418150294263, -0.005390415385879699, 0.009150093598470299, 0.01495564480467415, -0.00898559617871264, 0.007605497405993589, -0.011515538218114685, -0.013805801537993823, -0.017241196517812973, 0.013570834425213008, -3.759064988173577e-05, 0.001746684262116105, -0.01463136157190359, -1.0959681045363823e-05, 0.01804483718962846, 0.006273948964202525, 0.0025988752648613556, -0.01772055395685701, -0.005869772824923736, 0.011733297575542423, 6.893322546019931e-05, -0.0008631506837923908, -0.00038379324474835386, -0.005017581822178485, -0.01156880015578654, 0.0005482906645051244, 0.023131352237268032, 0.008244640658051416, 0.001693422324443361, 0.01247896470294485, -0.003100152066001449, -0.005709987011909057, -0.0052838915105368756, -0.009464953617758454, -0.003126783034836045, 0.022572101891715768, 0.006966354153933985, 0.01146698788718492, -0.013060134410591395, -0.007227952235550283, -0.011542169186950169, 0.0023325655765047415, 0.01255885760945219, -0.001022936496807958, -0.029225132493923667, 0.0013472197295785193, -0.004671379227313643, -0.006828487703012698, 0.0116267737001996, -0.008186667113639245, -0.02078311537297406, -0.011116073685576211, 0.01564804999440561, 0.00041513582032504104, 0.0006548145398488359, 0.0045961979275483955, -0.0024876397827764407, -0.011195966592084439, 0.015435002243719964, 0.003983685644323387, 0.00864410519058989, 0.0074723425618143935, 0.011094154323482819, 0.009522927162171513, -0.01756076814384233, -0.02693486917404453, -0.0057632489495809125, -0.008080143238295534, 0.0050222934289196886, -0.006429023170475112, -0.0067219638276698745, -0.004298545663613318, -0.005869772824922848, 0.005901115400500423, 0.013490941518706556, -0.024538081978822568, 0.013996929926586077, 0.0023059346076674814, -0.012687300846889293, -0.009012227147548124, 0.00888378391011102, -0.0007832577772868277, -0.009598108461937649, 0.005102186335427028, -0.006295868326296805, 0.007232663842291487, -0.01037040655817556, -0.0052838915105368756, 0.0063272109018743805, -0.0039523430687467, 0.0012939577919075518, -0.01087639496605508, -0.015110719010947626, -0.0002240074317327867, 0.011253940136497498, -0.0008897816526287627, 0.00012219516313116685, 0.003024970766235313, -0.008879072303370705, 0.004409781145696456, -0.007760571612267064, 0.01908344497422476, 0.004223364363846294, -0.00991768008796523, 0.008937045847782876, 0.01753884878174894, 0.02148023216944761, -0.006136082513281238, 0.007552235468321733, 0.005688067649816553, -0.0033930927231953234, -0.013752539600321079, -0.0011294603721516694, 0.0019331010439671559, -0.004564855351968156, -0.0006767339019413399, -0.009518215555429421, 0.018790504317031775, 6.893322546019931e-05, 0.0013205887607421474, 0.01692633649852482, 0.0038771617689805637, -0.0025675326892855566, 0.006247317995367041, 0.0034510662676074944, 0.0006814455086843196, 0.006114163151187846, -0.017853708801035317, -0.003792557255732021, -0.011275859498592666, -0.0009430435903006185, -0.00847960777083312, -0.0017419726553749015, -0.02006407921440978, 0.0008146003528626267, -0.007440999986236818, 0.0064603657460526875, -0.008293190988982957, 0.018071468158464832, -0.009518215555429421, -0.008266560020145697, 0.0063538418707107525, 0.002865184953219746, 0.003957054675487903, -0.019904293401392437, 0.0044364121145337165, 0.00606090121351599, -0.0022213300944198267, -0.00230122300092539, 0.008431057439902467, 0.0035842211117858014, -3.759064988262395e-05, -0.00778720258110166, 0.0032646494857564434, 0.007419080624142538, 0.009389772317992318, 0.016446979059479894, -0.005709987011909057, 0.0034244352987711224, 0.013490941518705668, 0.0026521372025340995, -0.008373083895489408, -0.0012892461851654602, -0.01098291884139968, -0.01002420396330983, 0.01921659981840307, -0.002114806219075227, 0.006593520590232771, -0.020037448245573408, -0.0015821868423584462, -0.004564855351969932, -0.006828487703013586, -0.022807069004495695, -0.003739295318059277, 0.015781204838584806, -0.005044212791013969, 0.00219941073232377, 0.0023059346076674814, -0.0004104242135838376, 0.013118107955005343, -0.0010495674656425535, 0.004463043083367424, -0.007494261923908674, 0.003957054675487015, -0.014152004132858664, 0.00315812561041362, -0.008026881300625455, 0.005235341179607111, 0.002732030109041439, -0.008719286490356026, 0.011307202074169354, 0.012372440827602027, 0.0026521372025340995, 0.0031314946415772482, -0.013060134410590507, -0.006935011578356409, 0.0071527709357850355, 0.006779937372082934, -0.010503561402353867, 0.0005749216333406082, -0.014418313821217943, -0.0004104242135838376, -0.004245283725939686, -0.018918947554467103, 0.02257210189171488, 0.016207300339957875, -0.0018751274995523204, 0.014050191864257044, -0.006322499295132289, -0.00427191469477517, 0.0011874339165638403, -0.00523062957286502, 0.01034848719608128, -0.009172012960563691, 0.008004961938530286, 0.010721320759781605, -0.0031534140036724168, -0.014072111226352213, -0.01756076814384233, 0.016899705529689335, 0.01215939307691638, -0.0015821868423593344, 0.015861097745091257, 0.015275216430704397, 0.005421757961457274, -0.005523570230058006, 0.0009477551970418219, -0.004884426978000178, -0.008160036144802874, -0.0012892461851654602, -0.005097474728685825, 0.0017999461997879607, -0.013353075067784381, 0.013757251207064058, 0.017245908124554177, 0.0016401603867732817, -0.01756076814384233, 0.005235341179605335, 0.014582811240972937, -0.0012892461851663484, 0.00547501989912913, 0.012798536328974208, -0.0022213300944198267, -1.095968104714018e-05, -0.007627416768086093, 0.0021727797634891743, 0.010721320759782493, 0.02395691227117691, 0.0019331010439662677, 0.008164747751544965, 0.004436412114532828, 0.00486250761590501, 0.002039624919309091, -0.006828487703013586, -0.0059230347625955915, 0.007392449655307942, 0.004036947581995243, -0.006455654139314149, -0.004458331476627109, 0.0024657204206839367, -0.0016887107177030458, -0.024644605854167168, 0.024675948429742967, -0.015616707418828923, 0.0008678622905335942, 0.012638750515961306, 0.010428380102586843, -0.025017439417866605, 0.010881106572796284, 0.006700044465575594, -0.005523570230058894, 0.0034510662676074944, 0.0017999461997879607, -0.009411691680086598, -0.00033053130707649814, -0.00523062957286502, -0.0013691390916736879, -0.020996163123661482, -0.004724641164984611, 0.0021727797634891743, -0.001182722309822637, 0.010455011071424991, 0.010588165915603298, 0.014502918334465598, 0.0021727797634891743, 0.006726675434411078, 0.015887728713928517, -0.007867095487609, 0.020228576634164774, 0.0036108520806221733, -0.008160036144801985, 0.005315234086113563, -0.0013957700605091716, -0.005203998604030424, 0.012878429235483324, -0.006455654139311484, 0.009629451037515224, 0.0055016508679637255, -0.006828487703013586, -0.0172145655489766, -0.006349130263968661, 0.0199356359769709, 0.013917037020079626, -0.0077073096745952085, 0.015754573869749322, 0.005954377338172279, 0.009522927162170625, -0.009225274898235547, 0.0001488261319675388, -0.0002240074317327867, -0.008479607770832231, -0.0036327714427164537, 0.005421757961458162, 0.021826434764311564, 0.015435002243720852, -0.010956287872561532, 0.00675330640324745, -0.014178635101695036, 0.0011075410100556127, 0.0027586610778760345, 0.014236608646108984, -0.012713931815724777, 0.007765283219008268, -0.0020615442814042595, 0.0045961979275483955, -0.001182722309822637, -0.015270504823963194, -0.005097474728685825, -0.0009164126214642465, 0.017405693937567968, 0.017751896532434586, 0.010934368510469028, 0.0016667913556078773, 0.0010010171347127894, 0.007658759343664556, -0.01130249046742815, -0.019318412087004688, -0.007627416768087869, 0.006700044465575594, -0.001795234593045869, -0.018333066240080242, 0.011040892385811851, 0.010774582697454349, -0.009678001368443212, -0.019877662432556953, -0.01353949184963632, 0.0039304237066524195, -0.004245283725940574, 0.01780515847010644, -0.0024610088139400688, 0.002039624919309091, 0.0026787681713695832, -0.002940366252985882, -0.02437829616580789, 0.0032380185169209597, -0.011808478875308559, 0.008351164533395128, -0.01636237454623135, 0.017964944283120232, -0.009065489085220868, 0.013091476986168082, 0.0018532081374598164, -9.085258755536785e-05, -0.03404533785320574, -0.0031534140036724168, 0.01447628736563189, 0.0034776972364438663, 0.012505595671780334, -0.004698010196149127, -0.0001973764628981911, 0.001959732012803528, 0.0022793036388319976, -0.0009164126214642465, 0.009203355536141267, -0.011542169186950169, -0.005523570230058894, 0.011014261416976368, -0.008293190988982957, 0.016686657779001912, -0.025044070386702977, 0.01066805882210975, -0.007733940643429804, 0.005767960556322116, 0.014795858991659472, -0.004484962445463481, 0.003664114018293141, -0.013779170569158339, 0.0013472197295785193, 0.004622828896382991, 0.01583446677625666, 0.021560125075954062, 0.008297902595723272, 0.007978330969693914, -0.0021680681567470828, -0.0045914863208045276, 0.007525604499486249, -0.006215975419789466, -0.011275859498592666, -0.012873717628740344, 0.01058816591560241, 0.01514206158652609, 0.0012140648854002123, 0.01761874168825628, -0.013566122818470916, -0.010929656903726936, 0.002998339797398941, -0.002487639782777329, -0.00914538199172732, -0.0020881752502397433, -0.016282481639723123, -0.012980241504083168, 0.013490941518705668, 0.004303257270352745, 0.009309879411484978, 0.00539512699262179, 0.0007879693840271429, 0.005847853462831232, -0.008293190988982069, -0.007813833549937144, -0.0062692373574622096, -0.005177367635193164, 0.017059491342703126, 0.006859830278591161, -0.013486229911963576, -0.014098742195186809, 0.0031314946415781364, -0.005816510887253656, 0.009070200691962071, 0.003557590142951206, 0.002332565576502965, -0.013033503441755023, 0.010934368510469028, -0.01327318216127793, 0.017698634594763618, 0.013703989269391315, 0.003557590142951206, -0.006801856734178102, -0.013699277662651, -0.007787202581102548, -0.019558090806527595, -0.0018484965307177248, -0.005417046354716071, 0.01823125397147951, 0.016020883558106824, -0.007946988394116339, -0.014072111226352213, 0.008004961938530286, -0.002940366252984994, 0.0109609994793054, 0.007978330969693914, -0.0028338423776421706, -0.0034996165985363703, -0.008186667113638357, 0.000601552602176092, -0.0017419726553740134, 0.007712021281336412, -0.01532376676163505, 0.0014537436049222308, 0.012665381484795901, 0.006327210901873492, -0.0016887107177021576, -0.008000250331788195, 0.0026255062336977275, 0.018071468158463944, 0.008937045847781988, -0.005390415385878811, -0.026695190454524287, 0.008857152941275537, 0.0083777955022315, -0.016122695826707556, 0.002039624919309979, -0.0129269795664122, 0.002518982358354016, -0.008958965209877157, -0.020010817276736148, 0.019189968849567585, 0.0026521372025349876, 0.0076321283748290725, 0.005688067649815665, -0.0048045340714919504, -0.0013691390916727997, -0.010450299464682011, 0.024409638741385464, -0.0016887107177030458, -0.010183989776325397, 0.008191378720381337, -0.009518215555429421, -0.00797361936295271, 0.006407103808382608, 0.005954377338174055, -0.006002927669102043, 0.008004961938530286, -0.006535547045819712, -0.005896403793760108, -0.014178635101695924, 0.0006548145398479477, 0.00028198097614584583, 0.0009477551970418219, -0.007627416768086981, 0.008537581315246179, 0.005155448273099772, 0.0063272109018743805, 0.0023591965453402253, -0.004671379227311867, -0.010157358807488137, 0.0026255062336986157, -0.0013158771540018321, 0.004143471457338066, 0.0007080764775206916, -0.0062159754197885775, 0.010694689790946121, 0.02241231607870109, -0.007094797391371976, 0.005714698618651148, -0.013566122818470916, 0.0035575901429503176, 0.006992985122769468, -0.0009430435902997303, 0.002359196545339337, 0.0003618738826540735, 0.01948290950676146, -0.011755216937636703, 0.008510950346410695, 0.023477554832132874, -0.006269237357461321, -0.009704632337279584, -0.0026207946269547477, -0.0007299958396140838, -0.00025063840056915865, -0.004618117289642676, -0.006029558637938415, -0.007574154830415125, -0.009891049119130635, 0.006700044465575594, -0.009198643929398287, 0.0016401603867732817, 0.008138116782709481, -0.0016887107177021576, -0.0019283894372250643, -0.014258528008201488, -0.0032066759413433843, 0.014343132521451807, 0.004489674052203796, -0.014231897039366892, -0.010130727838652653, 0.0012673268230711798, -0.0021680681567461946, 0.012532226640616706, -0.012900348597576716, 0.014582811240973825, -0.001022936496807958, 0.0009743861658773056, 0.008937045847782876, 0.0012673268230711798, -0.012820455691068489, 0.006726675434411078, 0.004170102426174438, 0.0011075410100565009, -0.005337153448206955, 0.004036947581995243, 0.0061940560576960735, -0.0023811159074336175, 0.006700044465576482, -0.01609606485787296, -0.00488442697799929, 0.00017545710080391075, 0.008431057439903356, 0.0036108520806221733, 0.004969031491248721, -0.008186667113639245, -0.0154036596681415, -0.0036860333803883094, -0.006988273516029153, 0.0184975636598379, 0.005634805712142921, -0.02139562765619818, -0.014791147384918268, 0.006833199309754789, 0.011866452419722506, -0.008532869708504087, 0.0064603657460526875, 0.007179401904619631, 0.007392449655307054, -0.004857796009163806, -0.013619384756142772, 0.015115430617689718, 0.01189308338855799, -0.004618117289642676, 0.006486996714889948, 0.0016135294179369097, -0.01918525724282727, -0.0013957700605082834, 0.008138116782709481, 0.003823899831309596, 0.011040892385811851, -0.017667292019186043, 0.006353841870709864, -0.01404548025751673, -0.012154681470174289, 0.003983685644322499, -0.022567390284974564, -0.007094797391371088, 0.010321856227244908, -0.0062159754197885775, -0.004937688915671146, 0.005395126992620902, 0.003664114018294029, 0.001080910041221017, 0.004889138584740493, 0.006939723185098501, 0.0006548145398479477, 0.01658013390365909, -0.0031800449725070123, -0.007920357425279967, -0.0049376889156702575, 0.0028385539843851504, -0.009358429742414742, 0.012026238232738073, -0.005949665731431963, -0.010077465900981686, -0.0165487913280824, 0.007978330969693914, -0.0029936281906577378, -0.01191500275065227, 0.003957054675487903, -0.006588808983490679, 0.01916333788073299, 0.006247317995367929, 0.008777260034769085, -0.012660669878054698, 0.006833199309753901, 0.004329888239188229, 0.019349754662582264, -0.009651370399609505, -0.014684623509575445, 0.0024657204206821604, -0.010157358807489025, 0.023131352237267144, -0.004964319884505741, 0.017911682345449265, 0.007871807094351091, -0.013965587351008502, -0.012234574376681628, -0.005630094105401717, 0.00017545710080391075, -0.0047512721338192065, 0.007232663842292375, 0.005395126992620014, -0.009997572994473458, -0.005417046354716071, 0.001427112636086747, 0.013171369892675422, 0.015275216430705285, -0.009624739430772244, 0.005075555366590656, 0.00020208806963939452, 0.0022793036388311094, -0.003765926286896537, 0.010907737541632656, 0.0074723425618143935, -0.0212358418431835, -0.004511593414298076, -0.0018484965307177248, -0.00746763095507319, 0.003184756579249992, 0.004915769553576865, 0.003344542392264671, 0.010348487196080391, -0.012234574376681628, -0.0029137352841503983, -0.004112128881761379, 0.0007080764775198034, -0.002753949471134831, 0.011999607263901702, 0.010215332351902084, 0.004942400522411461, -0.003552878536208226, 0.009123462629633927, 0.0011075410100565009, 0.007232663842291487, -0.007068166422534716, 0.0011608029477292447, -0.011169335623248067, 0.004755983740562186, 0.005767960556321228, 0.0011341719788928728, 0.002012993950473607, 0.011626773700198711, 0.0042233643638454055, -0.024165248415122242, 0.011866452419723394, -0.01010409686981717, -0.001955020406060548, 0.012665381484795901, 0.009363141349155946, -0.01601617195136651, 0.006646782527905515, -0.012181312439009773, 0.008297902595723272, 0.0027852920467124065, -0.0016887107177030458, 0.00856421228408255, 0.007525604499486249, 0.017086122311539498, 0.012878429235482436, 0.010481642040259587, 0.003051601735071685, 0.008750629065932714, 0.01325126279918365, -0.009278536835908291, 0.0008412313216989986, 0.004463043083368312, -0.02286033094216755, 0.003371173361101043, -0.006455654139312372, 0.0035842211117866896, 1.567128778923177e-05, -0.010157358807488137, -0.005017581822178485, 0.005874484431665827, -0.0005702100265985166, -0.0038191882245675046, 0.00219941073232377, -0.001662079748867562, 0.009576189099841592, -0.005177367635194052, -0.006189344450953982, 0.012106131139242748, -0.009198643929399175, 0.01136046401184121, 0.021693279920134145, 0.002705399140205067, 0.013650727331721235, -0.00810677420713013, -0.006189344450953094, -0.0028871043153140263, -0.012580776971547358, -0.005363784417044215, -0.008213298082475617, -0.011888371781817675, 0.0060076392758450226, 0.00385053080014508, 0.007392449655306166, -0.011701954999964848, -0.003765926286895649, 0.0032380185169209597, 0.00038850485149044545, 0.0034244352987711224, 0.006300579933038897, -0.008160036144802874, -0.002620794626955636, 0.006007639275845911, 0.015381740306048108, 0.002891815922056118, 0.00795170000085843, 0.016207300339957875, 0.019722588226283477, 0.009709343944021676, -0.011675324031129364, 0.006433734777218092, -0.019291781118169204, 0.004676090834053959, -0.014844409322591012, -0.017747184925692494, -0.018972209492139847, 0.012052869201572669, 0.008697367128260858, -0.007014904484864637, 0.012399071796438399, 0.007232663842291487, 0.003690744987130401, -0.005417046354716071, 0.007312556748798826, -0.011435645311607345, 0.001373850698414003, 0.009070200691962071, 0.007179401904620519, 0.002012993950473607, 0.006566889621397287, -0.007307845142057623, -0.0096780013684441, 0.012399071796438399, -0.0016088178111948181, 0.016207300339956987, -0.011275859498592666, 0.014316501552616323, 0.0007080764775198034, -0.00427191469477517, 0.011067523354647335, -0.00011748355639085162, -0.00523062957286502, -0.0030468901283287053, -0.0036594024115528256, -0.014178635101695924, 0.0004950287268332687, -0.009891049119131523, 0.001773315230952477, 0.008164747751545853, 0.01428987058378084, 0.005927746369336795, -0.011009549810235164, -0.012101419532503321, 0.0050222934289196886, 0.0021461487946536906, 0.005395126992620902, 0.023184614174939888, -0.010636716246533062, -0.00033053130707649814, 0.0015070055425931983, -0.0025409017204491846, 0.018950290130046454, 0.0036108520806221733, 0.0025988752648604674, -0.009757894274952328, 0.0036374830494585453, -0.0029936281906568496, -0.0024077468762691012, 0.006034270244680506, 0.0012939577919075518, -0.003286568847851612, 0.0010542790723846451, 0.004915769553575977, -0.006961642547191893, -0.013672646693814627, 0.004995662460084205, 0.017512217812912567, 0.007685390312499152, -0.004218652757104202, -0.003978974037582184, 0.00030861194498310596, 0.0063272109018743805, 0.0028119230155487784, -0.014205266070531408, 0.0030782327039062807, -0.009624739430772244, 0.009762605881693531, -0.004804534071492839, -0.011409014342771862, 0.003477697236442978, 0.01223928598342372, 0.003078232703907169, -0.006828487703013586, 0.002012993950473607, -0.005390415385880587, 0.0027320301090405508, -0.003739295318060165, 0.015861097745092145, -0.003233306910178868, -0.014711254478410929, -0.008266560020145697, -0.005203998604028648, 1.567128778923177e-05, 0.012825167297811468, 0.004969031491246945, -0.0041653908194332345, 0.004383150176860973, 0.0035575901429503176, 0.015754573869749322, -0.002141437187910711, 0.0014803745737577145, -0.01923851918049735, 0.003530959174114834, -0.010210620745159993, -0.0072013212667139115, 0.0006281835710124639, 0.006593520590231883, -0.0096780013684441, -0.0017419726553740134, 0.004782614709398558, 0.020601410197865988, -0.0046447482584772715, 0.011413725949513953, 0.008138116782709481, 0.012425702765273883, 0.0024657204206830485, 0.003930423706651531, 0.006726675434411966, -0.007254583204386655, -0.023153271599361425, -0.010903025934891453, 0.0031314946415772482, 0.015088799648854234, -0.0007033648707768236, 0.017725265563599102, 0.02001552888347735, -0.0036594024115519375, -0.0009430435903006185, -0.0115954311246238, -0.0002772693694055306, 0.007951700000859319, 0.005288603117278079, 0.0008412313216989986, 0.009895760725871838, 0.005421757961458162, 0.0077652832190073795, 0.0025456133271895, -0.005976296700266559, -0.005203998604028648, 0.00864410519058989, -0.0070415354536992325, 0.003024970766234425, -0.01505745707327577, -0.010530192371190239, -0.0020082823437324038, -0.0012093532786572325, -0.003366461754357175, -0.009731263306115068, 0.006566889621396399, 0.011733297575542423, 0.01708612231153772, -0.0111160736855771, -0.0017686036242094971, -0.007787202581100772, -0.011329121436264522, 0.008404426471066984, 0.001240695854235696, 0.009203355536141267, -0.016122695826708444, -0.011835109844144043, 0.0019597320128026396, 0.00451630502103928, 0.01101426141697548, -0.014657992540739073, -0.005337153448207843, -0.0038458191934021, -0.002114806219075227, -0.0004636861512565815, 0.0009743861658773056, 0.011440356918349437, -0.0002772693694055306, 0.027392307250996062, 0.005634805712143809, -0.007760571612265288, 0.009682712975185304, 0.0022793036388319976, 0.006433734777217204, -0.00019737646289730293, 0.011626773700197823, -0.002088175250238855, -0.002833842377643059, 0.0028385539843851504, -0.006642070921162535, -0.010903025934891453, -0.015243873855126822, -0.002461008813940957, -0.0007832577772859395, -0.005709987011909057, -0.004990950853343001, 0.008191378720380449, 0.004196733395009922, 0.014236608646108984, -0.010476930433518383, 0.00478261470939767, -0.010903025934891453, -0.0022213300944198267, 0.005581543774471953, 0.009975653632380954, -0.007387738048564962, 0.003291280454591927, 0.014476287365631002, 0.007765283219008268, 0.002705399140205067, 0.0017466842621169931, 0.014529549303302858, 0.0004950287268323805, 0.008537581315246179, 0.004489674052202908, 0.003291280454591927, 0.007179401904620519, 0.018177992033806767, 0.0050755553665924324, 0.0013472197295785193, -0.0016088178111948181, -0.002887104315313138, -0.007600785799250609, 0.002865184953220634, 0.00046839775799689676, 0.013038215048497115, -0.011462276280442829, 0.003717375955966773, 0.0011341719788910964, 0.01066805882210975, -0.0019550204060614362, -0.004218652757103314, -0.008106774207131018, -0.005203998604029536, 0.01660676487249546, 0.007871807094351091, -0.00163544878003119, 0.017352431999897, -0.01199489565715961, -0.006801856734177214, -0.0014224010293446554, -0.006402392201640517, -0.004005605006417667, -0.009118751022892724, 0.004755983740561298, -0.00592303476259648, 0.009735974912858048, 0.003051601735071685, 0.0028385539843851504, -0.0059230347625955915, -0.009092120054055464, 0.03868383803737707, 0.0016401603867732817, 0.001746684262116105, -0.009837787181459667, -0.01790697073870806, -0.013113396348263251, -0.006162713482116722, 0.017032860373867642, -0.0072013212667139115, 0.013357786674526473, -0.0070681664225356045, -0.009678001368444988, 0.001427112636086747, -0.005203998604028648, 0.009469665224498769, 0.011067523354647335, 0.007339187717635198, -0.0016088178111957063, -0.007307845142057623, 0.02464931746090837, -0.0006501029331067443, -0.003899081131074844, -0.008506238739668603, -0.007174690297878428, 0.0025988752648613556, -0.008319821957817553, -0.010689978184204918, -0.0077073096745952085, 0.01112078529231919, 0.007552235468322621, -0.0014490319981801392, -0.010530192371190239, 0.00981586781936361, -0.0012359842474927163, 0.013996929926586077, 0.013144738923840826, -0.00616271348211761, 0.00038850485148955727, 0.0014803745737577145, -0.003446354660867179, 0.018417670753329674, 0.004010316613159759, -0.011009549810235164, 0.017964944283120232, -0.01574986226300723, 0.0003618738826540735, 0.00038850485149044545, -0.0038191882245675046, -0.004218652757103314, 0.012558857609453078, -0.025816368482941776, 0.010561534946766926, -0.00515073666635768, -0.017108041673633778, 0.010455011071424991, -0.012634038909218326, -0.00866602455268417, -0.007361107079729479, 0.002385827514174821, 0.018843766254702743, -0.014365051883546087, 0.008191378720381337, 0.0017999461997879607, 0.011999607263901702, -0.013432967974292609, 0.0021727797634891743, 0.0017466842621169931, 0.0083777955022315, -0.004484962445461704, 0.018763873348195403, -0.0050974747286849365, 0.013544203456378412, 0.025900972996191207, 0.003184756579249992, -0.0016620797488666739, 0.004809245678234042, -0.004058866944089523, -0.01138238337393549, 0.007046247060440436, -0.0016088178111948181, 0.0010010171347127894, 0.0016135294179369097, -0.015084088042112143, 0.0053152340861126746, 0.010455011071424991, -0.022833699973332067, -0.008479607770832231, 0.01000228460121555, 1.5671287790119948e-05, -0.011435645311607345, 0.007898438063187463, -0.018785792710289684, 0.01309147698616897, -0.034178492697384044, 0.012079500170409041, -0.0015289249046874787, 0.008058223876201254, -0.022194556721272463, 0.019695957257447994, 0.01974921919511985, 0.011120785292318303, -0.005283891510535987, -0.015004195135605691, 0.0026521372025340995, 0.004223364363847182, -0.006402392201639628, 0.01607414549577868, 0.0008412313216989986, -0.015456921605815133, -0.01124922852975807, 0.003477697236442978, -0.002940366252985882, -0.0023811159074336175, -0.00650891607698334, -0.011062811747906132, -0.0041653908194332345, 0.005741329587486632, 0.003211387548085476, 0.012771905360139613, -0.010503561402353867, -0.005656725074238089, 0.0018798391062961883, -0.015643338387664407, 0.0039037927378160475, -0.002780580439970315, -0.014018849288679469, 0.007019616091604952, -0.0026474255957911197, 0.011493618856020404, 0.005235341179606223, -0.006082820575611159, -0.02978438283947593, -0.003286568847851612, 0.023450923863296502, 0.005102186335427028, 0.0008412313216972223, -0.008532869708504087, 0.006486996714888171, -0.006508916076984228, -0.0020615442814042595, -0.013566122818470916, 0.011040892385811851, 0.012026238232737185, -9.085258755447967e-05, -0.005443677323550666, -0.008559500677339571, -0.014311789945874231, -0.01729445845548394, -0.007813833549938032, -0.011009549810234276, 0.0021195178258173186, -0.0020349133125687757, -0.001635448780030302, -0.00453822438313356, 0.012931691173154292, -0.007307845142056735, -0.003978974037582184, 0.010588165915603298, -0.01532376676163505, -0.00198165137489692, 0.004809245678234042, -0.01124922852975807, -0.005656725074238089, -0.009598108461937649, -0.0017686036242103853, -0.00198165137489692, 0.010534903977931442, -0.0013691390916736879, -0.010210620745159993, 0.0008944932593708543, 0.005821222493993972, -0.004698010196149127, 0.0025722442960249836, -0.008266560020145697, 0.001533636511428682, 0.0032912804545928154, 0.020388362447178565, -0.024857653604853702, -0.007733940643429804, -0.0013158771540018321, 0.005901115400500423, 0.015940990651599485, -0.0009430435902997303, -0.0012892461851672365, -0.0057366179807445405, 0.0024657204206830485, 0.003530959174114834, -0.011648693062292992, 0.0035309591741139457, 0.01000228460121555, 0.009789236850528127, -0.007787202581100772, 0.011946345326229846, -0.006695332858833503, 0.005741329587486632, 0.01402356089542156, 0.011626773700198711, -0.011409014342770973, -0.012713931815726554, -0.0013158771540018321, 0.006540258652560915, 0.015355109337211736, 0.0023325655765047415, 0.005608174743306549, 0.0029184468908907135, -0.0034729856297017747, 0.0026787681713695832, -0.010290513651667332, 0.0027852920467124065, 0.00899030778545562, -0.0008897816526278746, -0.0046447482584772715, -0.010503561402353867, -0.0021946991255834547, 0.00486250761590501, 0.010561534946767814, -0.006615439952326163, 0.018177992033808543, 0.007498973530648989, 0.022971566424252465, 0.0040902095196670984, 0.006726675434411966, 0.014556180272137453, -0.013086765379427767, -0.011728585968800331, 0.0028119230155487784, -0.0028604733464776544, -0.0077073096745952085, -0.002461008813940957, 0.0031048636727426526, -0.006082820575611159, 0.0036374830494585453, 0.00451630502103928, 0.001720053293279733, -0.016016171951364733, 0.001240695854235696, 0.008617474221753518, -0.018626006897275893, -0.0036860333803883094, 0.0001488261319675388, -0.0016620797488666739, 0.0052087102107707395, -0.012261205345516224, -0.006535547045818824, 0.004143471457338066, -0.00515073666635768, 0.02267862576705859, 0.022465578016371168, -0.01234109825202534, -0.013486229911964465, -0.01042366849584564, -0.007893726456444483, 0.009096831660796667, -0.008719286490355138, 0.01130720207417113, 0.0030782327039062807, 0.01282516729781058, -0.010104096869816281, 0.015248585461868913, -0.012474253096204535, 0.013064846017333487, -0.00810677420713013, -0.010849763997221373, 0.00219941073232377, -0.018705899803781456, 0.017379062968733372, -0.014737885447246413, 0.007818545156678347, -0.003552878536209114, 0.0018532081374589282, -0.009944311056801602, -0.017693922988022415, -0.018439590115423954, 0.013970298957750593, 0.009629451037513448, 0.0038771617689805637, -0.012980241504083168, 0.00539512699262179, -0.0033930927231953234, 0.0009743861658773056, 0.0039037927378160475, 0.015887728713929405, -0.020330388902765506, -0.009012227147549012, 0.010774582697454349, -0.0019550204060614362, 0.007658759343664556, -0.010743240121875886, 0.0031314946415772482, 0.004329888239188229, 0.017645372657091762, 0.009895760725871838, 0.0008944932593699662, 0.005767960556322116, -0.015057457073276659, -0.0008897816526278746, -0.022620652222644644, -0.001528924904689255, -0.011036180779070648, 0.0052087102107707395, -0.004245283725940574, 0.000281980976146734, 0.002412458483011193, -0.0033131998166862076, 0.011573511762527744, 0.009522927162170625, -0.01644226745273869, -0.0068817496406845535, -0.009544846524264017, -0.014657992540739961, 0.004329888239188229, -0.005523570230058006, -0.007574154830415125, 0.006407103808382608, 0.0063005799330380086, 0.0038771617689805637, 0.004223364363847182, -0.0022479610632544222, -0.0009164126214642465, -0.0015821868423593344, 0.010215332351901196, 0.0014803745737577145, 0.015461633212555448, -0.012074788563667838, -0.014178635101694148, -0.0012093532786572325, 0.005208710210769851, 0.01530184739953988, 0.018018206220792088, -0.017400982330827652, 0.0043565192080237125, 0.007525604499485361, 0.008510950346410695, -0.005124105697522197, -0.012793824722233005, 0.006646782527904627, -0.014338420914711492, -0.007068166422534716, 0.005901115400501311, 0.02662000915475815, -0.005496939261221634, -0.0015289249046883668, 0.0051288173042634, 0.005981008307010427, 0.010348487196080391, -0.0034729856297017747, -0.0013691390916736879, -0.007787202581100772, 0.0077652832190073795, -0.0057366179807445405, 0.0024390894518466766, -0.0016088178111957063, -0.0017686036242103853, -0.01993092437022881, 0.005954377338173167, 0.001906470075130784, -0.0028871043153140263, -0.006615439952326163, -0.01191500275065227, 0.006859830278591161, 0.0010542790723855333, -0.007627416768086981, 0.0004950287268332687, -0.008266560020146585, -0.005949665731431963, -0.0037925572557311327, 0.023930281302341427, 0.003850530800144192, 0.0055282818368000974, 0.0017733152309507005, 0.001240695854235696, 0.0039037927378169357, 0.013038215048497115, -0.00949158458659305, 0.011839821450886134, -0.021928247032914072, -0.0031534140036715286, -0.008106774207131018, 0.0016135294179369097, -0.008666024552683282, 0.008697367128260858, 0.01189308338855799, -9.085258755447967e-05, 0.010348487196080391, -0.005337153448208731, 0.011307202074170242, -0.008080143238295534, -0.0013957700605091716, -0.014098742195186809, 0.01663339584133272, -0.00163544878003119, -0.017321089424319425, 0.013490941518705668, 0.0006548145398488359, -0.0011294603721516694, 0.010561534946768703, -0.004884426978000178, -0.003579509505044598, 0.019962266945807272, -0.012500884065040019, 0.02283841158007327, 0.017565479750584423, -0.02096953215482511, -0.011409014342771862, -0.011968264688324126, -0.0046447482584772715, 0.009043569723127476, 0.00222604170116103, 0.012532226640615818, -0.014178635101695924, 0.0026255062336977275, -0.0017419726553740134, 0.009443034255663285, 0.006913092216263905, 0.0032113875480845877, -0.0104502994646829, 0.0008944932593717425, -0.0013158771540018321, -0.0008631506837915026, 0.0006548145398479477, -0.008852441334535222, -0.011648693062292992, 0.0015070055425931983, -0.008932334241041673, 0.016393717121808926, -0.005709987011909057, -0.008479607770832231, -0.0072013212667148, 0.00699298512276858, 0.0033179114234291873, -0.009065489085220868, -0.012713931815725665, 0.008191378720380449, 0.01266538148479679, 0.005155448273098884, 0.0011341719788910964, -0.00712142836020746, -0.008719286490356026, -0.0033131998166862076, 0.015594788056734643, 0.0015868984491023141, -0.003899081131074844, -0.006695332858833503, -0.02720117886240292, -0.005976296700266559, 0.014742597053987616, -0.009411691680086598, -0.007148059329042944, -0.00453822438313356, -0.003872450162238472, 0.00022871903847576647, -0.004085497912925007, 0.001080910041221017, 0.02113402957458277, 0.0008146003528626267, 0.026087389778040482, -0.016815101016439016, -0.010849763997218709, 0.002226041701160142, 0.006913092216262129, -0.0030468901283287053, 0.008084854845036737, 0.0017999461997870725, 0.014156715739600756, 0.0011341719788928728, -0.0026207946269547477, -0.009385060711251114, -0.0004104242135847258, 0.012452333734109367, -9.085258755447967e-05, 0.020628041166701472, -0.013006872472920428, 0.008830521972440941, 0.006540258652560027, -0.017267827486649345, -0.00616271348211761, -0.010556823340025723, 0.007392449655306166, -0.0038724501622393603, -0.0034729856297017747, 0.0038771617689805637, -0.014072111226352213, -0.022673914160317388, 0.004649459865218475, -0.004431700507789849, 0.0018798391062961883, 0.0037173759559658848, 0.011253940136497498, -0.0035528785362100024, 0.005661436680979293, 0.009176724567305783, -0.018865685616797023, 0.004596197927547507, 0.00185320813745804, -0.0010761984344789255, -0.01686836295411087, 0.01351757248754204, -0.014338420914709715, 0.005102186335428804, 0.007046247060441324, 0.005261972148441707, 0.008803891003605457, -0.0010761984344789255, -0.006136082513282126, -0.008825810365697961, 0.004809245678234042, -0.016628684234588853, -0.0036860333803874212, -0.011462276280441941, -0.012500884065040019, -0.01489767126026198, -0.012580776971547358, 0.00675330640324745, -0.015536814512321584, 0.008297902595723272, -0.003632771442717342, 0.0006814455086843196, 0.010588165915604186, 0.020042159852313723, 0.012106131139244525, 0.009975653632379178, -0.027174547893567436, -0.0036327714427155655, 0.004862507615904121, 0.0064603657460526875, 0.020042159852312835, -0.021289103780855356, 0.006034270244680506, 0.003371173361101043, 0.005794591525158488, -0.0022479610632553104, 0.0027320301090396626, 0.004063578550831615, -0.013140027317097847, -0.0013691390916736879, 0.021320446356431155, 0.00949629619333514, 0.003930423706651531, 0.007312556748798826, -0.017134672642469262, 0.0028119230155487784, 0.012798536328974208, 0.0060076392758450226, 0.002891815922056118, 0.012106131139243637, 0.0022793036388319976, 0.003477697236442978, -0.00453822438313356, 0.010721320759781605, 0.01948290950676146, 0.015568157087897383, 0.003770637893635964, 0.003371173361101043, -0.0035262475673727423, -0.008506238739667715, 0.0006281835710115757, 0.00020208806963850634, 0.0008678622905344824, 0.02241231607870109, -0.002780580439970315, 0.0017200532932815094, -0.005470308292387038, -0.007334476110893107, 0.006433734777217204, -0.008373083895489408, -0.009012227147549012, 0.011946345326228958, -0.021661937344557458, -0.0024077468762691012, 0.009975653632380066, -0.0047779031026555785, -0.011701954999964848, -0.0026207946269547477, 0.005847853462830344, -0.01969124565070679, 0.004116840488502582, -0.0022213300944180503, -0.007307845142057623, -0.012687300846888405, 0.018444301722165157, -0.004058866944089523, 0.01359746539404938, -0.016149326795545704, 0.007285925779964231, -0.0025675326892846684, -0.007547523861579641, 0.0011874339165647285, 0.0047559837405630745, 0.010960999479303624, -0.005443677323550666, 0.005954377338173167, -0.008666024552683282, -0.0103437755893383, 0.014396394459122774, -0.01393895638217213, -0.0007299958396140838, 0.011493618856021293, 0.0031314946415772482, 0.004835876647068638, -0.005390415385879699, -0.0041653908194332345, 0.00922998650497675, 0.007365818686470682, 0.008004961938530286, -0.0007566268084495675, 0.013118107955005343, 0.002865184953220634, -0.0017686036242103853, 0.0055282818368000974, 0.009203355536141267, -0.007227952235550283, 0.002838553984384262, 0.009043569723127476, 0.008750629065933602, -0.005390415385879699, 0.0015868984491005378, -0.004964319884506629, 0.01034848719608128, 0.0030782327039062807, 0.006220687026532445, -0.013512860880800837, -0.001821865561882241, -0.005843141856088252, 0.008484319377575211, 0.0050489243977560605, 0.0035575901429503176, 0.011094154323482819, -0.00429854566361243, 0.001373850698414003, 0.013011584079661631, 0.00664678252790285, 0.002385827514175709, -0.0050974747286849365, 0.0007613384151907709, 0.002252672669996514, 0.01948290950676146, -0.006136082513281238, 0.008111485813873998, 9.556419429657126e-05, 0.01069468979094701, 0.0019863629816381234, -0.001156091340986265, -0.005816510887252768, 0.00020208806963939452, -0.00712142836020746, 0.005155448273098884, 0.0033179114234291873, -0.018279804302410163, -0.00616271348211761, 0.002119517825818207, 0.004622828896382991, -0.004138759850596863, -0.0009696745591369904, 0.008830521972440053, 0.005741329587486632, -0.004138759850596863, -0.0046447482584772715, 0.008431057439902467, 0.010215332351902973, -0.009172012960562803, 0.003477697236442978, 0.00038850485149044545, -0.024032093570943047, -0.006562178014654307, 0.015088799648854234, -0.015004195135604803, 0.011733297575543311, -0.010050834932146202, -0.017747184925692494, 0.009176724567305783, -0.01353949184963632, -0.0008098887461214233, 0.006886461247426645, -0.0017686036242094971, 0.01066805882210975, 0.0034244352987720106, -0.0001441145252254472, -0.001156091340986265, -0.011888371781815898, 0.0010542790723846451, -0.03734757798884569, 0.012665381484795901, -0.0065355470458179354, -0.02893219183673068, 0.010082177507723777, -0.0015821868423593344, 0.008750629065933602, -0.010077465900980798, 0.00057492163333972, -0.002461008813941845, 0.0008678622905335942, 0.011733297575542423, -0.00427191469477517, -0.005283891510535099, 0.007285925779964231, -0.02030375793393091, 0.01101426141697548, 0.004835876647068638, -0.02062332955996027, 0.002385827514175709, 0.012745274391304129, -0.018333066240080242, 0.014343132521452695, 0.0027320301090405508, 0.0047293527717267025, -0.007227952235549395, -0.008160036144802874, 0.014742597053987616, 0.007605497405993589, -0.009278536835907403, 0.0007879693840271429, 0.0028119230155487784, -0.009065489085220868, 0.00347769723644209, 0.00880389100360457, 0.012931691173154292, -0.013406337005456237, -0.01628248163972401, -0.02072985343530309, -0.0053904153858779225, -0.01897220949213896, 0.01178655951321339, -0.003579509505045486, -0.013060134410591395, 0.007818545156680123, 0.01402356089542156, 0.0011874339165647285, -0.009970942025637974, -0.00033053130707560996, 0.002705399140204179, -0.019158626273990897, -0.012687300846889293, -0.0010761984344780373, -0.003632771442717342, 0.0032113875480845877, 0.012878429235481548, 0.0001221951631329432, 0.01719264618688321, -0.0017686036242103853, -0.0030202591594923334, 0.005634805712143809, 0.008537581315247067, -0.0017686036242112735, 0.00922998650497675, -0.030263740278520856, -0.0016088178111957063, 0.003051601735071685, 0.0028119230155487784, -0.0049376889156702575, 0.0011075410100565009, 0.0036374830494585453, 0.011759928544377907, -0.019797769526049613, -0.0021946991255825665, 0.004383150176860973, -0.002620794626955636, 0.0029450778597270855, 0.004622828896382991, 0.01008217750772289, -0.004591486320805416, -0.002327853969763538, -0.005203998604028648, 0.022438947047535684, 0.013863775082406882, -0.008905703272207077, -0.013140027317100511, 0.007419080624143426, -0.0020615442814033713, 0.01221265501458646, -0.007174690297878428, -0.0008631506837915026, -0.028000107927477202, 0.01120067819882653, -0.00453822438313356, -0.006136082513281238, -0.0034729856297017747, 0.016393717121808926, 0.0048891385847413815, -0.004032235975253151, -0.00994431105680249, 0.009522927162171513, -0.009624739430773133, -0.004005605006417667, -0.014578099634232622, 0.010561534946766926, -0.004484962445463481, 0.0017999461997879607, -0.004937688915671146, -0.009012227147549012, -0.007174690297878428, 0.014449656396795518, 0.009869129757036355, -0.004218652757104202, -0.022034770908257784, -0.011915002750651382, -0.002407746876268213, 0.01823125397147951, 0.003211387548085476, 0.011333833043006614, 0.004915769553575977, -0.00038379324474835386, 0.007126139966948664, -0.009464953617757565, -0.009864418150294263, 0.007339187717635198, -0.0001441145252263354, -0.0020615442814042595, 0.0010010171347136776, -0.01010409686981717, -0.0032066759413433843, -0.012314467283188968, -0.0005435790577630328, -0.00975789427495144, 0.004249995332682666, 0.00864410519058989, 0.0025456133271895, 0.0005482906645051244, -0.0015821868423593344, 0.006513627683724543, 0.008750629065932714, -0.007787202581102548, 0.00020208806963939452, 0.014902382867003183, 0.016100776464614164, -0.004724641164984611, 0.007765283219008268, -0.0003039003382401262, -0.0002772693694046424, -0.0019283894372250643, 0.008431057439903356, -0.008026881300623678, 0.003184756579249104, 0.019056814005389278, 0.004969031491247833, 0.008324533564559644, -0.00453822438313356, 0.009203355536142155, -0.006322499295133177, -0.000863150683793279, 0.012692012453633161, 0.012425702765273883, -0.0169482558606191, 0.0029184468908916017, -0.012873717628741232, -0.004884426978000178, 0.00025535000731036206, 0.00864410519058989, -0.018546113990766777, -0.011861740812979527, 0.018177992033807655, -0.007334476110893995, 0.007552235468320845, -0.01945156693118477, -0.0001441145252263354, -0.018785792710288796, -0.010423668495847416, 0.013517572487540264, 0.00984249878820087, -0.008160036144801985, 0.007898438063187463, 0.00046839775799778494, -0.003632771442717342, -0.003739295318059277, -0.013725908631486483, -0.015004195135604803, 0.0028119230155487784, -0.004831165040326546, -0.002434377845104585, 0.0015070055425949747, -0.01625585067088675, 0.020255207603001146, -0.0004104242135847258, -0.0002772693694046424, -0.013592753787305512, -0.004325176632448802, -0.009757894274952328, -6.42216187189959e-05, 0.025794449120846608, -0.004378438570118881, 0.01471596608515302, -0.0012093532786572325, 0.007206032873456003, -0.00813340517596739, -0.0062159754197885775, -0.010769871090712257, 0.012159393076915492, 0.0038771617689805637, -0.003286568847851612, 0.0003618738826549617, 0.0024657204206830485, 0.001373850698414003, -0.004618117289640011, -0.015030826104440287, -0.0031534140036715286, 0.010747951728617977, 0.017725265563599102, -0.00419202178826783, 0.011147416261156451, 0.0354082288705726, 0.00821800968921682, -0.0022479610632544222, 0.009949022663543694, 0.004596197927547507, 0.012958322141990664, 0.015008906742346895, -0.011515538218113797, -0.0060828205756102705, 0.0048891385847413815, -0.012181312439009773, -0.006562178014654307, -0.009651370399607728, 0.016340455184136182, -0.01388569444450205, -0.004271914694776058, 0.012718643422467757, 0.0037972688624732243, 0.019030183036552906, -0.00025063840056915865, 0.015994252589270452, -0.00017074549406181916, 0.00385053080014508, -0.006562178014654307, -0.0013957700605091716, 0.013837144113571398, -0.009225274898234659, -0.023952200664435708, -0.018412959146587582, 0.0018265771686234444, 0.004436412114532828, 0.0036108520806221733, 0.011999607263900813, 0.012958322141989775, -0.01806675655172274, -0.0019017584683895805, 0.014982275773509635, 0.0011075410100565009, -0.012261205345517112, -0.007068166422533828, -0.01489767126026198, -0.007094797391371088, -0.00650891607698334, -0.010157358807488137, 0.005901115400500423, -0.00033053130707560996, 0.010162070414228452, 0.027152628531474043, 0.005608174743307437, -0.006242606388625838, 0.006939723185098501, 0.010135439445393857, 0.01428987058378084, 0.008617474221753518, 0.01053490397793233, -6.422161871988408e-05, 0.010588165915603298, -0.013912325413337534, 0.017911682345449265, 0.01841767075333056, -0.016628684234588853, -0.010210620745159993, 0.0010010171347127894, 0.004409781145696456, 0.014423025427958258, 0.007712021281334636, 0.00651362768372632, 0.014822489960495844, 0.007818545156680123, 0.009549558131006997, 0.012399071796438399, -0.02363262903840546, 0.013783882175899542, -0.00022400743173367488, -0.0155101835434861, 0.0007347074463552872, 0.009416403286827801, -0.017108041673633778, -0.011994895657158722, -0.00232785396976265, -0.012820455691069377, -0.003925712099910328, 0.0050222934289196886, 0.007658759343664556, -0.0007033648707777118, -0.007760571612265288, -0.00650891607698334, 0.0183910397844933, -0.011994895657158722, -0.00325993787901524, 0.005714698618651148, 0.02028183857183663, -0.015297135792800454, 0.0002287190384748783, 0.012665381484795901, -0.0013158771540018321, -0.011249228529757183, 0.010774582697454349, 0.01298495311082526, -0.002594163658120152, 0.0025988752648604674, 0.021027505699239057, -0.008772548428026994, 0.007339187717635198, -0.00163544878003119, -0.010769871090712257, 0.0011075410100565009, -0.006615439952327051, -0.0029936281906559614, 0.002838553984384262, 0.01120067819882653, -0.00038379324474835386, -0.005443677323550666, -0.017773815894528866, 0.004329888239188229, 0.0034510662676074944, -0.016175957764381188, 0.0006548145398479477, 0.007845176125515607, -0.0004903171200911771, 0.013730620238226798, -0.0008897816526287627, 0.006833199309753901, 0.018950290130047343, -0.009278536835907403, 0.005261972148441707, -0.01497756416676932, 0.007712021281335524, 0.024356376803714497, 6.893322546019931e-05, -0.009305167804742887, 0.007419080624143426, -0.00813340517596739, -0.012314467283188968, 0.005315234086114451, -0.00810677420713013, 0.0019331010439662677, -0.0046447482584772715, 0.01146698788718492, -0.007574154830415125, 0.01215939307691638, 0.017991575251956604, -0.013299813130113414, -0.018759161741453312, -0.015350397730470533, -0.018705899803781456, -0.014258528008202376, -0.003339830785520803, -0.009438322648922082, 0.011866452419722506, -0.009172012960563691, 0.02523519877529612, 0.010960999479304512, -0.004538224383134448, -0.008958965209877157, -0.004405069538955253, -0.007307845142057623, -0.003952343068745812, -0.009624739430773133, 0.012132762108080009, -0.018626006897275005, -0.009518215555429421, -0.005417046354715183, 0.013144738923840826, 0.015887728713929405, 0.0037173759559658848, -0.02437829616580789, -0.002301223000926278, 0.0001488261319675388, 0.007605497405993589, 0.012718643422468645, -0.015323766761634161, -0.011329121436264522, 0.003184756579249992, 0.0024657204206839367, -0.014524837696559878, 0.002066255888146351, 0.00454293598987654, 0.002092886856982723, -0.004724641164984611, 0.003983685644323387, -0.021448889593870035, -0.002594163658120152, -0.01327318216127793, -0.010237251713995477, -0.0010495674656434417, 0.02230579220335649, -0.009225274898236435, -0.009544846524264905, 0.00736581868647157, 0.004942400522412349, 0.022119375421508103, 0.006646782527904627, 0.002891815922056118, 0.015195323524197057, -0.004192021788268718, 0.005714698618651148, 0.008697367128260858, 0.0012673268230711798, -0.004351807601283397, -0.011968264688323238, 0.0035043282052802383, 0.0031314946415781364, -0.0111160736855771, 0.015408371274885369, 0.0027852920467124065, 0.006939723185098501, -0.0020349133125678875, -0.004458331476627109, -0.0012093532786572325, -0.00163544878003119, -0.0014756629670147348, -0.01686836295411087, -0.02038365084043825, 0.007046247060440436, 0.011573511762526856, 0.002971708828561681, 0.0012406958542348079, -0.005417046354716071, -0.01641563648390232, -0.004831165040327434, 0.011972976295066218, 0.010881106572796284, 0.007259294811127859, -0.010450299464681123, 0.0017200532932788448, 0.012186024045750976, 0.01069468979094701, -0.0054436773235515545, 0.006273948964202525, -0.01327318216127793, 0.017086122311539498, 0.009895760725871838, -0.017427613299663136, -0.004218652757103314, 0.007046247060441324, -0.0011294603721516694, 0.010960999479304512, -0.009491584586593937, -0.00855950067734046, -0.01218131243901066, -0.015962910013693765, -0.005496939261222522, -0.0009430435903006185, -0.003100152066001449, -0.00925190586707103, -0.008586131646176831, -0.014365051883546087, -0.012527515033874614, 0.008404426471066984, -0.011009549810235164, -0.006828487703012698, -0.01138238337393549, -0.0004370551824202096, 0.004116840488501694, 0.0001488261319675388, 0.003823899831309596, -0.0017153416865385296, -0.001662079748867562, -0.004831165040327434, -0.011195966592084439, -0.007813833549938032, 0.006220687026530669, 0.013384417643361957, -0.0008631506837923908, 0.005261972148442595, -0.006056189606774787, -0.006988273516027377, 0.001746684262116105, -0.0004104242135838376, 0.006700044465575594, -0.002780580439970315, -0.007014904484864637, -0.0030202591594932215, 0.002385827514174821, -0.008879072303371593, 0.006194056057695185, 0.003557590142951206, 0.005794591525158488, -0.00019737646289730293, 0.0010010171347136776, -0.0042985456636115416, -0.002141437187911599, -0.008799179396862478, -0.0001441145252263354, -0.002594163658120152, 0.015541526119062787, -0.004005605006417667, -0.017800446863365238, 0.013144738923840826, 0.022199268328013666, -0.0097845252437887, -0.0013158771540027203, 0.016979598436197563, -0.005417046354715183, -0.013805801537992934, -0.0038191882245675046, -0.0025675326892855566, 0.004516305021040168, -0.0007299958396131956, 0.002199410732324658, 0.004969031491246945, -0.005310522479372359, -0.0033664617543580633, 0.001267326823072068, 0.0220394825149981, 0.006939723185098501, -0.003739295318060165, -0.010769871090712257, -0.006269237357461321, 0.014423025427958258, -0.00677522576534173, 0.002998339797398941, -0.0068817496406845535, 0.0074723425618143935, -0.006455654139312372, 0.0005216596956696407, -0.01559007644999344, 0.010455011071424103, -0.011089442716741615, 0.007765283219008268, 0.011626773700198711, -0.012953610535248572, -0.0015555558735238506, -0.012447622127368163, 0.0001754571008021344, -0.005044212791013969, 0.001720053293279733, 0.0015602674802659422, 0.009576189099843369, 0.02044162438485131, 0.007552235468322621, -0.0005169480889266609, 0.0025722442960240954, -0.00797361936295271, 0.00667341349674011, -0.011835109844144043, -0.02224781865894343, 0.012052869201572669, 0.007712021281335524, -0.0020881752502397433, 0.0001488261319675388, 0.004702721802889442, -0.002620794626955636, -0.006082820575609382, 0.002998339797398053, 0.01136046401184121, 0.006060901213516878, 0.017485586844076195, 0.027392307250996062, 0.020628041166701472, -0.01670857714109708, -0.008293190988982069, 0.012665381484795013, -0.011036180779070648, 0.006806568340917529, 0.013251262799182761, 0.00821800968921682, -0.0046447482584772715, -0.010689978184204918, 0.021480232169446722, -0.00839971486432578, -0.01138238337393549, -0.015829755169515458, -0.005843141856088252, 0.002705399140205067, 0.003211387548085476, 0.009815867819364499, 0.0064869967148890595, -0.00831982195781844, -0.002194699125584343, 0.001693422324443361, -0.006482285108146968, 0.01093436851046814, -0.0031800449725087887, 0.004329888239188229, -0.01002420396330983, 0.00957618909984248, -0.009145381991728208, -0.01644226745273869, 0.001959732012803528, -0.023819045820255624, -0.01122259756092081, 0.004969031491249609, 0.0015070055425940865, 0.006194056057695185, -0.009065489085220868, 0.006460365746053576, -0.0009430435903006185, -0.002487639782777329, -0.007494261923907786, -0.007840464518773516, -0.01524387385512771, -0.007680678705759725, -0.006322499295133177, 0.001906470075130784, -0.007574154830415125, -0.009651370399608616, 0.0057945915251576, 0.004676090834053959, 0.003051601735070797, -0.01694825586061821, -0.006881749640683665, -0.009385060711250226, 0.004676090834053959, 0.0033179114234291873, 0.008750629065933602, -0.007574154830415125, -0.001795234593044981, -0.004591486320806304, 0.003211387548086364, -0.002274592032090794, 0.009735974912858048, -0.009544846524264905, 0.008750629065931825, 0.00038850485149044545, -0.011675324031129364, -0.01521724288629045, -0.006455654139311484, -0.008612762615012315, -0.008053512269460938, -0.012793824722233893, -0.007893726456444483, -0.011009549810235164, 0.004542935989875652, 0.0040902095196670984, 0.012452333734110255, 0.01591435968276489, -0.0033398307855225795, 0.01796494428312112, -0.018146649458230968, 0.006939723185098501, -0.014231897039366892, 0.006513627683724543, -0.007440999986236818, -0.0006767339019413399, -0.005310522479371471, 0.011733297575542423, 0.009150093598470299, -0.005070843759849453, 0.0083777955022315, -0.002940366252985882, 0.0031314946415772482, -0.001475662967015623, -0.004990950853343001, 0.014769228022824876, -0.01934504305584195, -0.001528924904689255, 0.010108808476559261, 0.015887728713928517, -0.017853708801035317, 0.002891815922056118, -0.02746748855076131, -0.0033131998166862076, 0.00025535000731125024, 0.006779937372083822, 0.00709950899811318, -0.011036180779071536, -0.011009549810234276, -0.0025142707516128127, 0.0028119230155487784, 0.0007347074463552872, 0.0029450778597270855, 0.00957618909984248, 0.010934368510469916, -0.0038724501622393603, -0.003073521097164189, 0.0027586610778760345, -0.008905703272206189, 0.0008146003528626267, -0.006455654139312372, 0.018897028192375487, -0.015483552574650616, 0.0015070055425931983, -0.002780580439970315, 0.012692012453631385, 0.0005216596956687525, 0.007552235468320845, 0.005182079241935256, -0.015163980948619482, 0.0028918159220552297, -0.007387738048564074, -0.013459598943128093, -0.0003039003382401262, 0.027738509845861792, -0.003286568847851612, -0.012261205345517112, 0.0008146003528635148, -0.00941169168008571, 0.013064846017333487, 0.010508273009094182, 0.012079500170408153, -0.007361107079729479, 0.020494886322524053, 0.010002284601216438, 0.012931691173154292, -0.009438322648922082, 0.009123462629633039, 0.004942400522412349, -0.02182172315757125, -0.01841295914658847, 0.005927746369335907, 0.016100776464615052, 0.023237876112610856, -0.012980241504083168, -0.024804391667181847, 0.011253940136497498, 0.006726675434411966, 0.012106131139243637, 0.01865734947285258, -0.01987766243255784, 0.012798536328974208, 0.002412458483011193, -0.008825810365697961, 0.014103453801929788, -0.0060828205756102705, -0.0018484965307177248, -0.0015289249046883668, 0.004835876647068638, 0.00821800968921682, -0.007281214173222139, 0.009229986504975862, 0.00768539031250004, -0.0020881752502397433, -0.008532869708504975, 0.001773315230952477, 0.003770637893635964, 0.021879696701984308, -0.001182722309822637, -0.006136082513282126, 0.010401749133752247, 0.004143471457338066, -0.005257260541700504, -0.0013691390916727997, 0.01444965639679463, 0.01761874168825539, -0.00291373528414951, -0.018705899803780568, 0.01223928598342372, -0.021928247032913184, -0.00022400743173367488, 0.004649459865218475, -0.010157358807488137, -0.0017686036242103853, -0.008825810365697073, -0.0021946991255834547, -0.004085497912926783, 0.008431057439904244, -0.00011748355638996344, -0.004245283725939686, 0.00315812561041362, 0.002412458483011193, -1.0959681046252001e-05, 0.00957618909984248, -0.017400982330827652, -0.004618117289641788, -0.012234574376681628, 0.004809245678234042, 0.01154688079369226, -0.01053019237118935, -0.015829755169515458, -0.009278536835908291, -0.0096780013684441, -0.007574154830415125, -0.015856386138350942, 0.0004950287268332687, 0.02470257939857845, -0.00898559617871264, 0.005954377338173167, -0.016282481639723123, 0.011600142731363228, 0.011759928544377907, 0.004622828896383879, 0.0017733152309515887, -0.0058964037937592195, -0.00685511867184907, -0.005896403793760108, 0.00707287802927592, -0.012740562784562037, -0.017267827486648457, -0.0031534140036715286, 0.016020883558106824, -0.008426345833161264, 0.0015602674802659422, 0.009096831660798443, 0.0015336365114304584, -0.006269237357461321, 0.010801213666289833, 0.015195323524197057, -0.008506238739668603, -0.01223457437668074, 0.005395126992620902, -0.02184835412640762, 0.0045695669587120236, 0.009070200691962071, 0.0008412313216981104, 0.011946345326228958, -0.00520399860402776, -0.009784525243786923, -0.006801856734177214, 0.010747951728617977, 0.010481642040259587, 0.009709343944022564, -0.012367729220859935, 0.01974921919511985, 0.0050222934289196886, -0.005656725074237201, 0.0024923513895185323, 0.001586898449101426, 0.0004950287268323805, -0.0006501029331067443, -0.005070843759850341, 0.002039624919309091, -0.0033664617543589515, -0.010343775589339188, -0.02240760447195811, 0.013810513144735914, -0.007733940643430692, -0.0022479610632544222, -0.0036594024115519375, -0.00104956746564433, -0.010982918841397904, -0.00038379324474835386, -0.0013158771540018321, -0.005896403793760108, -0.0015821868423593344, 0.0019597320128026396, 0.00044176678915963663, -0.0020082823437324038, 0.0017200532932806212, 0.006966354153933096, -0.002461008813940957, -0.009278536835906515, 0.01942964756909049, -0.008426345833161264, -0.008692655521518766, 0.0024923513895194205, -0.013992218319843985, -0.009225274898235547, -0.0027006875334629754, 0.01394366798891511, 0.006247317995367041, -0.005017581822178485, 0.009629451037514336, -0.004165390819432346, -0.004831165040327434, -0.014950933197933836, -0.004218652757104202, -0.00019737646289730293, 0.01871061141052266, 0.0063272109018743805, -0.012953610535248572, 0.002891815922056118, 0.0007080764775198034, -0.007014904484864637, -0.002168068156747971, -0.005630094105400829, 0.002705399140205067, -0.00011748355639085162, 0.0077652832190073795, -0.005390415385880587, 0.011067523354647335, 0.012132762108080009, 0.0037173759559649966, 0.017485586844077083, -0.0067219638276698745, -0.0007299958396140838, 0.006220687026531557, 0.012745274391304129, -0.01923851918049735, -0.0005435790577630328, 0.005261972148442595, -0.005843141856088252, -0.006748594796505358, -0.0049376889156702575, -0.005443677323550666, 0.018550825597509757, -0.011409014342770973, 0.0007080764775198034, -0.002461008813940957, 0.020201945665328402, -0.004431700507790737, -0.015084088042112143, -0.011515538218114685, -0.004911057946834774, -0.008799179396862478, 0.0020662558881445747, 0.016899705529690223, 0.006247317995367041, -0.025150594262046688, -0.008000250331788195, 0.009469665224498769, 0.005235341179606223, 0.012106131139243637, -0.005417046354716071, -0.0067219638276698745, 0.003557590142951206, 0.013837144113571398, -0.012367729220860824, 0.010747951728617977, -0.02493754651136104, -0.005949665731431075, 0.011786559513214279, 0.0027852920467132947, -0.012048157594830577, -0.0009430435902997303, -0.010503561402353867, 0.015435002243719964, -0.0011560913409871532, 0.00222604170116103, 0.011307202074170242, 0.01650024099715175, -0.012607407940382842, -0.0008897816526287627, 0.018577456566344352, 0.0017999461997879607, 0.0008146003528626267, -0.004804534071491062, -0.0032333069101797562, 0.001959732012803528, 0.005501650867964614, -0.015430290636977873, -0.011861740812979527, 0.001427112636086747, -0.003739295318060165, -0.008239929051311101, -0.004618117289641788, -0.006562178014655196, 0.011919714357393474, 0.00539512699262179, -0.005017581822179373, -0.00831982195781844, 0.002332565576502965, 0.012372440827602915, 0.007605497405993589, -0.016894993922947243, 0.014183346708437128, -0.006402392201639628, 0.005608174743307437, 0.014902382867003183, 0.002039624919309979, -0.00829319098898118, -0.007467630955072302, -0.00547030829238615, 0.004489674052204684, 0.00733918771763431, -0.0033664617543589515, -0.018652637866111377, -0.004032235975252263, 0.007206032873456003, 0.002199410732324658, 0.018604087535180724, -0.00429854566361243, 0.006886461247426645, 0.0012140648854002123, -0.009198643929399175, 0.004569566958711135, -0.003419723692029919, 0.0013205887607430356, -0.004911057946834774, 0.005155448273098884, -0.008879072303370705, 0.013464310549870184, -0.009544846524264017, -0.010476930433518383, 0.006433734777217204, -0.008213298082475617, -0.008160036144802874, 0.00989576072587095, -0.007654047736922465, 0.003344542392264671, 0.014662704147481165, 0.012026238232736297, 0.004063578550831615, -0.008719286490355138, -0.012767193753396633, 0.0010010171347136776, 0.008164747751544965, 0.0013205887607430356, 0.008564212284081663, 0.006859830278589385, -0.015563445481157068, -0.005630094105401717, -0.01164869306229388, 0.0010542790723855333, -0.010050834932146202, 0.018497563659837013, 0.021160660543418253, -0.009438322648922082, 0.0011075410100565009, 0.006194056057695185, 9.556419429657126e-05, -0.003899081131074844, -0.012527515033874614, -0.015297135792799565, -0.002274592032090794, -0.005896403793760996, 0.020388362447178565, 0.022838411580072382, 0.007925069032022058, -0.008639393583847799, 0.004143471457338066, -0.017534137175006848, 0.00030861194498399414, 0.007578866437156329, 0.004969031491248721, 0.007152770935784147, 0.0043831501768600845, 0.01000228460121555, -0.009065489085221756, 0.007339187717635198, 0.024729210367414822, 0.007312556748798826, 0.0024390894518475648, 0.003903792737817824, 0.011413725949513065, 0.009922391694707322, 0.014689335116317537, 0.007498973530648989, 0.015168692555361574, 0.012079500170409041, -0.003366461754357175, 0.015621419025570127, 0.0015602674802659422, 0.008164747751544965, 0.003344542392264671, 0.015621419025569239, -0.008373083895489408, 0.003211387548085476, -0.018519483021931293, 0.025341722650638943, 0.0077919141878437514, -0.014311789945874231, -0.007014904484864637, -0.0077073096745952085, -0.009145381991728208, -0.005177367635193164, -0.006402392201640517, -0.006269237357461321, -0.008772548428026994, 0.0016934223244442492, 0.011653404669035083, 0.0001488261319675388, 0.005448388930292758, 0.005608174743306549, -0.018599375928437745, 0.004702721802889442, 0.004969031491248721, -0.007414369017400446, 0.002439089451848453, 0.009496296193336029, 0.004809245678234042, 0.015754573869749322, 0.007605497405993589, 0.003371173361100155, 0.00014882613196665062, 0.007498973530649877, -0.021129317967840677, -0.011941633719488642, -0.002434377845105473, 0.007206032873456003, -0.010210620745159993, -0.004112128881760491, 0.011094154323482819, 0.013384417643362845, -0.0062159754197885775, 0.00044176678916230117, 0.004303257270353633, -0.021076056030167933, -0.006029558637939303, 0.00038850485148955727, 0.006407103808382608, -0.01428515897703786, -0.012900348597575828, 0.010455011071424103, -0.018013494614049996, 0.0023325655765038533, 0.004409781145696456, -0.020250495996258167, -0.020303757933930022, 0.0018265771686234444, -0.0018484965307177248, 0.01394366798891511, -0.0021946991255825665, -0.00017074549406181916, 0.0198291121016263, -0.00581651088725188, 0.013357786674526473, 0.0004950287268341569, -0.0009430435903006185, 0.018577456566344352, -0.0035262475673736304, 0.016020883558107712, 0.004622828896382991, -0.003419723692029919, 0.007472342561813505, -0.010317144620503704, 0.007392449655307054, -0.0047779031026555785, 0.011307202074169354, -0.002807211408806687, -0.007387738048564962, -0.0044849624454625925, 0.008750629065931825, -0.007281214173222139, -0.0006234719642712605, -0.003712664349223793, 0.029948880259232702, 0.008723998097095453, 0.0009743861658773056, 0.020068790821149207, 0.013996929926586077, 0.012771905360139613, -0.011036180779070648, -0.00581651088725188, 0.021080767636910025, 0.013703989269391315, 0.005501650867965502, -0.0029137352841503983, 0.020148683727656547, -0.011036180779070648, 0.002359196545338449, -0.02171519928222665, 0.006779937372082934, 0.003850530800144192, 0.0007347074463552872, 0.009150093598470299, -0.011089442716741615, 0.0034244352987720106, 0.004702721802890331, -0.01489767126026198, 0.005341865054949935, -0.022727176097988355, -0.0018484965307177248, -0.010823133028384113, 0.0015602674802659422, 0.0012939577919075518, 0.006620151559068255, -0.0019550204060614362, -0.004591486320805416, -0.0017686036242094971, 0.0027320301090405508, 0.0016135294179369097, -0.008666024552682394, 0.012798536328974208, 0.0016667913556078773, -0.008000250331789083, 0.014529549303302858, -0.0022479610632544222, 0.003504328205278462, -0.003765926286895649, -0.008905703272206189, -0.01026388268283096, 0.0002020880696402827, 0.02387701936467046, 0.0009477551970418219, 0.019962266945807272, -0.010476930433518383, -0.005736617980746317, -0.012926979566413088, 0.020068790821149207, 0.006273948964202525, 0.0037972688624732243, -0.0007299958396140838, 0.005554912805634693, -0.0043518076012842855, -0.006349130263968661, -0.023819045820256513, -0.0020881752502397433, 0.0011075410100565009, 0.00041513582032504104, -0.003073521097164189, 0.02369060258281852, -0.011675324031129364, -0.010530192371190239, -0.0061893444509522055, 0.011147416261154675, -0.00746763095507319, -0.007920357425281743, -0.008639393583847799, 0.019323123693747668, -0.0033664617543580633, 0.005075555366591544, -0.0007299958396140838, 0.014742597053988504, -0.0015289249046883668, 0.01066805882210975, -0.0058964037937592195, 0.01807146815846572, 0.004489674052203796, 0.0003086119449822178, 0.014343132521450919]\n"
          ]
        }
      ]
    },
    {
      "cell_type": "code",
      "metadata": {
        "id": "VlzpYTkYFcv_",
        "colab": {
          "base_uri": "https://localhost:8080/",
          "height": 472
        },
        "outputId": "8e22ed8d-cc5c-4929-9e9e-2cc606ca435c"
      },
      "source": [
        "# Make a variable called 'histo', and assign to it the result of plotting a histogram of the difference list.\n",
        "histo = plt.hist(difference,bins=20)\n",
        "histo = plt.xlabel('Mean differences')\n",
        "histo = plt.ylabel('Count')\n",
        "histo = plt.title('Distribution of Mean Differences between Apple and Google')\n",
        "plt.show()"
      ],
      "execution_count": 36,
      "outputs": [
        {
          "output_type": "display_data",
          "data": {
            "text/plain": [
              "<Figure size 640x480 with 1 Axes>"
            ],
            "image/png": "[encoded data removed]"
          },
          "metadata": {}
        }
      ]
    },
    {
      "cell_type": "code",
      "metadata": {
        "id": "KhqgDFd3FcwB",
        "colab": {
          "base_uri": "https://localhost:8080/"
        },
        "outputId": "7c5c840f-f044-4cbc-e8aa-52fa5159f7cd"
      },
      "source": [
        "# Now make a variable called obs_difference, and assign it the result of the mean of our 'apple' variable and the mean of our 'google variable'\n",
        "obs_difference = np.mean(apple_rating['Rating'])-np.mean(google_rating['Rating'])\n",
        "\n",
        "# Make this difference absolute with the built-in abs() function.\n",
        "obs_difference = abs(obs_difference)\n",
        "\n",
        "# Print out this value; it should be 0.1420605474512291.\n",
        "print(obs_difference)"
      ],
      "execution_count": 37,
      "outputs": [
        {
          "output_type": "stream",
          "name": "stdout",
          "text": [
            "0.1420605474512291\n"
          ]
        }
      ]
    },
    {
      "cell_type": "markdown",
      "metadata": {
        "id": "QUNuuSgDFcwE"
      },
      "source": [
        "## Stage 4 -  Evaluating and concluding\n",
        "### 4a. What is our conclusion?"
      ]
    },
    {
      "cell_type": "code",
      "metadata": {
        "id": "XMQHnqx1FcwF",
        "colab": {
          "base_uri": "https://localhost:8080/"
        },
        "outputId": "bdc70479-bf40-46a4-efc5-a65267be0f40"
      },
      "source": [
        "'''\n",
        "What do we know?\n",
        "\n",
        "Recall: The p-value of our observed data is just the proportion of the data given the null that's at least as extreme as that observed data.\n",
        "\n",
        "As a result, we're going to count how many of the differences in our difference list are at least as extreme as our observed difference.\n",
        "\n",
        "If less than or equal to 5% of them are, then we will reject the Null.\n",
        "'''\n",
        "positive_extremes = []\n",
        "negative_extremes = []\n",
        "\n",
        "for diff in difference:\n",
        "    if abs(diff) >= abs(obs_difference):\n",
        "        if diff >= 0:\n",
        "            positive_extremes.append(diff)\n",
        "        else:\n",
        "            negative_extremes.append(diff)\n",
        "\n",
        "num_positive_extremes = len(positive_extremes)\n",
        "num_negative_extremes = len(negative_extremes)\n",
        "\n",
        "total_extremes = num_positive_extremes + num_negative_extremes\n",
        "\n",
        "p_value = total_extremes / len(difference)\n",
        "\n",
        "print(\"Number of positive extremes:\", num_positive_extremes)\n",
        "print(\"Number of negative extremes:\", num_negative_extremes)\n",
        "print(\"Total number of extremes:\", total_extremes)\n",
        "print(\"p-value:\", p_value)"
      ],
      "execution_count": 38,
      "outputs": [
        {
          "output_type": "stream",
          "name": "stdout",
          "text": [
            "Number of positive extremes: 0\n",
            "Number of negative extremes: 0\n",
            "Total number of extremes: 0\n",
            "p-value: 0.0\n"
          ]
        }
      ]
    },
    {
      "cell_type": "markdown",
      "metadata": {
        "id": "4RTofY9wFcwI"
      },
      "source": [
        "### 4b. What is our decision?\n",
        "So actually, zero differences are at least as extreme as our observed difference!\n",
        "\n",
        "So the p-value of our observed data is 0.\n",
        "\n",
        "It doesn't matter which significance level we pick; our observed data is statistically significant, and we reject the Null.\n",
        "\n",
        "We conclude that platform does impact on ratings. Specifically, we should advise our client to integrate **only Google Play** into their operating system interface."
      ]
    },
    {
      "cell_type": "markdown",
      "metadata": {
        "id": "Cu_eh7fTFcwJ"
      },
      "source": [
        "### 4c. Other statistical tests, and next steps\n",
        "The test we used here is the Permutation test. This was appropriate because our data were not normally distributed!\n",
        "\n",
        "As we've seen in Professor Spiegelhalter's book, there are actually many different statistical tests, all with different assumptions. How many of these different statistical tests can you remember? How much do you remember about what the appropriate conditions are under which to use them?\n",
        "\n",
        "Make a note of your answers to these questions, and discuss them with your mentor at your next call.\n"
      ]
    }
  ]
}
