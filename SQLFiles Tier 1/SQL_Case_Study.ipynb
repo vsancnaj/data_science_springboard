{
  "nbformat": 4,
  "nbformat_minor": 0,
  "metadata": {
    "colab": {
      "provenance": []
    },
    "kernelspec": {
      "name": "python3",
      "display_name": "Python 3"
    },
    "language_info": {
      "name": "python"
    }
  },
  "cells": [
    {
      "cell_type": "markdown",
      "source": [
        "# PART 1: PHPMyAdmin\n",
        "You will complete questions 1-9 below in the PHPMyAdmin interface. \n",
        "Log in by pasting the following URL into your browser, and\n",
        "using the following Username and Password:\n",
        "\n",
        "\n",
        "URL: https://sql.springboard.com/\n",
        "Username: student\n",
        "Password: learn_sql@springboard"
      ],
      "metadata": {
        "id": "uhArMWzRD4Xp"
      }
    },
    {
      "cell_type": "markdown",
      "source": [
        "The data you need is in the \"country_club\" database. This database\n",
        "contains 3 tables:\n",
        "\n",
        "\n",
        "*   the \"Bookings\" table,\n",
        "*   the \"Facilities\" table, and\n",
        "*   the \"Members\" table.\n",
        "\n",
        "In this case study, you'll be asked a series of questions. You can\n",
        "solve them using the platform, but for the final deliverable,\n",
        "paste the code for each solution into this script, and upload it\n",
        "to your GitHub.\n",
        "\n",
        "\n",
        "Before starting with the questions, feel free to take your time,\n",
        "exploring the data, and getting acquainted with the 3 tables."
      ],
      "metadata": {
        "id": "K8JfoZiCEB9Y"
      }
    },
    {
      "cell_type": "markdown",
      "source": [
        "## Q1: \n",
        "Some of the facilities charge a fee to members, but some do not.\n",
        "Write a SQL query to produce a list of the names of the facilities that do. "
      ],
      "metadata": {
        "id": "VUnPvgkiEyQk"
      }
    },
    {
      "cell_type": "code",
      "source": [
        "SELECT name FROM Facilities WHERE membercost=0;"
      ],
      "metadata": {
        "id": "I-ucwsI1PHwV"
      },
      "execution_count": null,
      "outputs": []
    },
    {
      "cell_type": "markdown",
      "source": [
        "## Q2: \n",
        "How many facilities do not charge a fee to members?"
      ],
      "metadata": {
        "id": "sDvCfOJVE2p7"
      }
    },
    {
      "cell_type": "code",
      "source": [
        "4"
      ],
      "metadata": {
        "id": "gZe8VvgKPFgE"
      },
      "execution_count": null,
      "outputs": []
    },
    {
      "cell_type": "markdown",
      "source": [
        "## Q3: \n",
        "Write an SQL query to show a list of facilities that charge a fee to members,\n",
        "where the fee is less than 20% of the facility's monthly maintenance cost.\n",
        "Return the facid, facility name, member cost, and monthly maintenance of the\n",
        "facilities in question."
      ],
      "metadata": {
        "id": "aaOXRdokE6dO"
      }
    },
    {
      "cell_type": "code",
      "source": [
        "SELECT facid, name, membercost, monthlymaintenance \n",
        "FROM Facilities \n",
        "WHERE (membercost / monthlymaintenance) < 0.2;"
      ],
      "metadata": {
        "id": "64PFJo64O-2J"
      },
      "execution_count": null,
      "outputs": []
    },
    {
      "cell_type": "markdown",
      "source": [
        "## Q4: \n",
        "Write an SQL query to retrieve the details of facilities with ID 1 and 5.\n",
        "Try writing the query without using the OR operator."
      ],
      "metadata": {
        "id": "skr3GRJzFQb8"
      }
    },
    {
      "cell_type": "code",
      "source": [
        "SELECT * \n",
        "FROM `Facilities` \n",
        "WHERE facid IN (1,5);"
      ],
      "metadata": {
        "id": "ZBiCycbFR4P1"
      },
      "execution_count": null,
      "outputs": []
    },
    {
      "cell_type": "markdown",
      "source": [
        "## Q5: \n",
        "Produce a list of facilities, with each labelled as\n",
        "'cheap' or 'expensive', depending on if their monthly maintenance cost is\n",
        "more than $100. Return the name and monthly maintenance of the facilities\n",
        "in question."
      ],
      "metadata": {
        "id": "YkRfb0UTFSXf"
      }
    },
    {
      "cell_type": "code",
      "source": [
        "SELECT name, monthlymaintenance, \n",
        "  CASE WHEN monthlymaintenance > 100 \n",
        "    THEN 'expensive' ELSE 'cheap' \n",
        "  END AS 'maintenace_label' \n",
        "FROM `Facilities`;"
      ],
      "metadata": {
        "id": "4xaIsavCSQMI"
      },
      "execution_count": null,
      "outputs": []
    },
    {
      "cell_type": "markdown",
      "source": [
        "## Q6: \n",
        "You'd like to get the first and last name of the last member(s)\n",
        "who signed up. Try not to use the LIMIT clause for your solution."
      ],
      "metadata": {
        "id": "-2NrtFIpFYK8"
      }
    },
    {
      "cell_type": "code",
      "source": [
        "SELECT firstname, surname \n",
        "FROM Members \n",
        "WHERE joindate = ( SELECT MAX(joindate) \n",
        "FROM Members);"
      ],
      "metadata": {
        "id": "obx6tW4fWo8t"
      },
      "execution_count": null,
      "outputs": []
    },
    {
      "cell_type": "markdown",
      "source": [
        "## Q7: \n",
        "Produce a list of all members who have used a tennis court.\n",
        "Include in your output the name of the court, and the name of the member\n",
        "formatted as a single column. Ensure no duplicate data, and order by\n",
        "the member name."
      ],
      "metadata": {
        "id": "0425aRTKFgPR"
      }
    },
    {
      "cell_type": "code",
      "source": [
        "SELECT DISTINCT f.name, CONCAT(m.firstname, ' ', m.surname) AS member_name\n",
        "FROM Facilities AS f\n",
        "INNER JOIN Bookings AS b\n",
        "ON f.facid = b.facid\n",
        "INNER JOIN Members AS m\n",
        "ON m.memid = b.memid\n",
        "WHERE f.name LIKE 'Tennis Court%' AND m.memid != 0\n",
        "ORDER BY member_name;"
      ],
      "metadata": {
        "id": "Yj7F2a6gXIq4"
      },
      "execution_count": null,
      "outputs": []
    },
    {
      "cell_type": "markdown",
      "source": [
        "## Q8: \n",
        "Produce a list of bookings on the day of 2012-09-14 which\n",
        "will cost the member (or guest) more than $30. Remember that guests have\n",
        "different costs to members (the listed costs are per half-hour 'slot'), and\n",
        "the guest user's ID is always 0. Include in your output the name of the\n",
        "facility, the name of the member formatted as a single column, and the cost.\n",
        "Order by descending cost, and do not use any subqueries."
      ],
      "metadata": {
        "id": "tUP_N5zVFlJ4"
      }
    },
    {
      "cell_type": "code",
      "source": [
        "SELECT DISTINCT f.name, CONCAT(m.firstname, ' ', m.surname) AS member_name, \n",
        "       CASE \n",
        "           WHEN b.memid = 0 THEN f.guestcost\n",
        "           ELSE f.membercost\n",
        "       END AS cost\n",
        "FROM Bookings AS b\n",
        "INNER JOIN Facilities AS f\n",
        "    ON b.facid = f.facid\n",
        "INNER JOIN Members AS m\n",
        "    ON m.memid = b.memid\n",
        "WHERE DATE(b.starttime) = '2012-09-14' AND (f.membercost > 30 OR f.guestcost > 30)\n",
        "ORDER BY cost DESC;"
      ],
      "metadata": {
        "id": "IYd37qfpfQwi"
      },
      "execution_count": null,
      "outputs": []
    },
    {
      "cell_type": "markdown",
      "source": [
        "## Q9: \n",
        "This time, produce the same result as in Q8, but using a subquery."
      ],
      "metadata": {
        "id": "0Z5Qh9NjFo5-"
      }
    },
    {
      "cell_type": "code",
      "source": [
        "SELECT f.name, CONCAT(m.firstname, ' ', m.surname) AS member_name, \n",
        "       CASE \n",
        "           WHEN b.memid = 0 THEN f.guestcost\n",
        "           ELSE f.membercost\n",
        "       END AS cost\n",
        "FROM (\n",
        "    SELECT *\n",
        "    FROM Bookings\n",
        "    WHERE DATE(starttime) = '2012-09-14'\n",
        ") AS b\n",
        "INNER JOIN Facilities AS f\n",
        "    ON b.facid = f.facid\n",
        "INNER JOIN Members AS m\n",
        "    ON m.memid = b.memid\n",
        "WHERE f.membercost > 30 OR f.guestcost > 30\n",
        "ORDER BY cost DESC;"
      ],
      "metadata": {
        "id": "bEoGsmlSpqwH"
      },
      "execution_count": null,
      "outputs": []
    },
    {
      "cell_type": "markdown",
      "source": [
        "# PART 2: SQLite\n",
        "\n",
        "\n",
        "We now want you to jump over to a local instance of the database on your machine. \n",
        "\n",
        "Copy and paste the LocalSQLConnection.py script into an empty Jupyter notebook, and run it. \n",
        "\n",
        "Make sure that the SQLFiles folder containing thes files is in your working directory, and\n",
        "that you haven't changed the name of the .db file from 'sqlite\\db\\pythonsqlite'.\n",
        "\n",
        "You should see the output from the initial query 'SELECT * FROM FACILITIES'.\n",
        "\n",
        "Complete the remaining tasks in the Jupyter interface. If you struggle, feel free to go back\n",
        "to the PHPMyAdmin interface as and when you need to. \n",
        "\n",
        "You'll need to paste your query into value of the 'query1' variable and run the code block again to get an output."
      ],
      "metadata": {
        "id": "QEH9DUQ6FFkD"
      }
    },
    {
      "cell_type": "code",
      "execution_count": 1,
      "metadata": {
        "colab": {
          "base_uri": "https://localhost:8080/"
        },
        "id": "v7S6PxBbDJDw",
        "outputId": "ec729be9-4209-4180-d3bf-00e8703d5812"
      },
      "outputs": [
        {
          "output_type": "stream",
          "name": "stdout",
          "text": [
            "Mounted at /content/drive\n"
          ]
        }
      ],
      "source": [
        "from google.colab import drive\n",
        "drive.mount('/content/drive')"
      ]
    },
    {
      "cell_type": "code",
      "source": [
        "import sqlite3\n",
        "from sqlite3 import Error\n",
        "\n",
        " \n",
        "def create_connection(db_file):\n",
        "    \"\"\" create a database connection to the SQLite database\n",
        "        specified by the db_file\n",
        "    :param db_file: database file\n",
        "    :return: Connection object or None\n",
        "    \"\"\"\n",
        "    conn = None\n",
        "    try:\n",
        "      conn = sqlite3.connect(db_file)\n",
        "      print(sqlite3.version)\n",
        "    except Error as e:\n",
        "      print(e)\n",
        " \n",
        "    return conn\n",
        "\n",
        " \n",
        "def select_all_tasks(conn):\n",
        "    \"\"\"\n",
        "    Query all rows in the tasks table\n",
        "    :param conn: the Connection object\n",
        "    :return:\n",
        "    \"\"\"\n",
        "    cur = conn.cursor()\n",
        "    \n",
        "    query1 = \"\"\"\n",
        "        SELECT *\n",
        "        FROM FACILITIES\n",
        "        \"\"\"\n",
        "    cur.execute(query1)\n",
        " \n",
        "    rows = cur.fetchall()\n",
        " \n",
        "    for row in rows:\n",
        "      print(row)\n",
        "\n",
        "\n",
        "def main():\n",
        "  database = \"/content/drive/MyDrive/Springboard/SQLFiles Tier 1/sqlite_db_pythonsqlite.db\"\n",
        "\n",
        " \n",
        "  # create a database connection\n",
        "  conn = create_connection(database)\n",
        "  with conn: \n",
        "      print(\"2. Query all tasks\")\n",
        "      select_all_tasks(conn)\n",
        "      print(\"Revenue less than 1000\")\n",
        "      rev_lessthan_1000(conn)\n",
        "      print(\"Recommended Members\")\n",
        "      recommended_mem(conn)\n",
        "      print(\"Facility usage by Members\")\n",
        "      member_usage(conn)\n",
        "      print(\"Monthly Facility usage by Members\")\n",
        "      monthly_member_usage(conn)\n",
        "\n",
        "if __name__ == '__main__':\n",
        "    main()"
      ],
      "metadata": {
        "colab": {
          "base_uri": "https://localhost:8080/",
          "height": 1000
        },
        "id": "jvlq0-QPTM9L",
        "outputId": "1344cc8a-03c9-4f13-c9d6-a1d11620a665"
      },
      "execution_count": 30,
      "outputs": [
        {
          "output_type": "stream",
          "name": "stdout",
          "text": [
            "2.6.0\n",
            "2. Query all tasks\n",
            "(0, 'Tennis Court 1', 5, 25, 10000, 200)\n",
            "(1, 'Tennis Court 2', 5, 25, 8000, 200)\n",
            "(2, 'Badminton Court', 0, 15.5, 4000, 50)\n",
            "(3, 'Table Tennis', 0, 5, 320, 10)\n",
            "(4, 'Massage Room 1', 9.9, 80, 4000, 3000)\n",
            "(5, 'Massage Room 2', 9.9, 80, 4000, 3000)\n",
            "(6, 'Squash Court', 3.5, 17.5, 5000, 80)\n",
            "(7, 'Snooker Table', 0, 5, 450, 15)\n",
            "(8, 'Pool Table', 0, 5, 400, 15)\n",
            "Revenue less than 1000\n",
            "('Table Tennis', 180)\n",
            "('Snooker Table', 240)\n",
            "('Pool Table', 270)\n",
            "Recommended Members\n",
            "('Bader', 'Florence', 'Stibbons', 'Ponder')\n",
            "('Baker', 'Anne', 'Stibbons', 'Ponder')\n",
            "('Baker', 'Timothy', 'Farrell', 'Jemima')\n",
            "('Boothe', 'Tim', 'Rownam', 'Tim')\n",
            "('Butters', 'Gerald', 'Smith', 'Darren')\n",
            "('Coplin', 'Joan', 'Baker', 'Timothy')\n",
            "('Crumpet', 'Erica', 'Smith', 'Tracy')\n",
            "('Dare', 'Nancy', 'Joplette', 'Janice')\n",
            "('Farrell', 'David', None, None)\n",
            "('Farrell', 'Jemima', None, None)\n",
            "('GUEST', 'GUEST', None, None)\n",
            "('Genting', 'Matthew', 'Butters', 'Gerald')\n",
            "('Hunt', 'John', 'Purview', 'Millicent')\n",
            "('Jones', 'David', 'Joplette', 'Janice')\n",
            "('Jones', 'Douglas', 'Jones', 'David')\n",
            "('Joplette', 'Janice', 'Smith', 'Darren')\n",
            "('Mackenzie', 'Anna', 'Smith', 'Darren')\n",
            "('Owen', 'Charles', 'Smith', 'Darren')\n",
            "('Pinker', 'David', 'Farrell', 'Jemima')\n",
            "('Purview', 'Millicent', 'Smith', 'Tracy')\n",
            "('Rownam', 'Tim', None, None)\n",
            "('Rumney', 'Henrietta', 'Genting', 'Matthew')\n",
            "('Sarwin', 'Ramnaresh', 'Bader', 'Florence')\n",
            "('Smith', 'Darren', None, None)\n",
            "('Smith', 'Darren', None, None)\n",
            "('Smith', 'Jack', 'Smith', 'Darren')\n",
            "('Smith', 'Tracy', None, None)\n",
            "('Stibbons', 'Ponder', 'Tracy', 'Burton')\n",
            "('Tracy', 'Burton', None, None)\n",
            "('Tupperware', 'Hyacinth', None, None)\n",
            "('Worthington-Smyth', 'Henry', 'Smith', 'Tracy')\n",
            "Facility usage by Members\n",
            "('Pool Table', 783)\n",
            "('Snooker Table', 421)\n",
            "('Massage Room 1', 421)\n",
            "('Table Tennis', 385)\n",
            "('Badminton Court', 344)\n",
            "('Tennis Court 1', 308)\n",
            "('Tennis Court 2', 276)\n",
            "('Squash Court', 195)\n",
            "('Massage Room 2', 27)\n",
            "Monthly Facility usage by Members\n"
          ]
        },
        {
          "output_type": "error",
          "ename": "OperationalError",
          "evalue": "ignored",
          "traceback": [
            "\u001b[0;31m---------------------------------------------------------------------------\u001b[0m",
            "\u001b[0;31mOperationalError\u001b[0m                          Traceback (most recent call last)",
            "\u001b[0;32m<ipython-input-30-40a9fc9a0ae9>\u001b[0m in \u001b[0;36m<cell line: 59>\u001b[0;34m()\u001b[0m\n\u001b[1;32m     58\u001b[0m \u001b[0;34m\u001b[0m\u001b[0m\n\u001b[1;32m     59\u001b[0m \u001b[0;32mif\u001b[0m \u001b[0m__name__\u001b[0m \u001b[0;34m==\u001b[0m \u001b[0;34m'__main__'\u001b[0m\u001b[0;34m:\u001b[0m\u001b[0;34m\u001b[0m\u001b[0;34m\u001b[0m\u001b[0m\n\u001b[0;32m---> 60\u001b[0;31m     \u001b[0mmain\u001b[0m\u001b[0;34m(\u001b[0m\u001b[0;34m)\u001b[0m\u001b[0;34m\u001b[0m\u001b[0;34m\u001b[0m\u001b[0m\n\u001b[0m",
            "\u001b[0;32m<ipython-input-30-40a9fc9a0ae9>\u001b[0m in \u001b[0;36mmain\u001b[0;34m()\u001b[0m\n\u001b[1;32m     55\u001b[0m       \u001b[0mmember_usage\u001b[0m\u001b[0;34m(\u001b[0m\u001b[0mconn\u001b[0m\u001b[0;34m)\u001b[0m\u001b[0;34m\u001b[0m\u001b[0;34m\u001b[0m\u001b[0m\n\u001b[1;32m     56\u001b[0m       \u001b[0mprint\u001b[0m\u001b[0;34m(\u001b[0m\u001b[0;34m\"Monthly Facility usage by Members\"\u001b[0m\u001b[0;34m)\u001b[0m\u001b[0;34m\u001b[0m\u001b[0;34m\u001b[0m\u001b[0m\n\u001b[0;32m---> 57\u001b[0;31m       \u001b[0mmonthly_member_usage\u001b[0m\u001b[0;34m(\u001b[0m\u001b[0mconn\u001b[0m\u001b[0;34m)\u001b[0m\u001b[0;34m\u001b[0m\u001b[0;34m\u001b[0m\u001b[0m\n\u001b[0m\u001b[1;32m     58\u001b[0m \u001b[0;34m\u001b[0m\u001b[0m\n\u001b[1;32m     59\u001b[0m \u001b[0;32mif\u001b[0m \u001b[0m__name__\u001b[0m \u001b[0;34m==\u001b[0m \u001b[0;34m'__main__'\u001b[0m\u001b[0;34m:\u001b[0m\u001b[0;34m\u001b[0m\u001b[0;34m\u001b[0m\u001b[0m\n",
            "\u001b[0;32m<ipython-input-29-0dd0a41795b8>\u001b[0m in \u001b[0;36mmonthly_member_usage\u001b[0;34m(conn)\u001b[0m\n\u001b[1;32m     21\u001b[0m       \"\"\"\n\u001b[1;32m     22\u001b[0m \u001b[0;34m\u001b[0m\u001b[0m\n\u001b[0;32m---> 23\u001b[0;31m   \u001b[0mcur\u001b[0m\u001b[0;34m.\u001b[0m\u001b[0mexecute\u001b[0m\u001b[0;34m(\u001b[0m\u001b[0mquery5\u001b[0m\u001b[0;34m)\u001b[0m\u001b[0;34m\u001b[0m\u001b[0;34m\u001b[0m\u001b[0m\n\u001b[0m\u001b[1;32m     24\u001b[0m \u001b[0;34m\u001b[0m\u001b[0m\n\u001b[1;32m     25\u001b[0m   \u001b[0mrows\u001b[0m \u001b[0;34m=\u001b[0m \u001b[0mcur\u001b[0m\u001b[0;34m.\u001b[0m\u001b[0mfetchall\u001b[0m\u001b[0;34m(\u001b[0m\u001b[0;34m)\u001b[0m\u001b[0;34m\u001b[0m\u001b[0;34m\u001b[0m\u001b[0m\n",
            "\u001b[0;31mOperationalError\u001b[0m: no such function: MONTH"
          ]
        }
      ]
    },
    {
      "cell_type": "markdown",
      "source": [
        "## Q10: \n",
        "Produce a list of facilities with a total revenue less than 1000.\n",
        "The output of facility name and total revenue, sorted by revenue. Remember\n",
        "that there's a different cost for guests and members!"
      ],
      "metadata": {
        "id": "WwrUTcJaHkwt"
      }
    },
    {
      "cell_type": "code",
      "source": [
        "def rev_lessthan_1000(conn):\n",
        "  \"\"\"\n",
        "    Query to return facilities with total\n",
        "    revenue less than 1000\n",
        "    :param conn: the Connection object\n",
        "    :return:\n",
        "  \"\"\"\n",
        "  cur = conn.cursor()\n",
        "    \n",
        "  query2 = \"\"\"\n",
        "      SELECT f.name, SUM(CASE\n",
        "                     WHEN b.memid = 0 THEN f.guestcost * b.slots\n",
        "                     ELSE f.membercost * b.slots\n",
        "                  END) AS total_revenue\n",
        "      FROM Facilities AS f\n",
        "      INNER JOIN Bookings AS b\n",
        "          ON b.facid = f.facid\n",
        "      GROUP BY f.facid, f.name\n",
        "      HAVING total_revenue < 1000\n",
        "      ORDER BY total_revenue;\n",
        "      \"\"\"\n",
        "\n",
        "\n",
        "\n",
        "\n",
        "  cur.execute(query2)\n",
        " \n",
        "  rows = cur.fetchall()\n",
        " \n",
        "  for row in rows:\n",
        "      print(row)"
      ],
      "metadata": {
        "id": "WlCI_q9wUxlD"
      },
      "execution_count": 5,
      "outputs": []
    },
    {
      "cell_type": "markdown",
      "source": [
        "## Q11: \n",
        "Produce a report of members and who recommended them in alphabetic surname,firstname order"
      ],
      "metadata": {
        "id": "r-MHc5gKH0-w"
      }
    },
    {
      "cell_type": "code",
      "source": [
        "def recommended_mem(conn):\n",
        "  \"\"\"\n",
        "    Query to return members and who recommended them \n",
        "    in alphabetic surname, firstname\n",
        "    :param conn: the Connection object\n",
        "    :return:\n",
        "  \"\"\"\n",
        "  cur = conn.cursor()\n",
        "    \n",
        "  query3 = \"\"\"\n",
        "      SELECT m.surname, m.firstname, \n",
        "            r.surname AS recommended_surname, \n",
        "            r.firstname AS recommended_firstname\n",
        "      FROM Members AS m\n",
        "      LEFT JOIN Members AS r ON m.recommendedby = r.memid\n",
        "      WHERE m.recommendedby IS NOT NULL\n",
        "      ORDER BY m.surname, m.firstname;\n",
        "      \"\"\"\n",
        "\n",
        "  cur.execute(query3)\n",
        " \n",
        "  rows = cur.fetchall()\n",
        " \n",
        "  for row in rows:\n",
        "      print(row)"
      ],
      "metadata": {
        "id": "778Pk6JZiW_X"
      },
      "execution_count": 11,
      "outputs": []
    },
    {
      "cell_type": "markdown",
      "source": [
        "## Q12: \n",
        "Find the facilities with their usage by member, but not guests"
      ],
      "metadata": {
        "id": "NmrTP5AEH6zY"
      }
    },
    {
      "cell_type": "code",
      "source": [
        "def member_usage(conn):\n",
        "  \"\"\"\n",
        "    Query to return facilities and their usage by member, not by guests\n",
        "    :param conn: the Connection object\n",
        "    :return:\n",
        "  \"\"\"\n",
        "  cur = conn.cursor()\n",
        "    \n",
        "  query4 = \"\"\"\n",
        "      SELECT f.name, COUNT(b.bookid) AS usage_by_members\n",
        "      FROM Facilities AS f\n",
        "      INNER JOIN Bookings AS b\n",
        "          ON b.facid = f.facid\n",
        "      INNER JOIN Members AS m\n",
        "          ON b.memid = m.memid\n",
        "      WHERE m.memid <> 0\n",
        "      GROUP BY f.name\n",
        "      ORDER BY usage_by_members DESC;\n",
        "      \"\"\"\n",
        "\n",
        "  cur.execute(query4)\n",
        " \n",
        "  rows = cur.fetchall()\n",
        " \n",
        "  for row in rows:\n",
        "      print(row)"
      ],
      "metadata": {
        "id": "wBHyjWKnnfnR"
      },
      "execution_count": 13,
      "outputs": []
    },
    {
      "cell_type": "markdown",
      "source": [
        "## Q13: \n",
        "Find the facilities usage by month, but not guests"
      ],
      "metadata": {
        "id": "YlEuJUiSH-d-"
      }
    },
    {
      "cell_type": "code",
      "source": [
        "def monthly_member_usage(conn):\n",
        "  \"\"\"\n",
        "    Query to return facilities and their usage by month, not by guests\n",
        "    :param conn: the Connection object\n",
        "    :return:\n",
        "  \"\"\"\n",
        "  cur = conn.cursor()\n",
        "    \n",
        "  query5 = \"\"\"\n",
        "      SELECT f.name, \n",
        "        MONTH(b.starttime) AS month, \n",
        "        COUNT(b.bookid) AS monthly_usage\n",
        "      FROM Facilities AS f\n",
        "      JOIN Bookings AS b \n",
        "        ON f.facid = b.facid\n",
        "      JOIN Members AS m \n",
        "        ON b.memid = m.memid\n",
        "      WHERE m.memid <> 0\n",
        "      GROUP BY f.name, MONTH(b.starttime)\n",
        "      ORDER BY f.name, MONTH(b.starttime);\n",
        "      \"\"\"\n",
        "\n",
        "  cur.execute(query5)\n",
        " \n",
        "  rows = cur.fetchall()\n",
        " \n",
        "  for row in rows:\n",
        "      print(row)"
      ],
      "metadata": {
        "id": "NfyK8OznrSF6"
      },
      "execution_count": 29,
      "outputs": []
    }
  ]
}