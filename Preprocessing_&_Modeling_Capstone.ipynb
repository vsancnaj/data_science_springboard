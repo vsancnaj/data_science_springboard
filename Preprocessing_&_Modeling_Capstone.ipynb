{
  "cells": [
    {
      "cell_type": "markdown",
      "metadata": {
        "id": "vYolqSz5wnJ-"
      },
      "source": [
        "# Preprocessing & Training Data"
      ]
    },
    {
      "cell_type": "markdown",
      "metadata": {
        "id": "zR5E6gypzSNg"
      },
      "source": [
        "# Modeling\n",
        "\n",
        "\n",
        "\n",
        "Random Forest, XGBoost, and LightGBM—are well-suited for binary classification tasks like fraud detection due to their ability to handle large-scale datasets, non-linear relationships among features, and their robustness to various data issues"
      ]
    },
    {
      "cell_type": "markdown",
      "source": [
        "### Import and Initial Set-up"
      ],
      "metadata": {
        "id": "dMkG09lOPM38"
      }
    },
    {
      "cell_type": "code",
      "execution_count": 33,
      "metadata": {
        "colab": {
          "base_uri": "https://localhost:8080/"
        },
        "id": "niTnHbsH1h93",
        "outputId": "9b4cac04-ccc8-456d-bced-e5902705141f"
      },
      "outputs": [
        {
          "output_type": "stream",
          "name": "stdout",
          "text": [
            "Drive already mounted at /content/drive; to attempt to forcibly remount, call drive.mount(\"/content/drive\", force_remount=True).\n"
          ]
        }
      ],
      "source": [
        "# import files from google colab\n",
        "from google.colab import drive\n",
        "drive.mount('/content/drive')"
      ]
    },
    {
      "cell_type": "code",
      "execution_count": 34,
      "metadata": {
        "id": "PHerPGeq1zdP"
      },
      "outputs": [],
      "source": [
        "# import necessary packages\n",
        "import pandas as pd\n",
        "import numpy as np\n",
        "\n",
        "\n",
        "# preprocessing\n",
        "from sklearn.model_selection import train_test_split\n",
        "#from sklearn.decomposition import PCA\n",
        "from sklearn.preprocessing import StandardScaler\n",
        "from imblearn.over_sampling import SMOTE\n",
        "\n",
        "# models\n",
        "from sklearn.linear_model import LogisticRegression"
      ]
    },
    {
      "cell_type": "code",
      "execution_count": 35,
      "metadata": {
        "id": "gSMnhlEU1s27"
      },
      "outputs": [],
      "source": [
        "# create path variables\n",
        "path_test = '/content/drive/MyDrive/Springboard/capstones/Capstone Project/data/eda_test_df.csv'\n",
        "path_train = '/content/drive/MyDrive/Springboard/capstones/Capstone Project/data/eda_train_df.csv'"
      ]
    },
    {
      "cell_type": "code",
      "execution_count": 36,
      "metadata": {
        "id": "rgo7bqKg4a5f"
      },
      "outputs": [],
      "source": [
        "# read the files and convert to data frames\n",
        "df_test = pd.read_csv(path_test)\n",
        "df_train = pd.read_csv(path_train)"
      ]
    },
    {
      "cell_type": "markdown",
      "source": [
        "### Beginning of Pre-Processing"
      ],
      "metadata": {
        "id": "4XHfRi1wPA_y"
      }
    },
    {
      "cell_type": "code",
      "execution_count": 37,
      "metadata": {
        "colab": {
          "base_uri": "https://localhost:8080/",
          "height": 253
        },
        "id": "IOLybablx4QU",
        "outputId": "c880275d-50a8-40d3-ec7d-a29d597943a5"
      },
      "outputs": [
        {
          "output_type": "execute_result",
          "data": {
            "text/plain": [
              "   isFraud  TransactionDT  TransactionAmt ProductCD  card1  card2  card3  \\\n",
              "0        0          86400            68.5         W  13926   -1.0    150   \n",
              "1        0          86401            29.0         W   2755  404.0    150   \n",
              "2        0          86469            59.0         W   4663  490.0    150   \n",
              "3        0          86499            50.0         W  18132  567.0    150   \n",
              "4        0          86506            50.0         H   4497  514.0    150   \n",
              "\n",
              "        card4  card5   card6  ...  V315  V316    V317   V318  V319  V320  \\\n",
              "0    discover    142  credit  ...   0.0   0.0   117.0    0.0   0.0   0.0   \n",
              "1  mastercard    102  credit  ...   0.0   0.0     0.0    0.0   0.0   0.0   \n",
              "2        visa    166   debit  ...   0.0   0.0     0.0    0.0   0.0   0.0   \n",
              "3  mastercard    117   debit  ...   0.0  50.0  1404.0  790.0   0.0   0.0   \n",
              "4  mastercard    102  credit  ...   0.0   0.0     0.0    0.0   0.0   0.0   \n",
              "\n",
              "   V321  Days  Transaction_day_of_week  Transaction_hour  \n",
              "0   0.0     1                        0                 0  \n",
              "1   0.0     1                        0                 0  \n",
              "2   0.0     1                        0                 0  \n",
              "3   0.0     1                        0                 0  \n",
              "4   0.0     1                        0                 0  \n",
              "\n",
              "[5 rows x 228 columns]"
            ],
            "text/html": [
              "\n",
              "  <div id=\"df-b1cc6200-3f09-4d8b-90dd-66637c4cf589\" class=\"colab-df-container\">\n",
              "    <div>\n",
              "<style scoped>\n",
              "    .dataframe tbody tr th:only-of-type {\n",
              "        vertical-align: middle;\n",
              "    }\n",
              "\n",
              "    .dataframe tbody tr th {\n",
              "        vertical-align: top;\n",
              "    }\n",
              "\n",
              "    .dataframe thead th {\n",
              "        text-align: right;\n",
              "    }\n",
              "</style>\n",
              "<table border=\"1\" class=\"dataframe\">\n",
              "  <thead>\n",
              "    <tr style=\"text-align: right;\">\n",
              "      <th></th>\n",
              "      <th>isFraud</th>\n",
              "      <th>TransactionDT</th>\n",
              "      <th>TransactionAmt</th>\n",
              "      <th>ProductCD</th>\n",
              "      <th>card1</th>\n",
              "      <th>card2</th>\n",
              "      <th>card3</th>\n",
              "      <th>card4</th>\n",
              "      <th>card5</th>\n",
              "      <th>card6</th>\n",
              "      <th>...</th>\n",
              "      <th>V315</th>\n",
              "      <th>V316</th>\n",
              "      <th>V317</th>\n",
              "      <th>V318</th>\n",
              "      <th>V319</th>\n",
              "      <th>V320</th>\n",
              "      <th>V321</th>\n",
              "      <th>Days</th>\n",
              "      <th>Transaction_day_of_week</th>\n",
              "      <th>Transaction_hour</th>\n",
              "    </tr>\n",
              "  </thead>\n",
              "  <tbody>\n",
              "    <tr>\n",
              "      <th>0</th>\n",
              "      <td>0</td>\n",
              "      <td>86400</td>\n",
              "      <td>68.5</td>\n",
              "      <td>W</td>\n",
              "      <td>13926</td>\n",
              "      <td>-1.0</td>\n",
              "      <td>150</td>\n",
              "      <td>discover</td>\n",
              "      <td>142</td>\n",
              "      <td>credit</td>\n",
              "      <td>...</td>\n",
              "      <td>0.0</td>\n",
              "      <td>0.0</td>\n",
              "      <td>117.0</td>\n",
              "      <td>0.0</td>\n",
              "      <td>0.0</td>\n",
              "      <td>0.0</td>\n",
              "      <td>0.0</td>\n",
              "      <td>1</td>\n",
              "      <td>0</td>\n",
              "      <td>0</td>\n",
              "    </tr>\n",
              "    <tr>\n",
              "      <th>1</th>\n",
              "      <td>0</td>\n",
              "      <td>86401</td>\n",
              "      <td>29.0</td>\n",
              "      <td>W</td>\n",
              "      <td>2755</td>\n",
              "      <td>404.0</td>\n",
              "      <td>150</td>\n",
              "      <td>mastercard</td>\n",
              "      <td>102</td>\n",
              "      <td>credit</td>\n",
              "      <td>...</td>\n",
              "      <td>0.0</td>\n",
              "      <td>0.0</td>\n",
              "      <td>0.0</td>\n",
              "      <td>0.0</td>\n",
              "      <td>0.0</td>\n",
              "      <td>0.0</td>\n",
              "      <td>0.0</td>\n",
              "      <td>1</td>\n",
              "      <td>0</td>\n",
              "      <td>0</td>\n",
              "    </tr>\n",
              "    <tr>\n",
              "      <th>2</th>\n",
              "      <td>0</td>\n",
              "      <td>86469</td>\n",
              "      <td>59.0</td>\n",
              "      <td>W</td>\n",
              "      <td>4663</td>\n",
              "      <td>490.0</td>\n",
              "      <td>150</td>\n",
              "      <td>visa</td>\n",
              "      <td>166</td>\n",
              "      <td>debit</td>\n",
              "      <td>...</td>\n",
              "      <td>0.0</td>\n",
              "      <td>0.0</td>\n",
              "      <td>0.0</td>\n",
              "      <td>0.0</td>\n",
              "      <td>0.0</td>\n",
              "      <td>0.0</td>\n",
              "      <td>0.0</td>\n",
              "      <td>1</td>\n",
              "      <td>0</td>\n",
              "      <td>0</td>\n",
              "    </tr>\n",
              "    <tr>\n",
              "      <th>3</th>\n",
              "      <td>0</td>\n",
              "      <td>86499</td>\n",
              "      <td>50.0</td>\n",
              "      <td>W</td>\n",
              "      <td>18132</td>\n",
              "      <td>567.0</td>\n",
              "      <td>150</td>\n",
              "      <td>mastercard</td>\n",
              "      <td>117</td>\n",
              "      <td>debit</td>\n",
              "      <td>...</td>\n",
              "      <td>0.0</td>\n",
              "      <td>50.0</td>\n",
              "      <td>1404.0</td>\n",
              "      <td>790.0</td>\n",
              "      <td>0.0</td>\n",
              "      <td>0.0</td>\n",
              "      <td>0.0</td>\n",
              "      <td>1</td>\n",
              "      <td>0</td>\n",
              "      <td>0</td>\n",
              "    </tr>\n",
              "    <tr>\n",
              "      <th>4</th>\n",
              "      <td>0</td>\n",
              "      <td>86506</td>\n",
              "      <td>50.0</td>\n",
              "      <td>H</td>\n",
              "      <td>4497</td>\n",
              "      <td>514.0</td>\n",
              "      <td>150</td>\n",
              "      <td>mastercard</td>\n",
              "      <td>102</td>\n",
              "      <td>credit</td>\n",
              "      <td>...</td>\n",
              "      <td>0.0</td>\n",
              "      <td>0.0</td>\n",
              "      <td>0.0</td>\n",
              "      <td>0.0</td>\n",
              "      <td>0.0</td>\n",
              "      <td>0.0</td>\n",
              "      <td>0.0</td>\n",
              "      <td>1</td>\n",
              "      <td>0</td>\n",
              "      <td>0</td>\n",
              "    </tr>\n",
              "  </tbody>\n",
              "</table>\n",
              "<p>5 rows × 228 columns</p>\n",
              "</div>\n",
              "    <div class=\"colab-df-buttons\">\n",
              "\n",
              "  <div class=\"colab-df-container\">\n",
              "    <button class=\"colab-df-convert\" onclick=\"convertToInteractive('df-b1cc6200-3f09-4d8b-90dd-66637c4cf589')\"\n",
              "            title=\"Convert this dataframe to an interactive table.\"\n",
              "            style=\"display:none;\">\n",
              "\n",
              "  <svg xmlns=\"http://www.w3.org/2000/svg\" height=\"24px\" viewBox=\"0 -960 960 960\">\n",
              "    <path d=\"M120-120v-720h720v720H120Zm60-500h600v-160H180v160Zm220 220h160v-160H400v160Zm0 220h160v-160H400v160ZM180-400h160v-160H180v160Zm440 0h160v-160H620v160ZM180-180h160v-160H180v160Zm440 0h160v-160H620v160Z\"/>\n",
              "  </svg>\n",
              "    </button>\n",
              "\n",
              "  <style>\n",
              "    .colab-df-container {\n",
              "      display:flex;\n",
              "      gap: 12px;\n",
              "    }\n",
              "\n",
              "    .colab-df-convert {\n",
              "      background-color: #E8F0FE;\n",
              "      border: none;\n",
              "      border-radius: 50%;\n",
              "      cursor: pointer;\n",
              "      display: none;\n",
              "      fill: #1967D2;\n",
              "      height: 32px;\n",
              "      padding: 0 0 0 0;\n",
              "      width: 32px;\n",
              "    }\n",
              "\n",
              "    .colab-df-convert:hover {\n",
              "      background-color: #E2EBFA;\n",
              "      box-shadow: 0px 1px 2px rgba(60, 64, 67, 0.3), 0px 1px 3px 1px rgba(60, 64, 67, 0.15);\n",
              "      fill: #174EA6;\n",
              "    }\n",
              "\n",
              "    .colab-df-buttons div {\n",
              "      margin-bottom: 4px;\n",
              "    }\n",
              "\n",
              "    [theme=dark] .colab-df-convert {\n",
              "      background-color: #3B4455;\n",
              "      fill: #D2E3FC;\n",
              "    }\n",
              "\n",
              "    [theme=dark] .colab-df-convert:hover {\n",
              "      background-color: #434B5C;\n",
              "      box-shadow: 0px 1px 3px 1px rgba(0, 0, 0, 0.15);\n",
              "      filter: drop-shadow(0px 1px 2px rgba(0, 0, 0, 0.3));\n",
              "      fill: #FFFFFF;\n",
              "    }\n",
              "  </style>\n",
              "\n",
              "    <script>\n",
              "      const buttonEl =\n",
              "        document.querySelector('#df-b1cc6200-3f09-4d8b-90dd-66637c4cf589 button.colab-df-convert');\n",
              "      buttonEl.style.display =\n",
              "        google.colab.kernel.accessAllowed ? 'block' : 'none';\n",
              "\n",
              "      async function convertToInteractive(key) {\n",
              "        const element = document.querySelector('#df-b1cc6200-3f09-4d8b-90dd-66637c4cf589');\n",
              "        const dataTable =\n",
              "          await google.colab.kernel.invokeFunction('convertToInteractive',\n",
              "                                                    [key], {});\n",
              "        if (!dataTable) return;\n",
              "\n",
              "        const docLinkHtml = 'Like what you see? Visit the ' +\n",
              "          '<a target=\"_blank\" href=https://colab.research.google.com/notebooks/data_table.ipynb>data table notebook</a>'\n",
              "          + ' to learn more about interactive tables.';\n",
              "        element.innerHTML = '';\n",
              "        dataTable['output_type'] = 'display_data';\n",
              "        await google.colab.output.renderOutput(dataTable, element);\n",
              "        const docLink = document.createElement('div');\n",
              "        docLink.innerHTML = docLinkHtml;\n",
              "        element.appendChild(docLink);\n",
              "      }\n",
              "    </script>\n",
              "  </div>\n",
              "\n",
              "\n",
              "<div id=\"df-6871133a-0cc2-489d-b1ff-fe298b5ffaa5\">\n",
              "  <button class=\"colab-df-quickchart\" onclick=\"quickchart('df-6871133a-0cc2-489d-b1ff-fe298b5ffaa5')\"\n",
              "            title=\"Suggest charts.\"\n",
              "            style=\"display:none;\">\n",
              "\n",
              "<svg xmlns=\"http://www.w3.org/2000/svg\" height=\"24px\"viewBox=\"0 0 24 24\"\n",
              "     width=\"24px\">\n",
              "    <g>\n",
              "        <path d=\"M19 3H5c-1.1 0-2 .9-2 2v14c0 1.1.9 2 2 2h14c1.1 0 2-.9 2-2V5c0-1.1-.9-2-2-2zM9 17H7v-7h2v7zm4 0h-2V7h2v10zm4 0h-2v-4h2v4z\"/>\n",
              "    </g>\n",
              "</svg>\n",
              "  </button>\n",
              "\n",
              "<style>\n",
              "  .colab-df-quickchart {\n",
              "      --bg-color: #E8F0FE;\n",
              "      --fill-color: #1967D2;\n",
              "      --hover-bg-color: #E2EBFA;\n",
              "      --hover-fill-color: #174EA6;\n",
              "      --disabled-fill-color: #AAA;\n",
              "      --disabled-bg-color: #DDD;\n",
              "  }\n",
              "\n",
              "  [theme=dark] .colab-df-quickchart {\n",
              "      --bg-color: #3B4455;\n",
              "      --fill-color: #D2E3FC;\n",
              "      --hover-bg-color: #434B5C;\n",
              "      --hover-fill-color: #FFFFFF;\n",
              "      --disabled-bg-color: #3B4455;\n",
              "      --disabled-fill-color: #666;\n",
              "  }\n",
              "\n",
              "  .colab-df-quickchart {\n",
              "    background-color: var(--bg-color);\n",
              "    border: none;\n",
              "    border-radius: 50%;\n",
              "    cursor: pointer;\n",
              "    display: none;\n",
              "    fill: var(--fill-color);\n",
              "    height: 32px;\n",
              "    padding: 0;\n",
              "    width: 32px;\n",
              "  }\n",
              "\n",
              "  .colab-df-quickchart:hover {\n",
              "    background-color: var(--hover-bg-color);\n",
              "    box-shadow: 0 1px 2px rgba(60, 64, 67, 0.3), 0 1px 3px 1px rgba(60, 64, 67, 0.15);\n",
              "    fill: var(--button-hover-fill-color);\n",
              "  }\n",
              "\n",
              "  .colab-df-quickchart-complete:disabled,\n",
              "  .colab-df-quickchart-complete:disabled:hover {\n",
              "    background-color: var(--disabled-bg-color);\n",
              "    fill: var(--disabled-fill-color);\n",
              "    box-shadow: none;\n",
              "  }\n",
              "\n",
              "  .colab-df-spinner {\n",
              "    border: 2px solid var(--fill-color);\n",
              "    border-color: transparent;\n",
              "    border-bottom-color: var(--fill-color);\n",
              "    animation:\n",
              "      spin 1s steps(1) infinite;\n",
              "  }\n",
              "\n",
              "  @keyframes spin {\n",
              "    0% {\n",
              "      border-color: transparent;\n",
              "      border-bottom-color: var(--fill-color);\n",
              "      border-left-color: var(--fill-color);\n",
              "    }\n",
              "    20% {\n",
              "      border-color: transparent;\n",
              "      border-left-color: var(--fill-color);\n",
              "      border-top-color: var(--fill-color);\n",
              "    }\n",
              "    30% {\n",
              "      border-color: transparent;\n",
              "      border-left-color: var(--fill-color);\n",
              "      border-top-color: var(--fill-color);\n",
              "      border-right-color: var(--fill-color);\n",
              "    }\n",
              "    40% {\n",
              "      border-color: transparent;\n",
              "      border-right-color: var(--fill-color);\n",
              "      border-top-color: var(--fill-color);\n",
              "    }\n",
              "    60% {\n",
              "      border-color: transparent;\n",
              "      border-right-color: var(--fill-color);\n",
              "    }\n",
              "    80% {\n",
              "      border-color: transparent;\n",
              "      border-right-color: var(--fill-color);\n",
              "      border-bottom-color: var(--fill-color);\n",
              "    }\n",
              "    90% {\n",
              "      border-color: transparent;\n",
              "      border-bottom-color: var(--fill-color);\n",
              "    }\n",
              "  }\n",
              "</style>\n",
              "\n",
              "  <script>\n",
              "    async function quickchart(key) {\n",
              "      const quickchartButtonEl =\n",
              "        document.querySelector('#' + key + ' button');\n",
              "      quickchartButtonEl.disabled = true;  // To prevent multiple clicks.\n",
              "      quickchartButtonEl.classList.add('colab-df-spinner');\n",
              "      try {\n",
              "        const charts = await google.colab.kernel.invokeFunction(\n",
              "            'suggestCharts', [key], {});\n",
              "      } catch (error) {\n",
              "        console.error('Error during call to suggestCharts:', error);\n",
              "      }\n",
              "      quickchartButtonEl.classList.remove('colab-df-spinner');\n",
              "      quickchartButtonEl.classList.add('colab-df-quickchart-complete');\n",
              "    }\n",
              "    (() => {\n",
              "      let quickchartButtonEl =\n",
              "        document.querySelector('#df-6871133a-0cc2-489d-b1ff-fe298b5ffaa5 button');\n",
              "      quickchartButtonEl.style.display =\n",
              "        google.colab.kernel.accessAllowed ? 'block' : 'none';\n",
              "    })();\n",
              "  </script>\n",
              "</div>\n",
              "    </div>\n",
              "  </div>\n"
            ]
          },
          "metadata": {},
          "execution_count": 37
        }
      ],
      "source": [
        "# observe first five columns\n",
        "df_train.head()"
      ]
    },
    {
      "cell_type": "code",
      "execution_count": 38,
      "metadata": {
        "colab": {
          "base_uri": "https://localhost:8080/"
        },
        "id": "GK6QmCQz4px9",
        "outputId": "8bb3bfcf-2b56-4f41-f7ab-0f25dd88c6c8"
      },
      "outputs": [
        {
          "output_type": "stream",
          "name": "stdout",
          "text": [
            "<class 'pandas.core.frame.DataFrame'>\n",
            "RangeIndex: 590538 entries, 0 to 590537\n",
            "Columns: 228 entries, isFraud to Transaction_hour\n",
            "dtypes: float64(198), int64(17), object(13)\n",
            "memory usage: 1.0+ GB\n"
          ]
        }
      ],
      "source": [
        "# print information about train data\n",
        "df_train.info()"
      ]
    },
    {
      "cell_type": "code",
      "execution_count": 39,
      "metadata": {
        "id": "vnQdSSDYyAgG"
      },
      "outputs": [],
      "source": [
        "# observe all object data types\n",
        "cat_feats = df_train.select_dtypes(include=['object'], exclude=['datetime'])\n",
        "# create the columns into a list\n",
        "cat_feat_list = list(cat_feats.columns)"
      ]
    },
    {
      "cell_type": "code",
      "execution_count": 40,
      "metadata": {
        "id": "AFb1chYC1yv6"
      },
      "outputs": [],
      "source": [
        "# use get dummies\n",
        "df_train = pd.get_dummies(df_train, columns=cat_feat_list)"
      ]
    },
    {
      "cell_type": "code",
      "execution_count": 41,
      "metadata": {
        "colab": {
          "base_uri": "https://localhost:8080/",
          "height": 233
        },
        "id": "F_lct-pKzAw6",
        "outputId": "bbc57762-07d4-4c2c-bdd4-68968480ffee"
      },
      "outputs": [
        {
          "output_type": "execute_result",
          "data": {
            "text/plain": [
              "   isFraud  TransactionDT  TransactionAmt  card1  card2  card3  card5  addr1  \\\n",
              "0        0          86400            68.5  13926   -1.0    150    142    315   \n",
              "1        0          86401            29.0   2755  404.0    150    102    325   \n",
              "2        0          86469            59.0   4663  490.0    150    166    330   \n",
              "3        0          86499            50.0  18132  567.0    150    117    476   \n",
              "4        0          86506            50.0   4497  514.0    150    102    420   \n",
              "\n",
              "   addr2  dist1  ...  M6_T  M7_-1  M7_F  M7_T  M8_-1  M8_F  M8_T  M9_-1  M9_F  \\\n",
              "0     87   19.0  ...     1      1     0     0      1     0     0      1     0   \n",
              "1     87   -1.0  ...     1      1     0     0      1     0     0      1     0   \n",
              "2     87  287.0  ...     0      0     1     0      0     1     0      0     1   \n",
              "3     87   -1.0  ...     0      1     0     0      1     0     0      1     0   \n",
              "4     87   -1.0  ...     0      1     0     0      1     0     0      1     0   \n",
              "\n",
              "   M9_T  \n",
              "0     0  \n",
              "1     0  \n",
              "2     0  \n",
              "3     0  \n",
              "4     0  \n",
              "\n",
              "[5 rows x 318 columns]"
            ],
            "text/html": [
              "\n",
              "  <div id=\"df-05a531d6-047c-4108-acae-b751b6a956e4\" class=\"colab-df-container\">\n",
              "    <div>\n",
              "<style scoped>\n",
              "    .dataframe tbody tr th:only-of-type {\n",
              "        vertical-align: middle;\n",
              "    }\n",
              "\n",
              "    .dataframe tbody tr th {\n",
              "        vertical-align: top;\n",
              "    }\n",
              "\n",
              "    .dataframe thead th {\n",
              "        text-align: right;\n",
              "    }\n",
              "</style>\n",
              "<table border=\"1\" class=\"dataframe\">\n",
              "  <thead>\n",
              "    <tr style=\"text-align: right;\">\n",
              "      <th></th>\n",
              "      <th>isFraud</th>\n",
              "      <th>TransactionDT</th>\n",
              "      <th>TransactionAmt</th>\n",
              "      <th>card1</th>\n",
              "      <th>card2</th>\n",
              "      <th>card3</th>\n",
              "      <th>card5</th>\n",
              "      <th>addr1</th>\n",
              "      <th>addr2</th>\n",
              "      <th>dist1</th>\n",
              "      <th>...</th>\n",
              "      <th>M6_T</th>\n",
              "      <th>M7_-1</th>\n",
              "      <th>M7_F</th>\n",
              "      <th>M7_T</th>\n",
              "      <th>M8_-1</th>\n",
              "      <th>M8_F</th>\n",
              "      <th>M8_T</th>\n",
              "      <th>M9_-1</th>\n",
              "      <th>M9_F</th>\n",
              "      <th>M9_T</th>\n",
              "    </tr>\n",
              "  </thead>\n",
              "  <tbody>\n",
              "    <tr>\n",
              "      <th>0</th>\n",
              "      <td>0</td>\n",
              "      <td>86400</td>\n",
              "      <td>68.5</td>\n",
              "      <td>13926</td>\n",
              "      <td>-1.0</td>\n",
              "      <td>150</td>\n",
              "      <td>142</td>\n",
              "      <td>315</td>\n",
              "      <td>87</td>\n",
              "      <td>19.0</td>\n",
              "      <td>...</td>\n",
              "      <td>1</td>\n",
              "      <td>1</td>\n",
              "      <td>0</td>\n",
              "      <td>0</td>\n",
              "      <td>1</td>\n",
              "      <td>0</td>\n",
              "      <td>0</td>\n",
              "      <td>1</td>\n",
              "      <td>0</td>\n",
              "      <td>0</td>\n",
              "    </tr>\n",
              "    <tr>\n",
              "      <th>1</th>\n",
              "      <td>0</td>\n",
              "      <td>86401</td>\n",
              "      <td>29.0</td>\n",
              "      <td>2755</td>\n",
              "      <td>404.0</td>\n",
              "      <td>150</td>\n",
              "      <td>102</td>\n",
              "      <td>325</td>\n",
              "      <td>87</td>\n",
              "      <td>-1.0</td>\n",
              "      <td>...</td>\n",
              "      <td>1</td>\n",
              "      <td>1</td>\n",
              "      <td>0</td>\n",
              "      <td>0</td>\n",
              "      <td>1</td>\n",
              "      <td>0</td>\n",
              "      <td>0</td>\n",
              "      <td>1</td>\n",
              "      <td>0</td>\n",
              "      <td>0</td>\n",
              "    </tr>\n",
              "    <tr>\n",
              "      <th>2</th>\n",
              "      <td>0</td>\n",
              "      <td>86469</td>\n",
              "      <td>59.0</td>\n",
              "      <td>4663</td>\n",
              "      <td>490.0</td>\n",
              "      <td>150</td>\n",
              "      <td>166</td>\n",
              "      <td>330</td>\n",
              "      <td>87</td>\n",
              "      <td>287.0</td>\n",
              "      <td>...</td>\n",
              "      <td>0</td>\n",
              "      <td>0</td>\n",
              "      <td>1</td>\n",
              "      <td>0</td>\n",
              "      <td>0</td>\n",
              "      <td>1</td>\n",
              "      <td>0</td>\n",
              "      <td>0</td>\n",
              "      <td>1</td>\n",
              "      <td>0</td>\n",
              "    </tr>\n",
              "    <tr>\n",
              "      <th>3</th>\n",
              "      <td>0</td>\n",
              "      <td>86499</td>\n",
              "      <td>50.0</td>\n",
              "      <td>18132</td>\n",
              "      <td>567.0</td>\n",
              "      <td>150</td>\n",
              "      <td>117</td>\n",
              "      <td>476</td>\n",
              "      <td>87</td>\n",
              "      <td>-1.0</td>\n",
              "      <td>...</td>\n",
              "      <td>0</td>\n",
              "      <td>1</td>\n",
              "      <td>0</td>\n",
              "      <td>0</td>\n",
              "      <td>1</td>\n",
              "      <td>0</td>\n",
              "      <td>0</td>\n",
              "      <td>1</td>\n",
              "      <td>0</td>\n",
              "      <td>0</td>\n",
              "    </tr>\n",
              "    <tr>\n",
              "      <th>4</th>\n",
              "      <td>0</td>\n",
              "      <td>86506</td>\n",
              "      <td>50.0</td>\n",
              "      <td>4497</td>\n",
              "      <td>514.0</td>\n",
              "      <td>150</td>\n",
              "      <td>102</td>\n",
              "      <td>420</td>\n",
              "      <td>87</td>\n",
              "      <td>-1.0</td>\n",
              "      <td>...</td>\n",
              "      <td>0</td>\n",
              "      <td>1</td>\n",
              "      <td>0</td>\n",
              "      <td>0</td>\n",
              "      <td>1</td>\n",
              "      <td>0</td>\n",
              "      <td>0</td>\n",
              "      <td>1</td>\n",
              "      <td>0</td>\n",
              "      <td>0</td>\n",
              "    </tr>\n",
              "  </tbody>\n",
              "</table>\n",
              "<p>5 rows × 318 columns</p>\n",
              "</div>\n",
              "    <div class=\"colab-df-buttons\">\n",
              "\n",
              "  <div class=\"colab-df-container\">\n",
              "    <button class=\"colab-df-convert\" onclick=\"convertToInteractive('df-05a531d6-047c-4108-acae-b751b6a956e4')\"\n",
              "            title=\"Convert this dataframe to an interactive table.\"\n",
              "            style=\"display:none;\">\n",
              "\n",
              "  <svg xmlns=\"http://www.w3.org/2000/svg\" height=\"24px\" viewBox=\"0 -960 960 960\">\n",
              "    <path d=\"M120-120v-720h720v720H120Zm60-500h600v-160H180v160Zm220 220h160v-160H400v160Zm0 220h160v-160H400v160ZM180-400h160v-160H180v160Zm440 0h160v-160H620v160ZM180-180h160v-160H180v160Zm440 0h160v-160H620v160Z\"/>\n",
              "  </svg>\n",
              "    </button>\n",
              "\n",
              "  <style>\n",
              "    .colab-df-container {\n",
              "      display:flex;\n",
              "      gap: 12px;\n",
              "    }\n",
              "\n",
              "    .colab-df-convert {\n",
              "      background-color: #E8F0FE;\n",
              "      border: none;\n",
              "      border-radius: 50%;\n",
              "      cursor: pointer;\n",
              "      display: none;\n",
              "      fill: #1967D2;\n",
              "      height: 32px;\n",
              "      padding: 0 0 0 0;\n",
              "      width: 32px;\n",
              "    }\n",
              "\n",
              "    .colab-df-convert:hover {\n",
              "      background-color: #E2EBFA;\n",
              "      box-shadow: 0px 1px 2px rgba(60, 64, 67, 0.3), 0px 1px 3px 1px rgba(60, 64, 67, 0.15);\n",
              "      fill: #174EA6;\n",
              "    }\n",
              "\n",
              "    .colab-df-buttons div {\n",
              "      margin-bottom: 4px;\n",
              "    }\n",
              "\n",
              "    [theme=dark] .colab-df-convert {\n",
              "      background-color: #3B4455;\n",
              "      fill: #D2E3FC;\n",
              "    }\n",
              "\n",
              "    [theme=dark] .colab-df-convert:hover {\n",
              "      background-color: #434B5C;\n",
              "      box-shadow: 0px 1px 3px 1px rgba(0, 0, 0, 0.15);\n",
              "      filter: drop-shadow(0px 1px 2px rgba(0, 0, 0, 0.3));\n",
              "      fill: #FFFFFF;\n",
              "    }\n",
              "  </style>\n",
              "\n",
              "    <script>\n",
              "      const buttonEl =\n",
              "        document.querySelector('#df-05a531d6-047c-4108-acae-b751b6a956e4 button.colab-df-convert');\n",
              "      buttonEl.style.display =\n",
              "        google.colab.kernel.accessAllowed ? 'block' : 'none';\n",
              "\n",
              "      async function convertToInteractive(key) {\n",
              "        const element = document.querySelector('#df-05a531d6-047c-4108-acae-b751b6a956e4');\n",
              "        const dataTable =\n",
              "          await google.colab.kernel.invokeFunction('convertToInteractive',\n",
              "                                                    [key], {});\n",
              "        if (!dataTable) return;\n",
              "\n",
              "        const docLinkHtml = 'Like what you see? Visit the ' +\n",
              "          '<a target=\"_blank\" href=https://colab.research.google.com/notebooks/data_table.ipynb>data table notebook</a>'\n",
              "          + ' to learn more about interactive tables.';\n",
              "        element.innerHTML = '';\n",
              "        dataTable['output_type'] = 'display_data';\n",
              "        await google.colab.output.renderOutput(dataTable, element);\n",
              "        const docLink = document.createElement('div');\n",
              "        docLink.innerHTML = docLinkHtml;\n",
              "        element.appendChild(docLink);\n",
              "      }\n",
              "    </script>\n",
              "  </div>\n",
              "\n",
              "\n",
              "<div id=\"df-a275bce0-fb15-4402-bf40-e3f0bb4bc7f4\">\n",
              "  <button class=\"colab-df-quickchart\" onclick=\"quickchart('df-a275bce0-fb15-4402-bf40-e3f0bb4bc7f4')\"\n",
              "            title=\"Suggest charts.\"\n",
              "            style=\"display:none;\">\n",
              "\n",
              "<svg xmlns=\"http://www.w3.org/2000/svg\" height=\"24px\"viewBox=\"0 0 24 24\"\n",
              "     width=\"24px\">\n",
              "    <g>\n",
              "        <path d=\"M19 3H5c-1.1 0-2 .9-2 2v14c0 1.1.9 2 2 2h14c1.1 0 2-.9 2-2V5c0-1.1-.9-2-2-2zM9 17H7v-7h2v7zm4 0h-2V7h2v10zm4 0h-2v-4h2v4z\"/>\n",
              "    </g>\n",
              "</svg>\n",
              "  </button>\n",
              "\n",
              "<style>\n",
              "  .colab-df-quickchart {\n",
              "      --bg-color: #E8F0FE;\n",
              "      --fill-color: #1967D2;\n",
              "      --hover-bg-color: #E2EBFA;\n",
              "      --hover-fill-color: #174EA6;\n",
              "      --disabled-fill-color: #AAA;\n",
              "      --disabled-bg-color: #DDD;\n",
              "  }\n",
              "\n",
              "  [theme=dark] .colab-df-quickchart {\n",
              "      --bg-color: #3B4455;\n",
              "      --fill-color: #D2E3FC;\n",
              "      --hover-bg-color: #434B5C;\n",
              "      --hover-fill-color: #FFFFFF;\n",
              "      --disabled-bg-color: #3B4455;\n",
              "      --disabled-fill-color: #666;\n",
              "  }\n",
              "\n",
              "  .colab-df-quickchart {\n",
              "    background-color: var(--bg-color);\n",
              "    border: none;\n",
              "    border-radius: 50%;\n",
              "    cursor: pointer;\n",
              "    display: none;\n",
              "    fill: var(--fill-color);\n",
              "    height: 32px;\n",
              "    padding: 0;\n",
              "    width: 32px;\n",
              "  }\n",
              "\n",
              "  .colab-df-quickchart:hover {\n",
              "    background-color: var(--hover-bg-color);\n",
              "    box-shadow: 0 1px 2px rgba(60, 64, 67, 0.3), 0 1px 3px 1px rgba(60, 64, 67, 0.15);\n",
              "    fill: var(--button-hover-fill-color);\n",
              "  }\n",
              "\n",
              "  .colab-df-quickchart-complete:disabled,\n",
              "  .colab-df-quickchart-complete:disabled:hover {\n",
              "    background-color: var(--disabled-bg-color);\n",
              "    fill: var(--disabled-fill-color);\n",
              "    box-shadow: none;\n",
              "  }\n",
              "\n",
              "  .colab-df-spinner {\n",
              "    border: 2px solid var(--fill-color);\n",
              "    border-color: transparent;\n",
              "    border-bottom-color: var(--fill-color);\n",
              "    animation:\n",
              "      spin 1s steps(1) infinite;\n",
              "  }\n",
              "\n",
              "  @keyframes spin {\n",
              "    0% {\n",
              "      border-color: transparent;\n",
              "      border-bottom-color: var(--fill-color);\n",
              "      border-left-color: var(--fill-color);\n",
              "    }\n",
              "    20% {\n",
              "      border-color: transparent;\n",
              "      border-left-color: var(--fill-color);\n",
              "      border-top-color: var(--fill-color);\n",
              "    }\n",
              "    30% {\n",
              "      border-color: transparent;\n",
              "      border-left-color: var(--fill-color);\n",
              "      border-top-color: var(--fill-color);\n",
              "      border-right-color: var(--fill-color);\n",
              "    }\n",
              "    40% {\n",
              "      border-color: transparent;\n",
              "      border-right-color: var(--fill-color);\n",
              "      border-top-color: var(--fill-color);\n",
              "    }\n",
              "    60% {\n",
              "      border-color: transparent;\n",
              "      border-right-color: var(--fill-color);\n",
              "    }\n",
              "    80% {\n",
              "      border-color: transparent;\n",
              "      border-right-color: var(--fill-color);\n",
              "      border-bottom-color: var(--fill-color);\n",
              "    }\n",
              "    90% {\n",
              "      border-color: transparent;\n",
              "      border-bottom-color: var(--fill-color);\n",
              "    }\n",
              "  }\n",
              "</style>\n",
              "\n",
              "  <script>\n",
              "    async function quickchart(key) {\n",
              "      const quickchartButtonEl =\n",
              "        document.querySelector('#' + key + ' button');\n",
              "      quickchartButtonEl.disabled = true;  // To prevent multiple clicks.\n",
              "      quickchartButtonEl.classList.add('colab-df-spinner');\n",
              "      try {\n",
              "        const charts = await google.colab.kernel.invokeFunction(\n",
              "            'suggestCharts', [key], {});\n",
              "      } catch (error) {\n",
              "        console.error('Error during call to suggestCharts:', error);\n",
              "      }\n",
              "      quickchartButtonEl.classList.remove('colab-df-spinner');\n",
              "      quickchartButtonEl.classList.add('colab-df-quickchart-complete');\n",
              "    }\n",
              "    (() => {\n",
              "      let quickchartButtonEl =\n",
              "        document.querySelector('#df-a275bce0-fb15-4402-bf40-e3f0bb4bc7f4 button');\n",
              "      quickchartButtonEl.style.display =\n",
              "        google.colab.kernel.accessAllowed ? 'block' : 'none';\n",
              "    })();\n",
              "  </script>\n",
              "</div>\n",
              "    </div>\n",
              "  </div>\n"
            ]
          },
          "metadata": {},
          "execution_count": 41
        }
      ],
      "source": [
        "#check one hot encoded columns\n",
        "df_train.head()"
      ]
    },
    {
      "cell_type": "code",
      "execution_count": 42,
      "metadata": {
        "id": "8zO3LnER_JQ9"
      },
      "outputs": [],
      "source": [
        "# split the data frames to X and y\n",
        "X = df_train.iloc[:,1:]\n",
        "y = df_train['isFraud']"
      ]
    },
    {
      "cell_type": "code",
      "execution_count": 43,
      "metadata": {
        "id": "bfdIIo0x8gJn"
      },
      "outputs": [],
      "source": [
        "# train test split\n",
        "X_train, X_test, y_train, y_test = train_test_split(X, y, test_size=0.3, stratify = y, random_state=42)"
      ]
    },
    {
      "cell_type": "markdown",
      "metadata": {
        "id": "wdgYJ-yNeeXV"
      },
      "source": [
        "I will do Random Forest without scaling the values since on decision trees we do not marry the **distances** between the two samples. Standard scaling is thefore not necessary."
      ]
    },
    {
      "cell_type": "code",
      "execution_count": 44,
      "metadata": {
        "colab": {
          "base_uri": "https://localhost:8080/"
        },
        "id": "xowhelqne49o",
        "outputId": "b45d1082-8edf-4150-ddf2-519ee7d50247"
      },
      "outputs": [
        {
          "output_type": "execute_result",
          "data": {
            "text/plain": [
              "0.9795554351384609"
            ]
          },
          "metadata": {},
          "execution_count": 44
        }
      ],
      "source": [
        "# packages for RF\n",
        "from sklearn.ensemble import RandomForestClassifier\n",
        "from sklearn.metrics import accuracy_score\n",
        "\n",
        "# instantiate model\n",
        "rf = RandomForestClassifier()\n",
        "\n",
        "# fit model on training data\n",
        "rf.fit(X_train, y_train)\n",
        "y_predict = rf.predict(X_test)\n",
        "\n",
        "accuracy_score(y_test, y_predict)"
      ]
    },
    {
      "cell_type": "markdown",
      "metadata": {
        "id": "wkXPSxkUiVs1"
      },
      "source": [
        "The accuracy score above is extremely good, however we are always looking to improve and also try different things that could make this model more efficient."
      ]
    },
    {
      "cell_type": "markdown",
      "metadata": {
        "id": "vJZawO2ffgX_"
      },
      "source": [
        "Now, we want to now think about how to get the important features and not have to work with hundreds of columns."
      ]
    },
    {
      "cell_type": "code",
      "execution_count": 45,
      "metadata": {
        "colab": {
          "base_uri": "https://localhost:8080/",
          "height": 419
        },
        "id": "cEVtiyjwf9tj",
        "outputId": "93e88730-6e88-4ecd-c337-bcaadd3a0aec"
      },
      "outputs": [
        {
          "output_type": "execute_result",
          "data": {
            "text/plain": [
              "                                  importance\n",
              "TransactionDT                   3.694938e-02\n",
              "TransactionAmt                  3.315365e-02\n",
              "Days                            3.177528e-02\n",
              "C1                              3.003512e-02\n",
              "card1                           2.883973e-02\n",
              "...                                      ...\n",
              "P_emaildomain_live.fr           1.635078e-07\n",
              "M1_F                            6.315702e-08\n",
              "V305                            1.366104e-08\n",
              "card6_debit or credit           3.901870e-10\n",
              "P_emaildomain_servicios-ta.com  3.005446e-10\n",
              "\n",
              "[317 rows x 1 columns]"
            ],
            "text/html": [
              "\n",
              "  <div id=\"df-3e807917-c1e8-418d-a2e1-8300b91fcd9c\" class=\"colab-df-container\">\n",
              "    <div>\n",
              "<style scoped>\n",
              "    .dataframe tbody tr th:only-of-type {\n",
              "        vertical-align: middle;\n",
              "    }\n",
              "\n",
              "    .dataframe tbody tr th {\n",
              "        vertical-align: top;\n",
              "    }\n",
              "\n",
              "    .dataframe thead th {\n",
              "        text-align: right;\n",
              "    }\n",
              "</style>\n",
              "<table border=\"1\" class=\"dataframe\">\n",
              "  <thead>\n",
              "    <tr style=\"text-align: right;\">\n",
              "      <th></th>\n",
              "      <th>importance</th>\n",
              "    </tr>\n",
              "  </thead>\n",
              "  <tbody>\n",
              "    <tr>\n",
              "      <th>TransactionDT</th>\n",
              "      <td>3.694938e-02</td>\n",
              "    </tr>\n",
              "    <tr>\n",
              "      <th>TransactionAmt</th>\n",
              "      <td>3.315365e-02</td>\n",
              "    </tr>\n",
              "    <tr>\n",
              "      <th>Days</th>\n",
              "      <td>3.177528e-02</td>\n",
              "    </tr>\n",
              "    <tr>\n",
              "      <th>C1</th>\n",
              "      <td>3.003512e-02</td>\n",
              "    </tr>\n",
              "    <tr>\n",
              "      <th>card1</th>\n",
              "      <td>2.883973e-02</td>\n",
              "    </tr>\n",
              "    <tr>\n",
              "      <th>...</th>\n",
              "      <td>...</td>\n",
              "    </tr>\n",
              "    <tr>\n",
              "      <th>P_emaildomain_live.fr</th>\n",
              "      <td>1.635078e-07</td>\n",
              "    </tr>\n",
              "    <tr>\n",
              "      <th>M1_F</th>\n",
              "      <td>6.315702e-08</td>\n",
              "    </tr>\n",
              "    <tr>\n",
              "      <th>V305</th>\n",
              "      <td>1.366104e-08</td>\n",
              "    </tr>\n",
              "    <tr>\n",
              "      <th>card6_debit or credit</th>\n",
              "      <td>3.901870e-10</td>\n",
              "    </tr>\n",
              "    <tr>\n",
              "      <th>P_emaildomain_servicios-ta.com</th>\n",
              "      <td>3.005446e-10</td>\n",
              "    </tr>\n",
              "  </tbody>\n",
              "</table>\n",
              "<p>317 rows × 1 columns</p>\n",
              "</div>\n",
              "    <div class=\"colab-df-buttons\">\n",
              "\n",
              "  <div class=\"colab-df-container\">\n",
              "    <button class=\"colab-df-convert\" onclick=\"convertToInteractive('df-3e807917-c1e8-418d-a2e1-8300b91fcd9c')\"\n",
              "            title=\"Convert this dataframe to an interactive table.\"\n",
              "            style=\"display:none;\">\n",
              "\n",
              "  <svg xmlns=\"http://www.w3.org/2000/svg\" height=\"24px\" viewBox=\"0 -960 960 960\">\n",
              "    <path d=\"M120-120v-720h720v720H120Zm60-500h600v-160H180v160Zm220 220h160v-160H400v160Zm0 220h160v-160H400v160ZM180-400h160v-160H180v160Zm440 0h160v-160H620v160ZM180-180h160v-160H180v160Zm440 0h160v-160H620v160Z\"/>\n",
              "  </svg>\n",
              "    </button>\n",
              "\n",
              "  <style>\n",
              "    .colab-df-container {\n",
              "      display:flex;\n",
              "      gap: 12px;\n",
              "    }\n",
              "\n",
              "    .colab-df-convert {\n",
              "      background-color: #E8F0FE;\n",
              "      border: none;\n",
              "      border-radius: 50%;\n",
              "      cursor: pointer;\n",
              "      display: none;\n",
              "      fill: #1967D2;\n",
              "      height: 32px;\n",
              "      padding: 0 0 0 0;\n",
              "      width: 32px;\n",
              "    }\n",
              "\n",
              "    .colab-df-convert:hover {\n",
              "      background-color: #E2EBFA;\n",
              "      box-shadow: 0px 1px 2px rgba(60, 64, 67, 0.3), 0px 1px 3px 1px rgba(60, 64, 67, 0.15);\n",
              "      fill: #174EA6;\n",
              "    }\n",
              "\n",
              "    .colab-df-buttons div {\n",
              "      margin-bottom: 4px;\n",
              "    }\n",
              "\n",
              "    [theme=dark] .colab-df-convert {\n",
              "      background-color: #3B4455;\n",
              "      fill: #D2E3FC;\n",
              "    }\n",
              "\n",
              "    [theme=dark] .colab-df-convert:hover {\n",
              "      background-color: #434B5C;\n",
              "      box-shadow: 0px 1px 3px 1px rgba(0, 0, 0, 0.15);\n",
              "      filter: drop-shadow(0px 1px 2px rgba(0, 0, 0, 0.3));\n",
              "      fill: #FFFFFF;\n",
              "    }\n",
              "  </style>\n",
              "\n",
              "    <script>\n",
              "      const buttonEl =\n",
              "        document.querySelector('#df-3e807917-c1e8-418d-a2e1-8300b91fcd9c button.colab-df-convert');\n",
              "      buttonEl.style.display =\n",
              "        google.colab.kernel.accessAllowed ? 'block' : 'none';\n",
              "\n",
              "      async function convertToInteractive(key) {\n",
              "        const element = document.querySelector('#df-3e807917-c1e8-418d-a2e1-8300b91fcd9c');\n",
              "        const dataTable =\n",
              "          await google.colab.kernel.invokeFunction('convertToInteractive',\n",
              "                                                    [key], {});\n",
              "        if (!dataTable) return;\n",
              "\n",
              "        const docLinkHtml = 'Like what you see? Visit the ' +\n",
              "          '<a target=\"_blank\" href=https://colab.research.google.com/notebooks/data_table.ipynb>data table notebook</a>'\n",
              "          + ' to learn more about interactive tables.';\n",
              "        element.innerHTML = '';\n",
              "        dataTable['output_type'] = 'display_data';\n",
              "        await google.colab.output.renderOutput(dataTable, element);\n",
              "        const docLink = document.createElement('div');\n",
              "        docLink.innerHTML = docLinkHtml;\n",
              "        element.appendChild(docLink);\n",
              "      }\n",
              "    </script>\n",
              "  </div>\n",
              "\n",
              "\n",
              "<div id=\"df-8e4bb710-fc0f-481b-bb61-f4e7b20c9c6e\">\n",
              "  <button class=\"colab-df-quickchart\" onclick=\"quickchart('df-8e4bb710-fc0f-481b-bb61-f4e7b20c9c6e')\"\n",
              "            title=\"Suggest charts.\"\n",
              "            style=\"display:none;\">\n",
              "\n",
              "<svg xmlns=\"http://www.w3.org/2000/svg\" height=\"24px\"viewBox=\"0 0 24 24\"\n",
              "     width=\"24px\">\n",
              "    <g>\n",
              "        <path d=\"M19 3H5c-1.1 0-2 .9-2 2v14c0 1.1.9 2 2 2h14c1.1 0 2-.9 2-2V5c0-1.1-.9-2-2-2zM9 17H7v-7h2v7zm4 0h-2V7h2v10zm4 0h-2v-4h2v4z\"/>\n",
              "    </g>\n",
              "</svg>\n",
              "  </button>\n",
              "\n",
              "<style>\n",
              "  .colab-df-quickchart {\n",
              "      --bg-color: #E8F0FE;\n",
              "      --fill-color: #1967D2;\n",
              "      --hover-bg-color: #E2EBFA;\n",
              "      --hover-fill-color: #174EA6;\n",
              "      --disabled-fill-color: #AAA;\n",
              "      --disabled-bg-color: #DDD;\n",
              "  }\n",
              "\n",
              "  [theme=dark] .colab-df-quickchart {\n",
              "      --bg-color: #3B4455;\n",
              "      --fill-color: #D2E3FC;\n",
              "      --hover-bg-color: #434B5C;\n",
              "      --hover-fill-color: #FFFFFF;\n",
              "      --disabled-bg-color: #3B4455;\n",
              "      --disabled-fill-color: #666;\n",
              "  }\n",
              "\n",
              "  .colab-df-quickchart {\n",
              "    background-color: var(--bg-color);\n",
              "    border: none;\n",
              "    border-radius: 50%;\n",
              "    cursor: pointer;\n",
              "    display: none;\n",
              "    fill: var(--fill-color);\n",
              "    height: 32px;\n",
              "    padding: 0;\n",
              "    width: 32px;\n",
              "  }\n",
              "\n",
              "  .colab-df-quickchart:hover {\n",
              "    background-color: var(--hover-bg-color);\n",
              "    box-shadow: 0 1px 2px rgba(60, 64, 67, 0.3), 0 1px 3px 1px rgba(60, 64, 67, 0.15);\n",
              "    fill: var(--button-hover-fill-color);\n",
              "  }\n",
              "\n",
              "  .colab-df-quickchart-complete:disabled,\n",
              "  .colab-df-quickchart-complete:disabled:hover {\n",
              "    background-color: var(--disabled-bg-color);\n",
              "    fill: var(--disabled-fill-color);\n",
              "    box-shadow: none;\n",
              "  }\n",
              "\n",
              "  .colab-df-spinner {\n",
              "    border: 2px solid var(--fill-color);\n",
              "    border-color: transparent;\n",
              "    border-bottom-color: var(--fill-color);\n",
              "    animation:\n",
              "      spin 1s steps(1) infinite;\n",
              "  }\n",
              "\n",
              "  @keyframes spin {\n",
              "    0% {\n",
              "      border-color: transparent;\n",
              "      border-bottom-color: var(--fill-color);\n",
              "      border-left-color: var(--fill-color);\n",
              "    }\n",
              "    20% {\n",
              "      border-color: transparent;\n",
              "      border-left-color: var(--fill-color);\n",
              "      border-top-color: var(--fill-color);\n",
              "    }\n",
              "    30% {\n",
              "      border-color: transparent;\n",
              "      border-left-color: var(--fill-color);\n",
              "      border-top-color: var(--fill-color);\n",
              "      border-right-color: var(--fill-color);\n",
              "    }\n",
              "    40% {\n",
              "      border-color: transparent;\n",
              "      border-right-color: var(--fill-color);\n",
              "      border-top-color: var(--fill-color);\n",
              "    }\n",
              "    60% {\n",
              "      border-color: transparent;\n",
              "      border-right-color: var(--fill-color);\n",
              "    }\n",
              "    80% {\n",
              "      border-color: transparent;\n",
              "      border-right-color: var(--fill-color);\n",
              "      border-bottom-color: var(--fill-color);\n",
              "    }\n",
              "    90% {\n",
              "      border-color: transparent;\n",
              "      border-bottom-color: var(--fill-color);\n",
              "    }\n",
              "  }\n",
              "</style>\n",
              "\n",
              "  <script>\n",
              "    async function quickchart(key) {\n",
              "      const quickchartButtonEl =\n",
              "        document.querySelector('#' + key + ' button');\n",
              "      quickchartButtonEl.disabled = true;  // To prevent multiple clicks.\n",
              "      quickchartButtonEl.classList.add('colab-df-spinner');\n",
              "      try {\n",
              "        const charts = await google.colab.kernel.invokeFunction(\n",
              "            'suggestCharts', [key], {});\n",
              "      } catch (error) {\n",
              "        console.error('Error during call to suggestCharts:', error);\n",
              "      }\n",
              "      quickchartButtonEl.classList.remove('colab-df-spinner');\n",
              "      quickchartButtonEl.classList.add('colab-df-quickchart-complete');\n",
              "    }\n",
              "    (() => {\n",
              "      let quickchartButtonEl =\n",
              "        document.querySelector('#df-8e4bb710-fc0f-481b-bb61-f4e7b20c9c6e button');\n",
              "      quickchartButtonEl.style.display =\n",
              "        google.colab.kernel.accessAllowed ? 'block' : 'none';\n",
              "    })();\n",
              "  </script>\n",
              "</div>\n",
              "    </div>\n",
              "  </div>\n"
            ]
          },
          "metadata": {},
          "execution_count": 45
        }
      ],
      "source": [
        "# rf.feature_importances_ is not readible, let's put it in a more clear format\n",
        "feature_importances = pd.DataFrame(rf.feature_importances_,\n",
        "                                  index = X_train.columns,\n",
        "                                   columns = ['importance']).sort_values('importance', ascending= False)\n",
        "feature_importances"
      ]
    },
    {
      "cell_type": "markdown",
      "metadata": {
        "id": "bdPHBXyNiEto"
      },
      "source": [
        "From the feature importance dataframe above we will look at the first 20 columns that resulted in the greates importance."
      ]
    },
    {
      "cell_type": "code",
      "execution_count": 46,
      "metadata": {
        "colab": {
          "base_uri": "https://localhost:8080/"
        },
        "id": "bhAyBQnYk9MG",
        "outputId": "32d8911d-bfcb-40d3-eb19-3db3490ad640"
      },
      "outputs": [
        {
          "output_type": "stream",
          "name": "stdout",
          "text": [
            "Index(['TransactionDT', 'TransactionAmt', 'Days', 'C1', 'card1', 'card2',\n",
            "       'C13', 'Transaction_hour', 'addr1', 'C14', 'C2',\n",
            "       'Transaction_day_of_week', 'V45', 'C11', 'V87', 'C12', 'card5', 'C6',\n",
            "       'C7', 'C4'],\n",
            "      dtype='object')\n"
          ]
        }
      ],
      "source": [
        "# extract the 20\n",
        "top_20_features = feature_importances.index[:20]\n",
        "print(top_20_features)"
      ]
    },
    {
      "cell_type": "markdown",
      "metadata": {
        "id": "Hnkp_u0baHYc"
      },
      "source": [
        "Below we take only the top 20 features and do the `train_test_split` as well as the Random Forest again. From now on we will use only these 20 features that we previously got."
      ]
    },
    {
      "cell_type": "code",
      "execution_count": 47,
      "metadata": {
        "id": "Hk3jUuBTXxO4"
      },
      "outputs": [],
      "source": [
        "# after random forest feature importance method we re-split\n",
        "\n",
        "# split the data frames to X and y\n",
        "X = df_train[top_20_features]\n",
        "y = df_train['isFraud']\n",
        "\n",
        "# train test split\n",
        "X_train, X_test, y_train, y_test = train_test_split(X, y, test_size=0.3, stratify = y, random_state=42)"
      ]
    },
    {
      "cell_type": "code",
      "execution_count": 48,
      "metadata": {
        "id": "aFR8BNUz2K-G"
      },
      "outputs": [],
      "source": [
        "# standarize\n",
        "# creating object\n",
        "scaler = StandardScaler()\n",
        "\n",
        "X_train_scaled = scaler.fit_transform(X_train)\n",
        "X_test_scaled = scaler.transform(X_test)"
      ]
    },
    {
      "cell_type": "markdown",
      "metadata": {
        "id": "NlzLVZhtu2cd"
      },
      "source": [
        "By doing SMOTE we ensure that the synthetic examples generated by SMOTE don't influence the test set. This prevents the model from \"cheating\" by learning from synthetic data that it might encounter in the test set."
      ]
    },
    {
      "cell_type": "code",
      "execution_count": 49,
      "metadata": {
        "id": "IAbi2F-Ttclb"
      },
      "outputs": [],
      "source": [
        "# class imbalance: apply class imbalance handling SMOTE\n",
        "smote = SMOTE(random_state=42)\n",
        "X_train_resampled, y_train_resampled = smote.fit_resample(X_train, y_train)"
      ]
    },
    {
      "cell_type": "code",
      "execution_count": 50,
      "metadata": {
        "colab": {
          "base_uri": "https://localhost:8080/"
        },
        "id": "dCsmAce1PlCg",
        "outputId": "517f7f46-6de3-4fc9-a2ce-717c4eb61b87"
      },
      "outputs": [
        {
          "output_type": "stream",
          "name": "stdout",
          "text": [
            "X_resampled shape: (797824, 20)\n",
            "y_resampled shape: (797824,)\n"
          ]
        }
      ],
      "source": [
        "print(\"X_resampled shape:\", X_train_resampled.shape)\n",
        "print(\"y_resampled shape:\", y_train_resampled.shape)"
      ]
    },
    {
      "cell_type": "markdown",
      "metadata": {
        "id": "EFX_vuGB4BVs"
      },
      "source": [
        "**ACCURACY**\n",
        "\n",
        "is the measure of how many of the total predictions made by the classification model\n",
        "are correct.\n",
        "\n",
        "High accuracy indicates that the model is making a high proportion\n",
        "of correct predictions, but it may not be suitable for imbalanced datasets\n",
        "\n",
        "**F1 SCORE**\n",
        "\n",
        "a combination of both precision and recall. Useful when dealing with imbalanced datasets. The wighted parameter takes into account class imbalances and calculates the f1 score\n",
        "for each class.\n",
        "\n",
        "Higher values indicating better model performance"
      ]
    },
    {
      "cell_type": "code",
      "execution_count": 51,
      "metadata": {
        "id": "irAy8hx7smHV"
      },
      "outputs": [],
      "source": [
        "from sklearn.metrics import f1_score\n",
        "from sklearn.metrics import accuracy_score"
      ]
    },
    {
      "cell_type": "markdown",
      "metadata": {
        "id": "qXXkIiGKCJ4O"
      },
      "source": [
        "### **Random Forest Classifier**\n",
        "\n",
        "\n",
        "Ensemble learning: creating an ensemble of decision treest.\n",
        "\n",
        "Robust to outliers and can handle missing values.\n",
        "\n",
        "`n_estimators` parameter represents the number of boosting rounds (trees) to train."
      ]
    },
    {
      "cell_type": "code",
      "execution_count": 52,
      "metadata": {
        "colab": {
          "base_uri": "https://localhost:8080/"
        },
        "id": "5UFQycERZ3Ct",
        "outputId": "00401c87-75ce-48b5-eb57-ee7a67f4f364"
      },
      "outputs": [
        {
          "output_type": "stream",
          "name": "stdout",
          "text": [
            "Random Forest: Accuracy for 100 is 0.9839638297151759\n",
            "Random Forest: f1-score for 100 is 0.7133488043587932\n"
          ]
        }
      ],
      "source": [
        "# Let's do the RF again but with our top 20 features only\n",
        "\n",
        "# instantiate model\n",
        "rf = RandomForestClassifier()\n",
        "\n",
        "# fit model on training data\n",
        "rf.fit(X_train, y_train)\n",
        "y_predict = rf.predict(X_test)\n",
        "\n",
        "f1 = f1_score(y_test, y_predict)\n",
        "ac = accuracy_score(y_test, y_predict)\n",
        "\n",
        "print(f'Random Forest: Accuracy for 100 is {ac}')\n",
        "print(f'Random Forest: f1-score for 100 is {f1}')"
      ]
    },
    {
      "cell_type": "markdown",
      "metadata": {
        "id": "vYcFT_uVa6qx"
      },
      "source": [
        "As we can observe above this Random Forest did slightly better than the previous one we did before our feature importance method."
      ]
    },
    {
      "cell_type": "markdown",
      "metadata": {
        "id": "BnmmA9xNb783"
      },
      "source": [
        "Let us explore it even further and check how we can improve it by changing our `n_estimator`."
      ]
    },
    {
      "cell_type": "code",
      "execution_count": 53,
      "metadata": {
        "id": "R3kgmt6dsbPk"
      },
      "outputs": [],
      "source": [
        "# n_estimator_range = [10, 50, 100, 200, 300]\n",
        "# n_estimator_range = [200, 250, 300, 350, 400]\n",
        "\n",
        "# for n_estimators in n_estimator_range:\n",
        "#   clf = RandomForestClassifier(n_estimators=n_estimators)\n",
        "#   model = clf.fit(X_train, y_train)\n",
        "#   y_pred = model.predict(X_test)\n",
        "#   ac = accuracy_score(y_test, y_pred)\n",
        "#   f1 = f1_score(y_test, y_pred)\n",
        "\n",
        "#   print(f'Random Forest: Accuracy for {n_estimators} is {ac}')\n",
        "\n",
        "#   print(f'Random Forest: f1-score for {n_estimators} is {f1}')"
      ]
    },
    {
      "cell_type": "markdown",
      "source": [
        "We have commented the code above since it takes a long time for the model to go through the large `n_estimators`which all seem to have a granual increase. In order to also avoid overfitting we will stick to using 100 as our n_estimator."
      ],
      "metadata": {
        "id": "S_MT-ugDlrBT"
      }
    },
    {
      "cell_type": "code",
      "source": [
        "# instantiate model\n",
        "rf = RandomForestClassifier(n_estimators=100)\n",
        "\n",
        "# fit model on training data\n",
        "rf.fit(X_train, y_train)\n",
        "y_predict = rf.predict(X_test)\n",
        "\n",
        "f1 = f1_score(y_test, y_predict)\n",
        "ac = accuracy_score(y_test, y_predict)\n",
        "\n",
        "print(f'Random Forest: Accuracy for 100 is {ac}')\n",
        "print(f'Random Forest: f1-score for 100 is {f1}')"
      ],
      "metadata": {
        "colab": {
          "base_uri": "https://localhost:8080/"
        },
        "id": "e0cOQMH4mA05",
        "outputId": "5545f9c2-6d30-4492-87ac-99f3a86e2b49"
      },
      "execution_count": 54,
      "outputs": [
        {
          "output_type": "stream",
          "name": "stdout",
          "text": [
            "Random Forest: Accuracy for 100 is 0.9838227159323105\n",
            "Random Forest: f1-score for 100 is 0.7098602956063982\n"
          ]
        }
      ]
    },
    {
      "cell_type": "markdown",
      "metadata": {
        "id": "LQaCUF3d7M4j"
      },
      "source": [
        "Let us try Random Forest with SMOTE Over-sampling technique in order to deal with the class imbalance and see if there is any improvement or decrease."
      ]
    },
    {
      "cell_type": "code",
      "execution_count": 55,
      "metadata": {
        "id": "MYXGN38P7MpF",
        "colab": {
          "base_uri": "https://localhost:8080/"
        },
        "outputId": "c08b4385-b202-4bea-cfac-767186cca01a"
      },
      "outputs": [
        {
          "output_type": "stream",
          "name": "stdout",
          "text": [
            "Random Forest: Accuracy for 10 is 0.9826486492588704\n",
            "Random Forest: f1-score for 10 is 0.6930297583383264\n",
            "Random Forest: Accuracy for 50 is 0.9835404883665797\n",
            "Random Forest: f1-score for 50 is 0.7126527394560503\n",
            "Random Forest: Accuracy for 100 is 0.9837267585599621\n",
            "Random Forest: f1-score for 100 is 0.7158766137774711\n",
            "Random Forest: Accuracy for 200 is 0.9836477348415574\n",
            "Random Forest: f1-score for 200 is 0.7142716244205543\n",
            "Random Forest: Accuracy for 300 is 0.9838001377270521\n",
            "Random Forest: f1-score for 300 is 0.716739044611133\n"
          ]
        }
      ],
      "source": [
        "# SMOTE applied on X_train and y_train\n",
        "n_estimator_range = [10, 50, 100, 200, 300]\n",
        "\n",
        "for n_estimators in n_estimator_range:\n",
        "  clf = RandomForestClassifier(n_estimators=n_estimators)\n",
        "  model = clf.fit(X_train_resampled, y_train_resampled)\n",
        "  y_pred = model.predict(X_test)\n",
        "  y_pred_prob = model.predict_proba(X_test)\n",
        "  ac = accuracy_score(y_test, y_pred)\n",
        "  f1 = f1_score(y_test, y_pred)\n",
        "\n",
        "  print(f'Random Forest: Accuracy for {n_estimators} is {ac}')\n",
        "\n",
        "  print(f'Random Forest: f1-score for {n_estimators} is {f1}')"
      ]
    },
    {
      "cell_type": "markdown",
      "source": [
        "Again above we observe a granual improvement even after SMOTE technique, decreasing slightly after 100 `n_estimators`.\n",
        "\n",
        "Random Forest: Accuracy for 50 is 0.9834445309942312\n",
        "Random Forest: f1-score for 50 is 0.7096327096327096\n",
        "\n",
        "Random Forest: Accuracy for 100 is 0.9833034172113658\n",
        "\n",
        "Random Forest: f1-score for 100 is 0.7073025925192955"
      ],
      "metadata": {
        "id": "_EGKPgRWsdEN"
      }
    },
    {
      "cell_type": "markdown",
      "metadata": {
        "id": "OqzIVU72CRr_"
      },
      "source": [
        "### Gradient Boosting Machines"
      ]
    },
    {
      "cell_type": "markdown",
      "metadata": {
        "id": "W1fHLYyeCWhE"
      },
      "source": [
        "##### **XGBoost**\n",
        "\n",
        "\n",
        "Has a good ability to handle imbalanced datasets.\n",
        "\n",
        "Designed for speed and performance, crucial for large-scale datasets."
      ]
    },
    {
      "cell_type": "code",
      "execution_count": 56,
      "metadata": {
        "colab": {
          "base_uri": "https://localhost:8080/"
        },
        "id": "QyIAla7bsctS",
        "outputId": "19c55227-65bc-44e5-b9af-5c9362eff354"
      },
      "outputs": [
        {
          "output_type": "stream",
          "name": "stdout",
          "text": [
            "XGBoost: Accuracy for 10 is 0.9620008805500051\n",
            "XGBoost: f1-score for 10 is 0.4330469934310258\n",
            "XGBoost: Accuracy for 50 is 0.9728327745227532\n",
            "XGBoost: f1-score for 50 is 0.5359174621540834\n",
            "XGBoost: Accuracy for 100 is 0.9758074530655558\n",
            "XGBoost: f1-score for 100 is 0.5742947953913389\n",
            "XGBoost: Accuracy for 200 is 0.9783587902597622\n",
            "XGBoost: f1-score for 200 is 0.6175942549371634\n",
            "XGBoost: Accuracy for 300 is 0.9802045585396417\n",
            "XGBoost: f1-score for 300 is 0.6496153461884304\n"
          ]
        }
      ],
      "source": [
        "import xgboost as xgb\n",
        "\n",
        "n_estimator_range = [10, 50, 100, 200, 300]\n",
        "\n",
        "for n_estimators in n_estimator_range:\n",
        "    xgb_model = xgb.XGBClassifier(n_estimators=n_estimators, objective=\"binary:logistic\", random_state=42)\n",
        "    xgb_model.fit(X_train_resampled, y_train_resampled)\n",
        "\n",
        "    y_pred = xgb_model.predict(X_test)\n",
        "    # y_pred_prob = xgb_model.predict_proba(X_test)\n",
        "\n",
        "    ac = accuracy_score(y_test, y_pred)\n",
        "    f1 = f1_score(y_test, y_pred)\n",
        "\n",
        "    print(f'XGBoost: Accuracy for {n_estimators} is {ac}')\n",
        "    print(f'XGBoost: f1-score for {n_estimators} is {f1}')"
      ]
    },
    {
      "cell_type": "markdown",
      "source": [
        "After `n_estimator` of 100 our model above had no larger improvement.\n",
        "\n",
        "\n",
        "XGBoost: Accuracy for 100 is 0.9757566521037243\n",
        "\n",
        "\n",
        "XGBoost: f1-score for 100 is 0.5757186604761435\n",
        "\n",
        "\n",
        "\n",
        "\n",
        "*Keep in mind that for both XGBoost and LIghtGBM we are using the SMOTE technique."
      ],
      "metadata": {
        "id": "yhSJVISfAI7f"
      }
    },
    {
      "cell_type": "markdown",
      "metadata": {
        "id": "TAQFTuSVDF7Z"
      },
      "source": [
        "##### **LightGBM**\n",
        "\n",
        "Efficient with large datasets as well as handle categorical features and missing data.\n",
        "\n",
        "Gradient boosting framework, it builds trees sequentially, correcting the errors of the previous one."
      ]
    },
    {
      "cell_type": "code",
      "execution_count": 57,
      "metadata": {
        "colab": {
          "base_uri": "https://localhost:8080/"
        },
        "id": "FyZkXa3b42OL",
        "outputId": "eb3ce7b7-4324-4783-dce2-4a435461a5c0"
      },
      "outputs": [
        {
          "output_type": "stream",
          "name": "stdout",
          "text": [
            "LightGBM: Accuracy for 200 is 0.9745148508145087\n",
            "LightGBM: f1-score for 200 is 0.555303851078499\n",
            "LightGBM: Accuracy for 300 is 0.9763323963378151\n",
            "LightGBM: f1-score for 300 is 0.5801542004605987\n",
            "LightGBM: Accuracy for 350 is 0.9770492543547713\n",
            "LightGBM: f1-score for 350 is 0.5897073662966701\n",
            "LightGBM: Accuracy for 400 is 0.9775629085244014\n",
            "LightGBM: f1-score for 400 is 0.598200748003639\n"
          ]
        }
      ],
      "source": [
        "import lightgbm as lgb\n",
        "\n",
        "n_estimator_range = [200, 300, 350, 400]\n",
        "\n",
        "for n_estimators in n_estimator_range:\n",
        "    lgb_model = lgb.LGBMClassifier(n_estimators=n_estimators, objective=\"binary\",force_col_wise=True,verbose=-1, random_state=42)\n",
        "    lgb_model.fit(X_train_resampled, y_train_resampled)\n",
        "\n",
        "    y_pred = lgb_model.predict(X_test)\n",
        "    # y_pred_prob = lgb_model.predict_proba(X_test)\n",
        "\n",
        "    ac = accuracy_score(y_test, y_pred)\n",
        "    f1 = f1_score(y_test, y_pred)\n",
        "\n",
        "    print(f'LightGBM: Accuracy for {n_estimators} is {ac}')\n",
        "    print(f'LightGBM: f1-score for {n_estimators} is {f1}')"
      ]
    },
    {
      "cell_type": "markdown",
      "source": [
        "## Cross validation on our best model\n"
      ],
      "metadata": {
        "id": "e5lNob91BStH"
      }
    },
    {
      "cell_type": "code",
      "source": [
        "from sklearn.metrics import make_scorer\n",
        "from sklearn.model_selection import cross_validate\n",
        "\n",
        "# instantiate\n",
        "rf_model = RandomForestClassifier(n_estimators=100, random_state=42)\n",
        "\n",
        "# fit model on training data\n",
        "rf_model.fit(X_train, y_train)\n",
        "y_predict = rf_model.predict(X_test)\n",
        "\n",
        "scoring = {'accuracy': make_scorer(accuracy_score),\n",
        "           'f1_score': make_scorer(f1_score)}\n",
        "\n",
        "\n",
        "cv_results = cross_validate(rf_model, X_train, y_train, cv=5, scoring=scoring)  # 5-fold cross-validation\n",
        "\n",
        "\n",
        "for metric, scores in cv_results.items():\n",
        "    print(f'{metric}: {scores.mean():.4f} (+/- {scores.std() * 2:.4f})')"
      ],
      "metadata": {
        "colab": {
          "base_uri": "https://localhost:8080/"
        },
        "id": "dSt2x6iYCQ_Q",
        "outputId": "24958521-8974-41f2-cb97-0c3d40cba2bb"
      },
      "execution_count": 58,
      "outputs": [
        {
          "output_type": "stream",
          "name": "stdout",
          "text": [
            "fit_time: 82.2695 (+/- 1.4055)\n",
            "score_time: 1.9219 (+/- 0.3241)\n",
            "test_accuracy: 0.9826 (+/- 0.0003)\n",
            "test_f1_score: 0.6825 (+/- 0.0058)\n"
          ]
        }
      ]
    },
    {
      "cell_type": "markdown",
      "source": [
        "# Summary of Models Tested"
      ],
      "metadata": {
        "id": "5qnO09LaFWuY"
      }
    },
    {
      "cell_type": "code",
      "source": [
        "# Model Summary\n",
        "model_summary = pd.DataFrame({\n",
        "    'Model': ['Random Forest', 'LightGBM', 'XGBoost'],\n",
        "    'Accuracy': [0.983, 0.977, 0.975],\n",
        "    'F1 Score': [0.981, 0.596, 0.972]\n",
        "})\n",
        "\n",
        "display(model_summary)"
      ],
      "metadata": {
        "colab": {
          "base_uri": "https://localhost:8080/",
          "height": 142
        },
        "id": "h5UFR0oXO2N2",
        "outputId": "ca6d68ce-1c48-4fb3-b2b1-4dc9b8ed259f"
      },
      "execution_count": 59,
      "outputs": [
        {
          "output_type": "display_data",
          "data": {
            "text/plain": [
              "           Model  Accuracy  F1 Score\n",
              "0  Random Forest     0.983     0.981\n",
              "1       LightGBM     0.977     0.596\n",
              "2        XGBoost     0.975     0.972"
            ],
            "text/html": [
              "\n",
              "  <div id=\"df-a5b1facb-8a1d-48da-b03a-055839fa22ac\" class=\"colab-df-container\">\n",
              "    <div>\n",
              "<style scoped>\n",
              "    .dataframe tbody tr th:only-of-type {\n",
              "        vertical-align: middle;\n",
              "    }\n",
              "\n",
              "    .dataframe tbody tr th {\n",
              "        vertical-align: top;\n",
              "    }\n",
              "\n",
              "    .dataframe thead th {\n",
              "        text-align: right;\n",
              "    }\n",
              "</style>\n",
              "<table border=\"1\" class=\"dataframe\">\n",
              "  <thead>\n",
              "    <tr style=\"text-align: right;\">\n",
              "      <th></th>\n",
              "      <th>Model</th>\n",
              "      <th>Accuracy</th>\n",
              "      <th>F1 Score</th>\n",
              "    </tr>\n",
              "  </thead>\n",
              "  <tbody>\n",
              "    <tr>\n",
              "      <th>0</th>\n",
              "      <td>Random Forest</td>\n",
              "      <td>0.983</td>\n",
              "      <td>0.981</td>\n",
              "    </tr>\n",
              "    <tr>\n",
              "      <th>1</th>\n",
              "      <td>LightGBM</td>\n",
              "      <td>0.977</td>\n",
              "      <td>0.596</td>\n",
              "    </tr>\n",
              "    <tr>\n",
              "      <th>2</th>\n",
              "      <td>XGBoost</td>\n",
              "      <td>0.975</td>\n",
              "      <td>0.972</td>\n",
              "    </tr>\n",
              "  </tbody>\n",
              "</table>\n",
              "</div>\n",
              "    <div class=\"colab-df-buttons\">\n",
              "\n",
              "  <div class=\"colab-df-container\">\n",
              "    <button class=\"colab-df-convert\" onclick=\"convertToInteractive('df-a5b1facb-8a1d-48da-b03a-055839fa22ac')\"\n",
              "            title=\"Convert this dataframe to an interactive table.\"\n",
              "            style=\"display:none;\">\n",
              "\n",
              "  <svg xmlns=\"http://www.w3.org/2000/svg\" height=\"24px\" viewBox=\"0 -960 960 960\">\n",
              "    <path d=\"M120-120v-720h720v720H120Zm60-500h600v-160H180v160Zm220 220h160v-160H400v160Zm0 220h160v-160H400v160ZM180-400h160v-160H180v160Zm440 0h160v-160H620v160ZM180-180h160v-160H180v160Zm440 0h160v-160H620v160Z\"/>\n",
              "  </svg>\n",
              "    </button>\n",
              "\n",
              "  <style>\n",
              "    .colab-df-container {\n",
              "      display:flex;\n",
              "      gap: 12px;\n",
              "    }\n",
              "\n",
              "    .colab-df-convert {\n",
              "      background-color: #E8F0FE;\n",
              "      border: none;\n",
              "      border-radius: 50%;\n",
              "      cursor: pointer;\n",
              "      display: none;\n",
              "      fill: #1967D2;\n",
              "      height: 32px;\n",
              "      padding: 0 0 0 0;\n",
              "      width: 32px;\n",
              "    }\n",
              "\n",
              "    .colab-df-convert:hover {\n",
              "      background-color: #E2EBFA;\n",
              "      box-shadow: 0px 1px 2px rgba(60, 64, 67, 0.3), 0px 1px 3px 1px rgba(60, 64, 67, 0.15);\n",
              "      fill: #174EA6;\n",
              "    }\n",
              "\n",
              "    .colab-df-buttons div {\n",
              "      margin-bottom: 4px;\n",
              "    }\n",
              "\n",
              "    [theme=dark] .colab-df-convert {\n",
              "      background-color: #3B4455;\n",
              "      fill: #D2E3FC;\n",
              "    }\n",
              "\n",
              "    [theme=dark] .colab-df-convert:hover {\n",
              "      background-color: #434B5C;\n",
              "      box-shadow: 0px 1px 3px 1px rgba(0, 0, 0, 0.15);\n",
              "      filter: drop-shadow(0px 1px 2px rgba(0, 0, 0, 0.3));\n",
              "      fill: #FFFFFF;\n",
              "    }\n",
              "  </style>\n",
              "\n",
              "    <script>\n",
              "      const buttonEl =\n",
              "        document.querySelector('#df-a5b1facb-8a1d-48da-b03a-055839fa22ac button.colab-df-convert');\n",
              "      buttonEl.style.display =\n",
              "        google.colab.kernel.accessAllowed ? 'block' : 'none';\n",
              "\n",
              "      async function convertToInteractive(key) {\n",
              "        const element = document.querySelector('#df-a5b1facb-8a1d-48da-b03a-055839fa22ac');\n",
              "        const dataTable =\n",
              "          await google.colab.kernel.invokeFunction('convertToInteractive',\n",
              "                                                    [key], {});\n",
              "        if (!dataTable) return;\n",
              "\n",
              "        const docLinkHtml = 'Like what you see? Visit the ' +\n",
              "          '<a target=\"_blank\" href=https://colab.research.google.com/notebooks/data_table.ipynb>data table notebook</a>'\n",
              "          + ' to learn more about interactive tables.';\n",
              "        element.innerHTML = '';\n",
              "        dataTable['output_type'] = 'display_data';\n",
              "        await google.colab.output.renderOutput(dataTable, element);\n",
              "        const docLink = document.createElement('div');\n",
              "        docLink.innerHTML = docLinkHtml;\n",
              "        element.appendChild(docLink);\n",
              "      }\n",
              "    </script>\n",
              "  </div>\n",
              "\n",
              "\n",
              "<div id=\"df-c30089eb-9518-425a-a5df-5746bec8a999\">\n",
              "  <button class=\"colab-df-quickchart\" onclick=\"quickchart('df-c30089eb-9518-425a-a5df-5746bec8a999')\"\n",
              "            title=\"Suggest charts.\"\n",
              "            style=\"display:none;\">\n",
              "\n",
              "<svg xmlns=\"http://www.w3.org/2000/svg\" height=\"24px\"viewBox=\"0 0 24 24\"\n",
              "     width=\"24px\">\n",
              "    <g>\n",
              "        <path d=\"M19 3H5c-1.1 0-2 .9-2 2v14c0 1.1.9 2 2 2h14c1.1 0 2-.9 2-2V5c0-1.1-.9-2-2-2zM9 17H7v-7h2v7zm4 0h-2V7h2v10zm4 0h-2v-4h2v4z\"/>\n",
              "    </g>\n",
              "</svg>\n",
              "  </button>\n",
              "\n",
              "<style>\n",
              "  .colab-df-quickchart {\n",
              "      --bg-color: #E8F0FE;\n",
              "      --fill-color: #1967D2;\n",
              "      --hover-bg-color: #E2EBFA;\n",
              "      --hover-fill-color: #174EA6;\n",
              "      --disabled-fill-color: #AAA;\n",
              "      --disabled-bg-color: #DDD;\n",
              "  }\n",
              "\n",
              "  [theme=dark] .colab-df-quickchart {\n",
              "      --bg-color: #3B4455;\n",
              "      --fill-color: #D2E3FC;\n",
              "      --hover-bg-color: #434B5C;\n",
              "      --hover-fill-color: #FFFFFF;\n",
              "      --disabled-bg-color: #3B4455;\n",
              "      --disabled-fill-color: #666;\n",
              "  }\n",
              "\n",
              "  .colab-df-quickchart {\n",
              "    background-color: var(--bg-color);\n",
              "    border: none;\n",
              "    border-radius: 50%;\n",
              "    cursor: pointer;\n",
              "    display: none;\n",
              "    fill: var(--fill-color);\n",
              "    height: 32px;\n",
              "    padding: 0;\n",
              "    width: 32px;\n",
              "  }\n",
              "\n",
              "  .colab-df-quickchart:hover {\n",
              "    background-color: var(--hover-bg-color);\n",
              "    box-shadow: 0 1px 2px rgba(60, 64, 67, 0.3), 0 1px 3px 1px rgba(60, 64, 67, 0.15);\n",
              "    fill: var(--button-hover-fill-color);\n",
              "  }\n",
              "\n",
              "  .colab-df-quickchart-complete:disabled,\n",
              "  .colab-df-quickchart-complete:disabled:hover {\n",
              "    background-color: var(--disabled-bg-color);\n",
              "    fill: var(--disabled-fill-color);\n",
              "    box-shadow: none;\n",
              "  }\n",
              "\n",
              "  .colab-df-spinner {\n",
              "    border: 2px solid var(--fill-color);\n",
              "    border-color: transparent;\n",
              "    border-bottom-color: var(--fill-color);\n",
              "    animation:\n",
              "      spin 1s steps(1) infinite;\n",
              "  }\n",
              "\n",
              "  @keyframes spin {\n",
              "    0% {\n",
              "      border-color: transparent;\n",
              "      border-bottom-color: var(--fill-color);\n",
              "      border-left-color: var(--fill-color);\n",
              "    }\n",
              "    20% {\n",
              "      border-color: transparent;\n",
              "      border-left-color: var(--fill-color);\n",
              "      border-top-color: var(--fill-color);\n",
              "    }\n",
              "    30% {\n",
              "      border-color: transparent;\n",
              "      border-left-color: var(--fill-color);\n",
              "      border-top-color: var(--fill-color);\n",
              "      border-right-color: var(--fill-color);\n",
              "    }\n",
              "    40% {\n",
              "      border-color: transparent;\n",
              "      border-right-color: var(--fill-color);\n",
              "      border-top-color: var(--fill-color);\n",
              "    }\n",
              "    60% {\n",
              "      border-color: transparent;\n",
              "      border-right-color: var(--fill-color);\n",
              "    }\n",
              "    80% {\n",
              "      border-color: transparent;\n",
              "      border-right-color: var(--fill-color);\n",
              "      border-bottom-color: var(--fill-color);\n",
              "    }\n",
              "    90% {\n",
              "      border-color: transparent;\n",
              "      border-bottom-color: var(--fill-color);\n",
              "    }\n",
              "  }\n",
              "</style>\n",
              "\n",
              "  <script>\n",
              "    async function quickchart(key) {\n",
              "      const quickchartButtonEl =\n",
              "        document.querySelector('#' + key + ' button');\n",
              "      quickchartButtonEl.disabled = true;  // To prevent multiple clicks.\n",
              "      quickchartButtonEl.classList.add('colab-df-spinner');\n",
              "      try {\n",
              "        const charts = await google.colab.kernel.invokeFunction(\n",
              "            'suggestCharts', [key], {});\n",
              "      } catch (error) {\n",
              "        console.error('Error during call to suggestCharts:', error);\n",
              "      }\n",
              "      quickchartButtonEl.classList.remove('colab-df-spinner');\n",
              "      quickchartButtonEl.classList.add('colab-df-quickchart-complete');\n",
              "    }\n",
              "    (() => {\n",
              "      let quickchartButtonEl =\n",
              "        document.querySelector('#df-c30089eb-9518-425a-a5df-5746bec8a999 button');\n",
              "      quickchartButtonEl.style.display =\n",
              "        google.colab.kernel.accessAllowed ? 'block' : 'none';\n",
              "    })();\n",
              "  </script>\n",
              "</div>\n",
              "    </div>\n",
              "  </div>\n"
            ]
          },
          "metadata": {}
        }
      ]
    },
    {
      "cell_type": "markdown",
      "source": [
        "The Random Forest model outperformed LightGBM and XGBoost in terms of accuracy and F1 score. Moreover, Random Forest models are known for their robustness and ability to handle imbalanced data, which is often the case in fraudulent transaction detection. The model's ability to provide feature importances also offers valuable insights into the factors contributing to fraud, aiding in interpretability and potential feature engineering for further model improvement.\n"
      ],
      "metadata": {
        "id": "hu7XS7N4XoU5"
      }
    },
    {
      "cell_type": "code",
      "source": [
        "# Final Random Forest model\n",
        "print(rf_model.get_params())"
      ],
      "metadata": {
        "colab": {
          "base_uri": "https://localhost:8080/"
        },
        "id": "HDjzPx-MYQhv",
        "outputId": "42d92706-79b4-41af-e110-3fd6be0be7dc"
      },
      "execution_count": 60,
      "outputs": [
        {
          "output_type": "stream",
          "name": "stdout",
          "text": [
            "{'bootstrap': True, 'ccp_alpha': 0.0, 'class_weight': None, 'criterion': 'gini', 'max_depth': None, 'max_features': 'sqrt', 'max_leaf_nodes': None, 'max_samples': None, 'min_impurity_decrease': 0.0, 'min_samples_leaf': 1, 'min_samples_split': 2, 'min_weight_fraction_leaf': 0.0, 'n_estimators': 100, 'n_jobs': None, 'oob_score': False, 'random_state': 42, 'verbose': 0, 'warm_start': False}\n"
          ]
        }
      ]
    },
    {
      "cell_type": "code",
      "source": [
        "# Cross-validation results\n",
        "for metric, scores in cv_results.items():\n",
        "    print(f'{metric}: {scores.mean():.4f} (+/- {scores.std() * 2:.4f})')"
      ],
      "metadata": {
        "colab": {
          "base_uri": "https://localhost:8080/"
        },
        "id": "lNL3BE8XYZTq",
        "outputId": "764ea7d6-9548-4012-ec55-492e298878ae"
      },
      "execution_count": 61,
      "outputs": [
        {
          "output_type": "stream",
          "name": "stdout",
          "text": [
            "fit_time: 82.2695 (+/- 1.4055)\n",
            "score_time: 1.9219 (+/- 0.3241)\n",
            "test_accuracy: 0.9826 (+/- 0.0003)\n",
            "test_f1_score: 0.6825 (+/- 0.0058)\n"
          ]
        }
      ]
    },
    {
      "cell_type": "markdown",
      "source": [
        "In conclusion, the Random Forest model demonstrated superior performance in identifying fraudulent transactions. Its robustness to outliers and ability to handle imbalanced data makes it a suitable choice for this task. Moving forward, further tuning of the model parameters and exploring additional feature engineering strategies could potentially enhance the model's performance. Additionally, deploying the model and monitoring its performance in a real-world scenario will be essential to ensure its efficacy in detecting fraudulent activities.\n"
      ],
      "metadata": {
        "id": "29vIoLXEY1nS"
      }
    },
    {
      "cell_type": "code",
      "execution_count": 62,
      "metadata": {
        "id": "yOLZsNMnjgPH"
      },
      "outputs": [],
      "source": [
        "# #save files\n",
        "# df_train.to_csv('/content/drive/MyDrive/Springboard/capstones/Capstone Project/data/preprocess_train_df.csv', index=False)\n",
        "# df_test.to_csv('/content/drive/MyDrive/Springboard/capstones/Capstone Project/data/preprocess_test_df.csv', index=False)"
      ]
    }
  ],
  "metadata": {
    "accelerator": "GPU",
    "colab": {
      "provenance": [],
      "authorship_tag": "ABX9TyNvlsYK4KuDWWnUgENtq4Dn"
    },
    "kernelspec": {
      "display_name": "Python 3",
      "name": "python3"
    },
    "language_info": {
      "name": "python"
    }
  },
  "nbformat": 4,
  "nbformat_minor": 0
}